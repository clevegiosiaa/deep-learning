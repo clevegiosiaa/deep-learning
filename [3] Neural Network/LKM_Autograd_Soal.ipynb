{
 "cells": [
  {
   "cell_type": "markdown",
   "metadata": {
    "id": "Sr0unRJe4aQK"
   },
   "source": [
    "Diferensiasi menggunakan Autograd\n",
    "=======================================\n",
    "PyTorch mempunyai mekanisme diferensiasi bawaan yang disebut dengan ``torch.autograd``. Mari kita lihat bagaimana ``autograd`` mengumpulkan gradien. Buat 2 tensor ``a`` dan ``b`` dengan\n",
    "``requires_grad=True``. Ini memberi arahan bagi ``autograd`` bahwa setiap operasi terhadap tensor ini harus dilacak.\n",
    "\n",
    "\n"
   ]
  },
  {
   "cell_type": "code",
   "execution_count": 17,
   "metadata": {
    "colab": {
     "base_uri": "https://localhost:8080/"
    },
    "executionInfo": {
     "elapsed": 3371,
     "status": "ok",
     "timestamp": 1656044084672,
     "user": {
      "displayName": "Hendrik Sugiarto",
      "userId": "04571208421820397785"
     },
     "user_tz": -420
    },
    "id": "jMm4TBGm4aQM",
    "outputId": "5c347ffd-805e-4bac-831b-ff982c7c4301"
   },
   "outputs": [
    {
     "name": "stdout",
     "output_type": "stream",
     "text": [
      "tensor([[0.3165, 0.5788, 0.7366, 0.4825, 0.4365],\n",
      "        [0.9940, 0.1766, 0.8471, 0.7569, 0.0680],\n",
      "        [0.9398, 0.0543, 0.8950, 0.8179, 0.3507],\n",
      "        [0.3545, 0.0845, 0.1134, 0.1786, 0.2388],\n",
      "        [0.1492, 0.1998, 0.3847, 0.3899, 0.6460]])\n",
      "Does `a` require gradients? : False\n",
      "Does `b` require gradients?: True\n"
     ]
    }
   ],
   "source": [
    "import torch\n",
    "\n",
    "x = torch.rand(5, 5)\n",
    "print(x)\n",
    "y = torch.rand(5, 5)\n",
    "z = torch.rand((5, 5), requires_grad=True)\n",
    "\n",
    "a = x + y\n",
    "print(f\"Does `a` require gradients? : {a.requires_grad}\")\n",
    "b = x + z\n",
    "print(f\"Does `b` require gradients?: {b.requires_grad}\")"
   ]
  },
  {
   "cell_type": "code",
   "execution_count": 18,
   "metadata": {
    "colab": {
     "base_uri": "https://localhost:8080/"
    },
    "executionInfo": {
     "elapsed": 318,
     "status": "ok",
     "timestamp": 1656044086656,
     "user": {
      "displayName": "Hendrik Sugiarto",
      "userId": "04571208421820397785"
     },
     "user_tz": -420
    },
    "id": "kPZUBhQ44aQN",
    "outputId": "b6d4ecce-3748-47ee-8542-8280a1506a4e"
   },
   "outputs": [
    {
     "name": "stdout",
     "output_type": "stream",
     "text": [
      "tensor([2., 3.], requires_grad=True)\n",
      "tensor([6., 4.], requires_grad=True)\n"
     ]
    }
   ],
   "source": [
    "a = torch.tensor([2., 3.], requires_grad=True)\n",
    "b = torch.tensor([6., 4.], requires_grad=True)\n",
    "print(a)\n",
    "print(b)"
   ]
  },
  {
   "cell_type": "markdown",
   "metadata": {
    "id": "A9q5wiYW4aQN"
   },
   "source": [
    "Kita membuat tensor lain ``Q`` dari ``a`` dan ``b``.\n",
    "\n",
    "\\begin{align}Q = 3a^3 - b^2\\end{align}\n",
    "\n"
   ]
  },
  {
   "cell_type": "code",
   "execution_count": 19,
   "metadata": {
    "colab": {
     "base_uri": "https://localhost:8080/"
    },
    "executionInfo": {
     "elapsed": 317,
     "status": "ok",
     "timestamp": 1656044090034,
     "user": {
      "displayName": "Hendrik Sugiarto",
      "userId": "04571208421820397785"
     },
     "user_tz": -420
    },
    "id": "e2380UWR4aQO",
    "outputId": "99bd3112-be92-4b84-cd21-cb9dec142696"
   },
   "outputs": [
    {
     "data": {
      "text/plain": [
       "tensor([-12.,  65.], grad_fn=<SubBackward0>)"
      ]
     },
     "execution_count": 19,
     "metadata": {},
     "output_type": "execute_result"
    }
   ],
   "source": [
    "Q = 3*a**3 - b**2\n",
    "Q"
   ]
  },
  {
   "cell_type": "markdown",
   "metadata": {
    "id": "vWyMtVIR4aQO"
   },
   "source": [
    "Aumsikan ``a`` dan ``b`` sebagai parameter dari NN, dan ``Q`` eror. Di proses pelatihan NN, kita ingin gradien dari eror terhadap parameter, dimana: \n",
    "\n",
    "\\begin{align}\\frac{\\partial Q}{\\partial a} = 9a^2\\end{align}\n",
    "\n",
    "\\begin{align}\\frac{\\partial Q}{\\partial b} = -2b\\end{align}\n",
    "\n",
    "\n",
    "Ketika kita memanggil ``.backward()`` pada ``Q``, autograd menghitung gradien ini dan. menyimpannya dalam atribut ``.grad`` dari tensor tersebut.\n",
    "\n",
    "Kita harus menggunakan argumen ``gradient`` di ``Q.backward()`` karena ini adalah sebuah vektor. ``gradient`` adalah sebuah tensor dari bentuk yang sama dengan ``Q``, dan merepresentasikan gradien dari Q terhadap dirinya sendiri, dimana:\n",
    "\n",
    "\\begin{align}\\frac{dQ}{dQ} = 1\\end{align}\n",
    "\n",
    "Kita dapat pula agregasi Q menjadi sebuah skalar dan memanggil backward secara implisit, seperti ``Q.sum().backward()``.\n",
    "\n",
    "\n"
   ]
  },
  {
   "cell_type": "code",
   "execution_count": 20,
   "metadata": {
    "id": "Buu2bmYD4aQO"
   },
   "outputs": [],
   "source": [
    "external_grad = torch.tensor([1., 1.])\n",
    "Q.backward(gradient=external_grad)"
   ]
  },
  {
   "cell_type": "markdown",
   "metadata": {
    "id": "AV7ITp6P4aQP"
   },
   "source": [
    "Gradien sekarang telah disimpan dalam ``a.grad`` dan ``b.grad``\n",
    "\n"
   ]
  },
  {
   "cell_type": "code",
   "execution_count": 21,
   "metadata": {
    "id": "STDmtHyr4aQP",
    "outputId": "c0578b46-349a-4320-d2a8-9af6867b1cd4"
   },
   "outputs": [
    {
     "name": "stdout",
     "output_type": "stream",
     "text": [
      "tensor([True, True])\n",
      "tensor([True, True])\n"
     ]
    }
   ],
   "source": [
    "# cek apakah gradien yang tersimpan terhitung benar\n",
    "print(9*a**2 == a.grad)\n",
    "print(-2*b == b.grad)"
   ]
  },
  {
   "cell_type": "markdown",
   "metadata": {
    "id": "7lXV_25r4aQQ"
   },
   "source": [
    "Soal\n",
    "----------\n",
    "Buatlah loss function sebagai berikut:\n",
    "\\begin{align}Y = \\Sigma  ln(x) \\end{align}\n",
    "\n",
    "Gunakan autograd untuk menghitung gradiennya terhadap parameter x\n",
    "\n",
    "Hitung turunannya secara analitik dan bandingkan"
   ]
  },
  {
   "cell_type": "code",
   "execution_count": 22,
   "metadata": {
    "colab": {
     "base_uri": "https://localhost:8080/"
    },
    "executionInfo": {
     "elapsed": 5,
     "status": "ok",
     "timestamp": 1656044103754,
     "user": {
      "displayName": "Hendrik Sugiarto",
      "userId": "04571208421820397785"
     },
     "user_tz": -420
    },
    "id": "fFD5YkYo4aQQ",
    "outputId": "25b227e5-8e1d-402d-b2a6-5e0b149cddce"
   },
   "outputs": [
    {
     "data": {
      "text/plain": [
       "tensor([1.0000, 0.5000, 0.3333, 0.2500, 0.2000])"
      ]
     },
     "execution_count": 22,
     "metadata": {},
     "output_type": "execute_result"
    }
   ],
   "source": [
    "x = torch.tensor([1., 2., 3., 4., 5.], requires_grad=True)\n",
    "Y = torch.sum(torch.log(x))\n",
    "# backward pass\n",
    "Y.backward()\n",
    "x.grad"
   ]
  },
  {
   "cell_type": "markdown",
   "metadata": {
    "id": "XwvNeXOp4aQQ"
   },
   "source": [
    "Diferensiasi Neural Network Otomatis melalui ``torch.autograd``\n",
    "=======================================\n",
    "\n",
    "Algoritma untuk melatih neural networks adalah **back propagation**. Pada algoritma ini, parameters (bobot) akan diubah sesuai dengan **gradient** dari loss function terhadap parameter tersebut.\n",
    "\n",
    "Untuk menghitung gradient itu, PyTorch mempunyai mekanisme diferensiasi bawaan yang disebut dengan ``torch.autograd``. Ini mempermudah perhitungan gradien secara otomatis terhadap computational graph jenis apapun.\n",
    "\n",
    "Cobalah 1-layer neural network, dengan input  ``x``,parameters ``w`` and ``b``, dan loss function sebagai berikut:\n"
   ]
  },
  {
   "cell_type": "code",
   "execution_count": 23,
   "metadata": {
    "colab": {
     "base_uri": "https://localhost:8080/"
    },
    "executionInfo": {
     "elapsed": 294,
     "status": "ok",
     "timestamp": 1656044167991,
     "user": {
      "displayName": "Hendrik Sugiarto",
      "userId": "04571208421820397785"
     },
     "user_tz": -420
    },
    "id": "J_REMP-z4aQQ",
    "outputId": "f44a9895-e5e2-4234-eea5-a0375cc86c00"
   },
   "outputs": [
    {
     "data": {
      "text/plain": [
       "tensor(0.9513, grad_fn=<BinaryCrossEntropyWithLogitsBackward0>)"
      ]
     },
     "execution_count": 23,
     "metadata": {},
     "output_type": "execute_result"
    }
   ],
   "source": [
    "import torch\n",
    "\n",
    "x = torch.ones(5)  # input tensor\n",
    "y = torch.zeros(3)  # expected output\n",
    "w = torch.randn(5, 3, requires_grad=True)\n",
    "b = torch.randn(3, requires_grad=True)\n",
    "z = torch.matmul(x, w)+b\n",
    "loss = torch.nn.functional.binary_cross_entropy_with_logits(z, y)\n",
    "loss"
   ]
  },
  {
   "cell_type": "markdown",
   "metadata": {
    "id": "b0R8jpgy4aQQ"
   },
   "source": [
    "Soal\n",
    "-----\n",
    "\n",
    "Hitung binary cross entropy alternatif dengan menggunakan operasi tensor"
   ]
  },
  {
   "cell_type": "code",
   "execution_count": 24,
   "metadata": {
    "colab": {
     "base_uri": "https://localhost:8080/"
    },
    "executionInfo": {
     "elapsed": 295,
     "status": "ok",
     "timestamp": 1656044281386,
     "user": {
      "displayName": "Hendrik Sugiarto",
      "userId": "04571208421820397785"
     },
     "user_tz": -420
    },
    "id": "qXiXd8VK4aQR",
    "outputId": "bfbd2539-66e1-456b-b761-bb2d3bdd933a"
   },
   "outputs": [
    {
     "ename": "RuntimeError",
     "evalue": "The size of tensor a (3) must match the size of tensor b (5) at non-singleton dimension 0",
     "output_type": "error",
     "traceback": [
      "\u001b[1;31m---------------------------------------------------------------------------\u001b[0m",
      "\u001b[1;31mRuntimeError\u001b[0m                              Traceback (most recent call last)",
      "Cell \u001b[1;32mIn[24], line 5\u001b[0m\n\u001b[0;32m      2\u001b[0m     p \u001b[38;5;241m=\u001b[39m \u001b[38;5;241m-\u001b[39my\u001b[38;5;241m*\u001b[39m(torch\u001b[38;5;241m.\u001b[39mlog(torch\u001b[38;5;241m.\u001b[39msigmoid(x))\u001b[38;5;241m-\u001b[39m(\u001b[38;5;241m1\u001b[39m\u001b[38;5;241m-\u001b[39my)\u001b[38;5;241m*\u001b[39mtorch\u001b[38;5;241m.\u001b[39mlog(\u001b[38;5;241m1\u001b[39m\u001b[38;5;241m-\u001b[39mtorch\u001b[38;5;241m.\u001b[39msigmoid(x)))\n\u001b[0;32m      3\u001b[0m     \u001b[38;5;28;01mreturn\u001b[39;00m p\u001b[38;5;241m.\u001b[39mmean()\n\u001b[1;32m----> 5\u001b[0m loss_manual \u001b[38;5;241m=\u001b[39m \u001b[43mBCE\u001b[49m\u001b[43m(\u001b[49m\u001b[43mx\u001b[49m\u001b[43m,\u001b[49m\u001b[43m \u001b[49m\u001b[43my\u001b[49m\u001b[43m)\u001b[49m\n\u001b[0;32m      6\u001b[0m loss_manual\n",
      "Cell \u001b[1;32mIn[24], line 2\u001b[0m, in \u001b[0;36mBCE\u001b[1;34m(x, y)\u001b[0m\n\u001b[0;32m      1\u001b[0m \u001b[38;5;28;01mdef\u001b[39;00m \u001b[38;5;21mBCE\u001b[39m(x, y):\n\u001b[1;32m----> 2\u001b[0m     p \u001b[38;5;241m=\u001b[39m \u001b[38;5;241m-\u001b[39my\u001b[38;5;241m*\u001b[39m(torch\u001b[38;5;241m.\u001b[39mlog(torch\u001b[38;5;241m.\u001b[39msigmoid(x))\u001b[38;5;241m-\u001b[39m\u001b[43m(\u001b[49m\u001b[38;5;241;43m1\u001b[39;49m\u001b[38;5;241;43m-\u001b[39;49m\u001b[43my\u001b[49m\u001b[43m)\u001b[49m\u001b[38;5;241;43m*\u001b[39;49m\u001b[43mtorch\u001b[49m\u001b[38;5;241;43m.\u001b[39;49m\u001b[43mlog\u001b[49m\u001b[43m(\u001b[49m\u001b[38;5;241;43m1\u001b[39;49m\u001b[38;5;241;43m-\u001b[39;49m\u001b[43mtorch\u001b[49m\u001b[38;5;241;43m.\u001b[39;49m\u001b[43msigmoid\u001b[49m\u001b[43m(\u001b[49m\u001b[43mx\u001b[49m\u001b[43m)\u001b[49m\u001b[43m)\u001b[49m)\n\u001b[0;32m      3\u001b[0m     \u001b[38;5;28;01mreturn\u001b[39;00m p\u001b[38;5;241m.\u001b[39mmean()\n",
      "\u001b[1;31mRuntimeError\u001b[0m: The size of tensor a (3) must match the size of tensor b (5) at non-singleton dimension 0"
     ]
    }
   ],
   "source": [
    "def BCE(x, y):\n",
    "    p = -y*(torch.log(torch.sigmoid(x))-(1-y)*torch.log(1-torch.sigmoid(x)))\n",
    "    return p.mean()\n",
    "\n",
    "loss_manual = BCE(x, y)\n",
    "loss_manual"
   ]
  },
  {
   "cell_type": "markdown",
   "metadata": {
    "id": "I6no5H5Q4aQR"
   },
   "source": [
    "Tensor dan Gradien\n",
    "------------------------------------------\n",
    "\n",
    "pada network ini, ``w`` dan ``b`` adalah **parameters**, yang akan kita optimalisasi. \n",
    "Maka, kita memerlukan perhitungan gradien dari sebuah loss function terhadap variabel-variabel tersebut. Untuk bisa melakukannya, kita mengatur ``requires_grad`` dari tensor-tensor tersebut.\n",
    "\n"
   ]
  },
  {
   "cell_type": "markdown",
   "metadata": {
    "id": "cQpNJrp24aQR"
   },
   "source": [
    "<div class=\"alert alert-info\"><h4>Catatan</h4><p>Kamu dapat mengatur ``requires_grad`` ketika menciptakan sebuah tensor, atau mengaturnya nanti dengan menggunakan metode ``x.requires_grad_(True)``.</p></div>\n",
    "\n"
   ]
  },
  {
   "cell_type": "markdown",
   "metadata": {
    "id": "Nz3z9D5l4aQR"
   },
   "source": [
    "Sebuah fungsi yang kita aplikasikan ke tensor sebagai kontruksi computational graph adalah sebuah kelas objek ``Function``. Objek ini mengerti bagaimana cara menghitung fungsi dalam arah *forward*, dan juga bagaimana cara menghitung turunannya selama langkah-langkah *backward propagation*. Sebuah referensi terhadap fungsi backward propagation disimpan dalam properti ``grad_fn`` dari sebuah tensor. Kamu dapat menemukan informasi lebih lanjut mengenai ``Function`` dalam dokumentasi berikut\n",
    "https://pytorch.org/docs/stable/autograd.html#function\n"
   ]
  },
  {
   "cell_type": "code",
   "execution_count": 25,
   "metadata": {
    "id": "IqZtzill4aQR",
    "outputId": "7c925150-fd72-441c-f7e5-03fe88ac7c16"
   },
   "outputs": [
    {
     "name": "stdout",
     "output_type": "stream",
     "text": [
      "Gradient function for z = <AddBackward0 object at 0x0000027D8D9AFB80>\n",
      "Gradient function for loss = <BinaryCrossEntropyWithLogitsBackward0 object at 0x0000027D84608D90>\n"
     ]
    }
   ],
   "source": [
    "print('Gradient function for z =', z.grad_fn)\n",
    "print('Gradient function for loss =', loss.grad_fn)"
   ]
  },
  {
   "cell_type": "markdown",
   "metadata": {
    "id": "MX55nFIe4aQR"
   },
   "source": [
    "Menghitung Gradien\n",
    "-------------------\n",
    "\n",
    "Untuk optimalisasi bobot pada neural network, kita perlu menghitung turunan dari loss function terhadap parameter. Secara khusus, kita memerlukan $\\frac{\\partial loss}{\\partial w}$ dan\n",
    "$\\frac{\\partial loss}{\\partial b}$ terhadap nilai dari ``x`` and ``y``. Untuk menghitung turunan itu, kita memanggil ``loss.backward()``, lalu mendapatkan nilai ``w.grad`` dan\n",
    "``b.grad``:\n",
    "\n"
   ]
  },
  {
   "cell_type": "code",
   "execution_count": 26,
   "metadata": {
    "colab": {
     "base_uri": "https://localhost:8080/"
    },
    "executionInfo": {
     "elapsed": 306,
     "status": "ok",
     "timestamp": 1656044366542,
     "user": {
      "displayName": "Hendrik Sugiarto",
      "userId": "04571208421820397785"
     },
     "user_tz": -420
    },
    "id": "lGRQqGVr4aQR",
    "outputId": "2de2298d-b010-4333-c3b0-eaad1400b66b"
   },
   "outputs": [
    {
     "name": "stdout",
     "output_type": "stream",
     "text": [
      "tensor([[0.2903, 0.1557, 0.0541],\n",
      "        [0.2903, 0.1557, 0.0541],\n",
      "        [0.2903, 0.1557, 0.0541],\n",
      "        [0.2903, 0.1557, 0.0541],\n",
      "        [0.2903, 0.1557, 0.0541]])\n",
      "tensor([0.2903, 0.1557, 0.0541])\n"
     ]
    }
   ],
   "source": [
    "loss.backward()\n",
    "print(w.grad)\n",
    "print(b.grad)"
   ]
  },
  {
   "cell_type": "markdown",
   "metadata": {
    "id": "dzSvfUvu4aQS"
   },
   "source": [
    "<div class=\"alert alert-info\"><h4>Catatan</h4><p>- Kita akan memperoleh properti ``grad`` untuk leaf node dari computational graph, dimana properti ``requires_grad`` diatur menjadi ``True``. Untuk semua nodes yang lain di graph ini, gradien tidak tersedia. \n",
    "    - Kita hanya dapat melakukan penghitungan gradien menggunakan ``backward`` sekali pada graph tersebut, untuk alasan performa. Jika kita membutuhkan memanggil beberapa ``backward`` pada graph yang sama, kita perlu melakukan ``retain_graph=True`` to the ``backward`` call.</p></div>\n"
   ]
  },
  {
   "cell_type": "markdown",
   "metadata": {
    "id": "gimBuO424aQS"
   },
   "source": [
    "Mematikan Pelacakan Gradien\n",
    "---------------------------\n",
    "\n",
    "Secara bawaan, semua tensor dengan ``requires_grad=True`` akan melacak sejarah komputasi dan mendukung komputasi gradien. Tetapi, terdapat beberapa kasus dimana kita tidak perlu melakukannya. Misalnya ketika kita melatih model dan hanya ingin menggunakannya terhadap beberapa input data, kita hanya perlu melakukan komputasi *forward*. Kita bisa berhenti melacak komputasi dengan menggunakan blok ``torch.no_grad()``.\n",
    "\n"
   ]
  },
  {
   "cell_type": "code",
   "execution_count": 27,
   "metadata": {
    "id": "9P_Oxs6D4aQS",
    "outputId": "d20fdcc0-6db6-46d6-9c50-2f18b795e6eb"
   },
   "outputs": [
    {
     "name": "stdout",
     "output_type": "stream",
     "text": [
      "True\n",
      "False\n"
     ]
    }
   ],
   "source": [
    "z = torch.matmul(x, w)+b\n",
    "print(z.requires_grad)\n",
    "\n",
    "with torch.no_grad():\n",
    "    z = torch.matmul(x, w)+b\n",
    "print(z.requires_grad)"
   ]
  },
  {
   "cell_type": "markdown",
   "metadata": {
    "id": "JIzAhhtf4aQS"
   },
   "source": [
    "Cara lain untuk memperoleh hasil yang sama adalah dengan menggunakan metode ``detach()`` pada tensor:\n",
    "\n",
    "\n"
   ]
  },
  {
   "cell_type": "code",
   "execution_count": 28,
   "metadata": {
    "id": "-2pkgYIA4aQS",
    "outputId": "eb6b2384-dfa3-48e5-aa04-09da46dd4fc1"
   },
   "outputs": [
    {
     "name": "stdout",
     "output_type": "stream",
     "text": [
      "False\n"
     ]
    }
   ],
   "source": [
    "z = torch.matmul(x, w)+b\n",
    "z_det = z.detach()\n",
    "print(z_det.requires_grad)"
   ]
  },
  {
   "cell_type": "markdown",
   "metadata": {
    "id": "jxbODXMT4aQS"
   },
   "source": [
    "Ada alasan lain untuk mematikan pelacakan gradien:\n",
    "    - Untuk menandai beberapa parameter di neural network sebagai **frozen parameters**. Ini skenario yang sangat umum untuk `finetuning a pretrained network` https://pytorch.org/tutorials/beginner/finetuning_torchvision_models_tutorial.html\n",
    "    - Untuk mempercepat perhitungan ketika hanya menghitung gerakan forward, karena komputasi pada tensors tanpa pelacakan gradien akan jauh lebih efisien\n",
    "    "
   ]
  },
  {
   "cell_type": "markdown",
   "metadata": {
    "id": "rmOa7vpY4aQS"
   },
   "source": [
    "Tambahan untuk Computational Graphs\n",
    "----------------------------\n",
    "Autograd menyimpan catatan data (tensors) dan semua operasi yanbg tereksekusi (bersama dengan hasil tensor yang baru) di sebuah directed acyclic graph (DAG) yang berisi objek `Function` https://pytorch.org/docs/stable/autograd.html#torch.autograd.Function. Pada DAG ini, leaves adalah input tensor, root adalah output tensor. Dengan melacak jejaring ini dari roots ke leaves, kamu dapat secara otomatis menghitung gradien dengan menggunakan aturan rantai.\n",
    "\n",
    "Di sebuah gerakan forward, autograd melakukan 2 hal sekaligus:\n",
    "- menjalankan operasi untuk menghitung hasil tensor\n",
    "- menjaga operasi *gradient function* pada DAG\n",
    "\n",
    "Gerakan backward dimulai ketika ``.backward()`` dipanggil pada DAG root. \n",
    "``autograd`` kemudian:\n",
    "- menghitung gradien dari setiap ``.grad_fn``\n",
    "- mengakumulasi semuanya pada tensor dengan atribut ``.grad``\n",
    "- menggunakan aturan rantai, melakukan propagasi semuanya sampai kepada tensor leaf.\n",
    "\n",
    "<div class=\"alert alert-info\"><h4>Catatan</h4><p>**DAGs bersifat dinamis di PyTorch**\n",
    "    Sebuah hal penting untuk diperhatikan adalah jejaring yang diciptakan dari kosong; setelah masing-masing pemanggilan ``.backward()``, autograd mulai mengisi jejaring yang baru. Ini yang mengijinkanmu menggunakan control flow statements pada modelmu; kamu dapat merubah bentuk, ukuran, dan operasi pada setiap iterasi jika diperlukan\n",
    "</p></div>\n"
   ]
  },
  {
   "cell_type": "markdown",
   "metadata": {
    "id": "r_e1wkk04aQS"
   },
   "source": [
    "Soal\n",
    "-----\n",
    "\n",
    "\n",
    "Gunakan pretrained resnet18 dari torchvision. Kita akan membuat tensor berisi random data sebagai representasi dari 1 gambar dengan 3 chanel, tinggi & lebarnya adalah 64, dan labelnya diinisiasi dengan secara random. Labelnya berbentuk (1,1000). \n",
    "\n"
   ]
  },
  {
   "cell_type": "code",
   "execution_count": 29,
   "metadata": {
    "colab": {
     "base_uri": "https://localhost:8080/",
     "height": 67,
     "referenced_widgets": [
      "6cd2d7e261f142e8a45756d589c9d4f1",
      "0f5f100f811548b5b84e2ed8c4e81482",
      "56e200a982a3480985cc6f16a6a2c23b",
      "25c21962666145b680a946acd1cd7c13",
      "5937cbea6c054655ae296f2df90526bc",
      "caa6a7baff3a4334bdc9a5bb9802d1f6",
      "7fa48833b08e4f7eaf6da249bbeffd10",
      "583601b246ac416bb88d63c5bc057257",
      "1bee4b8f9fd7463a8a617481f7280792",
      "993d9c2ed3a842f0bd4efdffdac58895",
      "00a0da5129164c50a4415a2b8a98c3f6"
     ]
    },
    "executionInfo": {
     "elapsed": 1151,
     "status": "ok",
     "timestamp": 1656044739621,
     "user": {
      "displayName": "Hendrik Sugiarto",
      "userId": "04571208421820397785"
     },
     "user_tz": -420
    },
    "id": "Qfw2odZV4aQS",
    "outputId": "02372127-dd69-44ff-e225-058e05923932"
   },
   "outputs": [],
   "source": [
    "import torch, torchvision\n",
    "model = torchvision.models.resnet18(pretrained=True)\n",
    "data = torch.rand(1, 3, 64, 64)\n",
    "labels = torch.rand(1, 1000)\n"
   ]
  },
  {
   "cell_type": "markdown",
   "metadata": {
    "id": "fDFGIRLb4aQS"
   },
   "source": [
    "Lakukan prediksi label berdasarkan model dan data\n"
   ]
  },
  {
   "cell_type": "code",
   "execution_count": 30,
   "metadata": {
    "colab": {
     "base_uri": "https://localhost:8080/"
    },
    "executionInfo": {
     "elapsed": 4,
     "status": "ok",
     "timestamp": 1656044740774,
     "user": {
      "displayName": "Hendrik Sugiarto",
      "userId": "04571208421820397785"
     },
     "user_tz": -420
    },
    "id": "LCY2GHVh4aQS",
    "outputId": "e397657f-907e-41cd-94a5-6f913d68f1fd"
   },
   "outputs": [
    {
     "data": {
      "text/plain": [
       "tensor([[-5.9653e-01, -4.7343e-01, -3.9114e-01, -1.3775e+00, -5.3189e-01,\n",
       "          7.5216e-02, -4.0485e-01,  2.3898e-02,  1.4629e-01, -8.6787e-01,\n",
       "         -1.2443e+00, -1.0371e+00, -5.2396e-01, -1.2504e+00, -1.0534e+00,\n",
       "         -1.0168e+00, -8.5270e-01, -4.5728e-01, -5.9357e-01, -5.3287e-01,\n",
       "         -1.5239e+00, -8.1629e-01, -1.6670e+00, -8.7941e-02, -1.1051e+00,\n",
       "         -1.0063e+00, -6.8265e-01, -1.1368e+00, -6.0703e-01, -2.4777e-01,\n",
       "         -4.8513e-01, -7.0539e-01, -2.9475e-01, -1.9521e-02,  1.5139e-01,\n",
       "         -6.2433e-02,  9.9152e-01, -3.9921e-01, -2.6203e-01,  1.8758e-01,\n",
       "         -5.8577e-01, -5.5779e-01, -1.0074e+00, -3.4122e-01, -2.3087e-01,\n",
       "          6.3094e-03, -5.0163e-01, -2.1721e-01, -1.0577e+00, -7.3264e-01,\n",
       "          1.2978e-01,  5.2467e-01, -2.7880e-02, -4.6113e-01,  7.8067e-02,\n",
       "         -8.9861e-01, -9.1839e-02, -1.1714e+00, -6.1436e-02, -2.4839e-01,\n",
       "          1.0792e+00,  6.1289e-01,  3.3999e-01,  3.5901e-01, -2.9910e-01,\n",
       "          8.2453e-02,  7.8442e-03, -6.1790e-02, -5.2213e-01, -6.6933e-01,\n",
       "         -1.8071e+00,  3.6922e-01, -1.1863e+00,  3.8923e-04, -8.8598e-01,\n",
       "         -1.0831e+00,  5.0031e-01, -3.3843e-01,  5.0898e-01,  3.4308e-02,\n",
       "         -1.0623e+00, -1.7143e+00, -3.7312e-01, -1.2950e+00, -8.3236e-01,\n",
       "         -1.3924e-01, -1.9962e-01,  3.8434e-01, -1.5924e-01, -7.6380e-01,\n",
       "         -1.2373e+00, -1.0928e+00, -1.9770e+00, -4.9066e-01, -1.5558e-01,\n",
       "         -2.0842e+00, -7.3944e-01, -2.9887e-01, -1.5358e+00, -5.1976e-01,\n",
       "         -1.3402e+00, -1.1399e+00, -7.0513e-01, -1.3657e-01, -1.6144e-01,\n",
       "         -4.7414e-01, -1.9651e-01, -1.1733e+00, -1.3195e+00, -1.6856e+00,\n",
       "         -1.3517e+00, -4.1404e-01,  1.4472e+00,  4.6795e-01,  5.8995e-01,\n",
       "         -1.1230e+00, -5.4376e-01, -4.3630e-01,  6.5322e-01, -1.1223e-01,\n",
       "         -5.8442e-01,  9.8686e-02,  4.8828e-01,  1.0478e-02,  1.1870e+00,\n",
       "          3.3789e-02,  6.0779e-01, -1.9275e+00, -1.3893e+00, -1.4135e+00,\n",
       "         -1.6601e+00, -1.4841e+00, -1.2406e+00, -1.7378e+00, -7.6504e-01,\n",
       "         -1.5349e+00, -1.2435e+00, -1.1769e+00, -1.6569e+00, -1.7162e+00,\n",
       "         -1.5885e+00, -2.1541e+00, -2.2857e+00, -1.9696e+00, -9.3384e-01,\n",
       "         -6.9534e-01, -1.1700e+00, -1.5824e+00, -9.5580e-01, -1.0431e+00,\n",
       "          5.5530e-01,  1.5634e+00, -1.0570e+00, -5.8689e-01, -2.6161e-01,\n",
       "         -3.3966e-02, -2.6127e-01, -2.0718e-01,  1.6160e-02,  2.1008e-01,\n",
       "          9.6039e-02,  6.7353e-01,  2.1802e-01,  5.0361e-01,  4.9129e-01,\n",
       "         -1.7918e-01, -1.8374e-01, -3.9671e-01,  4.5986e-01, -3.5139e-01,\n",
       "          1.0754e-02,  7.4671e-01,  4.5474e-01,  4.2542e-01,  4.2578e-02,\n",
       "         -7.3381e-01,  1.2927e-01,  1.8274e-01,  8.6865e-01,  8.2989e-01,\n",
       "          6.8322e-01, -1.8141e-01,  7.1734e-01, -2.7918e-01,  4.7512e-01,\n",
       "          7.8221e-01,  4.8079e-01,  3.1096e-02, -1.5247e-02,  5.5777e-01,\n",
       "         -7.2960e-01,  3.2842e-01,  5.8323e-01,  5.0598e-01, -6.7611e-01,\n",
       "          7.4009e-01, -1.9874e-01,  1.6049e-01, -4.3294e-03,  4.6564e-01,\n",
       "         -1.5336e-02,  1.7600e-01,  4.0187e-01,  4.8520e-01,  1.2474e-01,\n",
       "          5.3994e-01,  9.4887e-02,  4.3999e-01,  1.4715e+00,  5.8155e-01,\n",
       "          3.0014e-01,  2.3921e-01,  6.5660e-01,  8.3790e-02,  1.2090e-01,\n",
       "          5.2351e-01,  7.8869e-02,  5.8650e-01, -6.5275e-02,  5.9520e-01,\n",
       "          1.7858e-01, -1.7069e-01,  3.7036e-02,  9.0391e-01,  3.6789e-01,\n",
       "          3.4644e-01,  7.0609e-03,  7.9847e-01, -5.3769e-01, -3.1922e-01,\n",
       "         -7.8500e-02,  3.3628e-01,  4.8508e-01, -1.3512e-01,  7.4818e-01,\n",
       "          8.0300e-01,  3.3820e-01,  2.7241e-01,  6.9937e-01,  2.4945e-02,\n",
       "          5.0219e-01, -1.2112e-01,  3.5298e-01,  2.6495e-01, -2.9164e-01,\n",
       "          1.3281e-01,  7.5396e-01,  2.3462e-01,  6.9475e-01,  2.7468e-01,\n",
       "          5.5204e-01,  9.4948e-01, -8.5139e-01,  5.8951e-01,  7.3492e-01,\n",
       "         -4.1175e-01,  5.7956e-01,  2.9950e-01, -2.2280e-01,  2.5162e-01,\n",
       "         -3.5359e-01, -7.7485e-01, -4.8355e-01,  4.5582e-01,  7.6797e-01,\n",
       "          6.1556e-01, -7.3862e-02,  2.4851e-01, -6.3547e-03, -5.9700e-01,\n",
       "         -9.1236e-01, -1.2886e+00, -6.6792e-01,  6.6470e-01, -1.0727e+00,\n",
       "         -7.5434e-01, -7.2344e-01, -8.9628e-01, -1.3449e+00, -3.6178e-01,\n",
       "         -3.8494e-01,  8.5339e-01,  7.3655e-01, -2.0711e-01,  5.1502e-01,\n",
       "          1.0551e+00, -1.9729e-01, -3.0110e-01, -6.8427e-01, -1.4715e+00,\n",
       "         -8.2446e-01, -1.5505e+00, -5.8499e-01, -8.5623e-01, -1.0707e+00,\n",
       "         -7.8470e-01, -1.0577e+00, -1.0930e+00, -2.9457e-01, -1.1395e-01,\n",
       "         -1.5956e+00, -4.1495e-01, -2.7796e-01, -2.3707e-01, -9.1750e-01,\n",
       "         -6.2978e-01,  6.1626e-01, -5.1288e-01, -1.3115e+00, -6.0618e-01,\n",
       "          5.1573e-01, -5.3926e-01, -3.1633e-01,  5.5911e-01,  7.6802e-01,\n",
       "         -3.2900e-01, -7.0740e-01, -9.4604e-01, -8.8136e-01, -4.0564e-01,\n",
       "         -1.2318e+00, -1.5649e+00, -1.4587e+00, -1.8916e+00, -1.6359e+00,\n",
       "         -1.7932e+00, -1.1639e+00, -1.9829e-01, -4.2296e-01, -2.5887e-01,\n",
       "         -3.0466e-01, -4.1999e-01, -9.1261e-02,  3.6939e-01, -1.9878e-01,\n",
       "         -1.0341e+00, -1.4771e+00,  2.1905e-01,  3.9301e-01, -1.0949e+00,\n",
       "         -5.1492e-01,  6.8919e-01, -5.2447e-01, -1.4133e+00, -7.2496e-01,\n",
       "          9.1145e-01, -4.0088e-01, -1.5048e+00, -2.3318e-01, -1.3486e+00,\n",
       "         -1.2381e+00, -2.3307e+00, -1.6010e+00, -9.5692e-01, -6.5265e-01,\n",
       "          5.3446e-01,  1.4025e+00,  3.6642e-01,  8.3629e-01,  5.9144e-01,\n",
       "          6.6449e-02,  8.9017e-01,  2.1251e-01,  3.3877e-01, -1.3809e-01,\n",
       "         -2.9781e-01, -9.7137e-01, -4.0441e-02, -7.6137e-01, -2.9214e-01,\n",
       "         -6.5335e-01, -4.7512e-01, -5.7753e-01,  1.1971e-02, -5.6958e-02,\n",
       "         -9.9592e-01, -1.1757e+00,  6.6616e-01, -4.0486e-02, -2.0649e-01,\n",
       "          4.3433e-01, -1.1264e-01, -1.4536e-01, -5.4203e-01, -7.1894e-01,\n",
       "         -7.0206e-01, -1.2067e+00, -8.1956e-01, -8.5112e-01, -1.7881e-01,\n",
       "          6.8124e-01,  1.3180e-01, -1.6111e+00, -1.9869e+00,  4.2203e-02,\n",
       "          7.5040e-01, -1.0152e+00, -4.3578e-01,  7.5716e-01, -8.2324e-02,\n",
       "         -1.0293e+00,  5.5810e-01,  1.0314e-01, -2.1848e+00, -1.8218e+00,\n",
       "         -8.0827e-01, -6.5472e-01, -3.1562e-01, -5.8911e-01,  8.3246e-01,\n",
       "          2.9310e-01,  3.9892e-01,  2.0571e+00,  5.2549e-01,  2.7010e-01,\n",
       "          8.3826e-01, -3.1129e-01, -6.7950e-02,  1.1014e-01,  1.1905e+00,\n",
       "          7.9760e-01,  9.1732e-01,  3.6361e-02,  3.9223e-01,  1.5663e-01,\n",
       "         -1.0239e+00, -2.1917e-01,  1.6933e+00,  1.5346e+00,  5.7255e-01,\n",
       "         -5.5291e-01,  4.0887e-02,  2.8193e-01,  7.8838e-01,  6.1927e-01,\n",
       "          9.8160e-01, -3.5323e-01, -4.5689e-01,  3.5910e-01,  4.7426e-01,\n",
       "          1.1127e+00,  6.3721e-01, -2.0853e-01, -4.8839e-01, -4.9297e-01,\n",
       "          4.1679e-01,  3.0320e-01,  1.7322e+00,  6.8526e-01, -6.0373e-01,\n",
       "          6.4208e-02,  5.0714e-01,  8.8327e-01, -3.7026e-01, -2.5009e-01,\n",
       "          9.2069e-01,  1.4409e+00,  1.5502e+00, -1.8994e-01,  9.3180e-01,\n",
       "         -7.2213e-01,  5.8023e-01,  1.3896e+00,  2.4001e+00,  1.1870e+00,\n",
       "         -3.6316e-01, -1.2506e+00, -1.8585e-01, -2.1005e-01,  1.6251e+00,\n",
       "          9.6153e-01,  5.6131e-01,  3.6596e-01,  1.0890e+00, -3.6040e-01,\n",
       "          2.3100e-01, -2.6714e-01,  2.0822e-01,  9.3041e-01,  1.3639e-01,\n",
       "          9.0797e-02,  3.3892e-01,  2.3141e-01, -1.1302e+00, -1.4920e+00,\n",
       "         -2.1082e-01, -2.8231e-01,  1.3056e+00,  1.6259e+00,  9.9630e-01,\n",
       "          7.2386e-01,  7.8160e-01,  7.6524e-01, -1.4590e+00,  7.6829e-01,\n",
       "         -1.4614e+00,  8.1356e-02, -5.8181e-01, -7.2211e-01,  1.0901e+00,\n",
       "         -1.5931e+00,  5.3425e-01,  1.5805e+00,  5.6912e-01,  9.9758e-01,\n",
       "          9.6521e-01,  9.1957e-01,  5.6868e-01,  4.9546e-01,  2.4755e-01,\n",
       "         -1.0393e+00, -8.6634e-01,  1.0612e+00,  5.0981e-01,  1.0460e+00,\n",
       "          1.9108e+00,  3.5993e-01, -2.6534e-01,  1.4265e+00,  7.6172e-01,\n",
       "         -7.5246e-01,  4.4211e-01,  5.9608e-01,  1.5319e+00,  2.9303e-01,\n",
       "         -7.1375e-01, -3.9485e-01, -5.3703e-01,  6.8376e-01,  4.2828e-01,\n",
       "          6.7217e-01,  2.8032e-02, -3.0974e-01, -7.7153e-01,  1.8927e-01,\n",
       "         -7.9264e-01, -5.7164e-01, -7.2965e-01, -2.3225e-01,  1.4048e+00,\n",
       "         -1.4038e+00,  1.7892e+00,  1.2771e+00,  7.5276e-01,  4.9432e-01,\n",
       "          8.7307e-01,  5.1894e-01, -2.0060e+00, -1.6014e+00,  1.9738e-01,\n",
       "         -4.6239e-01,  6.0638e-02,  7.6641e-01, -3.1669e-01, -1.6476e+00,\n",
       "         -7.7735e-01,  2.3275e-02,  3.2851e-01,  1.2662e+00,  7.5238e-01,\n",
       "          2.6135e-01, -4.9029e-01,  5.4627e-01,  1.1278e-01, -1.2494e+00,\n",
       "         -1.0263e+00,  1.0708e-01,  1.0282e+00,  5.0716e-01, -8.4083e-01,\n",
       "          1.0510e+00,  1.7165e-01,  9.3441e-01, -1.0255e+00,  6.0985e-01,\n",
       "         -1.0962e-01, -9.2838e-01,  7.8520e-01,  1.7970e-01, -2.2870e-01,\n",
       "         -3.9400e-02, -1.0072e-01,  7.0048e-01,  5.9715e-01,  1.0620e+00,\n",
       "          5.4072e-01, -2.3703e-01,  1.6503e+00,  1.2927e+00,  1.2686e+00,\n",
       "         -5.0199e-01,  6.5647e-01, -6.8506e-01,  1.0124e+00,  7.5380e-02,\n",
       "         -1.0665e+00,  9.5150e-01, -1.5271e-01, -1.0075e+00,  1.0942e+00,\n",
       "          2.0371e+00, -1.8862e-01, -1.1874e-01, -6.2229e-01,  4.5923e-01,\n",
       "          3.6943e-01,  1.5047e+00, -5.5327e-01,  6.8524e-01, -1.5316e-01,\n",
       "          7.7552e-01,  6.9127e-01, -7.4751e-01,  5.1718e-01, -1.0927e-01,\n",
       "          5.1176e-01,  1.5689e+00,  7.9688e-01,  2.0755e+00,  8.4700e-01,\n",
       "          1.1329e+00,  7.0247e-01,  2.4580e-01,  6.9507e-01,  2.9749e-02,\n",
       "         -1.2690e+00,  1.1535e+00, -2.3615e-01, -1.1960e+00,  2.7899e-01,\n",
       "          1.9713e-01,  8.2101e-01,  5.0182e-01,  1.6018e+00, -2.2734e-01,\n",
       "          3.9902e-01,  1.3586e+00,  6.3724e-01,  6.4648e-01,  1.5265e-01,\n",
       "         -1.7164e+00,  1.1896e+00, -1.0815e-01,  1.4322e+00,  1.0358e+00,\n",
       "         -1.0162e+00,  2.8286e-01,  2.8238e-01, -1.0788e+00, -1.5454e+00,\n",
       "          1.2401e+00, -1.0986e-01,  5.0793e-01,  9.1062e-01, -7.2495e-02,\n",
       "          7.9739e-01, -1.2925e-01,  1.1032e-01,  2.8265e-01,  5.8868e-01,\n",
       "         -4.7552e-01, -1.1778e+00, -1.1828e-01, -1.1555e+00,  9.1825e-01,\n",
       "          1.2186e-01,  1.3386e+00,  3.3230e-01, -1.1265e+00, -5.5043e-01,\n",
       "          3.1670e-01, -2.5120e-01, -4.2633e-01,  3.1281e-01,  1.4612e+00,\n",
       "         -6.3170e-01,  1.6849e+00,  1.0350e+00,  1.1221e+00,  3.7709e-01,\n",
       "          6.4824e-01,  5.7481e-01, -7.7382e-01,  6.8863e-01,  1.1643e+00,\n",
       "         -1.4248e+00, -1.7351e-01, -1.4660e+00, -3.8782e-01, -8.4769e-01,\n",
       "         -6.4958e-01,  1.0442e+00,  9.0264e-01,  7.5890e-01, -8.8305e-01,\n",
       "          9.6530e-01,  1.5029e+00, -3.1975e-02, -6.5047e-01,  6.7182e-01,\n",
       "          2.0468e+00, -3.3563e-01,  1.2262e-01,  4.0994e-01,  6.9944e-01,\n",
       "         -5.0361e-01, -4.4802e-01,  3.6643e-01,  6.6100e-01,  3.3313e-01,\n",
       "          4.4809e-01,  9.5779e-01,  2.8237e-01, -2.9587e-01,  5.0461e-01,\n",
       "         -4.0624e-01,  6.5042e-01, -6.5348e-01, -3.5567e-01,  7.7273e-01,\n",
       "          1.2202e-01,  7.4365e-02,  1.4631e+00,  2.1392e-01, -6.3174e-01,\n",
       "          1.2275e+00, -7.3776e-01, -5.5662e-01,  1.4932e+00, -7.1630e-01,\n",
       "         -2.6876e-01,  2.0743e+00, -7.9297e-01,  1.8522e+00, -1.5469e+00,\n",
       "          1.2379e-01, -3.6330e-03,  9.1754e-01,  9.8039e-01,  1.1607e-01,\n",
       "          1.0415e+00, -6.3880e-02,  5.8614e-01,  3.8797e-01,  7.0429e-01,\n",
       "          8.9025e-02,  1.0027e-01,  8.2916e-01,  8.7677e-01,  1.6915e+00,\n",
       "          3.6262e-01, -2.6896e-01,  2.6525e-01,  6.6902e-01,  8.6337e-01,\n",
       "         -5.4115e-01,  1.2633e+00, -2.0857e-01,  1.2471e+00, -2.8807e-01,\n",
       "          3.5169e-01,  7.2384e-01,  2.5688e-01,  8.2865e-01,  1.2900e+00,\n",
       "          4.0505e-01,  4.8996e-01,  1.9672e-01, -7.1597e-02,  1.2418e+00,\n",
       "          5.2300e-01,  6.8908e-01,  1.3493e+00,  8.6817e-01,  1.1121e+00,\n",
       "          5.2791e-01,  2.3360e-01,  7.4785e-01,  1.8420e+00, -1.2377e+00,\n",
       "         -1.1225e+00, -1.0404e+00,  9.6813e-01,  8.2409e-01,  1.6560e+00,\n",
       "          5.0221e-01,  4.9299e-01,  1.1272e+00, -5.4991e-02, -2.2395e-01,\n",
       "          8.8983e-01,  1.0772e+00,  1.3219e+00,  9.0200e-01,  2.9448e-01,\n",
       "         -1.6978e-01,  1.2405e+00,  7.7389e-01, -5.0331e-01,  1.5312e-01,\n",
       "         -9.7202e-01,  2.3465e-01, -1.2002e+00, -1.6509e+00,  1.0745e+00,\n",
       "          1.4337e+00,  2.3227e-01,  3.2342e-01,  1.3929e+00,  2.4950e-01,\n",
       "         -4.8511e-01,  1.2023e+00, -2.1199e-01,  1.5104e+00, -1.2332e+00,\n",
       "         -2.7546e-01,  4.1557e-01, -1.5108e+00,  1.4494e+00, -3.7892e-02,\n",
       "         -1.6313e+00, -1.1394e+00,  6.2405e-01,  8.5672e-01,  1.1492e+00,\n",
       "         -7.1462e-01,  4.9273e-01,  7.0423e-01,  1.5132e+00, -9.8057e-01,\n",
       "          1.2053e+00,  2.4507e-01, -9.3007e-01, -1.0549e+00,  1.6620e-02,\n",
       "          9.5006e-02,  1.5521e+00,  1.6339e+00,  1.1357e+00, -5.9511e-01,\n",
       "          1.3054e+00,  5.4528e-01,  5.6905e-01,  3.5533e-01,  4.0931e-01,\n",
       "          1.6957e+00,  7.2684e-01, -4.2538e-01,  3.5694e-01,  7.4696e-01,\n",
       "          1.4126e+00,  1.1911e+00,  2.3299e+00, -5.7758e-01, -7.6225e-01,\n",
       "          8.9295e-01, -7.0542e-01, -4.0316e-01, -2.2065e-01,  8.0021e-01,\n",
       "          1.1720e-01,  1.2440e+00,  7.4592e-01, -2.7011e-01, -6.8168e-01,\n",
       "          3.9518e-01, -2.7670e-01, -4.4844e-01,  1.6094e+00, -5.4088e-01,\n",
       "          5.5663e-01, -1.6705e+00,  1.0124e+00, -1.2819e+00, -2.4749e+00,\n",
       "          6.2547e-01,  1.5788e+00, -2.4262e-01, -1.1848e-01,  1.3583e+00,\n",
       "          9.8633e-01, -4.5869e-01,  1.1037e+00,  1.3409e+00, -2.8306e-01,\n",
       "          1.1107e-01, -2.9179e-01, -4.3719e-01, -1.0627e+00,  1.7034e-01,\n",
       "         -2.8939e-01,  2.9378e-01,  5.6067e-01,  1.3485e-01, -1.0555e+00,\n",
       "         -8.4626e-01,  9.2114e-01,  7.1226e-01,  1.9726e+00,  1.8770e+00,\n",
       "         -1.4595e+00, -3.6523e-01,  1.8527e+00,  7.0559e-01,  7.1781e-01,\n",
       "         -8.7786e-02, -2.6009e-01,  1.5255e+00, -1.0819e+00,  7.0211e-01,\n",
       "          1.3601e+00,  1.1495e+00,  8.4341e-01, -3.4275e-01, -1.9484e+00,\n",
       "         -6.7758e-01,  1.1541e-01,  3.0695e-01,  4.4643e-01,  3.8922e-01,\n",
       "         -3.2904e-01,  1.0153e+00, -3.9685e-01,  3.6188e-01, -1.0262e-01,\n",
       "         -8.9673e-01, -8.9187e-01, -1.5191e-01,  7.5909e-02,  1.5767e+00,\n",
       "         -2.9193e-01,  1.0079e-01,  3.5479e-01, -1.5375e+00,  5.3078e-02,\n",
       "         -4.3622e-01,  2.6561e-01,  2.3176e-01,  2.5733e-02,  1.4665e-01,\n",
       "         -1.7886e-01, -5.6797e-01, -1.2930e-01,  4.2273e-01, -5.5901e-01,\n",
       "         -4.5787e-01, -1.4003e+00,  3.4437e-01,  5.5592e-01, -2.1027e-02,\n",
       "         -6.6596e-02, -5.0339e-01, -2.9162e-01,  1.8211e-01,  1.0169e+00,\n",
       "         -3.0712e-01,  7.9085e-02, -5.6117e-01, -1.2676e-01, -1.2136e+00,\n",
       "          3.9025e-01,  3.7577e-01, -3.9281e-01, -6.6847e-01, -1.1923e+00,\n",
       "          2.2565e-01,  6.7501e-01, -7.0188e-01,  7.7872e-01, -1.2211e-02,\n",
       "         -2.8806e-02,  9.5361e-01, -2.5277e-01, -5.1617e-01, -1.8289e+00,\n",
       "          1.1379e+00, -1.6585e+00,  3.8321e-01,  8.5563e-02, -4.2134e-01,\n",
       "         -5.8014e-01,  1.5927e-01,  3.7394e-01, -4.5139e-01, -7.9144e-01,\n",
       "         -1.3093e+00, -2.1576e+00,  1.4459e+00, -1.5182e-01, -8.1432e-01,\n",
       "          2.2903e-02, -1.4719e+00, -9.4054e-01, -1.8983e+00, -8.2931e-01,\n",
       "         -3.4766e-01,  1.3132e-01, -5.6536e-01,  1.3884e+00,  1.1293e+00]],\n",
       "       grad_fn=<AddmmBackward0>)"
      ]
     },
     "execution_count": 30,
     "metadata": {},
     "output_type": "execute_result"
    }
   ],
   "source": [
    "# forward pass\n",
    "prediksi = model(data)\n",
    "prediksi"
   ]
  },
  {
   "cell_type": "markdown",
   "metadata": {
    "id": "S4VKCu3K4aQT"
   },
   "source": [
    "Setelah itu hitung loss function sebagai total perbedaan prediksi terhadap label dan lakukan backpropagation sekali\n"
   ]
  },
  {
   "cell_type": "code",
   "execution_count": 14,
   "metadata": {
    "colab": {
     "base_uri": "https://localhost:8080/"
    },
    "executionInfo": {
     "elapsed": 490,
     "status": "ok",
     "timestamp": 1656044743860,
     "user": {
      "displayName": "Hendrik Sugiarto",
      "userId": "04571208421820397785"
     },
     "user_tz": -420
    },
    "id": "Qq43dBee4aQT",
    "outputId": "0e2b8519-f2c5-4061-bf0f-bddb741758ca"
   },
   "outputs": [
    {
     "name": "stdout",
     "output_type": "stream",
     "text": [
      "tensor(1034.3706, grad_fn=<SumBackward0>)\n"
     ]
    }
   ],
   "source": [
    "# loss function\n",
    "\n",
    "# backward pass\n"
   ]
  },
  {
   "cell_type": "markdown",
   "metadata": {
    "id": "rmlMim_h4aQT"
   },
   "source": [
    "Gunakan optimisasi SGD dengan menggunakan learning rate 1e-7 dan momentum 0.9"
   ]
  },
  {
   "cell_type": "code",
   "execution_count": 15,
   "metadata": {
    "executionInfo": {
     "elapsed": 316,
     "status": "ok",
     "timestamp": 1656044838008,
     "user": {
      "displayName": "Hendrik Sugiarto",
      "userId": "04571208421820397785"
     },
     "user_tz": -420
    },
    "id": "1bNS7Kjr4aQT"
   },
   "outputs": [],
   "source": [
    "optim = torch.optim.SGD(model.parameters(), lr=1e-7, momentum=0.9)"
   ]
  },
  {
   "cell_type": "markdown",
   "metadata": {
    "id": "nmdv9b9g4aQT"
   },
   "source": [
    "Panggil ``.step()`` untuk menginisiasi gradient descent. Optimalisasi akan mengubah parameter sesuai dengan gradien yang telah tersimpan di ``.grad``.\n"
   ]
  },
  {
   "cell_type": "code",
   "execution_count": 16,
   "metadata": {
    "executionInfo": {
     "elapsed": 305,
     "status": "ok",
     "timestamp": 1656044841237,
     "user": {
      "displayName": "Hendrik Sugiarto",
      "userId": "04571208421820397785"
     },
     "user_tz": -420
    },
    "id": "dI2JAP2D4aQT"
   },
   "outputs": [],
   "source": [
    "optim.step() #gradient descent"
   ]
  },
  {
   "cell_type": "markdown",
   "metadata": {
    "id": "ljZuFbZs4aQT"
   },
   "source": [
    "Prediksi dan hitung akurasi model"
   ]
  },
  {
   "cell_type": "code",
   "execution_count": 17,
   "metadata": {
    "colab": {
     "base_uri": "https://localhost:8080/"
    },
    "executionInfo": {
     "elapsed": 502,
     "status": "ok",
     "timestamp": 1656044851906,
     "user": {
      "displayName": "Hendrik Sugiarto",
      "userId": "04571208421820397785"
     },
     "user_tz": -420
    },
    "id": "RWqOzb7G4aQT",
    "outputId": "ba5afd9b-73c7-4962-ac48-3fe5d1742052"
   },
   "outputs": [
    {
     "name": "stdout",
     "output_type": "stream",
     "text": [
      "tensor(1008.0511, grad_fn=<SumBackward0>)\n"
     ]
    }
   ],
   "source": [
    "prediksi = model(data)\n",
    "loss = ((prediksi - labels)**2).sum()\n",
    "print(loss)\n",
    "loss.backward()\n",
    "optim.step()"
   ]
  },
  {
   "cell_type": "markdown",
   "metadata": {
    "id": "Zw78oXu-4aQT"
   },
   "source": [
    "Coba sekarang bekukan semua parameter dari model tersebut"
   ]
  },
  {
   "cell_type": "code",
   "execution_count": null,
   "metadata": {
    "id": "4b8WRL494aQT"
   },
   "outputs": [],
   "source": [
    "for param in model.parameters():\n",
    "    param.requires_grad = False"
   ]
  },
  {
   "cell_type": "markdown",
   "metadata": {
    "id": "akRy-yZn4aQT"
   },
   "source": [
    "Prediksi dan hitung akurasi model"
   ]
  },
  {
   "cell_type": "code",
   "execution_count": null,
   "metadata": {
    "id": "8TxooKH_4aQT"
   },
   "outputs": [],
   "source": []
  },
  {
   "cell_type": "markdown",
   "metadata": {
    "id": "WhO0D1l-4aQT"
   },
   "source": [
    "Bacaan Opsional: Gradien Tensor dan Produk Jacobian\n",
    "--------------------------------------\n",
    "\n",
    "Di banyak kasus, kita memiliki loss function skalar, dan perlu menghitung gradien terhadap suatu parameter. Tetapi ada kasus dimana fungsi output adalah sebuah tensor. Pada kasus ini, PyTorch mengijinkan perhitungan **Jacobian product**, dan bukan gradien tersebut.\n",
    "\n",
    "Pada sebuah fungsi vektor $\\vec{y}=f(\\vec{x})$, dimana\n",
    "$\\vec{x}=\\langle x_1,\\dots,x_n\\rangle$ dan\n",
    "$\\vec{y}=\\langle y_1,\\dots,y_m\\rangle$, sebuah gradien dari\n",
    "$\\vec{y}$ terhadap $\\vec{x}$ adalah **Jacobian\n",
    "matrix**:\n",
    "\n",
    "\\begin{align}J=\\left(\\begin{array}{ccc}\n",
    "      \\frac{\\partial y_{1}}{\\partial x_{1}} & \\cdots & \\frac{\\partial y_{1}}{\\partial x_{n}}\\\\\n",
    "      \\vdots & \\ddots & \\vdots\\\\\n",
    "      \\frac{\\partial y_{m}}{\\partial x_{1}} & \\cdots & \\frac{\\partial y_{m}}{\\partial x_{n}}\n",
    "      \\end{array}\\right)\\end{align}\n",
    "\n",
    "Daripada menghitung matriks Jacobian tersebut, PyTorch mengijinkan perhitungan **Jacobian Product** $v^T\\cdot J$ untuk sebuah vektor input $v=(v_1 \\dots v_m)$. Ini dapat dicapai dengan memanggil ``backward`` dengan $v$ sebagai argumen. Ukuran $v$ harus sama dengan ukuran tensor awal, yang terhadapnya kita ingin menghitung produk:\n",
    "\n",
    "\n"
   ]
  },
  {
   "cell_type": "code",
   "execution_count": null,
   "metadata": {
    "id": "Wx8v5t1o4aQT",
    "outputId": "f347881e-2fc0-4d68-e13e-11f3beb53605"
   },
   "outputs": [
    {
     "name": "stdout",
     "output_type": "stream",
     "text": [
      "First call\n",
      " tensor([[4., 2., 2., 2., 2.],\n",
      "        [2., 4., 2., 2., 2.],\n",
      "        [2., 2., 4., 2., 2.],\n",
      "        [2., 2., 2., 4., 2.],\n",
      "        [2., 2., 2., 2., 4.]])\n",
      "\n",
      "Second call\n",
      " tensor([[8., 4., 4., 4., 4.],\n",
      "        [4., 8., 4., 4., 4.],\n",
      "        [4., 4., 8., 4., 4.],\n",
      "        [4., 4., 4., 8., 4.],\n",
      "        [4., 4., 4., 4., 8.]])\n",
      "\n",
      "Call after zeroing gradients\n",
      " tensor([[4., 2., 2., 2., 2.],\n",
      "        [2., 4., 2., 2., 2.],\n",
      "        [2., 2., 4., 2., 2.],\n",
      "        [2., 2., 2., 4., 2.],\n",
      "        [2., 2., 2., 2., 4.]])\n"
     ]
    }
   ],
   "source": [
    "inp = torch.eye(5, requires_grad=True)\n",
    "out = (inp+1).pow(2)\n",
    "out.backward(torch.ones_like(inp), retain_graph=True)\n",
    "print(\"First call\\n\", inp.grad)\n",
    "out.backward(torch.ones_like(inp), retain_graph=True)\n",
    "print(\"\\nSecond call\\n\", inp.grad)\n",
    "inp.grad.zero_()\n",
    "out.backward(torch.ones_like(inp), retain_graph=True)\n",
    "print(\"\\nCall after zeroing gradients\\n\", inp.grad)"
   ]
  },
  {
   "cell_type": "markdown",
   "metadata": {
    "id": "aAbVSIXb4aQT"
   },
   "source": [
    "Perhatikan ketika kita memanggil ``backward`` untuk kedua kali dengan argumen yang sama, nilai dari gradien berbeda. Ini terjadi karena ketika melakukan propagasi ``backward``, PyTorch **mengakumulasi gradien**, dimana nilai gradien yang terhitung ditambahkan kepada properti ``grad`` dari semua leaf nodes dari computational graph. Jika kamu ingin menghitung gradien sebenarnya, kamu perlu mengosongkan properti ``grad`` sebelumnya. Di dalam pelatihan, sebuah *optimizer* membantu kita untuk melakukan hal ini.\n",
    "\n"
   ]
  },
  {
   "cell_type": "markdown",
   "metadata": {
    "id": "HX10PvRH4aQT"
   },
   "source": [
    "<div class=\"alert alert-info\"><h4>Catatan</h4><p>Sebelumnya kita memanggil fungsi ``backward()`` tanpa parameter. Ini ekuivalen dengan memanggil ``backward(torch.tensor(1.0))``, dimana ini cara yang efektif untuk menghitung gradien dalam kasus fungsi skalar, seperti loss dalam pelatihan neural network\n",
    "</p></div>\n",
    "\n",
    "\n"
   ]
  },
  {
   "cell_type": "markdown",
   "metadata": {
    "id": "mQkxEgvs4aQU"
   },
   "source": [
    "--------------\n",
    "\n",
    "\n"
   ]
  }
 ],
 "metadata": {
  "colab": {
   "collapsed_sections": [],
   "name": "LKM_IBDA3311_Autograd_Soal.ipynb",
   "provenance": []
  },
  "kernelspec": {
   "display_name": "Python 3 (ipykernel)",
   "language": "python",
   "name": "python3"
  },
  "language_info": {
   "codemirror_mode": {
    "name": "ipython",
    "version": 3
   },
   "file_extension": ".py",
   "mimetype": "text/x-python",
   "name": "python",
   "nbconvert_exporter": "python",
   "pygments_lexer": "ipython3",
   "version": "3.11.4"
  },
  "widgets": {
   "application/vnd.jupyter.widget-state+json": {
    "00a0da5129164c50a4415a2b8a98c3f6": {
     "model_module": "@jupyter-widgets/controls",
     "model_module_version": "1.5.0",
     "model_name": "DescriptionStyleModel",
     "state": {
      "_model_module": "@jupyter-widgets/controls",
      "_model_module_version": "1.5.0",
      "_model_name": "DescriptionStyleModel",
      "_view_count": null,
      "_view_module": "@jupyter-widgets/base",
      "_view_module_version": "1.2.0",
      "_view_name": "StyleView",
      "description_width": ""
     }
    },
    "0f5f100f811548b5b84e2ed8c4e81482": {
     "model_module": "@jupyter-widgets/controls",
     "model_module_version": "1.5.0",
     "model_name": "HTMLModel",
     "state": {
      "_dom_classes": [],
      "_model_module": "@jupyter-widgets/controls",
      "_model_module_version": "1.5.0",
      "_model_name": "HTMLModel",
      "_view_count": null,
      "_view_module": "@jupyter-widgets/controls",
      "_view_module_version": "1.5.0",
      "_view_name": "HTMLView",
      "description": "",
      "description_tooltip": null,
      "layout": "IPY_MODEL_caa6a7baff3a4334bdc9a5bb9802d1f6",
      "placeholder": "​",
      "style": "IPY_MODEL_7fa48833b08e4f7eaf6da249bbeffd10",
      "value": "100%"
     }
    },
    "1bee4b8f9fd7463a8a617481f7280792": {
     "model_module": "@jupyter-widgets/controls",
     "model_module_version": "1.5.0",
     "model_name": "ProgressStyleModel",
     "state": {
      "_model_module": "@jupyter-widgets/controls",
      "_model_module_version": "1.5.0",
      "_model_name": "ProgressStyleModel",
      "_view_count": null,
      "_view_module": "@jupyter-widgets/base",
      "_view_module_version": "1.2.0",
      "_view_name": "StyleView",
      "bar_color": null,
      "description_width": ""
     }
    },
    "25c21962666145b680a946acd1cd7c13": {
     "model_module": "@jupyter-widgets/controls",
     "model_module_version": "1.5.0",
     "model_name": "HTMLModel",
     "state": {
      "_dom_classes": [],
      "_model_module": "@jupyter-widgets/controls",
      "_model_module_version": "1.5.0",
      "_model_name": "HTMLModel",
      "_view_count": null,
      "_view_module": "@jupyter-widgets/controls",
      "_view_module_version": "1.5.0",
      "_view_name": "HTMLView",
      "description": "",
      "description_tooltip": null,
      "layout": "IPY_MODEL_993d9c2ed3a842f0bd4efdffdac58895",
      "placeholder": "​",
      "style": "IPY_MODEL_00a0da5129164c50a4415a2b8a98c3f6",
      "value": " 44.7M/44.7M [00:00&lt;00:00, 107MB/s]"
     }
    },
    "56e200a982a3480985cc6f16a6a2c23b": {
     "model_module": "@jupyter-widgets/controls",
     "model_module_version": "1.5.0",
     "model_name": "FloatProgressModel",
     "state": {
      "_dom_classes": [],
      "_model_module": "@jupyter-widgets/controls",
      "_model_module_version": "1.5.0",
      "_model_name": "FloatProgressModel",
      "_view_count": null,
      "_view_module": "@jupyter-widgets/controls",
      "_view_module_version": "1.5.0",
      "_view_name": "ProgressView",
      "bar_style": "success",
      "description": "",
      "description_tooltip": null,
      "layout": "IPY_MODEL_583601b246ac416bb88d63c5bc057257",
      "max": 46830571,
      "min": 0,
      "orientation": "horizontal",
      "style": "IPY_MODEL_1bee4b8f9fd7463a8a617481f7280792",
      "value": 46830571
     }
    },
    "583601b246ac416bb88d63c5bc057257": {
     "model_module": "@jupyter-widgets/base",
     "model_module_version": "1.2.0",
     "model_name": "LayoutModel",
     "state": {
      "_model_module": "@jupyter-widgets/base",
      "_model_module_version": "1.2.0",
      "_model_name": "LayoutModel",
      "_view_count": null,
      "_view_module": "@jupyter-widgets/base",
      "_view_module_version": "1.2.0",
      "_view_name": "LayoutView",
      "align_content": null,
      "align_items": null,
      "align_self": null,
      "border": null,
      "bottom": null,
      "display": null,
      "flex": null,
      "flex_flow": null,
      "grid_area": null,
      "grid_auto_columns": null,
      "grid_auto_flow": null,
      "grid_auto_rows": null,
      "grid_column": null,
      "grid_gap": null,
      "grid_row": null,
      "grid_template_areas": null,
      "grid_template_columns": null,
      "grid_template_rows": null,
      "height": null,
      "justify_content": null,
      "justify_items": null,
      "left": null,
      "margin": null,
      "max_height": null,
      "max_width": null,
      "min_height": null,
      "min_width": null,
      "object_fit": null,
      "object_position": null,
      "order": null,
      "overflow": null,
      "overflow_x": null,
      "overflow_y": null,
      "padding": null,
      "right": null,
      "top": null,
      "visibility": null,
      "width": null
     }
    },
    "5937cbea6c054655ae296f2df90526bc": {
     "model_module": "@jupyter-widgets/base",
     "model_module_version": "1.2.0",
     "model_name": "LayoutModel",
     "state": {
      "_model_module": "@jupyter-widgets/base",
      "_model_module_version": "1.2.0",
      "_model_name": "LayoutModel",
      "_view_count": null,
      "_view_module": "@jupyter-widgets/base",
      "_view_module_version": "1.2.0",
      "_view_name": "LayoutView",
      "align_content": null,
      "align_items": null,
      "align_self": null,
      "border": null,
      "bottom": null,
      "display": null,
      "flex": null,
      "flex_flow": null,
      "grid_area": null,
      "grid_auto_columns": null,
      "grid_auto_flow": null,
      "grid_auto_rows": null,
      "grid_column": null,
      "grid_gap": null,
      "grid_row": null,
      "grid_template_areas": null,
      "grid_template_columns": null,
      "grid_template_rows": null,
      "height": null,
      "justify_content": null,
      "justify_items": null,
      "left": null,
      "margin": null,
      "max_height": null,
      "max_width": null,
      "min_height": null,
      "min_width": null,
      "object_fit": null,
      "object_position": null,
      "order": null,
      "overflow": null,
      "overflow_x": null,
      "overflow_y": null,
      "padding": null,
      "right": null,
      "top": null,
      "visibility": null,
      "width": null
     }
    },
    "6cd2d7e261f142e8a45756d589c9d4f1": {
     "model_module": "@jupyter-widgets/controls",
     "model_module_version": "1.5.0",
     "model_name": "HBoxModel",
     "state": {
      "_dom_classes": [],
      "_model_module": "@jupyter-widgets/controls",
      "_model_module_version": "1.5.0",
      "_model_name": "HBoxModel",
      "_view_count": null,
      "_view_module": "@jupyter-widgets/controls",
      "_view_module_version": "1.5.0",
      "_view_name": "HBoxView",
      "box_style": "",
      "children": [
       "IPY_MODEL_0f5f100f811548b5b84e2ed8c4e81482",
       "IPY_MODEL_56e200a982a3480985cc6f16a6a2c23b",
       "IPY_MODEL_25c21962666145b680a946acd1cd7c13"
      ],
      "layout": "IPY_MODEL_5937cbea6c054655ae296f2df90526bc"
     }
    },
    "7fa48833b08e4f7eaf6da249bbeffd10": {
     "model_module": "@jupyter-widgets/controls",
     "model_module_version": "1.5.0",
     "model_name": "DescriptionStyleModel",
     "state": {
      "_model_module": "@jupyter-widgets/controls",
      "_model_module_version": "1.5.0",
      "_model_name": "DescriptionStyleModel",
      "_view_count": null,
      "_view_module": "@jupyter-widgets/base",
      "_view_module_version": "1.2.0",
      "_view_name": "StyleView",
      "description_width": ""
     }
    },
    "993d9c2ed3a842f0bd4efdffdac58895": {
     "model_module": "@jupyter-widgets/base",
     "model_module_version": "1.2.0",
     "model_name": "LayoutModel",
     "state": {
      "_model_module": "@jupyter-widgets/base",
      "_model_module_version": "1.2.0",
      "_model_name": "LayoutModel",
      "_view_count": null,
      "_view_module": "@jupyter-widgets/base",
      "_view_module_version": "1.2.0",
      "_view_name": "LayoutView",
      "align_content": null,
      "align_items": null,
      "align_self": null,
      "border": null,
      "bottom": null,
      "display": null,
      "flex": null,
      "flex_flow": null,
      "grid_area": null,
      "grid_auto_columns": null,
      "grid_auto_flow": null,
      "grid_auto_rows": null,
      "grid_column": null,
      "grid_gap": null,
      "grid_row": null,
      "grid_template_areas": null,
      "grid_template_columns": null,
      "grid_template_rows": null,
      "height": null,
      "justify_content": null,
      "justify_items": null,
      "left": null,
      "margin": null,
      "max_height": null,
      "max_width": null,
      "min_height": null,
      "min_width": null,
      "object_fit": null,
      "object_position": null,
      "order": null,
      "overflow": null,
      "overflow_x": null,
      "overflow_y": null,
      "padding": null,
      "right": null,
      "top": null,
      "visibility": null,
      "width": null
     }
    },
    "caa6a7baff3a4334bdc9a5bb9802d1f6": {
     "model_module": "@jupyter-widgets/base",
     "model_module_version": "1.2.0",
     "model_name": "LayoutModel",
     "state": {
      "_model_module": "@jupyter-widgets/base",
      "_model_module_version": "1.2.0",
      "_model_name": "LayoutModel",
      "_view_count": null,
      "_view_module": "@jupyter-widgets/base",
      "_view_module_version": "1.2.0",
      "_view_name": "LayoutView",
      "align_content": null,
      "align_items": null,
      "align_self": null,
      "border": null,
      "bottom": null,
      "display": null,
      "flex": null,
      "flex_flow": null,
      "grid_area": null,
      "grid_auto_columns": null,
      "grid_auto_flow": null,
      "grid_auto_rows": null,
      "grid_column": null,
      "grid_gap": null,
      "grid_row": null,
      "grid_template_areas": null,
      "grid_template_columns": null,
      "grid_template_rows": null,
      "height": null,
      "justify_content": null,
      "justify_items": null,
      "left": null,
      "margin": null,
      "max_height": null,
      "max_width": null,
      "min_height": null,
      "min_width": null,
      "object_fit": null,
      "object_position": null,
      "order": null,
      "overflow": null,
      "overflow_x": null,
      "overflow_y": null,
      "padding": null,
      "right": null,
      "top": null,
      "visibility": null,
      "width": null
     }
    }
   }
  }
 },
 "nbformat": 4,
 "nbformat_minor": 1
}
