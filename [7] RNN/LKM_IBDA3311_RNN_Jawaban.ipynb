{
 "cells": [
  {
   "cell_type": "markdown",
   "metadata": {},
   "source": [
    "# Recurrent Neural Network\n",
    "\n",
    "Mekanisme RNN menggunakan nilai hidden layer dari proses sebelumnya untuk menjadi input tambahan pada proses berikutnya. \n",
    "\n",
    "### Tugas\n",
    "Tempelkan (concatenate) hidden layer yang didapatkan dari proses sebelumnya dengan input data berikutnya untuk menjadi input data yang baru untuk proses setelahnya. "
   ]
  },
  {
   "cell_type": "code",
   "execution_count": 1,
   "metadata": {},
   "outputs": [],
   "source": [
    "import torch\n",
    "\n",
    "class RNN(torch.nn.Module):\n",
    "\n",
    "    # you can also accept arguments in your model constructor\n",
    "    def __init__(self, data_size, hidden_size, output_size):\n",
    "        super(RNN, self).__init__()\n",
    "\n",
    "        self.hidden_size = hidden_size\n",
    "        input_size = data_size + hidden_size\n",
    "\n",
    "        self.i2h = torch.nn.Linear(input_size, hidden_size)\n",
    "        self.h2o = torch.nn.Linear(hidden_size, output_size)\n",
    "\n",
    "    def forward(self, data, last_hidden):\n",
    "        input_data = torch.cat((data, last_hidden), 1)\n",
    "        hidden = self.i2h(input_data)\n",
    "        output = self.h2o(hidden)\n",
    "        return hidden, output\n",
    "\n",
    "\n",
    "rnn = RNN(50, 20, 10)"
   ]
  },
  {
   "cell_type": "markdown",
   "metadata": {},
   "source": [
    "### Tugas\n",
    "\n",
    "Hitung total akumulasi loss function untuk setiap proses dan lakukan backwardpropagation sekali saja"
   ]
  },
  {
   "cell_type": "code",
   "execution_count": 2,
   "metadata": {},
   "outputs": [
    {
     "name": "stdout",
     "output_type": "stream",
     "text": [
      "Parameter containing:\n",
      "tensor([[ 0.0057, -0.0611, -0.0260,  ..., -0.0871,  0.0433,  0.0333],\n",
      "        [ 0.0117, -0.0537, -0.0993,  ...,  0.1078, -0.0304, -0.0031],\n",
      "        [-0.1030, -0.0600, -0.0421,  ..., -0.0158, -0.0437,  0.1043],\n",
      "        ...,\n",
      "        [-0.0590,  0.1062,  0.0112,  ...,  0.0732,  0.0840, -0.1156],\n",
      "        [-0.0768, -0.0707,  0.0612,  ...,  0.1133,  0.0185,  0.0307],\n",
      "        [-0.0708,  0.0951,  0.0373,  ..., -0.1107,  0.0072, -0.1051]],\n",
      "       requires_grad=True)\n",
      "tensor(0.4076, grad_fn=<AddBackward0>)\n",
      "Parameter containing:\n",
      "tensor([[ 0.0107, -0.0661, -0.0210,  ..., -0.0921,  0.0483,  0.0283],\n",
      "        [ 0.0067, -0.0487, -0.0943,  ...,  0.1128, -0.0254,  0.0019],\n",
      "        [-0.1080, -0.0550, -0.0371,  ..., -0.0108, -0.0487,  0.1093],\n",
      "        ...,\n",
      "        [-0.0640,  0.1012,  0.0162,  ...,  0.0682,  0.0790, -0.1106],\n",
      "        [-0.0718, -0.0657,  0.0562,  ...,  0.1183,  0.0135,  0.0257],\n",
      "        [-0.0658,  0.1001,  0.0323,  ..., -0.1157,  0.0122, -0.1101]],\n",
      "       requires_grad=True)\n"
     ]
    }
   ],
   "source": [
    "learning_rate = 0.005\n",
    "loss_fn = torch.nn.MSELoss()\n",
    "optimizer = torch.optim.Adam(rnn.parameters(), lr=learning_rate)\n",
    "\n",
    "batch_size = 16\n",
    "timestep = 5\n",
    "\n",
    "# Create some fake data\n",
    "batch = torch.randn(batch_size, 50)\n",
    "hidden = torch.zeros(batch_size, 20)\n",
    "target = torch.zeros(batch_size, 10)\n",
    "\n",
    "print(rnn.i2h.weight)\n",
    "\n",
    "loss = 0\n",
    "for t in range(timestep):\n",
    "    # yes! you can reuse the same network several times,\n",
    "    # sum up the losses, and call backward!\n",
    "    hidden, output = rnn(batch, hidden)\n",
    "    loss += loss_fn(output, target)\n",
    "loss.backward()\n",
    "optimizer.step()\n",
    "print(loss)\n",
    "print(rnn.i2h.weight)\n",
    "\n",
    "    \n",
    "    "
   ]
  },
  {
   "cell_type": "markdown",
   "metadata": {},
   "source": [
    "Data\n",
    "==================\n",
    "\n",
    "   Unduh data ini https://download.pytorch.org/tutorial/data.zip\n",
    "   dan taruh pada folder yang sama dengan notebook ini\n",
    "\n",
    "data ini berisi dictionary dari daftar nama dari tiap bahasa\n",
    "\n"
   ]
  },
  {
   "cell_type": "code",
   "execution_count": 3,
   "metadata": {},
   "outputs": [
    {
     "name": "stdout",
     "output_type": "stream",
     "text": [
      "['data/names/Portuguese.txt', 'data/names/Dutch.txt', 'data/names/Russian.txt', 'data/names/Chinese.txt', 'data/names/Spanish.txt', 'data/names/Japanese.txt', 'data/names/Korean.txt', 'data/names/Czech.txt', 'data/names/Polish.txt', 'data/names/French.txt', 'data/names/Irish.txt', 'data/names/Italian.txt', 'data/names/Arabic.txt', 'data/names/German.txt', 'data/names/Scottish.txt', 'data/names/Greek.txt', 'data/names/English.txt', 'data/names/Vietnamese.txt']\n",
      "Slusarski\n"
     ]
    }
   ],
   "source": [
    "from __future__ import unicode_literals, print_function, division\n",
    "from io import open\n",
    "import glob\n",
    "import os\n",
    "\n",
    "def findFiles(path): return glob.glob(path)\n",
    "\n",
    "print(findFiles('data/names/*.txt'))\n",
    "\n",
    "import unicodedata\n",
    "import string\n",
    "\n",
    "all_letters = string.ascii_letters + \" .,;'\"\n",
    "n_letters = len(all_letters)\n",
    "\n",
    "# Turn a Unicode string to plain ASCII, thanks to https://stackoverflow.com/a/518232/2809427\n",
    "def unicodeToAscii(s):\n",
    "    return ''.join(\n",
    "        c for c in unicodedata.normalize('NFD', s)\n",
    "        if unicodedata.category(c) != 'Mn'\n",
    "        and c in all_letters\n",
    "    )\n",
    "\n",
    "print(unicodeToAscii('Ślusàrski'))\n",
    "\n",
    "# Build the category_lines dictionary, a list of names per language\n",
    "category_lines = {}\n",
    "all_categories = []\n",
    "\n",
    "# Read a file and split into lines\n",
    "def readLines(filename):\n",
    "    lines = open(filename, encoding='utf-8').read().strip().split('\\n')\n",
    "    return [unicodeToAscii(line) for line in lines]\n",
    "\n",
    "for filename in findFiles('data/names/*.txt'):\n",
    "    category = os.path.splitext(os.path.basename(filename))[0]\n",
    "    all_categories.append(category)\n",
    "    lines = readLines(filename)\n",
    "    category_lines[category] = lines\n",
    "\n",
    "n_categories = len(all_categories)"
   ]
  },
  {
   "cell_type": "markdown",
   "metadata": {},
   "source": [
    "Sekarang kita mempunyai variabel ``category_lines``, dictionary yang memetakan setiap kategori bahasa ke sebuah daftar nama-nama. Kita juga melacak ``all_categories`` (daftar bahasa) dan ``n_categories`` untuk referensi.\n",
    "\n",
    "\n"
   ]
  },
  {
   "cell_type": "code",
   "execution_count": 4,
   "metadata": {},
   "outputs": [
    {
     "name": "stdout",
     "output_type": "stream",
     "text": [
      "['Abbas', 'Abbey', 'Abbott', 'Abdi', 'Abel', 'Abraham', 'Abrahams', 'Abrams', 'Ackary', 'Ackroyd', 'Acton', 'Adair', 'Adam', 'Adams', 'Adamson', 'Adanet', 'Addams', 'Adderley', 'Addinall', 'Addis', 'Addison', 'Addley', 'Aderson', 'Adey', 'Adkins']\n",
      "['Abana', 'Abano', 'Abarca', 'Abaroa', 'Abascal', 'Abasolo', 'Abel', 'Abello', 'Aberquero', 'Abreu', 'Acosta', 'Agramunt', 'Aiza', 'Alamilla', 'Albert', 'Albuquerque', 'Aldana', 'Alfaro', 'Alvarado', 'Alvarez', 'Alves', 'Amador', 'Andreu', 'Antunez', 'Aqua']\n",
      "['Abandonato', 'Abatangelo', 'Abatantuono', 'Abate', 'Abategiovanni', 'Abatescianni', 'Abba', 'Abbadelli', 'Abbascia', 'Abbatangelo', 'Abbatantuono', 'Abbate', 'Abbatelli', 'Abbaticchio', 'Abbiati', 'Abbracciabene', 'Abbracciabeni', 'Abelli', 'Abello', 'Abrami', 'Abramo', 'Acardi', 'Accardi', 'Accardo', 'Acciai']\n",
      "['Abbing', 'Abel', 'Abeln', 'Abt', 'Achilles', 'Achterberg', 'Acker', 'Ackermann', 'Adam', 'Adenauer', 'Adler', 'Adlersflugel', 'Aeschelman', 'Albert', 'Albrecht', 'Aleshire', 'Aleshite', 'Althaus', 'Amsel', 'Andres', 'Armbruster', 'Armbruster', 'Artz', 'Aue', 'Auer']\n",
      "['Abel', 'Abraham', 'Adam', 'Albert', 'Allard', 'Archambault', 'Armistead', 'Arthur', 'Augustin', 'Babineaux', 'Baudin', 'Beauchene', 'Beaulieu', 'Beaumont', 'Belanger', 'Bellamy', 'Bellerose', 'Belrose', 'Berger', 'Beringer', 'Bernard', 'Bertrand', 'Bisset', 'Bissette', 'Blaise']\n",
      "['Aalsburg', 'Aalst', 'Aarle', 'Achteren', 'Achthoven', 'Adrichem', 'Aggelen', 'Agteren', 'Agthoven', 'Akkeren', 'Aller', 'Alphen', 'Alst', 'Altena', 'Althuis', 'Amelsvoort', 'Amersvoort', 'Amstel', 'Andel', 'Andringa', 'Ankeren', 'Antwerp', 'Antwerpen', 'Apeldoorn', 'Arendonk']\n",
      "['Ababko', 'Abaev', 'Abagyan', 'Abaidulin', 'Abaidullin', 'Abaimoff', 'Abaimov', 'Abakeliya', 'Abakovsky', 'Abakshin', 'Abakumoff', 'Abakumov', 'Abakumtsev', 'Abakushin', 'Abalakin', 'Abalakoff', 'Abalakov', 'Abaleshev', 'Abalihin', 'Abalikhin', 'Abalkin', 'Abalmasoff', 'Abalmasov', 'Abaloff', 'Abalov']\n",
      "['Abe', 'Abukara', 'Adachi', 'Aida', 'Aihara', 'Aizawa', 'Ajibana', 'Akaike', 'Akamatsu', 'Akatsuka', 'Akechi', 'Akera', 'Akimoto', 'Akita', 'Akiyama', 'Akutagawa', 'Amagawa', 'Amaya', 'Amori', 'Anami', 'Ando', 'Anzai', 'Aoki', 'Arai', 'Arakawa']\n",
      "['Ahn', 'Baik', 'Bang', 'Byon', 'Cha', 'Chang', 'Chi', 'Chin', 'Cho', 'Choe', 'Choi', 'Chong', 'Chou', 'Chu', 'Chun', 'Chung', 'Chweh', 'Gil', 'Gu', 'Gwang ', 'Ha', 'Han', 'Ho', 'Hong', 'Hung']\n",
      "['Portuguese', 'Dutch', 'Russian', 'Chinese', 'Spanish', 'Japanese', 'Korean', 'Czech', 'Polish', 'French', 'Irish', 'Italian', 'Arabic', 'German', 'Scottish', 'Greek', 'English', 'Vietnamese']\n"
     ]
    }
   ],
   "source": [
    "print(category_lines['English'][:25])\n",
    "print(category_lines['Spanish'][:25])\n",
    "print(category_lines['Italian'][:25])\n",
    "print(category_lines['German'][:25])\n",
    "print(category_lines['French'][:25])\n",
    "print(category_lines['Dutch'][:25])\n",
    "print(category_lines['Russian'][:25])\n",
    "print(category_lines['Japanese'][:25])\n",
    "print(category_lines['Korean'][:25])\n",
    "print(all_categories)"
   ]
  },
  {
   "cell_type": "markdown",
   "metadata": {},
   "source": [
    "Mengubah Nama Menjadi Tensor\n",
    "--------------------------\n",
    "\n",
    "Sekarang kita memiliki susunan nama, kita perlu merubahnya menjadi tensor\n",
    "\n",
    "Untuk merepresentasikan sebuah huruf, kita menggunakan \"one-hot vector\" dengan ukuran\n",
    "``<1 x n_letters>``. Contoh: ``\"b\" = <0 1 0 0 0 ...>``.\n",
    "\n",
    "Untuk membuat sebuah kata, kita menyatukan beberapa vektor menjadi matriks 2D\n",
    "``<line_length x 1 x n_letters>``.\n",
    "\n",
    "1 Dimensi tambahan karena PyTorch selalu menghitung dalam batch (kita menggunakan batch size=1)\n",
    "\n"
   ]
  },
  {
   "cell_type": "code",
   "execution_count": 5,
   "metadata": {},
   "outputs": [
    {
     "name": "stdout",
     "output_type": "stream",
     "text": [
      "tensor([[0., 0., 0., 1., 0., 0., 0., 0., 0., 0., 0., 0., 0., 0., 0., 0., 0., 0.,\n",
      "         0., 0., 0., 0., 0., 0., 0., 0., 0., 0., 0., 0., 0., 0., 0., 0., 0., 0.,\n",
      "         0., 0., 0., 0., 0., 0., 0., 0., 0., 0., 0., 0., 0., 0., 0., 0., 0., 0.,\n",
      "         0., 0., 0.]])\n",
      "tensor([[[0., 0., 0., 1., 0., 0., 0., 0., 0., 0., 0., 0., 0., 0., 0., 0., 0.,\n",
      "          0., 0., 0., 0., 0., 0., 0., 0., 0., 0., 0., 0., 0., 0., 0., 0., 0.,\n",
      "          0., 0., 0., 0., 0., 0., 0., 0., 0., 0., 0., 0., 0., 0., 0., 0., 0.,\n",
      "          0., 0., 0., 0., 0., 0.]],\n",
      "\n",
      "        [[1., 0., 0., 0., 0., 0., 0., 0., 0., 0., 0., 0., 0., 0., 0., 0., 0.,\n",
      "          0., 0., 0., 0., 0., 0., 0., 0., 0., 0., 0., 0., 0., 0., 0., 0., 0.,\n",
      "          0., 0., 0., 0., 0., 0., 0., 0., 0., 0., 0., 0., 0., 0., 0., 0., 0.,\n",
      "          0., 0., 0., 0., 0., 0.]],\n",
      "\n",
      "        [[0., 0., 0., 0., 0., 0., 0., 0., 0., 0., 0., 0., 0., 0., 0., 0., 0.,\n",
      "          0., 0., 1., 0., 0., 0., 0., 0., 0., 0., 0., 0., 0., 0., 0., 0., 0.,\n",
      "          0., 0., 0., 0., 0., 0., 0., 0., 0., 0., 0., 0., 0., 0., 0., 0., 0.,\n",
      "          0., 0., 0., 0., 0., 0.]],\n",
      "\n",
      "        [[1., 0., 0., 0., 0., 0., 0., 0., 0., 0., 0., 0., 0., 0., 0., 0., 0.,\n",
      "          0., 0., 0., 0., 0., 0., 0., 0., 0., 0., 0., 0., 0., 0., 0., 0., 0.,\n",
      "          0., 0., 0., 0., 0., 0., 0., 0., 0., 0., 0., 0., 0., 0., 0., 0., 0.,\n",
      "          0., 0., 0., 0., 0., 0.]]])\n",
      "torch.Size([4, 1, 57])\n"
     ]
    }
   ],
   "source": [
    "import torch\n",
    "\n",
    "# Find letter index from all_letters, e.g. \"a\" = 0\n",
    "def letterToIndex(letter):\n",
    "    return all_letters.find(letter)\n",
    "\n",
    "# Just for demonstration, turn a letter into a <1 x n_letters> Tensor\n",
    "def letterToTensor(letter):\n",
    "    tensor = torch.zeros(1, n_letters)\n",
    "    tensor[0][letterToIndex(letter)] = 1\n",
    "    return tensor\n",
    "\n",
    "# Turn a line into a <line_length x 1 x n_letters>,\n",
    "# or an array of one-hot letter vectors\n",
    "def lineToTensor(line):\n",
    "    tensor = torch.zeros(len(line), 1, n_letters)\n",
    "    for li, letter in enumerate(line):\n",
    "        tensor[li][0][letterToIndex(letter)] = 1\n",
    "    return tensor\n",
    "\n",
    "print(letterToTensor('d'))\n",
    "print(lineToTensor('data'))\n",
    "print(lineToTensor('data').size())"
   ]
  },
  {
   "cell_type": "markdown",
   "metadata": {},
   "source": [
    "Membuat Network\n",
    "====================\n",
    "\n",
    "Modul RNN ini menggunakan 2 linear layers antara input dan hidden state dengan LogSoftmax pada output.\n",
    "\n",
    "### Tugas\n",
    "Tempel (concatenate) input data dan hidden layer, lalu gunakan combined data sebagai input untuk forward propagation pada hidden layer dan output layer\n",
    "\n"
   ]
  },
  {
   "cell_type": "code",
   "execution_count": 6,
   "metadata": {},
   "outputs": [
    {
     "name": "stdout",
     "output_type": "stream",
     "text": [
      "57 128 18\n"
     ]
    },
    {
     "data": {
      "text/plain": [
       "RNN(\n",
       "  (i2h): Linear(in_features=185, out_features=128, bias=True)\n",
       "  (i2o): Linear(in_features=185, out_features=18, bias=True)\n",
       "  (softmax): LogSoftmax(dim=1)\n",
       ")"
      ]
     },
     "execution_count": 6,
     "metadata": {},
     "output_type": "execute_result"
    }
   ],
   "source": [
    "class RNN(torch.nn.Module):\n",
    "    def __init__(self, input_size, hidden_size, output_size):\n",
    "        super(RNN, self).__init__()\n",
    "\n",
    "        self.hidden_size = hidden_size\n",
    "\n",
    "        self.i2h = torch.nn.Linear(input_size + hidden_size, hidden_size)\n",
    "        self.i2o = torch.nn.Linear(input_size + hidden_size, output_size)\n",
    "        self.softmax = torch.nn.LogSoftmax(dim=1)\n",
    "\n",
    "    def forward(self, input_data, hidden):\n",
    "        combined = torch.cat((input_data, hidden), 1)\n",
    "        hidden = self.i2h(combined)\n",
    "        output = self.i2o(combined)\n",
    "        output = self.softmax(output)\n",
    "        return output, hidden\n",
    "\n",
    "    def initHidden(self):\n",
    "        return torch.zeros(1, self.hidden_size)\n",
    "\n",
    "n_hidden = 128\n",
    "print(n_letters, n_hidden, n_categories)\n",
    "rnn = RNN(n_letters, n_hidden, n_categories)\n",
    "rnn"
   ]
  },
  {
   "cell_type": "code",
   "execution_count": 7,
   "metadata": {},
   "outputs": [
    {
     "name": "stdout",
     "output_type": "stream",
     "text": [
      "tensor([[-2.8581, -2.8671, -3.0055, -2.8624, -3.0082, -2.8565, -2.8464, -2.8388,\n",
      "         -2.9293, -2.9772, -2.7925, -2.8897, -2.7931, -2.9232, -2.9245, -2.9021,\n",
      "         -2.8157, -2.9752]], grad_fn=<LogSoftmaxBackward0>)\n",
      "tensor([[-2.2453e-03, -5.8275e-02,  4.8874e-02, -6.8840e-02,  2.2134e-02,\n",
      "         -8.0876e-02, -1.7519e-02, -5.6782e-04, -8.6982e-02,  2.7941e-02,\n",
      "         -3.5836e-02,  1.0274e-01, -9.3574e-02, -5.1217e-02,  3.0993e-02,\n",
      "         -8.1181e-02,  1.0821e-02, -7.0311e-03,  8.7489e-02, -2.7968e-02,\n",
      "          3.4354e-02, -2.1892e-02, -8.9254e-02, -3.6074e-02,  6.8654e-03,\n",
      "          2.1238e-02, -1.3105e-01,  2.6965e-02, -8.7617e-02,  9.6653e-02,\n",
      "          4.7305e-02,  9.9112e-02, -1.9687e-02, -2.7641e-02,  1.3419e-01,\n",
      "         -2.0561e-02, -2.6778e-02, -8.8060e-02,  9.6691e-03, -3.1140e-02,\n",
      "          5.3807e-02, -7.7652e-02,  1.6656e-02,  1.3223e-02, -3.2744e-02,\n",
      "         -3.7889e-03,  4.5728e-03, -7.4693e-02, -1.4119e-01, -3.8035e-02,\n",
      "         -3.2284e-02, -5.4627e-02, -3.8716e-02, -3.0344e-02, -2.2687e-02,\n",
      "         -9.4636e-02,  2.5306e-02, -4.4880e-03, -2.9774e-02, -1.3670e-02,\n",
      "         -4.0374e-02, -6.3796e-03, -1.4007e-01, -8.3902e-02, -1.0631e-01,\n",
      "          1.5763e-03,  7.7339e-03,  8.0248e-02, -6.0242e-02,  7.2773e-03,\n",
      "         -4.3438e-02, -1.0705e-02,  1.0923e-01, -1.1599e-02, -1.0248e-02,\n",
      "          7.9088e-03,  8.0562e-02, -9.5059e-03,  1.3306e-02, -8.4706e-05,\n",
      "          8.6461e-03, -3.4210e-02,  2.2990e-02, -2.5901e-02, -9.7738e-02,\n",
      "         -4.7834e-02,  4.4069e-02, -9.5216e-02, -8.1971e-02, -1.6115e-02,\n",
      "         -4.4677e-02,  6.8591e-03, -3.3018e-02, -5.3961e-02, -2.3217e-02,\n",
      "          1.0249e-01,  1.1057e-01, -9.0634e-03,  9.2859e-02,  1.6138e-02,\n",
      "         -2.6406e-02, -3.8107e-02,  1.0159e-01, -1.6421e-02,  5.1839e-02,\n",
      "          9.0385e-02, -2.4104e-03,  2.1466e-02,  3.9445e-02,  2.2489e-02,\n",
      "          7.4724e-02,  4.1562e-02, -1.2540e-01, -4.6912e-02,  1.8390e-02,\n",
      "          1.2036e-03, -2.7909e-02, -4.9586e-02, -9.4409e-02, -3.7758e-02,\n",
      "          8.1367e-02, -3.8275e-02,  8.7424e-03,  8.1821e-02, -1.0765e-03,\n",
      "          3.5384e-02,  5.5548e-03,  1.0571e-01]], grad_fn=<AddmmBackward0>)\n"
     ]
    }
   ],
   "source": [
    "input_data = letterToTensor('A')\n",
    "hidden = torch.zeros(1, n_hidden)\n",
    "\n",
    "output, next_hidden = rnn(input_data, hidden)\n",
    "print(output)\n",
    "print(next_hidden)"
   ]
  },
  {
   "cell_type": "code",
   "execution_count": 8,
   "metadata": {},
   "outputs": [
    {
     "name": "stdout",
     "output_type": "stream",
     "text": [
      "tensor([[-2.8581, -2.8671, -3.0055, -2.8624, -3.0082, -2.8565, -2.8464, -2.8388,\n",
      "         -2.9293, -2.9772, -2.7925, -2.8897, -2.7931, -2.9232, -2.9245, -2.9021,\n",
      "         -2.8157, -2.9752]], grad_fn=<LogSoftmaxBackward0>)\n",
      "tensor([[-2.2453e-03, -5.8275e-02,  4.8874e-02, -6.8840e-02,  2.2134e-02,\n",
      "         -8.0876e-02, -1.7519e-02, -5.6782e-04, -8.6982e-02,  2.7941e-02,\n",
      "         -3.5836e-02,  1.0274e-01, -9.3574e-02, -5.1217e-02,  3.0993e-02,\n",
      "         -8.1181e-02,  1.0821e-02, -7.0311e-03,  8.7489e-02, -2.7968e-02,\n",
      "          3.4354e-02, -2.1892e-02, -8.9254e-02, -3.6074e-02,  6.8654e-03,\n",
      "          2.1238e-02, -1.3105e-01,  2.6965e-02, -8.7617e-02,  9.6653e-02,\n",
      "          4.7305e-02,  9.9112e-02, -1.9687e-02, -2.7641e-02,  1.3419e-01,\n",
      "         -2.0561e-02, -2.6778e-02, -8.8060e-02,  9.6691e-03, -3.1140e-02,\n",
      "          5.3807e-02, -7.7652e-02,  1.6656e-02,  1.3223e-02, -3.2744e-02,\n",
      "         -3.7889e-03,  4.5728e-03, -7.4693e-02, -1.4119e-01, -3.8035e-02,\n",
      "         -3.2284e-02, -5.4627e-02, -3.8716e-02, -3.0344e-02, -2.2687e-02,\n",
      "         -9.4636e-02,  2.5306e-02, -4.4880e-03, -2.9774e-02, -1.3670e-02,\n",
      "         -4.0374e-02, -6.3796e-03, -1.4007e-01, -8.3902e-02, -1.0631e-01,\n",
      "          1.5763e-03,  7.7339e-03,  8.0248e-02, -6.0242e-02,  7.2773e-03,\n",
      "         -4.3438e-02, -1.0705e-02,  1.0923e-01, -1.1599e-02, -1.0248e-02,\n",
      "          7.9088e-03,  8.0562e-02, -9.5059e-03,  1.3306e-02, -8.4706e-05,\n",
      "          8.6461e-03, -3.4210e-02,  2.2990e-02, -2.5901e-02, -9.7738e-02,\n",
      "         -4.7834e-02,  4.4069e-02, -9.5216e-02, -8.1971e-02, -1.6115e-02,\n",
      "         -4.4677e-02,  6.8591e-03, -3.3018e-02, -5.3961e-02, -2.3217e-02,\n",
      "          1.0249e-01,  1.1057e-01, -9.0634e-03,  9.2859e-02,  1.6138e-02,\n",
      "         -2.6406e-02, -3.8107e-02,  1.0159e-01, -1.6421e-02,  5.1839e-02,\n",
      "          9.0385e-02, -2.4104e-03,  2.1466e-02,  3.9445e-02,  2.2489e-02,\n",
      "          7.4724e-02,  4.1562e-02, -1.2540e-01, -4.6912e-02,  1.8390e-02,\n",
      "          1.2036e-03, -2.7909e-02, -4.9586e-02, -9.4409e-02, -3.7758e-02,\n",
      "          8.1367e-02, -3.8275e-02,  8.7424e-03,  8.1821e-02, -1.0765e-03,\n",
      "          3.5384e-02,  5.5548e-03,  1.0571e-01]], grad_fn=<AddmmBackward0>)\n"
     ]
    }
   ],
   "source": [
    "input_data = lineToTensor('Albert')\n",
    "hidden = torch.zeros(1, n_hidden)\n",
    "\n",
    "output, next_hidden = rnn(input_data[0], hidden)\n",
    "print(output)\n",
    "print(next_hidden)"
   ]
  },
  {
   "cell_type": "markdown",
   "metadata": {},
   "source": [
    "As you can see the output is a ``<1 x n_categories>`` Tensor, where\n",
    "every item is the likelihood of that category (higher is more likely).\n",
    "\n",
    "\n"
   ]
  },
  {
   "cell_type": "markdown",
   "metadata": {},
   "source": [
    "Training\n",
    "========\n",
    "Persiapan pelatihan\n",
    "----------------------\n",
    "\n",
    "Sebelum melatih, kita memerlukan fungsi tambahan. \n",
    "Fungsi ini untuk memperoleh kategori dari outputnya\n",
    "\n",
    "\n"
   ]
  },
  {
   "cell_type": "code",
   "execution_count": 9,
   "metadata": {},
   "outputs": [
    {
     "name": "stdout",
     "output_type": "stream",
     "text": [
      "('Irish', 10)\n"
     ]
    }
   ],
   "source": [
    "def categoryFromOutput(output):\n",
    "    top_n, top_i = output.topk(1)\n",
    "    category_i = top_i[0].item()\n",
    "    return all_categories[category_i], category_i\n",
    "\n",
    "print(categoryFromOutput(output))"
   ]
  },
  {
   "cell_type": "markdown",
   "metadata": {},
   "source": [
    "Kita juga memerlukan fungsi untuk menghasilkan training data (nama dan bahasanya)\n",
    "\n",
    "\n"
   ]
  },
  {
   "cell_type": "code",
   "execution_count": 10,
   "metadata": {},
   "outputs": [
    {
     "name": "stdout",
     "output_type": "stream",
     "text": [
      "category = English / line = Mallinson / category_size = torch.Size([1]) / line_size = torch.Size([9, 1, 57])\n",
      "category = Irish / line = Callaghan / category_size = torch.Size([1]) / line_size = torch.Size([9, 1, 57])\n",
      "category = Arabic / line = Antar / category_size = torch.Size([1]) / line_size = torch.Size([5, 1, 57])\n",
      "category = Dutch / line = Andringa / category_size = torch.Size([1]) / line_size = torch.Size([8, 1, 57])\n",
      "category = Vietnamese / line = Thach / category_size = torch.Size([1]) / line_size = torch.Size([5, 1, 57])\n",
      "category = Greek / line = Karameros / category_size = torch.Size([1]) / line_size = torch.Size([9, 1, 57])\n",
      "category = Greek / line = Jamussa / category_size = torch.Size([1]) / line_size = torch.Size([7, 1, 57])\n",
      "category = Dutch / line = Klerken / category_size = torch.Size([1]) / line_size = torch.Size([7, 1, 57])\n",
      "category = Italian / line = Sacco / category_size = torch.Size([1]) / line_size = torch.Size([5, 1, 57])\n",
      "category = Portuguese / line = Melo / category_size = torch.Size([1]) / line_size = torch.Size([4, 1, 57])\n"
     ]
    }
   ],
   "source": [
    "import random\n",
    "\n",
    "def randomChoice(l):\n",
    "    return l[random.randint(0, len(l) - 1)]\n",
    "\n",
    "def randomTrainingExample():\n",
    "    category = randomChoice(all_categories)\n",
    "    line = randomChoice(category_lines[category])\n",
    "    category_tensor = torch.tensor([all_categories.index(category)], dtype=torch.long)\n",
    "    line_tensor = lineToTensor(line)\n",
    "    return category, line, category_tensor, line_tensor\n",
    "\n",
    "for i in range(10):\n",
    "    category, line, category_tensor, line_tensor = randomTrainingExample()\n",
    "    print('category =', category, '/ line =', line, '/ category_size =', category_tensor.shape, '/ line_size =', line_tensor.shape)"
   ]
  },
  {
   "cell_type": "markdown",
   "metadata": {},
   "source": [
    "Melatih Network\n",
    "--------------------\n",
    " \n",
    "Untuk loss function akan menggunakan ``nn.NLLLoss`` karena lapisan terakhir RNN ini adalah ``nn.LogSoftmax``.\n",
    "\n",
    "\n"
   ]
  },
  {
   "cell_type": "code",
   "execution_count": 11,
   "metadata": {},
   "outputs": [],
   "source": [
    "criterion = torch.nn.NLLLoss()"
   ]
  },
  {
   "cell_type": "markdown",
   "metadata": {},
   "source": [
    "### Tugas\n",
    "\n",
    "Setiap training loop akan melakukan:\n",
    "- Membuat input dan target tensor\n",
    "- Mengosongkan gradien \n",
    "- For loop setiap huruf untuk:\n",
    "    - Membaca setiap huruf dan menyimpan hidden state untuk huruf berikutnya (Tugas)\n",
    "\n",
    "- Membandingkan output akhir dengan kategori\n",
    "- Backpropagation\n",
    "- Menghasilkan output dan loss\n",
    "\n",
    "\n",
    "\n"
   ]
  },
  {
   "cell_type": "code",
   "execution_count": 12,
   "metadata": {},
   "outputs": [],
   "source": [
    "learning_rate = 0.005 # If you set this too high, it might explode. If too low, it might not learn\n",
    "\n",
    "def train(category_tensor, line_tensor):\n",
    "    hidden = rnn.initHidden()\n",
    "\n",
    "    rnn.zero_grad()\n",
    "\n",
    "    for i in range(line_tensor.size()[0]):\n",
    "        output, hidden = rnn(line_tensor[i], hidden)\n",
    "\n",
    "    loss = criterion(output, category_tensor)\n",
    "    loss.backward()\n",
    "\n",
    "    # Add parameters' gradients to their values, multiplied by learning rate\n",
    "    for p in rnn.parameters():\n",
    "        p.data.add_(p.grad.data, alpha=-learning_rate)\n",
    "\n",
    "    return output, loss.item()"
   ]
  },
  {
   "cell_type": "markdown",
   "metadata": {},
   "source": [
    "### Tugas\n",
    "\n",
    "print untuk setiap ``print_every``, lalu hitung loss rata-rata dan plot perubahan pada loss\n",
    "\n",
    "\n"
   ]
  },
  {
   "cell_type": "code",
   "execution_count": 13,
   "metadata": {},
   "outputs": [
    {
     "name": "stdout",
     "output_type": "stream",
     "text": [
      "5000 5% (0m 3s) 2.4841 Povey / English ✓\n",
      "10000 10% (0m 7s) 1.4529 Sotiris / Greek ✓\n",
      "15000 15% (0m 10s) 2.8275 Tremblay / Irish ✗ (French)\n",
      "20000 20% (0m 14s) 2.0407 Fakhoury / Japanese ✗ (Arabic)\n",
      "25000 25% (0m 17s) 1.9271 Tuma / Japanese ✗ (Arabic)\n",
      "30000 30% (0m 21s) 2.2694 Schmied / German ✗ (Czech)\n",
      "35000 35% (0m 24s) 0.6975 Mei / Chinese ✓\n",
      "40000 40% (0m 28s) 0.2807 Okubo / Japanese ✓\n",
      "45000 45% (0m 31s) 3.6572 Canne / Italian ✗ (Dutch)\n",
      "50000 50% (0m 35s) 1.1126 Gomes / Portuguese ✓\n",
      "55000 55% (0m 38s) 1.0505 Treasach / Irish ✓\n",
      "60000 60% (0m 42s) 2.3018 Auttenberg / French ✗ (German)\n",
      "65000 65% (0m 45s) 4.0111 Mihailets / English ✗ (Russian)\n",
      "70000 70% (0m 49s) 1.4551 Hung / Chinese ✗ (Korean)\n",
      "75000 75% (0m 52s) 1.4534 Saliba / Arabic ✓\n",
      "80000 80% (0m 56s) 0.1238 Wronski / Polish ✓\n",
      "85000 85% (0m 59s) 0.1438 Cathasach / Irish ✓\n",
      "90000 90% (1m 3s) 1.6544 Lauwers / Portuguese ✗ (Dutch)\n",
      "95000 95% (1m 6s) 0.1526 Senyakovich / Russian ✓\n",
      "100000 100% (1m 10s) 2.3075 Jamieson / Russian ✗ (Scottish)\n"
     ]
    },
    {
     "data": {
      "text/plain": [
       "[<matplotlib.lines.Line2D at 0x7fd84bfe33d0>]"
      ]
     },
     "execution_count": 13,
     "metadata": {},
     "output_type": "execute_result"
    },
    {
     "data": {
      "image/png": "[encoded data removed]",
      "text/plain": [
       "<Figure size 432x288 with 1 Axes>"
      ]
     },
     "metadata": {
      "needs_background": "light"
     },
     "output_type": "display_data"
    }
   ],
   "source": [
    "import time\n",
    "import math\n",
    "\n",
    "n_iters = 100000\n",
    "print_every = 5000\n",
    "plot_every = 1000\n",
    "\n",
    "\n",
    "\n",
    "# Keep track of losses for plotting\n",
    "current_loss = 0\n",
    "all_losses = []\n",
    "\n",
    "def timeSince(since):\n",
    "    now = time.time()\n",
    "    s = now - since\n",
    "    m = math.floor(s / 60)\n",
    "    s -= m * 60\n",
    "    return '%dm %ds' % (m, s)\n",
    "\n",
    "start = time.time()\n",
    "\n",
    "for iter in range(1, n_iters + 1):\n",
    "    category, line, category_tensor, line_tensor = randomTrainingExample()\n",
    "    output, loss = train(category_tensor, line_tensor)\n",
    "    current_loss += loss\n",
    "\n",
    "    # Print iter number, loss, name and guess\n",
    "    if iter % print_every == 0:\n",
    "        guess, guess_i = categoryFromOutput(output)\n",
    "        correct = '✓' if guess == category else '✗ (%s)' % category\n",
    "        print('%d %d%% (%s) %.4f %s / %s %s' % (iter, iter / n_iters * 100, timeSince(start), loss, line, guess, correct))\n",
    "\n",
    "    # Add current loss avg to list of losses\n",
    "    if iter % plot_every == 0:\n",
    "        all_losses.append(current_loss / plot_every)\n",
    "        current_loss = 0\n",
    "        \n",
    "        \n",
    "import matplotlib.pyplot as plt\n",
    "import matplotlib.ticker as ticker\n",
    "\n",
    "plt.figure()\n",
    "plt.plot(all_losses)        \n",
    "        "
   ]
  },
  {
   "cell_type": "markdown",
   "metadata": {},
   "source": [
    "Evaluasi\n",
    "======================\n",
    "\n",
    "Untuk melihat performa network pada kategori yang berbeda, kita akan membuat sebuah confusion matrix, sebagai indikator untuk setiap input bahasa (baris), bahasa manakah yang ditebak (kolom). Untuk menghitung confusion matrix, sampel akan melewati network melalui fungsi ``evaluate()``, dimana identik dengan fungsi ``train()`` kecuali bagian backprop.\n",
    "\n",
    "\n"
   ]
  },
  {
   "cell_type": "code",
   "execution_count": 14,
   "metadata": {},
   "outputs": [
    {
     "name": "stderr",
     "output_type": "stream",
     "text": [
      "/var/folders/kd/_1v8y25532s15fst0bgq8gvh0000gn/T/ipykernel_26680/3585656379.py:33: UserWarning: FixedFormatter should only be used together with FixedLocator\n",
      "  ax.set_xticklabels([''] + all_categories, rotation=90)\n",
      "/var/folders/kd/_1v8y25532s15fst0bgq8gvh0000gn/T/ipykernel_26680/3585656379.py:34: UserWarning: FixedFormatter should only be used together with FixedLocator\n",
      "  ax.set_yticklabels([''] + all_categories)\n"
     ]
    },
    {
     "data": {
      "image/png": "[encoded data removed]",
      "text/plain": [
       "<Figure size 432x288 with 2 Axes>"
      ]
     },
     "metadata": {
      "needs_background": "light"
     },
     "output_type": "display_data"
    }
   ],
   "source": [
    "# Keep track of correct guesses in a confusion matrix\n",
    "confusion = torch.zeros(n_categories, n_categories)\n",
    "n_confusion = 10000\n",
    "\n",
    "# Just return an output given a line\n",
    "def evaluate(line_tensor):\n",
    "    hidden = rnn.initHidden()\n",
    "\n",
    "    for i in range(line_tensor.size()[0]):\n",
    "        output, hidden = rnn(line_tensor[i], hidden)\n",
    "\n",
    "    return output\n",
    "\n",
    "# Go through a bunch of examples and record which are correctly guessed\n",
    "for i in range(n_confusion):\n",
    "    category, line, category_tensor, line_tensor = randomTrainingExample()\n",
    "    output = evaluate(line_tensor)\n",
    "    guess, guess_i = categoryFromOutput(output)\n",
    "    category_i = all_categories.index(category)\n",
    "    confusion[category_i][guess_i] += 1\n",
    "\n",
    "# Normalize by dividing every row by its sum\n",
    "for i in range(n_categories):\n",
    "    confusion[i] = confusion[i] / confusion[i].sum()\n",
    "\n",
    "# Set up plot\n",
    "fig = plt.figure()\n",
    "ax = fig.add_subplot(111)\n",
    "cax = ax.matshow(confusion.numpy())\n",
    "fig.colorbar(cax)\n",
    "\n",
    "# Set up axes\n",
    "ax.set_xticklabels([''] + all_categories, rotation=90)\n",
    "ax.set_yticklabels([''] + all_categories)\n",
    "\n",
    "# Force label at every tick\n",
    "ax.xaxis.set_major_locator(ticker.MultipleLocator(1))\n",
    "ax.yaxis.set_major_locator(ticker.MultipleLocator(1))\n",
    "\n",
    "# sphinx_gallery_thumbnail_number = 2\n",
    "plt.show()"
   ]
  },
  {
   "cell_type": "markdown",
   "metadata": {},
   "source": [
    "Prediksi pada Input Apapun\n",
    "---------------------\n",
    "\n",
    "\n"
   ]
  },
  {
   "cell_type": "code",
   "execution_count": 15,
   "metadata": {},
   "outputs": [
    {
     "name": "stdout",
     "output_type": "stream",
     "text": [
      "\n",
      "> Sanga\n",
      "(-1.05) Spanish\n",
      "(-2.11) Portuguese\n",
      "(-2.13) Japanese\n",
      "(-2.24) Czech\n",
      "(-2.33) Polish\n",
      "\n",
      "> Yozef\n",
      "(-0.52) Polish\n",
      "(-2.42) Czech\n",
      "(-2.54) Dutch\n",
      "(-2.86) Arabic\n",
      "(-3.29) English\n",
      "\n",
      "> Hendrik\n",
      "(-0.84) Polish\n",
      "(-1.73) Czech\n",
      "(-2.23) Russian\n",
      "(-2.44) Dutch\n",
      "(-2.86) French\n",
      "\n",
      "> Bambang\n",
      "(-1.60) Italian\n",
      "(-1.78) French\n",
      "(-2.09) German\n",
      "(-2.30) Spanish\n",
      "(-2.41) English\n"
     ]
    }
   ],
   "source": [
    "def predict(input_line, n_predictions=5):\n",
    "    print('\\n> %s' % input_line)\n",
    "    with torch.no_grad():\n",
    "        output = evaluate(lineToTensor(input_line))\n",
    "\n",
    "        # Get top N categories\n",
    "        topv, topi = output.topk(n_predictions, 1, True)\n",
    "        predictions = []\n",
    "\n",
    "        for i in range(n_predictions):\n",
    "            value = topv[0][i].item()\n",
    "            category_index = topi[0][i].item()\n",
    "            print('(%.2f) %s' % (value, all_categories[category_index]))\n",
    "            predictions.append([value, all_categories[category_index]])\n",
    "\n",
    "predict('Sanga')\n",
    "predict('Yozef')\n",
    "predict('Hendrik')\n",
    "predict('Bambang')\n"
   ]
  },
  {
   "cell_type": "markdown",
   "metadata": {},
   "source": [
    "### Tugas\n",
    "\n",
    "Coba modifikasi struktur network, misalnya menambah beberapa lapisan linear\n",
    "    \n",
    "\n",
    "\n"
   ]
  },
  {
   "cell_type": "markdown",
   "metadata": {},
   "source": [
    "### 2 hidden layers"
   ]
  },
  {
   "cell_type": "code",
   "execution_count": 16,
   "metadata": {},
   "outputs": [
    {
     "name": "stdout",
     "output_type": "stream",
     "text": [
      "57 128 18\n"
     ]
    },
    {
     "data": {
      "text/plain": [
       "RNN2L(\n",
       "  (i2h): Linear(in_features=185, out_features=128, bias=True)\n",
       "  (h2h): Linear(in_features=128, out_features=128, bias=True)\n",
       "  (i2o): Linear(in_features=185, out_features=18, bias=True)\n",
       "  (softmax): LogSoftmax(dim=1)\n",
       ")"
      ]
     },
     "execution_count": 16,
     "metadata": {},
     "output_type": "execute_result"
    }
   ],
   "source": [
    "class RNN2L(torch.nn.Module):\n",
    "    def __init__(self, input_size, hidden_size, output_size):\n",
    "        super(RNN2L, self).__init__()\n",
    "\n",
    "        self.hidden_size = hidden_size\n",
    "\n",
    "        self.i2h = torch.nn.Linear(input_size + hidden_size, hidden_size)\n",
    "        self.h2h = torch.nn.Linear(hidden_size, hidden_size)\n",
    "        self.i2o = torch.nn.Linear(input_size + hidden_size, output_size)\n",
    "        self.softmax = torch.nn.LogSoftmax(dim=1)\n",
    "\n",
    "    def forward(self, input_data, hidden):\n",
    "        combined = torch.cat((input_data, hidden), 1)\n",
    "        hidden = self.i2h(combined)\n",
    "        hidden = self.h2h(hidden)\n",
    "        output = self.i2o(combined)\n",
    "        output = self.softmax(output)\n",
    "        return output, hidden\n",
    "\n",
    "    def initHidden(self):\n",
    "        return torch.zeros(1, self.hidden_size)\n",
    "\n",
    "n_hidden = 128\n",
    "print(n_letters, n_hidden, n_categories)\n",
    "rnn = RNN2L(n_letters, n_hidden, n_categories)\n",
    "rnn"
   ]
  },
  {
   "cell_type": "code",
   "execution_count": 17,
   "metadata": {},
   "outputs": [
    {
     "name": "stdout",
     "output_type": "stream",
     "text": [
      "5000 5% (0m 5s) 2.9155 Ross / Greek ✗ (Scottish)\n",
      "10000 10% (0m 10s) 2.2446 O'Mahony / Irish ✓\n",
      "15000 15% (0m 15s) 1.7899 Cardona / Japanese ✗ (Spanish)\n",
      "20000 20% (0m 20s) 1.4429 Noguerra / Spanish ✓\n",
      "25000 25% (0m 25s) 2.2134 Kerrison / Russian ✗ (English)\n",
      "30000 30% (0m 30s) 0.6265 Shin / Korean ✓\n",
      "35000 35% (0m 35s) 0.2768 Ontikov / Russian ✓\n",
      "40000 40% (0m 40s) 2.2645 Arechavaleta / Czech ✗ (Spanish)\n",
      "45000 45% (0m 45s) 2.0724 Siekert / Dutch ✗ (German)\n",
      "50000 50% (0m 50s) 0.4179 Sniegowski / Polish ✓\n",
      "55000 55% (0m 55s) 1.5898 Phocas / Greek ✓\n",
      "60000 60% (1m 0s) 2.9173 Aloia / Arabic ✗ (Italian)\n",
      "65000 65% (1m 5s) 3.5338 Swain / Korean ✗ (English)\n",
      "70000 70% (1m 10s) 2.1645 Velsh / Italian ✗ (Russian)\n",
      "75000 75% (1m 16s) 0.6012 Turmilov / Russian ✓\n",
      "80000 80% (1m 21s) 1.8477 Keefe / Dutch ✗ (English)\n",
      "85000 85% (1m 26s) 0.6787 Iturburua / Spanish ✓\n",
      "90000 90% (1m 31s) 3.5366 Munro / Spanish ✗ (Scottish)\n",
      "95000 95% (1m 36s) 0.1709 Zhivotovsky / Russian ✓\n",
      "100000 100% (1m 41s) 2.0924 Bonomo / Japanese ✗ (Italian)\n"
     ]
    },
    {
     "data": {
      "text/plain": [
       "[<matplotlib.lines.Line2D at 0x7fd838d0e0d0>]"
      ]
     },
     "execution_count": 17,
     "metadata": {},
     "output_type": "execute_result"
    },
    {
     "data": {
      "image/png": "[encoded data removed]",
      "text/plain": [
       "<Figure size 432x288 with 1 Axes>"
      ]
     },
     "metadata": {
      "needs_background": "light"
     },
     "output_type": "display_data"
    }
   ],
   "source": [
    "n_iters = 100000\n",
    "print_every = 5000\n",
    "plot_every = 1000\n",
    "\n",
    "\n",
    "\n",
    "# Keep track of losses for plotting\n",
    "current_loss = 0\n",
    "all_losses = []\n",
    "\n",
    "def timeSince(since):\n",
    "    now = time.time()\n",
    "    s = now - since\n",
    "    m = math.floor(s / 60)\n",
    "    s -= m * 60\n",
    "    return '%dm %ds' % (m, s)\n",
    "\n",
    "start = time.time()\n",
    "\n",
    "for iter in range(1, n_iters + 1):\n",
    "    category, line, category_tensor, line_tensor = randomTrainingExample()\n",
    "    output, loss = train(category_tensor, line_tensor)\n",
    "    current_loss += loss\n",
    "\n",
    "    # Print iter number, loss, name and guess\n",
    "    if iter % print_every == 0:\n",
    "        guess, guess_i = categoryFromOutput(output)\n",
    "        correct = '✓' if guess == category else '✗ (%s)' % category\n",
    "        print('%d %d%% (%s) %.4f %s / %s %s' % (iter, iter / n_iters * 100, timeSince(start), loss, line, guess, correct))\n",
    "\n",
    "    # Add current loss avg to list of losses\n",
    "    if iter % plot_every == 0:\n",
    "        all_losses.append(current_loss / plot_every)\n",
    "        current_loss = 0\n",
    "        \n",
    "        \n",
    "import matplotlib.pyplot as plt\n",
    "import matplotlib.ticker as ticker\n",
    "\n",
    "plt.figure()\n",
    "plt.plot(all_losses)        \n",
    "        "
   ]
  },
  {
   "cell_type": "code",
   "execution_count": 18,
   "metadata": {},
   "outputs": [
    {
     "name": "stderr",
     "output_type": "stream",
     "text": [
      "/var/folders/kd/_1v8y25532s15fst0bgq8gvh0000gn/T/ipykernel_26680/3441438691.py:33: UserWarning: FixedFormatter should only be used together with FixedLocator\n",
      "  ax.set_xticklabels([''] + all_categories, rotation=90)\n",
      "/var/folders/kd/_1v8y25532s15fst0bgq8gvh0000gn/T/ipykernel_26680/3441438691.py:34: UserWarning: FixedFormatter should only be used together with FixedLocator\n",
      "  ax.set_yticklabels([''] + all_categories)\n"
     ]
    },
    {
     "data": {
      "image/png": "[encoded data removed]",
      "text/plain": [
       "<Figure size 432x288 with 2 Axes>"
      ]
     },
     "metadata": {
      "needs_background": "light"
     },
     "output_type": "display_data"
    },
    {
     "name": "stdout",
     "output_type": "stream",
     "text": [
      "\n",
      "> Sanga\n",
      "(-1.51) Spanish\n",
      "(-1.80) Arabic\n",
      "(-1.85) Czech\n",
      "(-1.90) Portuguese\n",
      "(-2.55) Polish\n",
      "\n",
      "> Yozef\n",
      "(-1.13) Arabic\n",
      "(-1.31) Polish\n",
      "(-2.35) Portuguese\n",
      "(-2.35) Dutch\n",
      "(-3.03) Czech\n",
      "\n",
      "> Hendrik\n",
      "(-0.87) Polish\n",
      "(-1.30) Czech\n",
      "(-2.98) Dutch\n",
      "(-3.07) Spanish\n",
      "(-3.29) Portuguese\n",
      "\n",
      "> Bambang\n",
      "(-1.56) English\n",
      "(-2.04) German\n",
      "(-2.19) Dutch\n",
      "(-2.55) Polish\n",
      "(-2.84) Irish\n"
     ]
    }
   ],
   "source": [
    "# Keep track of correct guesses in a confusion matrix\n",
    "confusion = torch.zeros(n_categories, n_categories)\n",
    "n_confusion = 10000\n",
    "\n",
    "# Just return an output given a line\n",
    "def evaluate(line_tensor):\n",
    "    hidden = rnn.initHidden()\n",
    "\n",
    "    for i in range(line_tensor.size()[0]):\n",
    "        output, hidden = rnn(line_tensor[i], hidden)\n",
    "\n",
    "    return output\n",
    "\n",
    "# Go through a bunch of examples and record which are correctly guessed\n",
    "for i in range(n_confusion):\n",
    "    category, line, category_tensor, line_tensor = randomTrainingExample()\n",
    "    output = evaluate(line_tensor)\n",
    "    guess, guess_i = categoryFromOutput(output)\n",
    "    category_i = all_categories.index(category)\n",
    "    confusion[category_i][guess_i] += 1\n",
    "\n",
    "# Normalize by dividing every row by its sum\n",
    "for i in range(n_categories):\n",
    "    confusion[i] = confusion[i] / confusion[i].sum()\n",
    "\n",
    "# Set up plot\n",
    "fig = plt.figure()\n",
    "ax = fig.add_subplot(111)\n",
    "cax = ax.matshow(confusion.numpy())\n",
    "fig.colorbar(cax)\n",
    "\n",
    "# Set up axes\n",
    "ax.set_xticklabels([''] + all_categories, rotation=90)\n",
    "ax.set_yticklabels([''] + all_categories)\n",
    "\n",
    "# Force label at every tick\n",
    "ax.xaxis.set_major_locator(ticker.MultipleLocator(1))\n",
    "ax.yaxis.set_major_locator(ticker.MultipleLocator(1))\n",
    "\n",
    "# sphinx_gallery_thumbnail_number = 2\n",
    "plt.show()\n",
    "\n",
    "def predict(input_line, n_predictions=5):\n",
    "    print('\\n> %s' % input_line)\n",
    "    with torch.no_grad():\n",
    "        output = evaluate(lineToTensor(input_line))\n",
    "\n",
    "        # Get top N categories\n",
    "        topv, topi = output.topk(n_predictions, 1, True)\n",
    "        predictions = []\n",
    "\n",
    "        for i in range(n_predictions):\n",
    "            value = topv[0][i].item()\n",
    "            category_index = topi[0][i].item()\n",
    "            print('(%.2f) %s' % (value, all_categories[category_index]))\n",
    "            predictions.append([value, all_categories[category_index]])\n",
    "\n",
    "predict('Sanga')\n",
    "predict('Yozef')\n",
    "predict('Hendrik')\n",
    "predict('Bambang')\n"
   ]
  },
  {
   "cell_type": "markdown",
   "metadata": {},
   "source": [
    "### 3 hidden layers"
   ]
  },
  {
   "cell_type": "code",
   "execution_count": 19,
   "metadata": {},
   "outputs": [
    {
     "name": "stdout",
     "output_type": "stream",
     "text": [
      "57 128 18\n"
     ]
    },
    {
     "data": {
      "text/plain": [
       "RNN3L(\n",
       "  (i2h): Linear(in_features=185, out_features=128, bias=True)\n",
       "  (h2h): Linear(in_features=128, out_features=128, bias=True)\n",
       "  (h2hh): Linear(in_features=128, out_features=128, bias=True)\n",
       "  (i2o): Linear(in_features=185, out_features=18, bias=True)\n",
       "  (softmax): LogSoftmax(dim=1)\n",
       ")"
      ]
     },
     "execution_count": 19,
     "metadata": {},
     "output_type": "execute_result"
    }
   ],
   "source": [
    "class RNN3L(torch.nn.Module):\n",
    "    def __init__(self, input_size, hidden_size, output_size):\n",
    "        super(RNN3L, self).__init__()\n",
    "\n",
    "        self.hidden_size = hidden_size\n",
    "\n",
    "        self.i2h = torch.nn.Linear(input_size + hidden_size, hidden_size)\n",
    "        self.h2h = torch.nn.Linear(hidden_size, hidden_size)\n",
    "        self.h2hh = torch.nn.Linear(hidden_size, hidden_size)\n",
    "        self.i2o = torch.nn.Linear(input_size + hidden_size, output_size)\n",
    "        self.softmax = torch.nn.LogSoftmax(dim=1)\n",
    "\n",
    "    def forward(self, input_data, hidden):\n",
    "        combined = torch.cat((input_data, hidden), 1)\n",
    "        hidden = self.i2h(combined)\n",
    "        hidden = self.h2h(hidden)\n",
    "        hidden = self.h2hh(hidden)\n",
    "        output = self.i2o(combined)\n",
    "        output = self.softmax(output)\n",
    "        return output, hidden\n",
    "\n",
    "    def initHidden(self):\n",
    "        return torch.zeros(1, self.hidden_size)\n",
    "\n",
    "n_hidden = 128\n",
    "print(n_letters, n_hidden, n_categories)\n",
    "rnn = RNN3L(n_letters, n_hidden, n_categories)\n",
    "rnn"
   ]
  },
  {
   "cell_type": "code",
   "execution_count": 20,
   "metadata": {},
   "outputs": [
    {
     "name": "stdout",
     "output_type": "stream",
     "text": [
      "5000 5% (0m 6s) 2.7057 Ilett / French ✗ (English)\n",
      "10000 10% (0m 13s) 2.6227 Vargas / Greek ✗ (Portuguese)\n",
      "15000 15% (0m 19s) 3.4291 Bohm / Vietnamese ✗ (German)\n",
      "20000 20% (0m 26s) 1.5277 Sai / Chinese ✗ (Vietnamese)\n",
      "25000 25% (0m 32s) 1.9821 Kusak / Polish ✗ (Czech)\n",
      "30000 30% (0m 39s) 1.0936 Zang / Chinese ✓\n",
      "35000 35% (0m 46s) 2.1108 Elehin / Irish ✗ (Russian)\n",
      "40000 40% (0m 52s) 1.4752 Minkovich / Russian ✓\n",
      "45000 45% (0m 59s) 0.2877 Ichisada / Japanese ✓\n",
      "50000 50% (1m 5s) 2.9908 Han / Chinese ✗ (Korean)\n",
      "55000 55% (1m 12s) 1.5309 Sierra / Portuguese ✗ (Spanish)\n",
      "60000 60% (1m 19s) 2.3089 Plank / Italian ✗ (German)\n",
      "65000 65% (1m 25s) 0.5426 an / Vietnamese ✓\n",
      "70000 70% (1m 32s) 1.6233 Ackary / English ✓\n",
      "75000 75% (1m 38s) 7.7594 Tsoumada / Japanese ✗ (Greek)\n",
      "80000 80% (1m 45s) 1.0603 Paitakes / Greek ✓\n",
      "85000 85% (1m 51s) 1.1949 Faolan / Irish ✓\n",
      "90000 90% (1m 58s) 0.7332 Yun / Chinese ✓\n",
      "95000 95% (2m 5s) 1.3818 Nunes / Portuguese ✓\n",
      "100000 100% (2m 11s) 0.3411 Millar / Scottish ✓\n"
     ]
    },
    {
     "data": {
      "text/plain": [
       "[<matplotlib.lines.Line2D at 0x7fd80809f6d0>]"
      ]
     },
     "execution_count": 20,
     "metadata": {},
     "output_type": "execute_result"
    },
    {
     "data": {
      "image/png": "[encoded data removed]",
      "text/plain": [
       "<Figure size 432x288 with 1 Axes>"
      ]
     },
     "metadata": {
      "needs_background": "light"
     },
     "output_type": "display_data"
    }
   ],
   "source": [
    "n_iters = 100000\n",
    "print_every = 5000\n",
    "plot_every = 1000\n",
    "\n",
    "\n",
    "\n",
    "# Keep track of losses for plotting\n",
    "current_loss = 0\n",
    "all_losses = []\n",
    "\n",
    "def timeSince(since):\n",
    "    now = time.time()\n",
    "    s = now - since\n",
    "    m = math.floor(s / 60)\n",
    "    s -= m * 60\n",
    "    return '%dm %ds' % (m, s)\n",
    "\n",
    "start = time.time()\n",
    "\n",
    "for iter in range(1, n_iters + 1):\n",
    "    category, line, category_tensor, line_tensor = randomTrainingExample()\n",
    "    output, loss = train(category_tensor, line_tensor)\n",
    "    current_loss += loss\n",
    "\n",
    "    # Print iter number, loss, name and guess\n",
    "    if iter % print_every == 0:\n",
    "        guess, guess_i = categoryFromOutput(output)\n",
    "        correct = '✓' if guess == category else '✗ (%s)' % category\n",
    "        print('%d %d%% (%s) %.4f %s / %s %s' % (iter, iter / n_iters * 100, timeSince(start), loss, line, guess, correct))\n",
    "\n",
    "    # Add current loss avg to list of losses\n",
    "    if iter % plot_every == 0:\n",
    "        all_losses.append(current_loss / plot_every)\n",
    "        current_loss = 0\n",
    "        \n",
    "        \n",
    "import matplotlib.pyplot as plt\n",
    "import matplotlib.ticker as ticker\n",
    "\n",
    "plt.figure()\n",
    "plt.plot(all_losses)        \n",
    "        "
   ]
  },
  {
   "cell_type": "code",
   "execution_count": 21,
   "metadata": {},
   "outputs": [
    {
     "name": "stderr",
     "output_type": "stream",
     "text": [
      "/var/folders/kd/_1v8y25532s15fst0bgq8gvh0000gn/T/ipykernel_26680/3441438691.py:33: UserWarning: FixedFormatter should only be used together with FixedLocator\n",
      "  ax.set_xticklabels([''] + all_categories, rotation=90)\n",
      "/var/folders/kd/_1v8y25532s15fst0bgq8gvh0000gn/T/ipykernel_26680/3441438691.py:34: UserWarning: FixedFormatter should only be used together with FixedLocator\n",
      "  ax.set_yticklabels([''] + all_categories)\n"
     ]
    },
    {
     "data": {
      "image/png": "[encoded data removed]",
      "text/plain": [
       "<Figure size 432x288 with 2 Axes>"
      ]
     },
     "metadata": {
      "needs_background": "light"
     },
     "output_type": "display_data"
    },
    {
     "name": "stdout",
     "output_type": "stream",
     "text": [
      "\n",
      "> Sanga\n",
      "(-1.41) Czech\n",
      "(-1.70) Japanese\n",
      "(-1.82) Spanish\n",
      "(-2.06) Arabic\n",
      "(-2.25) Portuguese\n",
      "\n",
      "> Yozef\n",
      "(-1.24) Arabic\n",
      "(-1.91) Czech\n",
      "(-2.06) German\n",
      "(-2.39) Polish\n",
      "(-2.61) English\n",
      "\n",
      "> Hendrik\n",
      "(-1.00) Czech\n",
      "(-1.52) Polish\n",
      "(-2.73) Scottish\n",
      "(-2.79) Russian\n",
      "(-2.84) English\n",
      "\n",
      "> Bambang\n",
      "(-1.21) Vietnamese\n",
      "(-2.10) German\n",
      "(-2.24) French\n",
      "(-2.25) Irish\n",
      "(-2.73) Dutch\n"
     ]
    }
   ],
   "source": [
    "# Keep track of correct guesses in a confusion matrix\n",
    "confusion = torch.zeros(n_categories, n_categories)\n",
    "n_confusion = 10000\n",
    "\n",
    "# Just return an output given a line\n",
    "def evaluate(line_tensor):\n",
    "    hidden = rnn.initHidden()\n",
    "\n",
    "    for i in range(line_tensor.size()[0]):\n",
    "        output, hidden = rnn(line_tensor[i], hidden)\n",
    "\n",
    "    return output\n",
    "\n",
    "# Go through a bunch of examples and record which are correctly guessed\n",
    "for i in range(n_confusion):\n",
    "    category, line, category_tensor, line_tensor = randomTrainingExample()\n",
    "    output = evaluate(line_tensor)\n",
    "    guess, guess_i = categoryFromOutput(output)\n",
    "    category_i = all_categories.index(category)\n",
    "    confusion[category_i][guess_i] += 1\n",
    "\n",
    "# Normalize by dividing every row by its sum\n",
    "for i in range(n_categories):\n",
    "    confusion[i] = confusion[i] / confusion[i].sum()\n",
    "\n",
    "# Set up plot\n",
    "fig = plt.figure()\n",
    "ax = fig.add_subplot(111)\n",
    "cax = ax.matshow(confusion.numpy())\n",
    "fig.colorbar(cax)\n",
    "\n",
    "# Set up axes\n",
    "ax.set_xticklabels([''] + all_categories, rotation=90)\n",
    "ax.set_yticklabels([''] + all_categories)\n",
    "\n",
    "# Force label at every tick\n",
    "ax.xaxis.set_major_locator(ticker.MultipleLocator(1))\n",
    "ax.yaxis.set_major_locator(ticker.MultipleLocator(1))\n",
    "\n",
    "# sphinx_gallery_thumbnail_number = 2\n",
    "plt.show()\n",
    "\n",
    "def predict(input_line, n_predictions=5):\n",
    "    print('\\n> %s' % input_line)\n",
    "    with torch.no_grad():\n",
    "        output = evaluate(lineToTensor(input_line))\n",
    "\n",
    "        # Get top N categories\n",
    "        topv, topi = output.topk(n_predictions, 1, True)\n",
    "        predictions = []\n",
    "\n",
    "        for i in range(n_predictions):\n",
    "            value = topv[0][i].item()\n",
    "            category_index = topi[0][i].item()\n",
    "            print('(%.2f) %s' % (value, all_categories[category_index]))\n",
    "            predictions.append([value, all_categories[category_index]])\n",
    "\n",
    "predict('Sanga')\n",
    "predict('Yozef')\n",
    "predict('Hendrik')\n",
    "predict('Bambang')\n"
   ]
  },
  {
   "cell_type": "code",
   "execution_count": null,
   "metadata": {},
   "outputs": [],
   "source": []
  }
 ],
 "metadata": {
  "kernelspec": {
   "display_name": "Python 3 (ipykernel)",
   "language": "python",
   "name": "python3"
  },
  "language_info": {
   "codemirror_mode": {
    "name": "ipython",
    "version": 3
   },
   "file_extension": ".py",
   "mimetype": "text/x-python",
   "name": "python",
   "nbconvert_exporter": "python",
   "pygments_lexer": "ipython3",
   "version": "3.9.7"
  }
 },
 "nbformat": 4,
 "nbformat_minor": 1
}
