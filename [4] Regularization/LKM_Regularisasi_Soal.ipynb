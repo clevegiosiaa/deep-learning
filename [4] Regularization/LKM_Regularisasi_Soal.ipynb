{
 "cells": [
  {
   "cell_type": "markdown",
   "metadata": {},
   "source": [
    "Regularisasi Neural Network\n",
    "===================\n",
    "\n",
    "Neural networks terdiri dari lapisan (layers) dan modul (modules) yang beroperasi pada data.\n",
    "Semua keterangan mengenai bagian penyusunnya dapat dibaca di torch.nn https://pytorch.org/docs/stable/nn.html  \n",
    "Sebuah neural network adalah sebuah modul yang terdiri dari modul-modul lainnya (layers). Struktur berlapis ini dipakai untuk memudahkan manajemen arsitektur kompleks\n",
    "\n",
    "Di bagian ini, kita akan menciptakan neural network untuk klasifikasi gambar pada dataset FashionMNIST.\n",
    "\n",
    "\n"
   ]
  },
  {
   "cell_type": "code",
   "execution_count": 1,
   "metadata": {},
   "outputs": [],
   "source": [
    "import os\n",
    "import torch\n",
    "from torch import nn\n",
    "from torch.utils.data import DataLoader\n",
    "#import torchvision\n",
    "#from torchvision import datasets, transforms"
   ]
  },
  {
   "cell_type": "markdown",
   "metadata": {},
   "source": [
    "Memilih Perangkat untuk Training\n",
    "-----------------------\n",
    "Kita akan melatih model pada perangkat akselerasi seperti GPU (jika tersedia)\n",
    "`torch.cuda <https://pytorch.org/docs/stable/notes/cuda.html>`, \n",
    "Jika tidak tersedia kita akan melanjutkan dengan menggunakan CPU.\n",
    "\n"
   ]
  },
  {
   "cell_type": "code",
   "execution_count": 2,
   "metadata": {},
   "outputs": [
    {
     "name": "stdout",
     "output_type": "stream",
     "text": [
      "Gunakan perangkat cpu\n"
     ]
    }
   ],
   "source": [
    "device = 'cuda' if torch.cuda.is_available() else 'cpu'\n",
    "print(f'Gunakan perangkat {device}')"
   ]
  },
  {
   "cell_type": "markdown",
   "metadata": {},
   "source": [
    "Definisikan Kelas\n",
    "-------------------------\n",
    "Kita mendefinisikan neural network melalui ``nn.Module``, dan menginisiasi lapisan neural network di ``__init__``. Setiap ``nn.Module`` mengimplementasikan operasi pada input melalui metode ``forward``\n",
    "\n"
   ]
  },
  {
   "cell_type": "code",
   "execution_count": 3,
   "metadata": {},
   "outputs": [],
   "source": [
    "class NeuralNetwork(nn.Module):\n",
    "    def __init__(self):\n",
    "        super(NeuralNetwork, self).__init__()\n",
    "        self.flatten = nn.Flatten()\n",
    "        self.linear_relu_stack = nn.Sequential(\n",
    "            nn.Linear(28*28, 512),\n",
    "            nn.ReLU(),\n",
    "            nn.Linear(512, 512),\n",
    "            nn.ReLU(),\n",
    "            nn.Linear(512, 3),\n",
    "        )\n",
    "\n",
    "    def forward(self, x):\n",
    "        x = self.flatten(x)\n",
    "        logits = self.linear_relu_stack(x)\n",
    "        pred_probab = nn.Softmax(dim=1)(logits)\n",
    "        return pred_probab"
   ]
  },
  {
   "cell_type": "markdown",
   "metadata": {},
   "source": [
    "Ciptakan sebuah salinan (instance) dari ``NeuralNetwork``, dan pindahkan menuju ``device``, dan tampilkan strukturnya.\n",
    "\n"
   ]
  },
  {
   "cell_type": "code",
   "execution_count": 4,
   "metadata": {},
   "outputs": [
    {
     "name": "stdout",
     "output_type": "stream",
     "text": [
      "NeuralNetwork(\n",
      "  (flatten): Flatten(start_dim=1, end_dim=-1)\n",
      "  (linear_relu_stack): Sequential(\n",
      "    (0): Linear(in_features=784, out_features=512, bias=True)\n",
      "    (1): ReLU()\n",
      "    (2): Linear(in_features=512, out_features=512, bias=True)\n",
      "    (3): ReLU()\n",
      "    (4): Linear(in_features=512, out_features=3, bias=True)\n",
      "  )\n",
      ")\n"
     ]
    }
   ],
   "source": [
    "model = NeuralNetwork().to(device)\n",
    "print(model)"
   ]
  },
  {
   "cell_type": "markdown",
   "metadata": {},
   "source": [
    "Untuk menggunakan model, kita memasukan inputnya. Ini mengeksekusi ``forward``,\n",
    "bersama `background operations <https://github.com/pytorch/pytorch/blob/270111b7b611d174967ed204776985cefca9c144/torch/nn/modules/module.py#L866>`_.\n",
    "Jangan memanggil ``model.forward()`` secara langsung!\n",
    "\n",
    "Memanggil model pada input menghasilkan tensor 10 dimensi dengan nilai prediksi untuk setiap kelas.\n",
    "Kita mendapatkan peluang prediksi dengan memasukannya melalui salinan (instance) dari modul ``nn.Softmax``.\n",
    "\n"
   ]
  },
  {
   "cell_type": "code",
   "execution_count": 5,
   "metadata": {},
   "outputs": [
    {
     "name": "stdout",
     "output_type": "stream",
     "text": [
      "Prediksi: tensor([0])\n"
     ]
    }
   ],
   "source": [
    "X = torch.rand(1, 28, 28, device=device)\n",
    "#print(X)\n",
    "pred_probab = model(X)\n",
    "#print(pred_probab)\n",
    "y_pred = pred_probab.argmax(1)\n",
    "print(f\"Prediksi: {y_pred}\")"
   ]
  },
  {
   "cell_type": "markdown",
   "metadata": {},
   "source": [
    "--------------\n",
    "\n",
    "\n"
   ]
  },
  {
   "cell_type": "markdown",
   "metadata": {},
   "source": [
    "Lapisan Model\n",
    "-------------------------\n",
    "\n",
    "Mari memecah lapisan-lapisan pada model. Untuk ilustrasi, kita coba ambil sampel minibatch dari 3 gambar dengan ukuran 28x28 dan lihat apa yang terjadi ketika kita memasukannya melalui network.\n"
   ]
  },
  {
   "cell_type": "code",
   "execution_count": 6,
   "metadata": {},
   "outputs": [
    {
     "name": "stdout",
     "output_type": "stream",
     "text": [
      "tensor([[[0.1531, 0.2855, 0.7702,  ..., 0.6326, 0.8735, 0.7878],\n",
      "         [0.4178, 0.6152, 0.1048,  ..., 0.4406, 0.6475, 0.2187],\n",
      "         [0.9894, 0.0799, 0.2238,  ..., 0.9074, 0.5162, 0.3013],\n",
      "         ...,\n",
      "         [0.4256, 0.8297, 0.2248,  ..., 0.2739, 0.0452, 0.3350],\n",
      "         [0.5895, 0.4812, 0.1721,  ..., 0.2757, 0.4930, 0.3120],\n",
      "         [0.4926, 0.5791, 0.3246,  ..., 0.6514, 0.5531, 0.1134]],\n",
      "\n",
      "        [[0.4648, 0.5120, 0.3907,  ..., 0.4417, 0.0665, 0.6956],\n",
      "         [0.5481, 0.7326, 0.1929,  ..., 0.6140, 0.9157, 0.3622],\n",
      "         [0.8025, 0.7279, 0.5637,  ..., 0.2640, 0.2509, 0.8669],\n",
      "         ...,\n",
      "         [0.9148, 0.4503, 0.0397,  ..., 0.9956, 0.2210, 0.9156],\n",
      "         [0.0508, 0.7178, 0.9369,  ..., 0.1024, 0.5136, 0.9576],\n",
      "         [0.2106, 0.0498, 0.0645,  ..., 0.3555, 0.9201, 0.3951]],\n",
      "\n",
      "        [[0.7249, 0.1341, 0.3573,  ..., 0.0501, 0.6210, 0.1959],\n",
      "         [0.0017, 0.1328, 0.6244,  ..., 0.9024, 0.4819, 0.8742],\n",
      "         [0.7175, 0.5834, 0.5293,  ..., 0.1162, 0.2943, 0.2329],\n",
      "         ...,\n",
      "         [0.2790, 0.2589, 0.8921,  ..., 0.9300, 0.4195, 0.1303],\n",
      "         [0.2070, 0.6879, 0.3172,  ..., 0.4637, 0.0812, 0.4294],\n",
      "         [0.4411, 0.9501, 0.5499,  ..., 0.7675, 0.1801, 0.3666]]])\n",
      "torch.Size([3, 28, 28])\n"
     ]
    }
   ],
   "source": [
    "input_image = torch.rand(3,28,28)\n",
    "print(input_image)\n",
    "print(input_image.size())"
   ]
  },
  {
   "cell_type": "markdown",
   "metadata": {},
   "source": [
    "Perataan (Flatten)\n",
    "---------------\n",
    "\n",
    "Kita menginisasi lapisan perataan `nn.Flatten  <https://pytorch.org/docs/stable/generated/torch.nn.Flatten.html>`_\n",
    "untuk mengubah setiap gambar 2D 28x28 menjadi vektor 784 pixel.\n",
    "\n"
   ]
  },
  {
   "cell_type": "code",
   "execution_count": 7,
   "metadata": {},
   "outputs": [
    {
     "name": "stdout",
     "output_type": "stream",
     "text": [
      "torch.Size([3, 784])\n"
     ]
    }
   ],
   "source": [
    "flatten = nn.Flatten()\n",
    "flat_image = flatten(input_image)\n",
    "print(flat_image.size())"
   ]
  },
  {
   "cell_type": "markdown",
   "metadata": {},
   "source": [
    "Transformasi Linear\n",
    "-----------\n",
    "\n",
    "Lapisan linear `<https://pytorch.org/docs/stable/generated/torch.nn.Linear.html>`_\n",
    "adalah modul yang mengerjakan transformasi linear pada input dengan menggunakan bobot yang sudah disimpan \n",
    "\n",
    "\n"
   ]
  },
  {
   "cell_type": "code",
   "execution_count": 8,
   "metadata": {},
   "outputs": [
    {
     "name": "stdout",
     "output_type": "stream",
     "text": [
      "torch.Size([3, 20])\n"
     ]
    }
   ],
   "source": [
    "layer1 = nn.Linear(in_features=28*28, out_features=20)\n",
    "hidden1 = layer1(flat_image)\n",
    "print(hidden1.size())"
   ]
  },
  {
   "cell_type": "markdown",
   "metadata": {},
   "source": [
    "Fungsi Aktivasi\n",
    "----------\n",
    "Aktivasi non-linear akan membuat map kompleks dari input menuju output.\n",
    "Non-linearitas akan membantu neural network belajar beragam variasi fenomena.\n",
    "\n",
    "Pada contoh kali ini, kita hanya menggunakan `nn.ReLU <https://pytorch.org/docs/stable/generated/torch.nn.ReLU.html>`_ \n",
    "diantara lapisan linear, tapi terdapat bentuk aktivasi non-linear lain.\n",
    "\n"
   ]
  },
  {
   "cell_type": "code",
   "execution_count": 9,
   "metadata": {},
   "outputs": [
    {
     "name": "stdout",
     "output_type": "stream",
     "text": [
      "Before ReLU: tensor([[-0.0758, -0.2590,  0.3230, -0.2822,  0.1056, -0.0098, -0.7790, -0.0458,\n",
      "         -0.0752, -0.1595,  0.1228, -0.2150, -0.2527,  0.4896,  0.3563, -0.2038,\n",
      "         -0.2365,  0.2779,  0.1084,  0.0410],\n",
      "        [-0.1294, -0.5230,  0.4146, -0.5938,  0.0151, -0.0617, -0.4141,  0.2802,\n",
      "         -0.0272, -0.1577, -0.0461,  0.1529, -0.1631,  0.2581,  0.3298, -0.1231,\n",
      "          0.1759,  0.2480,  0.2286, -0.2249],\n",
      "        [-0.1871, -0.2348,  0.3487, -0.4944,  0.2905, -0.2176, -0.4970,  0.0572,\n",
      "         -0.1828, -0.2577, -0.1039,  0.2189, -0.2027,  0.0802,  0.1982, -0.2044,\n",
      "         -0.2308,  0.0867,  0.3383, -0.2244]], grad_fn=<AddmmBackward0>)\n",
      "\n",
      "\n",
      "After ReLU: tensor([[0.0000, 0.0000, 0.3230, 0.0000, 0.1056, 0.0000, 0.0000, 0.0000, 0.0000,\n",
      "         0.0000, 0.1228, 0.0000, 0.0000, 0.4896, 0.3563, 0.0000, 0.0000, 0.2779,\n",
      "         0.1084, 0.0410],\n",
      "        [0.0000, 0.0000, 0.4146, 0.0000, 0.0151, 0.0000, 0.0000, 0.2802, 0.0000,\n",
      "         0.0000, 0.0000, 0.1529, 0.0000, 0.2581, 0.3298, 0.0000, 0.1759, 0.2480,\n",
      "         0.2286, 0.0000],\n",
      "        [0.0000, 0.0000, 0.3487, 0.0000, 0.2905, 0.0000, 0.0000, 0.0572, 0.0000,\n",
      "         0.0000, 0.0000, 0.2189, 0.0000, 0.0802, 0.1982, 0.0000, 0.0000, 0.0867,\n",
      "         0.3383, 0.0000]], grad_fn=<ReluBackward0>)\n"
     ]
    }
   ],
   "source": [
    "print(f\"Before ReLU: {hidden1}\\n\\n\")\n",
    "hidden1 = nn.ReLU()(hidden1)\n",
    "print(f\"After ReLU: {hidden1}\")"
   ]
  },
  {
   "cell_type": "markdown",
   "metadata": {},
   "source": [
    "Bentuk Berderet\n",
    "-------------\n",
    "\n",
    "`nn.Sequential <https://pytorch.org/docs/stable/generated/torch.nn.Sequential.html>`_ adalah sebuah modul dengan susunan deretan modul. Data diolah melalui semua modul sesuai urutan yang diberikan. \n",
    "\n"
   ]
  },
  {
   "cell_type": "code",
   "execution_count": 10,
   "metadata": {},
   "outputs": [
    {
     "data": {
      "text/plain": [
       "tensor([[-3.5595e-02, -1.1910e-01,  1.1457e-01, -5.3885e-03,  1.6439e-01,\n",
       "         -2.0026e-01, -2.2332e-01,  1.9934e-01,  1.0787e-01,  2.2607e-04],\n",
       "        [-4.6966e-03, -2.9650e-01,  9.3158e-02, -8.3247e-02,  1.1868e-01,\n",
       "         -6.0382e-02, -2.7528e-01,  2.0196e-01, -2.8890e-02, -7.3079e-02],\n",
       "        [ 9.0127e-04, -1.3898e-01,  1.4069e-01, -8.5162e-02,  1.5920e-01,\n",
       "         -5.5518e-02, -3.0799e-01,  1.2194e-01, -8.4877e-02,  7.1132e-02]],\n",
       "       grad_fn=<AddmmBackward0>)"
      ]
     },
     "execution_count": 10,
     "metadata": {},
     "output_type": "execute_result"
    }
   ],
   "source": [
    "layer2 = nn.Linear(20, 10)\n",
    "actf = nn.ReLU()\n",
    "\n",
    "seq_modules = nn.Sequential(\n",
    "    flatten,\n",
    "    layer1,\n",
    "    actf,\n",
    "    layer2\n",
    ")\n",
    "input_image = torch.rand(3,28,28)\n",
    "logits = seq_modules(input_image)\n",
    "logits"
   ]
  },
  {
   "cell_type": "markdown",
   "metadata": {},
   "source": [
    "Bentuk Tensor (Alternatif)\n",
    "-------------\n",
    "\n",
    "Neural network dapat pula disusun sesuai deretan operasi tensor dari input menuju output\n",
    "\n"
   ]
  },
  {
   "cell_type": "markdown",
   "metadata": {},
   "source": [
    "#### Soal\n",
    "Lanjutkan operasi tensor berikut untuk menghasilkan logits yang sama dengan bentuk sequential"
   ]
  },
  {
   "cell_type": "code",
   "execution_count": 11,
   "metadata": {},
   "outputs": [
    {
     "data": {
      "text/plain": [
       "tensor([[-3.5595e-02, -1.1910e-01,  1.1457e-01, -5.3885e-03,  1.6439e-01,\n",
       "         -2.0026e-01, -2.2332e-01,  1.9934e-01,  1.0787e-01,  2.2607e-04],\n",
       "        [-4.6966e-03, -2.9650e-01,  9.3158e-02, -8.3247e-02,  1.1868e-01,\n",
       "         -6.0382e-02, -2.7528e-01,  2.0196e-01, -2.8890e-02, -7.3079e-02],\n",
       "        [ 9.0127e-04, -1.3898e-01,  1.4069e-01, -8.5162e-02,  1.5920e-01,\n",
       "         -5.5518e-02, -3.0799e-01,  1.2194e-01, -8.4877e-02,  7.1132e-02]],\n",
       "       grad_fn=<AddmmBackward0>)"
      ]
     },
     "execution_count": 11,
     "metadata": {},
     "output_type": "execute_result"
    }
   ],
   "source": [
    "x = flatten(input_image)\n",
    "x = layer1(x)\n",
    "x = actf(x)\n",
    "logits = layer2(x)\n",
    "logits"
   ]
  },
  {
   "cell_type": "markdown",
   "metadata": {},
   "source": [
    "Softmax\n",
    "---------------\n",
    "\n",
    "Lapisan paling akhir pada model kita mengeluarkan `logits` - nilai diantara [-\\infty, \\infty] - sebagai input dari modul\n",
    "`nn.Softmax <https://pytorch.org/docs/stable/generated/torch.nn.Softmax.html>`_. Hasilnya adalah nilai diantara\n",
    "[0, 1] sebagai representasi peluang prediksi untuk setiap kelas. parameter ``dim`` mengindikasikan pilihan dimensi mana yang jumlahnya harus 1.\n",
    "\n"
   ]
  },
  {
   "cell_type": "code",
   "execution_count": 12,
   "metadata": {},
   "outputs": [
    {
     "data": {
      "text/plain": [
       "tensor([[0.0955, 0.0879, 0.1110, 0.0985, 0.1167, 0.0810, 0.0792, 0.1208, 0.1103,\n",
       "         0.0990],\n",
       "        [0.1025, 0.0766, 0.1131, 0.0948, 0.1160, 0.0970, 0.0782, 0.1261, 0.1001,\n",
       "         0.0957],\n",
       "        [0.1009, 0.0878, 0.1161, 0.0926, 0.1182, 0.0954, 0.0741, 0.1139, 0.0926,\n",
       "         0.1083]], grad_fn=<SoftmaxBackward0>)"
      ]
     },
     "execution_count": 12,
     "metadata": {},
     "output_type": "execute_result"
    }
   ],
   "source": [
    "softmax = nn.Softmax(dim=1)\n",
    "pred_probab = softmax(logits)\n",
    "pred_probab"
   ]
  },
  {
   "cell_type": "code",
   "execution_count": 13,
   "metadata": {},
   "outputs": [
    {
     "data": {
      "text/plain": [
       "tensor([1.0000, 1.0000, 1.0000], grad_fn=<SumBackward1>)"
      ]
     },
     "execution_count": 13,
     "metadata": {},
     "output_type": "execute_result"
    }
   ],
   "source": [
    "pred_probab.sum(axis=1)"
   ]
  },
  {
   "cell_type": "markdown",
   "metadata": {},
   "source": [
    "Dropout\n",
    "--------\n",
    "\n",
    "Regularisasi dropout dapat diimplementasi dengan menambah lapisan dropout pada bobot yang memerlukannya"
   ]
  },
  {
   "cell_type": "code",
   "execution_count": 14,
   "metadata": {},
   "outputs": [
    {
     "data": {
      "text/plain": [
       "tensor([[1.1813, 0.4659, 1.1706, 0.0000, 0.0000, 0.9312, 0.0000, 1.2363, 0.6092,\n",
       "         0.1538, 0.4643, 0.0000, 0.6819, 0.5881, 0.0000, 1.1804, 1.2009, 0.6485,\n",
       "         0.5556, 0.0000, 1.1512, 0.0000, 0.5860, 0.6422, 0.9634, 0.7559, 1.0057,\n",
       "         0.4383],\n",
       "        [0.0353, 0.8233, 0.8055, 1.0761, 1.1649, 0.8773, 0.0000, 0.7396, 1.0806,\n",
       "         0.4407, 0.1582, 0.6334, 1.2305, 0.0000, 0.0000, 0.0000, 0.0577, 0.9562,\n",
       "         0.0051, 0.8362, 0.0285, 0.5387, 0.9557, 0.9681, 1.0477, 1.0432, 1.2280,\n",
       "         0.0609],\n",
       "        [1.0821, 0.7896, 0.0020, 0.3975, 0.0442, 0.0000, 0.0000, 0.3998, 0.3701,\n",
       "         0.0000, 0.4626, 1.0894, 0.0000, 0.0000, 0.8305, 0.4782, 1.0132, 1.2162,\n",
       "         0.4754, 1.0482, 1.1440, 0.6609, 0.0000, 0.3660, 0.0000, 1.0556, 0.0000,\n",
       "         0.3384],\n",
       "        [0.7823, 0.5150, 0.2779, 0.3843, 0.0176, 1.0029, 0.0000, 0.8070, 1.0785,\n",
       "         0.0280, 1.0810, 1.1414, 0.0000, 0.7697, 0.0000, 0.3276, 0.5485, 0.0000,\n",
       "         0.8931, 0.0000, 0.2329, 0.3929, 1.0785, 1.0619, 0.3043, 1.0123, 0.1543,\n",
       "         1.2156],\n",
       "        [1.0180, 0.4773, 0.8346, 0.0000, 0.3714, 0.0000, 0.2915, 0.7903, 0.4661,\n",
       "         1.1202, 0.9017, 1.0034, 1.1864, 0.9612, 0.9058, 1.2442, 0.0000, 0.8207,\n",
       "         1.1851, 0.8953, 0.7958, 0.2549, 0.7311, 0.7016, 0.0000, 0.2504, 1.0154,\n",
       "         0.6592],\n",
       "        [0.7981, 0.5166, 0.4516, 0.1976, 1.1740, 0.7831, 0.1723, 0.3306, 0.9570,\n",
       "         0.0653, 0.2332, 0.8446, 1.1068, 0.4497, 0.9000, 0.7357, 0.0395, 1.1576,\n",
       "         1.2388, 0.2351, 0.0547, 0.0983, 0.0000, 1.1349, 0.6015, 0.2888, 0.0232,\n",
       "         0.2667],\n",
       "        [0.9074, 0.0061, 0.7867, 0.0664, 1.2427, 0.7472, 0.1214, 0.0000, 0.0000,\n",
       "         1.1987, 0.2976, 0.7395, 0.4912, 0.0000, 0.6084, 0.3936, 0.0000, 0.3147,\n",
       "         1.0469, 1.1482, 0.6647, 0.8329, 0.8430, 0.0000, 0.9215, 0.0000, 0.0000,\n",
       "         0.1875],\n",
       "        [0.8323, 0.0000, 1.1239, 1.1811, 0.8247, 0.5166, 0.5306, 0.6472, 0.7927,\n",
       "         0.4603, 0.4581, 0.1119, 0.2783, 0.8759, 0.8422, 0.0000, 0.3159, 1.1400,\n",
       "         1.1940, 0.4248, 0.6903, 0.7212, 0.3208, 0.1633, 0.0516, 0.8544, 1.1590,\n",
       "         0.0000],\n",
       "        [0.4480, 0.4744, 0.0000, 0.6363, 0.0000, 0.3392, 1.0098, 0.0000, 0.0000,\n",
       "         0.3012, 0.0374, 0.0000, 0.0000, 0.3516, 0.5030, 0.0000, 0.7039, 0.0000,\n",
       "         0.3471, 0.5168, 0.0305, 0.0000, 0.7432, 0.1456, 0.1378, 0.9419, 0.0000,\n",
       "         0.7280],\n",
       "        [0.7295, 1.1480, 1.0783, 0.0000, 0.1287, 0.0000, 1.1928, 0.5565, 1.2259,\n",
       "         0.0000, 1.2464, 1.2322, 0.2970, 0.0000, 1.1106, 1.1039, 0.4571, 0.1462,\n",
       "         0.0000, 0.5376, 0.7614, 0.0000, 0.4141, 1.1304, 0.5241, 1.2062, 0.5222,\n",
       "         1.2337],\n",
       "        [0.1568, 0.0786, 0.3623, 0.3702, 0.3108, 0.0712, 0.9052, 0.3028, 0.6003,\n",
       "         0.8345, 0.3417, 0.0000, 0.0000, 1.0936, 0.3294, 0.8180, 0.8890, 0.0931,\n",
       "         0.4690, 0.1358, 0.0000, 0.8835, 0.2580, 0.9904, 0.0000, 1.1614, 0.3140,\n",
       "         0.8059],\n",
       "        [0.6259, 0.0654, 0.4114, 0.0000, 0.1640, 0.4701, 0.8919, 0.4326, 1.1467,\n",
       "         0.1786, 0.5036, 0.8873, 0.9110, 0.1419, 0.8391, 0.3857, 0.0727, 0.0000,\n",
       "         0.2544, 0.0000, 0.0000, 0.7987, 1.0811, 0.0000, 1.1617, 0.0000, 0.0899,\n",
       "         0.0000],\n",
       "        [0.7710, 0.0000, 1.1578, 0.5578, 0.3498, 0.8091, 0.3002, 0.0773, 0.4320,\n",
       "         0.6862, 0.0000, 0.6797, 0.0000, 0.8649, 0.0562, 0.8832, 0.5077, 0.7972,\n",
       "         1.2237, 0.0947, 0.9878, 0.7903, 0.1296, 0.5649, 0.6749, 0.9757, 0.4952,\n",
       "         0.6929],\n",
       "        [0.7827, 0.0000, 0.8483, 1.2377, 0.4615, 0.3313, 0.5260, 0.0000, 0.0000,\n",
       "         0.2073, 0.9740, 0.4385, 0.0805, 0.0000, 0.0786, 0.3307, 1.2058, 0.1119,\n",
       "         0.0000, 0.1203, 0.6895, 0.7779, 0.5705, 0.6638, 0.3449, 0.1439, 1.2395,\n",
       "         0.8096],\n",
       "        [1.0718, 0.7683, 0.3501, 0.7899, 0.0000, 0.6185, 0.6869, 0.6737, 1.1523,\n",
       "         0.0000, 0.0000, 1.0412, 0.6963, 0.0000, 0.2719, 1.0033, 0.6344, 0.0000,\n",
       "         0.7256, 1.2410, 0.3793, 0.7769, 0.0000, 0.5825, 0.7436, 1.1621, 0.1981,\n",
       "         0.2492],\n",
       "        [0.8411, 0.3402, 0.5064, 0.0000, 0.8305, 0.7802, 0.0000, 0.0000, 0.2966,\n",
       "         1.0365, 0.0000, 0.2269, 1.0144, 0.3789, 0.7012, 0.4051, 0.9894, 1.0560,\n",
       "         0.8764, 0.0000, 1.2033, 0.0000, 0.7870, 0.5792, 0.2115, 0.8591, 0.9885,\n",
       "         0.0000],\n",
       "        [0.2228, 0.4192, 0.7586, 0.0000, 0.8368, 0.4900, 0.9883, 1.1549, 0.5183,\n",
       "         0.0000, 0.3174, 0.2116, 0.3420, 0.8832, 0.9037, 0.7827, 0.4873, 0.0000,\n",
       "         1.1413, 0.4944, 0.9082, 0.9865, 0.4005, 0.0148, 1.1759, 0.3590, 0.6217,\n",
       "         0.7564],\n",
       "        [0.8975, 0.2475, 0.6166, 0.0000, 0.3776, 0.1749, 0.0000, 0.0353, 0.7418,\n",
       "         0.0000, 0.1312, 0.0000, 0.6334, 0.1672, 0.4144, 1.0567, 0.7101, 0.1793,\n",
       "         1.1518, 0.8269, 1.2112, 1.2151, 0.0000, 0.2949, 0.3937, 1.1501, 1.2457,\n",
       "         0.4822],\n",
       "        [1.0438, 1.0968, 0.4451, 0.0000, 0.0000, 0.4644, 0.9636, 0.0000, 0.1764,\n",
       "         0.8643, 0.2551, 0.4816, 0.0000, 1.1346, 0.0000, 1.0436, 0.0000, 0.3958,\n",
       "         0.1155, 0.8449, 0.6966, 0.0000, 1.0064, 0.5639, 0.6785, 0.3902, 0.1382,\n",
       "         0.6580],\n",
       "        [0.1618, 0.4912, 0.4691, 0.1224, 0.5829, 0.1551, 0.4249, 0.0000, 1.2282,\n",
       "         0.7512, 0.0701, 0.4786, 0.6099, 0.8745, 0.2152, 0.7609, 0.4019, 0.1801,\n",
       "         0.0000, 0.8153, 0.5827, 1.1762, 0.2621, 0.9048, 0.5159, 0.3592, 0.5351,\n",
       "         0.7172],\n",
       "        [0.1452, 0.3700, 0.4005, 0.3561, 0.5627, 0.4527, 1.1364, 0.0000, 0.8319,\n",
       "         1.1176, 0.7935, 1.2403, 0.0388, 0.4589, 0.5904, 1.2425, 0.5631, 0.7856,\n",
       "         0.1554, 0.7481, 0.2776, 1.2208, 0.8476, 0.6601, 0.3045, 0.0000, 0.2738,\n",
       "         0.0000],\n",
       "        [1.0433, 0.0779, 1.1994, 0.5892, 0.7357, 0.3423, 0.0000, 0.1636, 0.0000,\n",
       "         0.0000, 0.0000, 0.3332, 0.6556, 0.0000, 0.9140, 1.0964, 0.1651, 0.5890,\n",
       "         0.5460, 0.8046, 0.0000, 0.7181, 1.0766, 0.0544, 1.0151, 1.1193, 1.2079,\n",
       "         0.9552],\n",
       "        [0.0777, 0.0719, 0.2834, 1.1108, 0.1185, 0.1180, 0.0000, 0.2912, 0.0000,\n",
       "         0.1859, 0.1986, 0.9854, 0.4987, 1.1411, 0.0000, 0.6636, 0.1219, 0.4881,\n",
       "         1.0809, 0.4175, 0.0000, 0.0477, 0.8338, 0.0000, 1.1331, 0.9768, 0.1043,\n",
       "         0.0000],\n",
       "        [0.8443, 1.2318, 0.9477, 0.9256, 0.0000, 0.9382, 1.0828, 1.1238, 0.2455,\n",
       "         0.9622, 0.0000, 0.5314, 0.8108, 0.2108, 0.0000, 0.0000, 0.0000, 0.3298,\n",
       "         0.0000, 0.0545, 1.1342, 0.4887, 0.7015, 0.0000, 0.9999, 0.8550, 0.7558,\n",
       "         0.5415],\n",
       "        [0.9508, 0.0000, 0.0179, 0.0000, 0.2486, 1.0531, 0.8387, 0.4177, 0.2977,\n",
       "         0.0000, 0.6785, 1.0578, 0.4432, 1.1324, 0.8026, 0.3980, 0.5904, 0.0000,\n",
       "         0.8556, 0.3998, 0.3943, 0.0136, 0.3044, 1.2305, 0.8676, 0.0000, 0.1310,\n",
       "         0.0000],\n",
       "        [0.3939, 0.0000, 0.3817, 0.7001, 0.0000, 1.0930, 0.7573, 0.9866, 0.9784,\n",
       "         0.3443, 1.0331, 1.1948, 0.0000, 0.4036, 1.0891, 0.2154, 0.0000, 0.0000,\n",
       "         0.4310, 0.7156, 0.0000, 0.2538, 0.7571, 0.2629, 0.0000, 0.0000, 0.9945,\n",
       "         0.7368],\n",
       "        [0.8271, 0.7423, 0.4992, 0.9000, 0.0000, 0.9380, 0.0000, 0.9518, 0.8741,\n",
       "         0.4021, 0.3110, 0.2900, 1.1182, 0.0000, 0.0000, 0.3514, 0.5539, 0.0000,\n",
       "         1.1434, 0.7258, 0.8347, 0.0000, 0.9265, 0.2352, 0.2063, 0.9619, 1.1944,\n",
       "         0.2454],\n",
       "        [1.0450, 0.0000, 0.7729, 0.1189, 0.7501, 0.0000, 1.1096, 0.6406, 1.1417,\n",
       "         0.5654, 0.8253, 0.5347, 0.8388, 0.7646, 1.0884, 0.5732, 0.0229, 0.6172,\n",
       "         0.0000, 1.0713, 0.0000, 0.5082, 0.0106, 0.1057, 0.0000, 0.2330, 0.0648,\n",
       "         0.7819]])"
      ]
     },
     "execution_count": 14,
     "metadata": {},
     "output_type": "execute_result"
    }
   ],
   "source": [
    "m = nn.Dropout(p=0.2)\n",
    "output = m(input_image)\n",
    "output[0]"
   ]
  },
  {
   "cell_type": "code",
   "execution_count": 15,
   "metadata": {},
   "outputs": [
    {
     "data": {
      "text/plain": [
       "tensor([0.0000, 0.0000, 0.0000, 0.0000, 0.3372, 0.0000, 0.0000, 0.0000, 0.0000,\n",
       "        0.0000, 0.0000, 0.5391, 0.0000, 0.6452, 0.0000, 0.0000, 0.0000, 0.0000,\n",
       "        0.0000, 0.0000], grad_fn=<SelectBackward0>)"
      ]
     },
     "execution_count": 15,
     "metadata": {},
     "output_type": "execute_result"
    }
   ],
   "source": [
    "m = nn.Dropout(p=0.5)\n",
    "output = m(x)\n",
    "output[0]"
   ]
  },
  {
   "cell_type": "markdown",
   "metadata": {},
   "source": [
    "Normalisasi Batch\n",
    "---------\n",
    "\n",
    "Normalisasi batch"
   ]
  },
  {
   "cell_type": "code",
   "execution_count": 16,
   "metadata": {},
   "outputs": [
    {
     "data": {
      "text/plain": [
       "tensor([-0.6920,  0.4127, -0.2502,  0.0000, -0.3069, -0.7047,  0.0000,  0.0000,\n",
       "        -1.4020,  0.0000, -0.7028,  0.8213, -0.7019,  0.4709, -1.3766,  0.0000,\n",
       "         0.0000,  1.1192,  0.7274,  0.0000], grad_fn=<SelectBackward0>)"
      ]
     },
     "execution_count": 16,
     "metadata": {},
     "output_type": "execute_result"
    }
   ],
   "source": [
    "m = nn.BatchNorm1d(x.shape[1])\n",
    "output = m(x)\n",
    "output[0]"
   ]
  },
  {
   "cell_type": "code",
   "execution_count": 17,
   "metadata": {},
   "outputs": [
    {
     "data": {
      "text/plain": [
       "tensor([-1.3734,  0.8280, -0.0797,  1.4088,  0.8204, -1.4120,  1.3010,  0.6691,\n",
       "         1.3556,  0.0136], grad_fn=<SelectBackward0>)"
      ]
     },
     "execution_count": 17,
     "metadata": {},
     "output_type": "execute_result"
    }
   ],
   "source": [
    "m = nn.BatchNorm1d(logits.shape[1])\n",
    "output = m(logits)\n",
    "output[0]"
   ]
  },
  {
   "cell_type": "markdown",
   "metadata": {},
   "source": [
    "Parameter Model\n",
    "-------------------------\n",
    "Banyak lapisan dalam neural network adalah parameter, yaitu memiliki bobot yang akan dioptimalisasi selama training\n",
    "``nn.Module`` otomatis melacak semua isi dalam objek model, dan membuat semua parameter terakses menggunakan metode ``parameters()`` atau ``named_parameters()``.\n",
    "\n",
    "Di contoh ini, kita iterasi setiap parameter, lalu mencetak ukurannya dan melihat nilainya.\n",
    "\n",
    "\n"
   ]
  },
  {
   "cell_type": "code",
   "execution_count": 18,
   "metadata": {},
   "outputs": [
    {
     "name": "stdout",
     "output_type": "stream",
     "text": [
      "Model structure:  NeuralNetwork(\n",
      "  (flatten): Flatten(start_dim=1, end_dim=-1)\n",
      "  (linear_relu_stack): Sequential(\n",
      "    (0): Linear(in_features=784, out_features=512, bias=True)\n",
      "    (1): ReLU()\n",
      "    (2): Linear(in_features=512, out_features=512, bias=True)\n",
      "    (3): ReLU()\n",
      "    (4): Linear(in_features=512, out_features=3, bias=True)\n",
      "  )\n",
      ") \n",
      "\n",
      "\n",
      "Layer: linear_relu_stack.0.weight | Size: torch.Size([512, 784]) | Values : tensor([[-0.0102, -0.0124, -0.0010,  ..., -0.0285,  0.0227,  0.0137],\n",
      "        [-0.0234, -0.0247, -0.0170,  ...,  0.0175, -0.0304, -0.0197]],\n",
      "       grad_fn=<SliceBackward0>) \n",
      "\n",
      "Layer: linear_relu_stack.0.bias | Size: torch.Size([512]) | Values : tensor([-0.0252, -0.0219], grad_fn=<SliceBackward0>) \n",
      "\n",
      "Layer: linear_relu_stack.2.weight | Size: torch.Size([512, 512]) | Values : tensor([[-0.0252,  0.0003, -0.0387,  ..., -0.0339,  0.0320,  0.0114],\n",
      "        [ 0.0200,  0.0174,  0.0048,  ..., -0.0022,  0.0426, -0.0293]],\n",
      "       grad_fn=<SliceBackward0>) \n",
      "\n",
      "Layer: linear_relu_stack.2.bias | Size: torch.Size([512]) | Values : tensor([-0.0180,  0.0057], grad_fn=<SliceBackward0>) \n",
      "\n",
      "Layer: linear_relu_stack.4.weight | Size: torch.Size([3, 512]) | Values : tensor([[ 0.0092,  0.0109, -0.0213,  ...,  0.0009,  0.0172,  0.0084],\n",
      "        [ 0.0205, -0.0269,  0.0266,  ...,  0.0338,  0.0257,  0.0357]],\n",
      "       grad_fn=<SliceBackward0>) \n",
      "\n",
      "Layer: linear_relu_stack.4.bias | Size: torch.Size([3]) | Values : tensor([0.0020, 0.0143], grad_fn=<SliceBackward0>) \n",
      "\n"
     ]
    }
   ],
   "source": [
    "print(\"Model structure: \", model, \"\\n\\n\")\n",
    "\n",
    "for name, param in model.named_parameters():\n",
    "    print(f\"Layer: {name} | Size: {param.size()} | Values : {param[:2]} \\n\")"
   ]
  },
  {
   "cell_type": "markdown",
   "metadata": {},
   "source": [
    "--------------\n",
    "\n",
    "\n"
   ]
  },
  {
   "cell_type": "markdown",
   "metadata": {},
   "source": [
    "#### Soal\n",
    "\n",
    "Buatlah kelas neural network baru yang sama persis dengan kelas sebelumnya namun menggunakan bentuk tensor"
   ]
  },
  {
   "cell_type": "code",
   "execution_count": 19,
   "metadata": {},
   "outputs": [
    {
     "name": "stdout",
     "output_type": "stream",
     "text": [
      "NeuralNetwork(\n",
      "  (flatten): Flatten(start_dim=1, end_dim=-1)\n",
      "  (layer1): Linear(in_features=784, out_features=512, bias=True)\n",
      "  (layer2): Linear(in_features=512, out_features=512, bias=True)\n",
      "  (layer3): Linear(in_features=512, out_features=3, bias=True)\n",
      "  (relu): ReLU()\n",
      ")\n"
     ]
    }
   ],
   "source": [
    "class NeuralNetwork(nn.Module):\n",
    "    def __init__(self):\n",
    "        super(NeuralNetwork, self).__init__()\n",
    "        self.flatten = nn.Flatten()\n",
    "        self.layer1 = nn.Linear(28*28, 512)\n",
    "        self.layer2 = nn.Linear(512, 512)\n",
    "        self.layer3 = nn.Linear(512, 3)\n",
    "        self.relu = nn.ReLU()\n",
    "\n",
    "    def forward(self, x):\n",
    "        x = self.flatten(x)\n",
    "        x = self.layer1(x)\n",
    "        x = self.relu(x)\n",
    "        x = self.layer2(x)\n",
    "        x = self.relu(x)\n",
    "        logits = self.layer3(x)\n",
    "        prob = nn.Softmax(dim=1)(logits)\n",
    "        return prob\n",
    "    \n",
    "NNet = NeuralNetwork().to(device)\n",
    "print(NNet)"
   ]
  },
  {
   "cell_type": "markdown",
   "metadata": {},
   "source": [
    "#### Soal\n",
    "\n",
    "Buatlah kelas neural network baru (dengan nama NeuralNetworkReg) yang sama persis dengan kelas sebelumnya namun ditambah dengan memakai regularisasi dropout di setiap hidden layers, dan inisiasi xavier/He untuk setiap lapisan bobot"
   ]
  },
  {
   "cell_type": "code",
   "execution_count": 20,
   "metadata": {},
   "outputs": [
    {
     "name": "stdout",
     "output_type": "stream",
     "text": [
      "NeuralNetworkReg(\n",
      "  (flatten): Flatten(start_dim=1, end_dim=-1)\n",
      "  (layer1): Linear(in_features=784, out_features=512, bias=True)\n",
      "  (layer2): Linear(in_features=512, out_features=512, bias=True)\n",
      "  (layer3): Linear(in_features=512, out_features=3, bias=True)\n",
      "  (relu): ReLU()\n",
      "  (mask): Dropout(p=0.5, inplace=False)\n",
      ")\n"
     ]
    }
   ],
   "source": [
    "class NeuralNetworkReg(nn.Module):\n",
    "    def __init__(self):\n",
    "        super(NeuralNetworkReg, self).__init__()\n",
    "        self.flatten = nn.Flatten()\n",
    "        self.layer1 = nn.Linear(28*28, 512)\n",
    "        #torch.nn.init.xavier_normal_(self.layer1.weight)\n",
    "        torch.nn.init.kaiming_uniform_(self.layer1.weight, mode='fan_in', nonlinearity='relu')\n",
    "        self.layer2 = nn.Linear(512, 512)\n",
    "        #torch.nn.init.xavier_normal_(self.layer2.weight)\n",
    "        torch.nn.init.kaiming_uniform_(self.layer2.weight, mode='fan_in', nonlinearity='relu')\n",
    "        self.layer3 = nn.Linear(512, 3)\n",
    "        #torch.nn.init.xavier_normal_(self.layer3.weight)\n",
    "        torch.nn.init.kaiming_uniform_(self.layer3.weight, mode='fan_in', nonlinearity='relu')\n",
    "        self.relu = nn.ReLU()\n",
    "        self.mask = nn.Dropout(p=0.5)\n",
    "\n",
    "    def forward(self, x):\n",
    "        x = self.flatten(x)\n",
    "        x = self.layer1(x)\n",
    "        x = self.mask(x)\n",
    "        x = self.relu(x)\n",
    "        x = self.layer2(x)\n",
    "        x = self.mask(x)\n",
    "        x = self.relu(x)\n",
    "        logits = self.layer3(x)\n",
    "        prob = nn.Softmax(dim=1)(logits)\n",
    "        return prob\n",
    "    \n",
    "NNetReg = NeuralNetworkReg().to(device)\n",
    "print(NNetReg)"
   ]
  },
  {
   "cell_type": "markdown",
   "metadata": {},
   "source": [
    "Buatlah data input dan label"
   ]
  },
  {
   "cell_type": "code",
   "execution_count": 21,
   "metadata": {},
   "outputs": [
    {
     "name": "stdout",
     "output_type": "stream",
     "text": [
      "torch.Size([100, 28, 28])\n",
      "torch.Size([100])\n"
     ]
    }
   ],
   "source": [
    "input_image = torch.rand(100,28,28)\n",
    "label_image = torch.randint(0, 3, (100,))\n",
    "print(input_image.size())\n",
    "print(label_image.size())\n"
   ]
  },
  {
   "cell_type": "markdown",
   "metadata": {},
   "source": [
    "Hitung prediksi model dan bandingkan dengan label"
   ]
  },
  {
   "cell_type": "code",
   "execution_count": 22,
   "metadata": {},
   "outputs": [
    {
     "name": "stdout",
     "output_type": "stream",
     "text": [
      "Prediksi: tensor([0, 0, 0, 0, 0, 0, 0, 0, 0, 0, 0, 0, 0, 0, 0, 0, 0, 0, 0, 0, 0, 0, 0, 0,\n",
      "        0, 0, 0, 0, 0, 0, 0, 0, 0, 0, 0, 0, 0, 0, 0, 0, 0, 0, 0, 0, 0, 0, 0, 0,\n",
      "        0, 0, 0, 0, 0, 0, 0, 0, 0, 0, 0, 0, 0, 0, 0, 0, 0, 0, 0, 0, 0, 0, 0, 0,\n",
      "        0, 0, 0, 0, 0, 0, 0, 0, 0, 0, 0, 0, 0, 0, 0, 0, 0, 0, 0, 0, 0, 0, 0, 0,\n",
      "        0, 0, 0, 0])\n",
      "Label: tensor([0, 0, 0, 1, 2, 1, 1, 1, 2, 2, 2, 1, 0, 1, 0, 1, 2, 0, 2, 2, 2, 0, 1, 2,\n",
      "        1, 1, 0, 0, 0, 1, 1, 2, 0, 2, 2, 1, 1, 2, 0, 0, 0, 0, 2, 2, 1, 1, 2, 1,\n",
      "        0, 2, 0, 1, 2, 0, 2, 1, 2, 1, 0, 0, 2, 2, 2, 0, 1, 0, 2, 0, 0, 2, 2, 0,\n",
      "        2, 1, 0, 0, 2, 0, 0, 1, 1, 2, 0, 1, 2, 1, 2, 1, 1, 1, 0, 2, 2, 1, 0, 1,\n",
      "        1, 1, 2, 0])\n",
      "akurasi: 0.33000001311302185\n"
     ]
    }
   ],
   "source": [
    "X = input_image.to(device)\n",
    "y = label_image.to(device)\n",
    "prob = NNet(X)\n",
    "y_pred = prob.argmax(1)\n",
    "print(f\"Prediksi: {y_pred}\")\n",
    "print(f\"Label: {y}\")\n",
    "print(f\"akurasi: {torch.sum(y_pred == y)/len(y_pred)}\")"
   ]
  },
  {
   "cell_type": "markdown",
   "metadata": {},
   "source": [
    "Hitunglah loss function dengan menggunakan cross entropy"
   ]
  },
  {
   "cell_type": "code",
   "execution_count": 23,
   "metadata": {},
   "outputs": [
    {
     "name": "stdout",
     "output_type": "stream",
     "text": [
      "tensor(1.1005, grad_fn=<NllLossBackward0>)\n"
     ]
    }
   ],
   "source": [
    "criterion = nn.CrossEntropyLoss()\n",
    "loss = criterion(prob, y)\n",
    "print(loss)"
   ]
  },
  {
   "cell_type": "markdown",
   "metadata": {},
   "source": [
    "Penalti Norm \n",
    "----------\n",
    "Regularisasi penalti dapat diimplementasi secara manual dengan modifikasi loss function atau secara otomatis dengan menggunakan weight decay"
   ]
  },
  {
   "cell_type": "code",
   "execution_count": 24,
   "metadata": {},
   "outputs": [],
   "source": [
    "l2_lambda = 0.001\n",
    "l2_norm = sum(p.pow(2.0).sum() for p in NNet.parameters())\n",
    "loss_reg = loss + l2_lambda * l2_norm"
   ]
  },
  {
   "cell_type": "code",
   "execution_count": 25,
   "metadata": {},
   "outputs": [],
   "source": [
    "sgd = torch.optim.SGD(NNet.parameters(), lr=0.1, weight_decay=l2_lambda)\n"
   ]
  },
  {
   "cell_type": "markdown",
   "metadata": {},
   "source": [
    "Gunakan Backpropagation dan gradient descent untuk mengubah bobot dengan memakai regularisasi l2"
   ]
  },
  {
   "cell_type": "code",
   "execution_count": 26,
   "metadata": {},
   "outputs": [
    {
     "name": "stdout",
     "output_type": "stream",
     "text": [
      "tensor(1.1005, grad_fn=<NllLossBackward0>)\n"
     ]
    }
   ],
   "source": [
    "import torch.optim as optim\n",
    "\n",
    "# create your optimizer\n",
    "optimizer = optim.SGD(NNet.parameters(), lr=0.1, weight_decay=l2_lambda)\n",
    "\n",
    "# in your training loop:\n",
    "optimizer.zero_grad()   # zero the gradient buffers\n",
    "prob = NNet(X)\n",
    "loss = criterion(prob, y)\n",
    "loss.backward()     #backprop\n",
    "optimizer.step()    #update\n",
    "print(loss)"
   ]
  },
  {
   "cell_type": "markdown",
   "metadata": {},
   "source": [
    "Cara gradient descent manual"
   ]
  },
  {
   "cell_type": "code",
   "execution_count": 27,
   "metadata": {},
   "outputs": [],
   "source": [
    "learning_rate = 0.1\n",
    "for p in NNet.parameters():\n",
    "    p.data.sub_(p.grad.data * learning_rate)"
   ]
  },
  {
   "cell_type": "markdown",
   "metadata": {},
   "source": [
    "Hitung kembali akurasi"
   ]
  },
  {
   "cell_type": "code",
   "execution_count": 28,
   "metadata": {},
   "outputs": [
    {
     "name": "stdout",
     "output_type": "stream",
     "text": [
      "Prediksi: tensor([0, 0, 0, 0, 0, 0, 0, 0, 0, 0, 0, 0, 0, 0, 0, 0, 0, 0, 0, 0, 0, 0, 0, 0,\n",
      "        0, 0, 0, 0, 0, 0, 0, 0, 0, 0, 0, 0, 0, 0, 0, 0, 0, 0, 0, 0, 0, 0, 0, 0,\n",
      "        0, 0, 0, 0, 0, 0, 0, 0, 0, 0, 0, 0, 0, 0, 0, 0, 0, 0, 0, 0, 0, 0, 0, 0,\n",
      "        0, 0, 0, 0, 0, 0, 0, 0, 0, 0, 0, 0, 0, 0, 0, 0, 0, 0, 0, 0, 0, 0, 0, 0,\n",
      "        0, 0, 0, 0])\n",
      "Label: tensor([0, 0, 0, 1, 2, 1, 1, 1, 2, 2, 2, 1, 0, 1, 0, 1, 2, 0, 2, 2, 2, 0, 1, 2,\n",
      "        1, 1, 0, 0, 0, 1, 1, 2, 0, 2, 2, 1, 1, 2, 0, 0, 0, 0, 2, 2, 1, 1, 2, 1,\n",
      "        0, 2, 0, 1, 2, 0, 2, 1, 2, 1, 0, 0, 2, 2, 2, 0, 1, 0, 2, 0, 0, 2, 2, 0,\n",
      "        2, 1, 0, 0, 2, 0, 0, 1, 1, 2, 0, 1, 2, 1, 2, 1, 1, 1, 0, 2, 2, 1, 0, 1,\n",
      "        1, 1, 2, 0])\n",
      "akurasi: 0.33000001311302185\n"
     ]
    }
   ],
   "source": [
    "prob = NNet(X)\n",
    "y_pred = prob.argmax(1)\n",
    "print(f\"Prediksi: {y_pred}\")\n",
    "print(f\"Label: {y}\")\n",
    "print(f\"akurasi: {torch.sum(y_pred == y)/len(y_pred)}\")"
   ]
  },
  {
   "cell_type": "markdown",
   "metadata": {},
   "source": [
    "#### Soal\n",
    "iterasi sampe 100 kali dan plot loss function terhadap iterasi, lalu hitung akurasi"
   ]
  },
  {
   "cell_type": "code",
   "execution_count": 29,
   "metadata": {},
   "outputs": [
    {
     "name": "stdout",
     "output_type": "stream",
     "text": [
      "tensor(1.0996, grad_fn=<NllLossBackward0>)\n",
      "tensor(1.0991, grad_fn=<NllLossBackward0>)\n",
      "tensor(1.0987, grad_fn=<NllLossBackward0>)\n",
      "tensor(1.0983, grad_fn=<NllLossBackward0>)\n",
      "tensor(1.0979, grad_fn=<NllLossBackward0>)\n",
      "tensor(1.0975, grad_fn=<NllLossBackward0>)\n",
      "tensor(1.0972, grad_fn=<NllLossBackward0>)\n",
      "tensor(1.0968, grad_fn=<NllLossBackward0>)\n",
      "tensor(1.0965, grad_fn=<NllLossBackward0>)\n",
      "tensor(1.0961, grad_fn=<NllLossBackward0>)\n",
      "tensor(1.0958, grad_fn=<NllLossBackward0>)\n",
      "tensor(1.0954, grad_fn=<NllLossBackward0>)\n",
      "tensor(1.0951, grad_fn=<NllLossBackward0>)\n",
      "tensor(1.0948, grad_fn=<NllLossBackward0>)\n",
      "tensor(1.0944, grad_fn=<NllLossBackward0>)\n",
      "tensor(1.0941, grad_fn=<NllLossBackward0>)\n",
      "tensor(1.0938, grad_fn=<NllLossBackward0>)\n",
      "tensor(1.0935, grad_fn=<NllLossBackward0>)\n",
      "tensor(1.0932, grad_fn=<NllLossBackward0>)\n",
      "tensor(1.0929, grad_fn=<NllLossBackward0>)\n",
      "tensor(1.0926, grad_fn=<NllLossBackward0>)\n",
      "tensor(1.0922, grad_fn=<NllLossBackward0>)\n",
      "tensor(1.0919, grad_fn=<NllLossBackward0>)\n",
      "tensor(1.0916, grad_fn=<NllLossBackward0>)\n",
      "tensor(1.0913, grad_fn=<NllLossBackward0>)\n",
      "tensor(1.0910, grad_fn=<NllLossBackward0>)\n",
      "tensor(1.0906, grad_fn=<NllLossBackward0>)\n",
      "tensor(1.0903, grad_fn=<NllLossBackward0>)\n",
      "tensor(1.0900, grad_fn=<NllLossBackward0>)\n",
      "tensor(1.0897, grad_fn=<NllLossBackward0>)\n",
      "tensor(1.0893, grad_fn=<NllLossBackward0>)\n",
      "tensor(1.0890, grad_fn=<NllLossBackward0>)\n",
      "tensor(1.0887, grad_fn=<NllLossBackward0>)\n",
      "tensor(1.0883, grad_fn=<NllLossBackward0>)\n",
      "tensor(1.0880, grad_fn=<NllLossBackward0>)\n",
      "tensor(1.0876, grad_fn=<NllLossBackward0>)\n",
      "tensor(1.0873, grad_fn=<NllLossBackward0>)\n",
      "tensor(1.0870, grad_fn=<NllLossBackward0>)\n",
      "tensor(1.0866, grad_fn=<NllLossBackward0>)\n",
      "tensor(1.0862, grad_fn=<NllLossBackward0>)\n",
      "tensor(1.0859, grad_fn=<NllLossBackward0>)\n",
      "tensor(1.0855, grad_fn=<NllLossBackward0>)\n",
      "tensor(1.0851, grad_fn=<NllLossBackward0>)\n",
      "tensor(1.0848, grad_fn=<NllLossBackward0>)\n",
      "tensor(1.0844, grad_fn=<NllLossBackward0>)\n",
      "tensor(1.0840, grad_fn=<NllLossBackward0>)\n",
      "tensor(1.0836, grad_fn=<NllLossBackward0>)\n",
      "tensor(1.0832, grad_fn=<NllLossBackward0>)\n",
      "tensor(1.0828, grad_fn=<NllLossBackward0>)\n",
      "tensor(1.0824, grad_fn=<NllLossBackward0>)\n",
      "tensor(1.0819, grad_fn=<NllLossBackward0>)\n",
      "tensor(1.0815, grad_fn=<NllLossBackward0>)\n",
      "tensor(1.0811, grad_fn=<NllLossBackward0>)\n",
      "tensor(1.0806, grad_fn=<NllLossBackward0>)\n",
      "tensor(1.0802, grad_fn=<NllLossBackward0>)\n",
      "tensor(1.0797, grad_fn=<NllLossBackward0>)\n",
      "tensor(1.0792, grad_fn=<NllLossBackward0>)\n",
      "tensor(1.0787, grad_fn=<NllLossBackward0>)\n",
      "tensor(1.0782, grad_fn=<NllLossBackward0>)\n",
      "tensor(1.0777, grad_fn=<NllLossBackward0>)\n",
      "tensor(1.0772, grad_fn=<NllLossBackward0>)\n",
      "tensor(1.0766, grad_fn=<NllLossBackward0>)\n",
      "tensor(1.0761, grad_fn=<NllLossBackward0>)\n",
      "tensor(1.0755, grad_fn=<NllLossBackward0>)\n",
      "tensor(1.0750, grad_fn=<NllLossBackward0>)\n",
      "tensor(1.0744, grad_fn=<NllLossBackward0>)\n",
      "tensor(1.0738, grad_fn=<NllLossBackward0>)\n",
      "tensor(1.0732, grad_fn=<NllLossBackward0>)\n",
      "tensor(1.0725, grad_fn=<NllLossBackward0>)\n",
      "tensor(1.0719, grad_fn=<NllLossBackward0>)\n",
      "tensor(1.0712, grad_fn=<NllLossBackward0>)\n",
      "tensor(1.0705, grad_fn=<NllLossBackward0>)\n",
      "tensor(1.0698, grad_fn=<NllLossBackward0>)\n",
      "tensor(1.0691, grad_fn=<NllLossBackward0>)\n",
      "tensor(1.0683, grad_fn=<NllLossBackward0>)\n",
      "tensor(1.0676, grad_fn=<NllLossBackward0>)\n",
      "tensor(1.0668, grad_fn=<NllLossBackward0>)\n",
      "tensor(1.0660, grad_fn=<NllLossBackward0>)\n",
      "tensor(1.0651, grad_fn=<NllLossBackward0>)\n",
      "tensor(1.0643, grad_fn=<NllLossBackward0>)\n",
      "tensor(1.0634, grad_fn=<NllLossBackward0>)\n",
      "tensor(1.0625, grad_fn=<NllLossBackward0>)\n",
      "tensor(1.0616, grad_fn=<NllLossBackward0>)\n",
      "tensor(1.0606, grad_fn=<NllLossBackward0>)\n",
      "tensor(1.0597, grad_fn=<NllLossBackward0>)\n",
      "tensor(1.0586, grad_fn=<NllLossBackward0>)\n",
      "tensor(1.0576, grad_fn=<NllLossBackward0>)\n",
      "tensor(1.0565, grad_fn=<NllLossBackward0>)\n",
      "tensor(1.0554, grad_fn=<NllLossBackward0>)\n",
      "tensor(1.0543, grad_fn=<NllLossBackward0>)\n",
      "tensor(1.0531, grad_fn=<NllLossBackward0>)\n",
      "tensor(1.0519, grad_fn=<NllLossBackward0>)\n",
      "tensor(1.0506, grad_fn=<NllLossBackward0>)\n",
      "tensor(1.0493, grad_fn=<NllLossBackward0>)\n",
      "tensor(1.0480, grad_fn=<NllLossBackward0>)\n",
      "tensor(1.0466, grad_fn=<NllLossBackward0>)\n",
      "tensor(1.0451, grad_fn=<NllLossBackward0>)\n",
      "tensor(1.0436, grad_fn=<NllLossBackward0>)\n",
      "tensor(1.0421, grad_fn=<NllLossBackward0>)\n",
      "tensor(1.0405, grad_fn=<NllLossBackward0>)\n"
     ]
    },
    {
     "data": {
      "image/png": "[encoded data removed]",
      "text/plain": [
       "<Figure size 640x480 with 1 Axes>"
      ]
     },
     "metadata": {},
     "output_type": "display_data"
    },
    {
     "name": "stdout",
     "output_type": "stream",
     "text": [
      "Prediksi: tensor([0, 0, 0, 1, 2, 1, 1, 1, 2, 2, 2, 1, 0, 1, 0, 1, 2, 0, 2, 2, 2, 0, 1, 2,\n",
      "        1, 1, 0, 0, 0, 1, 1, 2, 0, 2, 2, 1, 1, 2, 0, 0, 0, 0, 2, 2, 1, 1, 2, 1,\n",
      "        0, 2, 0, 1, 2, 2, 2, 1, 2, 1, 0, 0, 2, 2, 2, 0, 1, 0, 2, 0, 0, 2, 2, 0,\n",
      "        2, 1, 0, 0, 2, 0, 0, 1, 1, 2, 0, 1, 2, 1, 2, 0, 1, 1, 0, 2, 2, 1, 0, 1,\n",
      "        1, 1, 2, 0])\n",
      "Label: tensor([0, 0, 0, 1, 2, 1, 1, 1, 2, 2, 2, 1, 0, 1, 0, 1, 2, 0, 2, 2, 2, 0, 1, 2,\n",
      "        1, 1, 0, 0, 0, 1, 1, 2, 0, 2, 2, 1, 1, 2, 0, 0, 0, 0, 2, 2, 1, 1, 2, 1,\n",
      "        0, 2, 0, 1, 2, 0, 2, 1, 2, 1, 0, 0, 2, 2, 2, 0, 1, 0, 2, 0, 0, 2, 2, 0,\n",
      "        2, 1, 0, 0, 2, 0, 0, 1, 1, 2, 0, 1, 2, 1, 2, 1, 1, 1, 0, 2, 2, 1, 0, 1,\n",
      "        1, 1, 2, 0])\n",
      "akurasi: 0.9800000190734863\n"
     ]
    }
   ],
   "source": [
    "import matplotlib.pyplot as plt\n",
    "prob = NNet(X)\n",
    "optimizer = optim.SGD(NNet.parameters(), lr=0.1, weight_decay=0)\n",
    "Loss = []\n",
    "for i in range(100):\n",
    "    optimizer.zero_grad()   # zero the gradient buffers\n",
    "    prob = NNet(X)       # feedforward\n",
    "    loss = criterion(prob, y)\n",
    "    loss.backward()     #backprop\n",
    "    optimizer.step()    #update\n",
    "    print(loss)\n",
    "    Loss.append(float(loss.detach().numpy()))\n",
    "    \n",
    "plt.plot(Loss)\n",
    "plt.ylabel('loss')\n",
    "plt.xlabel('iteration')\n",
    "plt.show()\n",
    "plt.close()\n",
    "\n",
    "prob = NNet(X)\n",
    "y_pred = prob.argmax(1)\n",
    "print(f\"Prediksi: {y_pred}\")\n",
    "print(f\"Label: {y}\")\n",
    "print(f\"akurasi: {torch.sum(y_pred == y)/len(y_pred)}\")"
   ]
  },
  {
   "cell_type": "markdown",
   "metadata": {},
   "source": [
    "Lakukan hal yang sama untuk Neural Network dengan regularisasi dropout, L2, dan inisiasi"
   ]
  },
  {
   "cell_type": "code",
   "execution_count": 30,
   "metadata": {},
   "outputs": [
    {
     "name": "stdout",
     "output_type": "stream",
     "text": [
      "tensor(1.1407, grad_fn=<NllLossBackward0>)\n",
      "tensor(1.1473, grad_fn=<NllLossBackward0>)\n",
      "tensor(1.1549, grad_fn=<NllLossBackward0>)\n",
      "tensor(1.1446, grad_fn=<NllLossBackward0>)\n",
      "tensor(1.1480, grad_fn=<NllLossBackward0>)\n",
      "tensor(1.1513, grad_fn=<NllLossBackward0>)\n",
      "tensor(1.1155, grad_fn=<NllLossBackward0>)\n",
      "tensor(1.0533, grad_fn=<NllLossBackward0>)\n",
      "tensor(1.0846, grad_fn=<NllLossBackward0>)\n",
      "tensor(1.0614, grad_fn=<NllLossBackward0>)\n",
      "tensor(1.0567, grad_fn=<NllLossBackward0>)\n",
      "tensor(1.0964, grad_fn=<NllLossBackward0>)\n",
      "tensor(1.1256, grad_fn=<NllLossBackward0>)\n",
      "tensor(1.0708, grad_fn=<NllLossBackward0>)\n",
      "tensor(1.0446, grad_fn=<NllLossBackward0>)\n",
      "tensor(1.0563, grad_fn=<NllLossBackward0>)\n",
      "tensor(1.0699, grad_fn=<NllLossBackward0>)\n",
      "tensor(1.0653, grad_fn=<NllLossBackward0>)\n",
      "tensor(1.0284, grad_fn=<NllLossBackward0>)\n",
      "tensor(1.0698, grad_fn=<NllLossBackward0>)\n",
      "tensor(1.0631, grad_fn=<NllLossBackward0>)\n",
      "tensor(1.0519, grad_fn=<NllLossBackward0>)\n",
      "tensor(1.0347, grad_fn=<NllLossBackward0>)\n",
      "tensor(1.0513, grad_fn=<NllLossBackward0>)\n",
      "tensor(1.0283, grad_fn=<NllLossBackward0>)\n",
      "tensor(1.0098, grad_fn=<NllLossBackward0>)\n",
      "tensor(1.0255, grad_fn=<NllLossBackward0>)\n",
      "tensor(1.0699, grad_fn=<NllLossBackward0>)\n",
      "tensor(1.0383, grad_fn=<NllLossBackward0>)\n",
      "tensor(1.0254, grad_fn=<NllLossBackward0>)\n",
      "tensor(1.0056, grad_fn=<NllLossBackward0>)\n",
      "tensor(1.0111, grad_fn=<NllLossBackward0>)\n",
      "tensor(0.9727, grad_fn=<NllLossBackward0>)\n",
      "tensor(1.0424, grad_fn=<NllLossBackward0>)\n",
      "tensor(1.0117, grad_fn=<NllLossBackward0>)\n",
      "tensor(0.9811, grad_fn=<NllLossBackward0>)\n",
      "tensor(0.9815, grad_fn=<NllLossBackward0>)\n",
      "tensor(0.9704, grad_fn=<NllLossBackward0>)\n",
      "tensor(0.9391, grad_fn=<NllLossBackward0>)\n",
      "tensor(0.9708, grad_fn=<NllLossBackward0>)\n",
      "tensor(0.9909, grad_fn=<NllLossBackward0>)\n",
      "tensor(0.9934, grad_fn=<NllLossBackward0>)\n",
      "tensor(0.9586, grad_fn=<NllLossBackward0>)\n",
      "tensor(0.9940, grad_fn=<NllLossBackward0>)\n",
      "tensor(0.9690, grad_fn=<NllLossBackward0>)\n",
      "tensor(0.9763, grad_fn=<NllLossBackward0>)\n",
      "tensor(0.9719, grad_fn=<NllLossBackward0>)\n",
      "tensor(0.9517, grad_fn=<NllLossBackward0>)\n",
      "tensor(0.9345, grad_fn=<NllLossBackward0>)\n",
      "tensor(0.9418, grad_fn=<NllLossBackward0>)\n",
      "tensor(0.9332, grad_fn=<NllLossBackward0>)\n",
      "tensor(0.9535, grad_fn=<NllLossBackward0>)\n",
      "tensor(0.8799, grad_fn=<NllLossBackward0>)\n",
      "tensor(0.9248, grad_fn=<NllLossBackward0>)\n",
      "tensor(0.9440, grad_fn=<NllLossBackward0>)\n",
      "tensor(0.8952, grad_fn=<NllLossBackward0>)\n",
      "tensor(0.8809, grad_fn=<NllLossBackward0>)\n",
      "tensor(0.9568, grad_fn=<NllLossBackward0>)\n",
      "tensor(0.9081, grad_fn=<NllLossBackward0>)\n",
      "tensor(0.9003, grad_fn=<NllLossBackward0>)\n",
      "tensor(0.9140, grad_fn=<NllLossBackward0>)\n",
      "tensor(0.8692, grad_fn=<NllLossBackward0>)\n",
      "tensor(0.9021, grad_fn=<NllLossBackward0>)\n",
      "tensor(0.9093, grad_fn=<NllLossBackward0>)\n",
      "tensor(0.9039, grad_fn=<NllLossBackward0>)\n",
      "tensor(0.8779, grad_fn=<NllLossBackward0>)\n",
      "tensor(0.8699, grad_fn=<NllLossBackward0>)\n",
      "tensor(0.8146, grad_fn=<NllLossBackward0>)\n",
      "tensor(0.8548, grad_fn=<NllLossBackward0>)\n",
      "tensor(0.8861, grad_fn=<NllLossBackward0>)\n",
      "tensor(0.8443, grad_fn=<NllLossBackward0>)\n",
      "tensor(0.8658, grad_fn=<NllLossBackward0>)\n",
      "tensor(0.8411, grad_fn=<NllLossBackward0>)\n",
      "tensor(0.8631, grad_fn=<NllLossBackward0>)\n",
      "tensor(0.8497, grad_fn=<NllLossBackward0>)\n",
      "tensor(0.8245, grad_fn=<NllLossBackward0>)\n",
      "tensor(0.8019, grad_fn=<NllLossBackward0>)\n",
      "tensor(0.8418, grad_fn=<NllLossBackward0>)\n",
      "tensor(0.8364, grad_fn=<NllLossBackward0>)\n",
      "tensor(0.8226, grad_fn=<NllLossBackward0>)\n",
      "tensor(0.8653, grad_fn=<NllLossBackward0>)\n",
      "tensor(0.8428, grad_fn=<NllLossBackward0>)\n",
      "tensor(0.7970, grad_fn=<NllLossBackward0>)\n",
      "tensor(0.8549, grad_fn=<NllLossBackward0>)\n",
      "tensor(0.8261, grad_fn=<NllLossBackward0>)\n",
      "tensor(0.8249, grad_fn=<NllLossBackward0>)\n",
      "tensor(0.8049, grad_fn=<NllLossBackward0>)\n",
      "tensor(0.7905, grad_fn=<NllLossBackward0>)\n",
      "tensor(0.8047, grad_fn=<NllLossBackward0>)\n",
      "tensor(0.7850, grad_fn=<NllLossBackward0>)\n",
      "tensor(0.7595, grad_fn=<NllLossBackward0>)\n",
      "tensor(0.7808, grad_fn=<NllLossBackward0>)\n",
      "tensor(0.8146, grad_fn=<NllLossBackward0>)\n",
      "tensor(0.7785, grad_fn=<NllLossBackward0>)\n",
      "tensor(0.7470, grad_fn=<NllLossBackward0>)\n",
      "tensor(0.7978, grad_fn=<NllLossBackward0>)\n",
      "tensor(0.7728, grad_fn=<NllLossBackward0>)\n",
      "tensor(0.7730, grad_fn=<NllLossBackward0>)\n",
      "tensor(0.7692, grad_fn=<NllLossBackward0>)\n",
      "tensor(0.7693, grad_fn=<NllLossBackward0>)\n"
     ]
    },
    {
     "data": {
      "image/png": "[encoded data removed]",
      "text/plain": [
       "<Figure size 640x480 with 1 Axes>"
      ]
     },
     "metadata": {},
     "output_type": "display_data"
    },
    {
     "name": "stdout",
     "output_type": "stream",
     "text": [
      "Prediksi: tensor([0, 0, 0, 1, 2, 2, 1, 1, 2, 2, 2, 1, 0, 0, 0, 0, 2, 0, 2, 2, 2, 0, 1, 2,\n",
      "        1, 1, 0, 0, 0, 1, 1, 2, 0, 2, 2, 2, 0, 2, 0, 2, 0, 2, 2, 2, 1, 1, 0, 1,\n",
      "        0, 2, 0, 0, 2, 2, 2, 1, 2, 1, 0, 0, 2, 2, 2, 0, 1, 0, 2, 0, 2, 2, 2, 2,\n",
      "        2, 0, 0, 0, 2, 0, 0, 2, 1, 2, 0, 1, 2, 0, 2, 1, 0, 1, 0, 2, 2, 1, 0, 2,\n",
      "        2, 2, 2, 0])\n",
      "Label: tensor([0, 0, 0, 1, 2, 1, 1, 1, 2, 2, 2, 1, 0, 1, 0, 1, 2, 0, 2, 2, 2, 0, 1, 2,\n",
      "        1, 1, 0, 0, 0, 1, 1, 2, 0, 2, 2, 1, 1, 2, 0, 0, 0, 0, 2, 2, 1, 1, 2, 1,\n",
      "        0, 2, 0, 1, 2, 0, 2, 1, 2, 1, 0, 0, 2, 2, 2, 0, 1, 0, 2, 0, 0, 2, 2, 0,\n",
      "        2, 1, 0, 0, 2, 0, 0, 1, 1, 2, 0, 1, 2, 1, 2, 1, 1, 1, 0, 2, 2, 1, 0, 1,\n",
      "        1, 1, 2, 0])\n",
      "akurasi: 0.8100000023841858\n"
     ]
    }
   ],
   "source": [
    "l2_lambda=0.01\n",
    "prob = NNetReg(X)\n",
    "optimizer = optim.SGD(NNetReg.parameters(), lr=0.1, weight_decay=l2_lambda)\n",
    "Loss = []\n",
    "for i in range(100):\n",
    "    optimizer.zero_grad()   # zero the gradient buffers\n",
    "    prob = NNetReg(X)       # feedforward\n",
    "    loss = criterion(prob, y)\n",
    "    loss.backward()     #backprop\n",
    "    optimizer.step()    #update\n",
    "    print(loss)\n",
    "    Loss.append(float(loss.detach().numpy()))\n",
    "    \n",
    "plt.plot(Loss)\n",
    "plt.ylabel('loss')\n",
    "plt.xlabel('iteration')\n",
    "plt.show()\n",
    "plt.close()\n",
    "\n",
    "prob = NNetReg(X)\n",
    "y_pred = prob.argmax(1)\n",
    "print(f\"Prediksi: {y_pred}\")\n",
    "print(f\"Label: {y}\")\n",
    "print(f\"akurasi: {torch.sum(y_pred == y)/len(y_pred)}\")"
   ]
  },
  {
   "cell_type": "code",
   "execution_count": null,
   "metadata": {},
   "outputs": [],
   "source": []
  }
 ],
 "metadata": {
  "kernelspec": {
   "display_name": "Python 3 (ipykernel)",
   "language": "python",
   "name": "python3"
  },
  "language_info": {
   "codemirror_mode": {
    "name": "ipython",
    "version": 3
   },
   "file_extension": ".py",
   "mimetype": "text/x-python",
   "name": "python",
   "nbconvert_exporter": "python",
   "pygments_lexer": "ipython3",
   "version": "3.11.4"
  }
 },
 "nbformat": 4,
 "nbformat_minor": 1
}
