{
 "cells": [
  {
   "cell_type": "markdown",
   "metadata": {},
   "source": [
    "Regularisasi Neural Network\n",
    "===================\n",
    "\n",
    "Neural networks terdiri dari lapisan (layers) dan modul (modules) yang beroperasi pada data.\n",
    "Semua keterangan mengenai bagian penyusunnya dapat dibaca di torch.nn https://pytorch.org/docs/stable/nn.html  \n",
    "Sebuah neural network adalah sebuah modul yang terdiri dari modul-modul lainnya (layers). Struktur berlapis ini dipakai untuk memudahkan manajemen arsitektur kompleks\n",
    "\n",
    "Di bagian ini, kita akan menciptakan neural network untuk klasifikasi gambar pada dataset FashionMNIST.\n",
    "\n",
    "\n"
   ]
  },
  {
   "cell_type": "code",
   "execution_count": 1,
   "metadata": {},
   "outputs": [],
   "source": [
    "import os\n",
    "import torch\n",
    "from torch import nn\n",
    "from torch.utils.data import DataLoader\n",
    "#import torchvision\n",
    "#from torchvision import datasets, transforms"
   ]
  },
  {
   "cell_type": "markdown",
   "metadata": {},
   "source": [
    "Memilih Perangkat untuk Training\n",
    "-----------------------\n",
    "Kita akan melatih model pada perangkat akselerasi seperti GPU (jika tersedia)\n",
    "`torch.cuda <https://pytorch.org/docs/stable/notes/cuda.html>`, \n",
    "Jika tidak tersedia kita akan melanjutkan dengan menggunakan CPU.\n",
    "\n"
   ]
  },
  {
   "cell_type": "code",
   "execution_count": 2,
   "metadata": {},
   "outputs": [
    {
     "name": "stdout",
     "output_type": "stream",
     "text": [
      "Gunakan perangkat cpu\n"
     ]
    }
   ],
   "source": [
    "device = 'cuda' if torch.cuda.is_available() else 'cpu'\n",
    "print(f'Gunakan perangkat {device}')"
   ]
  },
  {
   "cell_type": "markdown",
   "metadata": {},
   "source": [
    "Definisikan Kelas\n",
    "-------------------------\n",
    "Kita mendefinisikan neural network melalui ``nn.Module``, dan menginisiasi lapisan neural network di ``__init__``. Setiap ``nn.Module`` mengimplementasikan operasi pada input melalui metode ``forward``\n",
    "\n"
   ]
  },
  {
   "cell_type": "code",
   "execution_count": 3,
   "metadata": {},
   "outputs": [],
   "source": [
    "class NeuralNetwork(nn.Module):\n",
    "    def __init__(self):\n",
    "        super(NeuralNetwork, self).__init__()\n",
    "        self.flatten = nn.Flatten()\n",
    "        self.linear_relu_stack = nn.Sequential(\n",
    "            nn.Linear(28*28, 512),\n",
    "            nn.ReLU(),\n",
    "            nn.Linear(512, 512),\n",
    "            nn.ReLU(),\n",
    "            nn.Linear(512, 3),\n",
    "        )\n",
    "\n",
    "    def forward(self, x):\n",
    "        x = self.flatten(x)\n",
    "        logits = self.linear_relu_stack(x)\n",
    "        pred_probab = nn.Softmax(dim=1)(logits)\n",
    "        return pred_probab"
   ]
  },
  {
   "cell_type": "markdown",
   "metadata": {},
   "source": [
    "Ciptakan sebuah salinan (instance) dari ``NeuralNetwork``, dan pindahkan menuju ``device``, dan tampilkan strukturnya.\n",
    "\n"
   ]
  },
  {
   "cell_type": "code",
   "execution_count": 4,
   "metadata": {},
   "outputs": [
    {
     "name": "stdout",
     "output_type": "stream",
     "text": [
      "NeuralNetwork(\n",
      "  (flatten): Flatten(start_dim=1, end_dim=-1)\n",
      "  (linear_relu_stack): Sequential(\n",
      "    (0): Linear(in_features=784, out_features=512, bias=True)\n",
      "    (1): ReLU()\n",
      "    (2): Linear(in_features=512, out_features=512, bias=True)\n",
      "    (3): ReLU()\n",
      "    (4): Linear(in_features=512, out_features=3, bias=True)\n",
      "  )\n",
      ")\n"
     ]
    }
   ],
   "source": [
    "model = NeuralNetwork().to(device)\n",
    "print(model)"
   ]
  },
  {
   "cell_type": "markdown",
   "metadata": {},
   "source": [
    "Untuk menggunakan model, kita memasukan inputnya. Ini mengeksekusi ``forward``,\n",
    "bersama `background operations <https://github.com/pytorch/pytorch/blob/270111b7b611d174967ed204776985cefca9c144/torch/nn/modules/module.py#L866>`_.\n",
    "Jangan memanggil ``model.forward()`` secara langsung!\n",
    "\n",
    "Memanggil model pada input menghasilkan tensor 10 dimensi dengan nilai prediksi untuk setiap kelas.\n",
    "Kita mendapatkan peluang prediksi dengan memasukannya melalui salinan (instance) dari modul ``nn.Softmax``.\n",
    "\n"
   ]
  },
  {
   "cell_type": "code",
   "execution_count": 5,
   "metadata": {},
   "outputs": [
    {
     "name": "stdout",
     "output_type": "stream",
     "text": [
      "Prediksi: tensor([1])\n"
     ]
    }
   ],
   "source": [
    "X = torch.rand(1, 28, 28, device=device)\n",
    "pred_probab = model(X)\n",
    "y_pred = pred_probab.argmax(1)\n",
    "print(f\"Prediksi: {y_pred}\")"
   ]
  },
  {
   "cell_type": "markdown",
   "metadata": {},
   "source": [
    "--------------\n",
    "\n",
    "\n"
   ]
  },
  {
   "cell_type": "markdown",
   "metadata": {},
   "source": [
    "Lapisan Model\n",
    "-------------------------\n",
    "\n",
    "Mari memecah lapisan-lapisan pada model. Untuk ilustrasi, kita coba ambil sampel minibatch dari 3 gambar dengan ukuran 28x28 dan lihat apa yang terjadi ketika kita memasukannya melalui network.\n"
   ]
  },
  {
   "cell_type": "code",
   "execution_count": 6,
   "metadata": {},
   "outputs": [
    {
     "name": "stdout",
     "output_type": "stream",
     "text": [
      "torch.Size([3, 28, 28])\n"
     ]
    }
   ],
   "source": [
    "input_image = torch.rand(3,28,28)\n",
    "print(input_image.size())"
   ]
  },
  {
   "cell_type": "markdown",
   "metadata": {},
   "source": [
    "Perataan (Flatten)\n",
    "---------------\n",
    "\n",
    "Kita menginisasi lapisan perataan `nn.Flatten  <https://pytorch.org/docs/stable/generated/torch.nn.Flatten.html>`_\n",
    "untuk mengubah setiap gambar 2D 28x28 menjadi vektor 784 pixel.\n",
    "\n"
   ]
  },
  {
   "cell_type": "code",
   "execution_count": 7,
   "metadata": {},
   "outputs": [
    {
     "name": "stdout",
     "output_type": "stream",
     "text": [
      "torch.Size([3, 784])\n"
     ]
    }
   ],
   "source": [
    "flatten = nn.Flatten()\n",
    "flat_image = flatten(input_image)\n",
    "print(flat_image.size())"
   ]
  },
  {
   "cell_type": "markdown",
   "metadata": {},
   "source": [
    "Transformasi Linear\n",
    "-----------\n",
    "\n",
    "Lapisan linear `<https://pytorch.org/docs/stable/generated/torch.nn.Linear.html>`_\n",
    "adalah modul yang mengerjakan transformasi linear pada input dengan menggunakan bobot yang sudah disimpan \n",
    "\n",
    "\n"
   ]
  },
  {
   "cell_type": "code",
   "execution_count": 8,
   "metadata": {},
   "outputs": [
    {
     "name": "stdout",
     "output_type": "stream",
     "text": [
      "torch.Size([3, 20])\n"
     ]
    }
   ],
   "source": [
    "layer1 = nn.Linear(in_features=28*28, out_features=20)\n",
    "hidden1 = layer1(flat_image)\n",
    "print(hidden1.size())"
   ]
  },
  {
   "cell_type": "markdown",
   "metadata": {},
   "source": [
    "Fungsi Aktivasi\n",
    "----------\n",
    "Aktivasi non-linear akan membuat map kompleks dari input menuju output.\n",
    "Non-linearitas akan membantu neural network belajar beragam variasi fenomena.\n",
    "\n",
    "Pada contoh kali ini, kita hanya menggunakan `nn.ReLU <https://pytorch.org/docs/stable/generated/torch.nn.ReLU.html>`_ \n",
    "diantara lapisan linear, tapi terdapat bentuk aktivasi non-linear lain.\n",
    "\n"
   ]
  },
  {
   "cell_type": "code",
   "execution_count": 9,
   "metadata": {},
   "outputs": [
    {
     "name": "stdout",
     "output_type": "stream",
     "text": [
      "Before ReLU: tensor([[ 0.1697,  0.1061,  0.1238, -0.2752, -0.1798,  0.0400,  0.0921, -0.1920,\n",
      "          0.4513,  0.1011, -0.3212, -0.2636, -0.6815, -0.0232, -0.4241, -0.1300,\n",
      "         -0.0070,  0.4543, -0.2642,  0.2224],\n",
      "        [-0.0097, -0.1477,  0.7150, -0.3723, -0.5310, -0.1303,  0.3065, -0.8446,\n",
      "          0.3970,  0.3051, -0.0155, -0.2332, -0.4334, -0.2065, -0.4922, -0.4397,\n",
      "          0.1349,  0.3194, -0.5816, -0.1853],\n",
      "        [-0.2833,  0.1357,  0.4151, -0.6174, -0.5839,  0.1009,  0.2746, -0.6766,\n",
      "          0.6212,  0.0741, -0.1207, -0.3489, -0.5795, -0.2049, -0.2370, -0.2934,\n",
      "         -0.0051,  0.8700, -0.5919,  0.1777]], grad_fn=<AddmmBackward0>)\n",
      "\n",
      "\n",
      "After ReLU: tensor([[0.1697, 0.1061, 0.1238, 0.0000, 0.0000, 0.0400, 0.0921, 0.0000, 0.4513,\n",
      "         0.1011, 0.0000, 0.0000, 0.0000, 0.0000, 0.0000, 0.0000, 0.0000, 0.4543,\n",
      "         0.0000, 0.2224],\n",
      "        [0.0000, 0.0000, 0.7150, 0.0000, 0.0000, 0.0000, 0.3065, 0.0000, 0.3970,\n",
      "         0.3051, 0.0000, 0.0000, 0.0000, 0.0000, 0.0000, 0.0000, 0.1349, 0.3194,\n",
      "         0.0000, 0.0000],\n",
      "        [0.0000, 0.1357, 0.4151, 0.0000, 0.0000, 0.1009, 0.2746, 0.0000, 0.6212,\n",
      "         0.0741, 0.0000, 0.0000, 0.0000, 0.0000, 0.0000, 0.0000, 0.0000, 0.8700,\n",
      "         0.0000, 0.1777]], grad_fn=<ReluBackward0>)\n"
     ]
    }
   ],
   "source": [
    "print(f\"Before ReLU: {hidden1}\\n\\n\")\n",
    "hidden1 = nn.ReLU()(hidden1)\n",
    "print(f\"After ReLU: {hidden1}\")"
   ]
  },
  {
   "cell_type": "markdown",
   "metadata": {},
   "source": [
    "Bentuk Berderet\n",
    "-------------\n",
    "\n",
    "`nn.Sequential <https://pytorch.org/docs/stable/generated/torch.nn.Sequential.html>`_ adalah sebuah modul dengan susunan deretan modul. Data diolah melalui semua modul sesuai urutan yang diberikan. \n",
    "\n"
   ]
  },
  {
   "cell_type": "code",
   "execution_count": 10,
   "metadata": {},
   "outputs": [
    {
     "data": {
      "text/plain": [
       "tensor([[-0.0387,  0.0967, -0.4055,  0.0694, -0.1052, -0.1038,  0.1487,  0.0320,\n",
       "         -0.1925, -0.1822],\n",
       "        [ 0.1568,  0.0387, -0.1892,  0.0694,  0.0453, -0.0829,  0.0838,  0.0194,\n",
       "         -0.3139, -0.1935],\n",
       "        [ 0.0647,  0.0620, -0.2948,  0.0395, -0.0257, -0.1204,  0.1684,  0.1119,\n",
       "         -0.2060, -0.2027]], grad_fn=<AddmmBackward0>)"
      ]
     },
     "execution_count": 10,
     "metadata": {},
     "output_type": "execute_result"
    }
   ],
   "source": [
    "layer2 = nn.Linear(20, 10)\n",
    "actf = nn.ReLU()\n",
    "\n",
    "seq_modules = nn.Sequential(\n",
    "    flatten,\n",
    "    layer1,\n",
    "    actf,\n",
    "    layer2\n",
    ")\n",
    "input_image = torch.rand(3,28,28)\n",
    "logits = seq_modules(input_image)\n",
    "logits"
   ]
  },
  {
   "cell_type": "markdown",
   "metadata": {},
   "source": [
    "Bentuk Tensor (Alternatif)\n",
    "-------------\n",
    "\n",
    "Neural network dapat pula disusun sesuai deretan operasi tensor dari input menuju output\n",
    "\n"
   ]
  },
  {
   "cell_type": "markdown",
   "metadata": {},
   "source": [
    "#### Soal\n",
    "Lanjutkan operasi tensor berikut untuk menghasilkan logits yang sama dengan bentuk sequential"
   ]
  },
  {
   "cell_type": "code",
   "execution_count": 11,
   "metadata": {},
   "outputs": [
    {
     "data": {
      "text/plain": [
       "tensor([[-0.0387,  0.0967, -0.4055,  0.0694, -0.1052, -0.1038,  0.1487,  0.0320,\n",
       "         -0.1925, -0.1822],\n",
       "        [ 0.1568,  0.0387, -0.1892,  0.0694,  0.0453, -0.0829,  0.0838,  0.0194,\n",
       "         -0.3139, -0.1935],\n",
       "        [ 0.0647,  0.0620, -0.2948,  0.0395, -0.0257, -0.1204,  0.1684,  0.1119,\n",
       "         -0.2060, -0.2027]], grad_fn=<AddmmBackward0>)"
      ]
     },
     "execution_count": 11,
     "metadata": {},
     "output_type": "execute_result"
    }
   ],
   "source": [
    "x = flatten(input_image)\n",
    "x = layer1(x)\n",
    "x = actf(x)\n",
    "logits = layer2(x)\n",
    "logits"
   ]
  },
  {
   "cell_type": "markdown",
   "metadata": {},
   "source": [
    "Softmax\n",
    "---------------\n",
    "\n",
    "Lapisan paling akhir pada model kita mengeluarkan `logits` - nilai diantara [-\\infty, \\infty] - sebagai input dari modul\n",
    "`nn.Softmax <https://pytorch.org/docs/stable/generated/torch.nn.Softmax.html>`_. Hasilnya adalah nilai diantara\n",
    "[0, 1] sebagai representasi peluang prediksi untuk setiap kelas. parameter ``dim`` mengindikasikan pilihan dimensi mana yang jumlahnya harus 1.\n",
    "\n"
   ]
  },
  {
   "cell_type": "code",
   "execution_count": 12,
   "metadata": {},
   "outputs": [
    {
     "data": {
      "text/plain": [
       "tensor([[0.1018, 0.1165, 0.0705, 0.1134, 0.0952, 0.0953, 0.1227, 0.1092, 0.0872,\n",
       "         0.0882],\n",
       "        [0.1201, 0.1068, 0.0850, 0.1101, 0.1075, 0.0945, 0.1117, 0.1047, 0.0750,\n",
       "         0.0846],\n",
       "        [0.1099, 0.1096, 0.0767, 0.1071, 0.1004, 0.0913, 0.1219, 0.1152, 0.0838,\n",
       "         0.0841]], grad_fn=<SoftmaxBackward0>)"
      ]
     },
     "execution_count": 12,
     "metadata": {},
     "output_type": "execute_result"
    }
   ],
   "source": [
    "softmax = nn.Softmax(dim=1)\n",
    "pred_probab = softmax(logits)\n",
    "pred_probab"
   ]
  },
  {
   "cell_type": "markdown",
   "metadata": {},
   "source": [
    "Dropout\n",
    "--------\n",
    "\n",
    "Regularisasi dropout dapat diimplementasi dengan menambah lapisan dropout pada bobot yang memerlukannya"
   ]
  },
  {
   "cell_type": "code",
   "execution_count": 13,
   "metadata": {},
   "outputs": [
    {
     "data": {
      "text/plain": [
       "tensor([[0.0000, 0.0000, 0.9484, 0.0000, 0.6332, 1.0768, 0.0744, 0.8345, 0.2476,\n",
       "         0.1024, 1.2327, 0.6415, 0.2819, 0.7403, 1.2362, 0.9083, 0.5358, 0.0000,\n",
       "         0.1323, 0.0000, 1.0722, 0.1814, 0.8420, 0.7757, 0.0000, 1.1975, 0.8974,\n",
       "         0.0000],\n",
       "        [1.2098, 0.4696, 0.0000, 0.9036, 0.0000, 1.2271, 1.1877, 1.0228, 0.0307,\n",
       "         0.7914, 0.1858, 0.0000, 0.1783, 0.3027, 0.0964, 0.6793, 0.0000, 0.4407,\n",
       "         0.0000, 0.8999, 0.1926, 0.4496, 0.0000, 0.0000, 0.0000, 0.0982, 0.4198,\n",
       "         1.0683],\n",
       "        [0.9592, 0.9619, 0.0000, 0.5762, 0.5279, 0.6074, 0.5544, 0.8796, 1.0165,\n",
       "         0.9002, 0.3919, 0.1935, 0.0000, 1.1020, 0.2986, 0.0000, 0.4470, 0.9719,\n",
       "         0.0075, 1.1150, 0.3184, 0.3899, 0.1475, 0.9139, 1.2101, 0.1627, 0.3868,\n",
       "         0.7079],\n",
       "        [0.4487, 0.4563, 0.3582, 0.7739, 0.6885, 0.0000, 0.7130, 0.6431, 0.0000,\n",
       "         0.7899, 0.5576, 0.1256, 0.7449, 0.0000, 0.7458, 0.7652, 1.1401, 0.8837,\n",
       "         0.4103, 0.0000, 0.6466, 0.4575, 0.3028, 1.0443, 0.1901, 0.8312, 0.3314,\n",
       "         0.0000],\n",
       "        [0.8289, 0.1610, 0.5359, 0.0000, 1.0209, 0.0788, 0.8753, 0.0589, 0.2892,\n",
       "         1.1988, 0.0000, 0.9451, 0.2396, 0.1309, 0.3656, 1.2459, 1.2237, 1.0810,\n",
       "         0.9611, 0.4698, 1.0483, 0.9639, 0.1530, 1.2056, 0.0000, 0.3901, 0.8374,\n",
       "         0.3864],\n",
       "        [1.2252, 0.0000, 0.0000, 0.1879, 0.4468, 1.1901, 0.8353, 0.0000, 0.0519,\n",
       "         0.0425, 0.8071, 0.0000, 0.1526, 0.8298, 0.1302, 0.0000, 0.9368, 0.0000,\n",
       "         0.0250, 0.0502, 1.1802, 0.7709, 0.2588, 1.0905, 0.3423, 0.0000, 0.7193,\n",
       "         0.0000],\n",
       "        [0.6551, 0.0000, 0.6989, 0.6564, 1.2426, 1.0017, 0.0000, 0.0000, 0.6255,\n",
       "         0.4595, 0.4173, 0.0000, 0.0365, 0.5773, 0.0000, 0.8272, 0.0000, 0.0000,\n",
       "         0.0252, 0.2055, 0.1716, 1.0522, 0.2951, 0.0595, 0.0941, 0.7133, 1.2375,\n",
       "         0.0000],\n",
       "        [1.1263, 0.1931, 1.2124, 0.0245, 0.7959, 0.0000, 0.5961, 1.1180, 0.0000,\n",
       "         0.3653, 0.3019, 0.3208, 0.1192, 0.0079, 0.8098, 0.4611, 1.1671, 0.0000,\n",
       "         1.1987, 0.6929, 0.0000, 1.2350, 0.0000, 0.0590, 0.8421, 0.0000, 0.5137,\n",
       "         1.0462],\n",
       "        [0.1801, 0.0000, 0.0000, 0.0717, 0.7528, 1.0349, 0.8550, 0.5057, 1.2320,\n",
       "         0.8812, 0.5468, 0.1616, 0.0247, 0.5308, 0.4425, 0.0491, 0.7536, 0.6471,\n",
       "         0.0000, 0.8769, 0.0000, 0.6650, 0.4303, 0.2786, 0.8108, 0.8652, 0.0000,\n",
       "         0.2882],\n",
       "        [0.7539, 0.0000, 0.4259, 0.0000, 0.7894, 0.9635, 0.4191, 0.0000, 0.9738,\n",
       "         0.3688, 0.0000, 0.9298, 0.0000, 1.2492, 0.8315, 0.6620, 0.0000, 0.7674,\n",
       "         1.1717, 0.2855, 0.0000, 0.5213, 1.0336, 0.0000, 0.0000, 0.9754, 0.3469,\n",
       "         0.1434],\n",
       "        [1.0659, 0.6061, 0.7614, 0.0000, 0.9922, 0.6057, 0.8414, 0.8308, 0.0695,\n",
       "         0.9490, 0.1898, 0.5978, 0.0000, 1.0514, 0.1343, 0.2221, 0.7692, 0.4268,\n",
       "         1.0787, 1.0844, 0.2541, 1.1172, 0.9161, 0.8493, 0.6740, 0.0649, 0.6203,\n",
       "         0.5158],\n",
       "        [0.4682, 0.6026, 1.2161, 0.5956, 1.1438, 0.8440, 0.8080, 0.0000, 0.5854,\n",
       "         0.0000, 0.8562, 0.8225, 0.5224, 0.1315, 0.4491, 0.3955, 0.4469, 1.1124,\n",
       "         0.7700, 0.0000, 0.6099, 1.0256, 1.1577, 0.5160, 0.0000, 1.1432, 0.4643,\n",
       "         0.4011],\n",
       "        [0.1348, 0.0000, 0.2636, 0.7262, 0.7573, 0.1356, 0.7351, 0.8133, 0.3959,\n",
       "         0.9341, 1.0557, 0.4587, 0.1354, 0.1443, 0.0641, 0.1862, 0.4640, 0.6328,\n",
       "         0.0054, 0.1184, 0.3690, 0.8005, 0.3931, 0.9435, 0.0000, 0.2811, 0.6730,\n",
       "         0.3109],\n",
       "        [0.6682, 0.2038, 0.9080, 0.0000, 0.2782, 0.9292, 0.5098, 0.1541, 0.2604,\n",
       "         1.2497, 0.1161, 0.0000, 0.4930, 0.7331, 1.2416, 0.4638, 0.5250, 0.0000,\n",
       "         0.0000, 0.2759, 0.8006, 0.5900, 1.2262, 1.1600, 0.8585, 0.0000, 0.0035,\n",
       "         0.0000],\n",
       "        [0.5480, 0.6524, 0.2335, 0.7296, 0.8074, 0.4178, 0.0000, 0.8976, 0.5370,\n",
       "         0.3578, 0.9605, 0.8034, 0.1183, 0.5410, 0.2044, 0.0000, 0.1614, 0.3370,\n",
       "         0.1423, 0.0000, 0.5807, 0.5179, 0.5454, 1.0736, 0.0000, 0.0000, 0.3773,\n",
       "         0.0709],\n",
       "        [1.2089, 0.2013, 1.0186, 0.5079, 1.0559, 0.0000, 0.0363, 0.0000, 0.2802,\n",
       "         0.7151, 0.1163, 0.1671, 0.1095, 0.0000, 0.6026, 0.8046, 0.6846, 0.5260,\n",
       "         0.0000, 1.0594, 0.0000, 0.0000, 0.0000, 0.0000, 1.1740, 0.9728, 0.0000,\n",
       "         0.2068],\n",
       "        [0.0000, 0.1458, 1.2073, 0.1268, 0.8362, 1.0900, 0.9363, 0.0000, 0.5498,\n",
       "         0.1268, 1.0321, 0.8056, 0.0329, 0.0000, 0.0000, 0.8755, 0.1966, 0.5179,\n",
       "         0.0000, 0.8624, 1.0920, 0.0000, 0.0000, 0.3556, 0.2629, 1.0566, 0.0000,\n",
       "         0.0000],\n",
       "        [0.8189, 0.6528, 0.4680, 1.0067, 0.2123, 0.1393, 1.1944, 1.2358, 0.0000,\n",
       "         0.1409, 1.0884, 0.5319, 0.5180, 0.0000, 0.7316, 0.0000, 0.0933, 1.2019,\n",
       "         1.1085, 0.8500, 1.1322, 0.3718, 1.1875, 1.0342, 0.0000, 1.1140, 0.8753,\n",
       "         0.0000],\n",
       "        [0.5683, 1.0246, 1.1525, 0.0458, 0.3785, 0.0000, 1.2315, 0.0758, 1.2423,\n",
       "         1.2361, 0.0000, 1.0651, 0.3602, 0.7290, 0.6588, 0.0000, 0.0000, 0.3592,\n",
       "         0.1158, 0.0000, 0.5103, 0.0000, 1.1529, 0.8055, 1.0554, 0.0634, 0.0000,\n",
       "         0.0000],\n",
       "        [1.1084, 0.1577, 0.2527, 0.1356, 0.0460, 0.9115, 0.0000, 0.2557, 0.0000,\n",
       "         1.0495, 0.8182, 0.8906, 0.4661, 0.9201, 0.2046, 0.0000, 1.2085, 0.6934,\n",
       "         0.4194, 0.4553, 1.0684, 0.0000, 0.1844, 0.5205, 0.0000, 0.0000, 0.4036,\n",
       "         0.9139],\n",
       "        [0.2929, 0.6640, 0.6504, 0.2939, 0.8122, 0.0000, 0.5018, 0.4656, 0.1841,\n",
       "         0.2180, 0.5534, 0.4775, 0.3103, 0.0000, 0.4524, 1.0193, 1.1030, 0.0000,\n",
       "         0.0000, 0.5950, 1.0738, 0.0000, 0.0525, 0.3145, 0.0175, 1.1639, 0.0000,\n",
       "         0.4967],\n",
       "        [0.6222, 0.0836, 0.2145, 0.9321, 0.9956, 0.8434, 0.0000, 0.3955, 0.7851,\n",
       "         0.5429, 0.6090, 0.0000, 0.5866, 0.0000, 0.4825, 0.7455, 1.2040, 0.4110,\n",
       "         0.2265, 0.1048, 0.7640, 0.8335, 0.9991, 0.0000, 0.0168, 0.7537, 0.7670,\n",
       "         0.9716],\n",
       "        [0.5612, 0.1235, 0.0000, 0.5294, 0.0000, 0.0000, 0.9238, 0.4153, 0.6480,\n",
       "         0.4707, 0.6227, 0.0765, 0.0000, 0.0000, 0.3170, 0.8751, 0.0000, 0.4126,\n",
       "         0.1459, 0.1819, 0.0000, 0.5175, 0.6315, 1.0063, 0.1598, 0.7899, 1.0493,\n",
       "         0.0267],\n",
       "        [0.4907, 0.2996, 1.2082, 1.2210, 0.0000, 1.0771, 0.0071, 0.6158, 0.0000,\n",
       "         0.0686, 0.4297, 1.2465, 0.4660, 0.7531, 0.4010, 0.0000, 0.0000, 0.0000,\n",
       "         0.6011, 1.0250, 0.2278, 0.9417, 0.0000, 1.2459, 0.8316, 1.2122, 0.7114,\n",
       "         1.1428],\n",
       "        [0.4806, 0.0381, 0.5667, 0.8449, 0.6288, 0.8255, 0.5397, 0.1626, 0.0000,\n",
       "         0.7047, 0.7830, 1.0081, 0.0944, 0.9370, 0.0000, 0.3925, 0.0000, 0.1585,\n",
       "         0.9176, 0.6027, 0.0000, 0.5004, 0.6247, 1.0597, 0.7975, 0.4951, 0.1419,\n",
       "         0.8132],\n",
       "        [0.0000, 1.1507, 0.4282, 1.1206, 0.7152, 0.8220, 0.2016, 0.0000, 0.1738,\n",
       "         0.4788, 0.5709, 0.0000, 0.6889, 0.4979, 0.6257, 0.0940, 0.9114, 0.4585,\n",
       "         0.0784, 1.0658, 0.0086, 1.0747, 0.0000, 0.7782, 0.7277, 1.0906, 0.0054,\n",
       "         0.3475],\n",
       "        [0.1607, 0.0647, 1.2385, 0.0000, 0.0422, 0.4506, 0.9361, 0.4892, 0.0000,\n",
       "         0.3038, 0.4175, 0.0000, 0.1114, 0.2877, 0.0000, 0.4930, 0.9992, 0.0000,\n",
       "         0.7739, 0.8323, 0.4604, 0.6408, 0.7922, 0.0000, 0.0000, 0.0000, 0.4485,\n",
       "         0.2542],\n",
       "        [0.0349, 0.6513, 1.2035, 0.0000, 0.0000, 0.1999, 0.0000, 0.7554, 0.5513,\n",
       "         0.9386, 0.5754, 0.3575, 0.4128, 0.2574, 0.0227, 0.6098, 0.0000, 0.0487,\n",
       "         0.5889, 0.0686, 0.0653, 0.0000, 0.3604, 0.7791, 1.1361, 0.7277, 1.0065,\n",
       "         0.6415]])"
      ]
     },
     "execution_count": 13,
     "metadata": {},
     "output_type": "execute_result"
    }
   ],
   "source": [
    "m = nn.Dropout(p=0.2)\n",
    "output = m(input_image)\n",
    "output[0]"
   ]
  },
  {
   "cell_type": "code",
   "execution_count": 14,
   "metadata": {},
   "outputs": [
    {
     "data": {
      "text/plain": [
       "tensor([0.0000, 0.0000, 0.0000, 0.0000, 0.0000, 0.3044, 0.9402, 0.0000, 0.0000,\n",
       "        0.0000, 0.0000, 0.0000, 0.0000, 0.0000, 0.0000, 0.0000, 0.0000, 0.0000,\n",
       "        0.0000, 0.4998], grad_fn=<SelectBackward0>)"
      ]
     },
     "execution_count": 14,
     "metadata": {},
     "output_type": "execute_result"
    }
   ],
   "source": [
    "m = nn.Dropout(p=0.5)\n",
    "output = m(x)\n",
    "output[0]"
   ]
  },
  {
   "cell_type": "markdown",
   "metadata": {},
   "source": [
    "Normalisasi Batch\n",
    "---------\n",
    "\n",
    "Normalisasi batch"
   ]
  },
  {
   "cell_type": "code",
   "execution_count": 15,
   "metadata": {},
   "outputs": [
    {
     "data": {
      "text/plain": [
       "tensor([ 1.3110, -0.7021,  1.3761,  0.0000,  0.0000,  0.0747,  1.4072,  0.0000,\n",
       "         1.3997, -0.0171,  0.0000,  0.0000,  0.0000,  0.0000,  0.0000,  0.0000,\n",
       "         0.8343, -1.1372,  0.0000,  0.9096], grad_fn=<SelectBackward0>)"
      ]
     },
     "execution_count": 15,
     "metadata": {},
     "output_type": "execute_result"
    }
   ],
   "source": [
    "m = nn.BatchNorm1d(x.shape[1])\n",
    "output = m(x)\n",
    "output[0]"
   ]
  },
  {
   "cell_type": "code",
   "execution_count": 16,
   "metadata": {},
   "outputs": [
    {
     "data": {
      "text/plain": [
       "tensor([-1.2468,  1.2861, -1.2334,  0.6909, -1.2454, -0.0908,  0.4154, -0.5469,\n",
       "         0.8262,  1.1819], grad_fn=<SelectBackward0>)"
      ]
     },
     "execution_count": 16,
     "metadata": {},
     "output_type": "execute_result"
    }
   ],
   "source": [
    "m = nn.BatchNorm1d(logits.shape[1])\n",
    "output = m(logits)\n",
    "output[0]"
   ]
  },
  {
   "cell_type": "markdown",
   "metadata": {},
   "source": [
    "Parameter Model\n",
    "-------------------------\n",
    "Banyak lapisan dalam neural network adalah parameter, yaitu memiliki bobot yang akan dioptimalisasi selama training\n",
    "``nn.Module`` otomatis melacak semua isi dalam objek model, dan membuat semua parameter terakses menggunakan metode ``parameters()`` atau ``named_parameters()``.\n",
    "\n",
    "Di contoh ini, kita iterasi setiap parameter, lalu mencetak ukurannya dan melihat nilainya.\n",
    "\n",
    "\n"
   ]
  },
  {
   "cell_type": "code",
   "execution_count": 17,
   "metadata": {},
   "outputs": [
    {
     "name": "stdout",
     "output_type": "stream",
     "text": [
      "Model structure:  NeuralNetwork(\n",
      "  (flatten): Flatten(start_dim=1, end_dim=-1)\n",
      "  (linear_relu_stack): Sequential(\n",
      "    (0): Linear(in_features=784, out_features=512, bias=True)\n",
      "    (1): ReLU()\n",
      "    (2): Linear(in_features=512, out_features=512, bias=True)\n",
      "    (3): ReLU()\n",
      "    (4): Linear(in_features=512, out_features=3, bias=True)\n",
      "  )\n",
      ") \n",
      "\n",
      "\n",
      "Layer: linear_relu_stack.0.weight | Size: torch.Size([512, 784]) | Values : tensor([[-0.0077,  0.0086, -0.0194,  ..., -0.0323,  0.0110, -0.0199],\n",
      "        [ 0.0051,  0.0096,  0.0271,  ...,  0.0196, -0.0031,  0.0201]],\n",
      "       grad_fn=<SliceBackward0>) \n",
      "\n",
      "Layer: linear_relu_stack.0.bias | Size: torch.Size([512]) | Values : tensor([ 0.0237, -0.0108], grad_fn=<SliceBackward0>) \n",
      "\n",
      "Layer: linear_relu_stack.2.weight | Size: torch.Size([512, 512]) | Values : tensor([[ 0.0111, -0.0242,  0.0073,  ...,  0.0102, -0.0350,  0.0363],\n",
      "        [-0.0284,  0.0179, -0.0415,  ..., -0.0106, -0.0209,  0.0250]],\n",
      "       grad_fn=<SliceBackward0>) \n",
      "\n",
      "Layer: linear_relu_stack.2.bias | Size: torch.Size([512]) | Values : tensor([0.0404, 0.0028], grad_fn=<SliceBackward0>) \n",
      "\n",
      "Layer: linear_relu_stack.4.weight | Size: torch.Size([3, 512]) | Values : tensor([[ 0.0284,  0.0016, -0.0111,  ...,  0.0230,  0.0328, -0.0154],\n",
      "        [ 0.0213, -0.0241, -0.0362,  ...,  0.0398, -0.0093, -0.0219]],\n",
      "       grad_fn=<SliceBackward0>) \n",
      "\n",
      "Layer: linear_relu_stack.4.bias | Size: torch.Size([3]) | Values : tensor([0.0258, 0.0349], grad_fn=<SliceBackward0>) \n",
      "\n"
     ]
    }
   ],
   "source": [
    "print(\"Model structure: \", model, \"\\n\\n\")\n",
    "\n",
    "for name, param in model.named_parameters():\n",
    "    print(f\"Layer: {name} | Size: {param.size()} | Values : {param[:2]} \\n\")"
   ]
  },
  {
   "cell_type": "markdown",
   "metadata": {},
   "source": [
    "--------------\n",
    "\n",
    "\n"
   ]
  },
  {
   "cell_type": "markdown",
   "metadata": {},
   "source": [
    "#### Soal\n",
    "\n",
    "Buatlah kelas neural network baru yang sama persis dengan kelas sebelumnya namun menggunakan bentuk tensor"
   ]
  },
  {
   "cell_type": "code",
   "execution_count": 18,
   "metadata": {},
   "outputs": [
    {
     "name": "stdout",
     "output_type": "stream",
     "text": [
      "NeuralNetwork(\n",
      "  (flatten): Flatten(start_dim=1, end_dim=-1)\n",
      "  (layer1): Linear(in_features=784, out_features=512, bias=True)\n",
      "  (layer2): Linear(in_features=512, out_features=512, bias=True)\n",
      "  (layer3): Linear(in_features=512, out_features=3, bias=True)\n",
      "  (relu): ReLU()\n",
      ")\n"
     ]
    }
   ],
   "source": [
    "class NeuralNetwork(nn.Module):\n",
    "    def __init__(self):\n",
    "        super(NeuralNetwork, self).__init__()\n",
    "        self.flatten = nn.Flatten()\n",
    "        self.layer1 = nn.Linear(28*28, 512)\n",
    "        self.layer2 = nn.Linear(512, 512)\n",
    "        self.layer3 = nn.Linear(512, 3)\n",
    "        self.relu = nn.ReLU()\n",
    "\n",
    "    def forward(self, x):\n",
    "        x = self.flatten(x)\n",
    "        x = self.layer1(x)\n",
    "        x = self.relu(x)\n",
    "        x = self.layer2(x)\n",
    "        x = self.relu(x)\n",
    "        logits = self.layer3(x)\n",
    "        prob = nn.Softmax(dim=1)(logits)\n",
    "        return prob\n",
    "    \n",
    "NNet = NeuralNetwork().to(device)\n",
    "print(NNet)"
   ]
  },
  {
   "cell_type": "markdown",
   "metadata": {},
   "source": [
    "#### Soal\n",
    "\n",
    "Buatlah kelas neural network baru (dengan nama NeuralNetworkReg) yang sama persis dengan kelas sebelumnya namun ditambah dengan memakai regularisasi dropout di setiap hidden layers, dan inisiasi xavier/He untuk setiap lapisan bobot"
   ]
  },
  {
   "cell_type": "code",
   "execution_count": 19,
   "metadata": {},
   "outputs": [
    {
     "name": "stdout",
     "output_type": "stream",
     "text": [
      "NeuralNetworkReg(\n",
      "  (flatten): Flatten(start_dim=1, end_dim=-1)\n",
      "  (layer1): Linear(in_features=784, out_features=512, bias=True)\n",
      "  (layer2): Linear(in_features=512, out_features=512, bias=True)\n",
      "  (layer3): Linear(in_features=512, out_features=3, bias=True)\n",
      "  (relu): ReLU()\n",
      "  (mask): Dropout(p=0.5, inplace=False)\n",
      ")\n"
     ]
    }
   ],
   "source": [
    "class NeuralNetworkReg(nn.Module):\n",
    "    def __init__(self):\n",
    "        super(NeuralNetworkReg, self).__init__()\n",
    "        self.flatten = nn.Flatten()\n",
    "        self.layer1 = nn.Linear(28*28, 512)\n",
    "        #torch.nn.init.xavier_normal_(self.layer1.weight)\n",
    "        torch.nn.init.kaiming_uniform_(self.layer1.weight, mode='fan_in', nonlinearity='relu')\n",
    "        self.layer2 = nn.Linear(512, 512)\n",
    "        #torch.nn.init.xavier_normal_(self.layer2.weight)\n",
    "        torch.nn.init.kaiming_uniform_(self.layer2.weight, mode='fan_in', nonlinearity='relu')\n",
    "        self.layer3 = nn.Linear(512, 3)\n",
    "        #torch.nn.init.xavier_normal_(self.layer3.weight)\n",
    "        torch.nn.init.kaiming_uniform_(self.layer3.weight, mode='fan_in', nonlinearity='relu')\n",
    "        self.relu = nn.ReLU()\n",
    "        self.mask = nn.Dropout(p=0.5)\n",
    "\n",
    "    def forward(self, x):\n",
    "        x = self.flatten(x)\n",
    "        x = self.layer1(x)\n",
    "        x = self.mask(x)\n",
    "        x = self.relu(x)\n",
    "        x = self.layer2(x)\n",
    "        x = self.mask(x)\n",
    "        x = self.relu(x)\n",
    "        logits = self.layer3(x)\n",
    "        prob = nn.Softmax(dim=1)(logits)\n",
    "        return prob\n",
    "    \n",
    "NNetReg = NeuralNetworkReg().to(device)\n",
    "print(NNetReg)"
   ]
  },
  {
   "cell_type": "markdown",
   "metadata": {},
   "source": [
    "Buatlah data input dan label"
   ]
  },
  {
   "cell_type": "code",
   "execution_count": 20,
   "metadata": {},
   "outputs": [
    {
     "name": "stdout",
     "output_type": "stream",
     "text": [
      "torch.Size([100, 28, 28])\n",
      "torch.Size([100])\n"
     ]
    }
   ],
   "source": [
    "input_image = torch.rand(100,28,28)\n",
    "label_image = torch.randint(0, 3, (100,))\n",
    "print(input_image.size())\n",
    "print(label_image.size())\n"
   ]
  },
  {
   "cell_type": "markdown",
   "metadata": {},
   "source": [
    "Hitung prediksi model dan bandingkan dengan label"
   ]
  },
  {
   "cell_type": "code",
   "execution_count": 21,
   "metadata": {},
   "outputs": [
    {
     "name": "stdout",
     "output_type": "stream",
     "text": [
      "Prediksi: tensor([0, 0, 0, 0, 1, 0, 0, 1, 1, 0, 0, 1, 1, 0, 1, 1, 1, 1, 0, 1, 1, 2, 1, 0,\n",
      "        1, 1, 0, 1, 1, 0, 2, 1, 0, 1, 0, 1, 0, 0, 0, 1, 0, 0, 1, 1, 0, 1, 1, 1,\n",
      "        1, 0, 1, 0, 0, 1, 0, 0, 0, 1, 0, 2, 1, 0, 1, 1, 0, 1, 0, 0, 1, 1, 1, 1,\n",
      "        0, 1, 0, 0, 0, 0, 1, 0, 0, 0, 1, 1, 0, 1, 1, 1, 0, 1, 0, 0, 1, 0, 0, 1,\n",
      "        0, 0, 0, 0])\n",
      "Label: tensor([2, 0, 2, 1, 0, 1, 2, 2, 1, 2, 0, 0, 2, 1, 1, 1, 0, 0, 1, 2, 2, 0, 0, 2,\n",
      "        2, 2, 2, 1, 2, 0, 0, 2, 2, 1, 0, 2, 2, 0, 1, 0, 0, 2, 0, 1, 2, 0, 0, 1,\n",
      "        2, 1, 1, 1, 2, 0, 0, 0, 0, 0, 2, 1, 1, 0, 1, 1, 0, 2, 0, 0, 0, 0, 1, 2,\n",
      "        0, 1, 0, 0, 1, 2, 2, 2, 0, 0, 0, 0, 2, 0, 2, 2, 1, 1, 2, 0, 2, 1, 2, 2,\n",
      "        1, 1, 0, 2])\n",
      "akurasi: 0.3400000035762787\n"
     ]
    }
   ],
   "source": [
    "X = input_image.to(device)\n",
    "y = label_image.to(device)\n",
    "prob = NNet(X)\n",
    "y_pred = prob.argmax(1)\n",
    "print(f\"Prediksi: {y_pred}\")\n",
    "print(f\"Label: {y}\")\n",
    "print(f\"akurasi: {torch.sum(y_pred == y)/len(y_pred)}\")"
   ]
  },
  {
   "cell_type": "markdown",
   "metadata": {},
   "source": [
    "Hitunglah loss function dengan menggunakan cross entropy"
   ]
  },
  {
   "cell_type": "code",
   "execution_count": 22,
   "metadata": {},
   "outputs": [
    {
     "name": "stdout",
     "output_type": "stream",
     "text": [
      "tensor(1.0988, grad_fn=<NllLossBackward0>)\n"
     ]
    }
   ],
   "source": [
    "criterion = nn.CrossEntropyLoss()\n",
    "loss = criterion(prob, y)\n",
    "print(loss)"
   ]
  },
  {
   "cell_type": "markdown",
   "metadata": {},
   "source": [
    "Penalti Norm \n",
    "----------\n",
    "Regularisasi penalti dapat diimplementasi secara manual dengan modifikasi loss function atau secara otomatis dengan menggunakan weight decay"
   ]
  },
  {
   "cell_type": "code",
   "execution_count": 23,
   "metadata": {},
   "outputs": [],
   "source": [
    "l2_lambda = 0.001\n",
    "l2_norm = sum(p.pow(2.0).sum() for p in NNet.parameters())\n",
    "loss_reg = loss + l2_lambda * l2_norm"
   ]
  },
  {
   "cell_type": "code",
   "execution_count": 24,
   "metadata": {},
   "outputs": [],
   "source": [
    "sgd = torch.optim.SGD(NNet.parameters(), lr=0.1, weight_decay=l2_lambda)\n"
   ]
  },
  {
   "cell_type": "markdown",
   "metadata": {},
   "source": [
    "Gunakan Backpropagation dan gradient descent untuk mengubah bobot dengan memakai regularisasi l2"
   ]
  },
  {
   "cell_type": "code",
   "execution_count": 25,
   "metadata": {},
   "outputs": [
    {
     "name": "stdout",
     "output_type": "stream",
     "text": [
      "tensor(1.0988, grad_fn=<NllLossBackward0>)\n"
     ]
    }
   ],
   "source": [
    "import torch.optim as optim\n",
    "\n",
    "# create your optimizer\n",
    "optimizer = optim.SGD(NNet.parameters(), lr=0.1, weight_decay=l2_lambda)\n",
    "\n",
    "# in your training loop:\n",
    "optimizer.zero_grad()   # zero the gradient buffers\n",
    "prob = NNet(X)\n",
    "loss = criterion(prob, y)\n",
    "loss.backward()     #backprop\n",
    "optimizer.step()    #update\n",
    "print(loss)"
   ]
  },
  {
   "cell_type": "markdown",
   "metadata": {},
   "source": [
    "Cara gradient descent manual"
   ]
  },
  {
   "cell_type": "code",
   "execution_count": 29,
   "metadata": {},
   "outputs": [],
   "source": [
    "learning_rate = 0.1\n",
    "for p in NNet.parameters():\n",
    "    p.data.sub_(p.grad.data * learning_rate)"
   ]
  },
  {
   "cell_type": "markdown",
   "metadata": {},
   "source": [
    "Hitung kembali akurasi"
   ]
  },
  {
   "cell_type": "code",
   "execution_count": 30,
   "metadata": {},
   "outputs": [
    {
     "name": "stdout",
     "output_type": "stream",
     "text": [
      "Prediksi: tensor([2, 2, 2, 2, 0, 2, 2, 2, 2, 2, 0, 2, 2, 2, 2, 2, 2, 0, 2, 2, 2, 2, 2, 2,\n",
      "        2, 2, 2, 2, 2, 0, 0, 2, 2, 2, 2, 2, 2, 2, 2, 0, 0, 2, 2, 2, 2, 0, 2, 2,\n",
      "        2, 2, 2, 2, 2, 2, 2, 0, 2, 0, 2, 2, 2, 0, 2, 2, 0, 2, 2, 0, 2, 0, 2, 2,\n",
      "        0, 2, 2, 2, 2, 2, 2, 2, 0, 2, 2, 0, 2, 2, 2, 2, 2, 2, 2, 2, 2, 2, 2, 2,\n",
      "        2, 2, 2, 2])\n",
      "Label: tensor([2, 0, 2, 1, 0, 1, 2, 2, 1, 2, 0, 0, 2, 1, 1, 1, 0, 0, 1, 2, 2, 0, 0, 2,\n",
      "        2, 2, 2, 1, 2, 0, 0, 2, 2, 1, 0, 2, 2, 0, 1, 0, 0, 2, 0, 1, 2, 0, 0, 1,\n",
      "        2, 1, 1, 1, 2, 0, 0, 0, 0, 0, 2, 1, 1, 0, 1, 1, 0, 2, 0, 0, 0, 0, 1, 2,\n",
      "        0, 1, 0, 0, 1, 2, 2, 2, 0, 0, 0, 0, 2, 0, 2, 2, 1, 1, 2, 0, 2, 1, 2, 2,\n",
      "        1, 1, 0, 2])\n",
      "akurasi: 0.5199999809265137\n"
     ]
    }
   ],
   "source": [
    "prob = NNet(X)\n",
    "y_pred = prob.argmax(1)\n",
    "print(f\"Prediksi: {y_pred}\")\n",
    "print(f\"Label: {y}\")\n",
    "print(f\"akurasi: {torch.sum(y_pred == y)/len(y_pred)}\")"
   ]
  },
  {
   "cell_type": "markdown",
   "metadata": {},
   "source": [
    "#### Soal\n",
    "iterasi sampe 100 kali dan plot loss function terhadap iterasi, lalu hitung akurasi"
   ]
  },
  {
   "cell_type": "code",
   "execution_count": 31,
   "metadata": {},
   "outputs": [
    {
     "name": "stdout",
     "output_type": "stream",
     "text": [
      "tensor(0.9794, grad_fn=<NllLossBackward0>)\n",
      "tensor(0.9850, grad_fn=<NllLossBackward0>)\n",
      "tensor(0.9767, grad_fn=<NllLossBackward0>)\n",
      "tensor(0.9806, grad_fn=<NllLossBackward0>)\n",
      "tensor(0.9712, grad_fn=<NllLossBackward0>)\n",
      "tensor(0.9754, grad_fn=<NllLossBackward0>)\n",
      "tensor(0.9676, grad_fn=<NllLossBackward0>)\n",
      "tensor(0.9717, grad_fn=<NllLossBackward0>)\n",
      "tensor(0.9636, grad_fn=<NllLossBackward0>)\n",
      "tensor(0.9687, grad_fn=<NllLossBackward0>)\n",
      "tensor(0.9606, grad_fn=<NllLossBackward0>)\n",
      "tensor(0.9661, grad_fn=<NllLossBackward0>)\n",
      "tensor(0.9577, grad_fn=<NllLossBackward0>)\n",
      "tensor(0.9638, grad_fn=<NllLossBackward0>)\n",
      "tensor(0.9543, grad_fn=<NllLossBackward0>)\n",
      "tensor(0.9606, grad_fn=<NllLossBackward0>)\n",
      "tensor(0.9511, grad_fn=<NllLossBackward0>)\n",
      "tensor(0.9576, grad_fn=<NllLossBackward0>)\n",
      "tensor(0.9475, grad_fn=<NllLossBackward0>)\n",
      "tensor(0.9548, grad_fn=<NllLossBackward0>)\n",
      "tensor(0.9447, grad_fn=<NllLossBackward0>)\n",
      "tensor(0.9515, grad_fn=<NllLossBackward0>)\n",
      "tensor(0.9405, grad_fn=<NllLossBackward0>)\n",
      "tensor(0.9480, grad_fn=<NllLossBackward0>)\n",
      "tensor(0.9373, grad_fn=<NllLossBackward0>)\n",
      "tensor(0.9444, grad_fn=<NllLossBackward0>)\n",
      "tensor(0.9340, grad_fn=<NllLossBackward0>)\n",
      "tensor(0.9415, grad_fn=<NllLossBackward0>)\n",
      "tensor(0.9293, grad_fn=<NllLossBackward0>)\n",
      "tensor(0.9365, grad_fn=<NllLossBackward0>)\n",
      "tensor(0.9268, grad_fn=<NllLossBackward0>)\n",
      "tensor(0.9330, grad_fn=<NllLossBackward0>)\n",
      "tensor(0.9212, grad_fn=<NllLossBackward0>)\n",
      "tensor(0.9275, grad_fn=<NllLossBackward0>)\n",
      "tensor(0.9182, grad_fn=<NllLossBackward0>)\n",
      "tensor(0.9250, grad_fn=<NllLossBackward0>)\n",
      "tensor(0.9130, grad_fn=<NllLossBackward0>)\n",
      "tensor(0.9175, grad_fn=<NllLossBackward0>)\n",
      "tensor(0.9092, grad_fn=<NllLossBackward0>)\n",
      "tensor(0.9156, grad_fn=<NllLossBackward0>)\n",
      "tensor(0.9040, grad_fn=<NllLossBackward0>)\n",
      "tensor(0.9063, grad_fn=<NllLossBackward0>)\n",
      "tensor(0.9004, grad_fn=<NllLossBackward0>)\n",
      "tensor(0.9060, grad_fn=<NllLossBackward0>)\n",
      "tensor(0.8930, grad_fn=<NllLossBackward0>)\n",
      "tensor(0.8934, grad_fn=<NllLossBackward0>)\n",
      "tensor(0.8914, grad_fn=<NllLossBackward0>)\n",
      "tensor(0.8962, grad_fn=<NllLossBackward0>)\n",
      "tensor(0.8797, grad_fn=<NllLossBackward0>)\n",
      "tensor(0.8784, grad_fn=<NllLossBackward0>)\n",
      "tensor(0.8826, grad_fn=<NllLossBackward0>)\n",
      "tensor(0.8863, grad_fn=<NllLossBackward0>)\n",
      "tensor(0.8619, grad_fn=<NllLossBackward0>)\n",
      "tensor(0.8606, grad_fn=<NllLossBackward0>)\n",
      "tensor(0.8818, grad_fn=<NllLossBackward0>)\n",
      "tensor(0.8728, grad_fn=<NllLossBackward0>)\n",
      "tensor(0.8287, grad_fn=<NllLossBackward0>)\n",
      "tensor(0.8511, grad_fn=<NllLossBackward0>)\n",
      "tensor(0.8892, grad_fn=<NllLossBackward0>)\n",
      "tensor(0.8389, grad_fn=<NllLossBackward0>)\n",
      "tensor(0.7963, grad_fn=<NllLossBackward0>)\n",
      "tensor(0.8623, grad_fn=<NllLossBackward0>)\n",
      "tensor(0.8453, grad_fn=<NllLossBackward0>)\n",
      "tensor(0.7970, grad_fn=<NllLossBackward0>)\n",
      "tensor(0.8589, grad_fn=<NllLossBackward0>)\n",
      "tensor(0.8359, grad_fn=<NllLossBackward0>)\n",
      "tensor(0.7732, grad_fn=<NllLossBackward0>)\n",
      "tensor(0.8279, grad_fn=<NllLossBackward0>)\n",
      "tensor(0.8394, grad_fn=<NllLossBackward0>)\n",
      "tensor(0.7758, grad_fn=<NllLossBackward0>)\n",
      "tensor(0.8147, grad_fn=<NllLossBackward0>)\n",
      "tensor(0.8303, grad_fn=<NllLossBackward0>)\n",
      "tensor(0.7698, grad_fn=<NllLossBackward0>)\n",
      "tensor(0.7835, grad_fn=<NllLossBackward0>)\n",
      "tensor(0.8569, grad_fn=<NllLossBackward0>)\n",
      "tensor(0.6949, grad_fn=<NllLossBackward0>)\n",
      "tensor(0.7044, grad_fn=<NllLossBackward0>)\n",
      "tensor(0.7552, grad_fn=<NllLossBackward0>)\n",
      "tensor(0.7850, grad_fn=<NllLossBackward0>)\n",
      "tensor(0.8283, grad_fn=<NllLossBackward0>)\n",
      "tensor(0.6939, grad_fn=<NllLossBackward0>)\n",
      "tensor(0.7292, grad_fn=<NllLossBackward0>)\n",
      "tensor(0.8397, grad_fn=<NllLossBackward0>)\n",
      "tensor(0.6894, grad_fn=<NllLossBackward0>)\n",
      "tensor(0.7201, grad_fn=<NllLossBackward0>)\n",
      "tensor(0.8051, grad_fn=<NllLossBackward0>)\n",
      "tensor(0.7651, grad_fn=<NllLossBackward0>)\n",
      "tensor(0.6585, grad_fn=<NllLossBackward0>)\n",
      "tensor(0.6831, grad_fn=<NllLossBackward0>)\n",
      "tensor(0.7385, grad_fn=<NllLossBackward0>)\n",
      "tensor(0.8744, grad_fn=<NllLossBackward0>)\n",
      "tensor(0.6514, grad_fn=<NllLossBackward0>)\n",
      "tensor(0.6962, grad_fn=<NllLossBackward0>)\n",
      "tensor(0.6974, grad_fn=<NllLossBackward0>)\n",
      "tensor(0.7916, grad_fn=<NllLossBackward0>)\n",
      "tensor(0.7201, grad_fn=<NllLossBackward0>)\n",
      "tensor(0.6755, grad_fn=<NllLossBackward0>)\n",
      "tensor(0.7684, grad_fn=<NllLossBackward0>)\n",
      "tensor(0.7763, grad_fn=<NllLossBackward0>)\n",
      "tensor(0.7560, grad_fn=<NllLossBackward0>)\n"
     ]
    },
    {
     "data": {
      "image/png": "[encoded data removed]",
      "text/plain": [
       "<Figure size 432x288 with 1 Axes>"
      ]
     },
     "metadata": {
      "needs_background": "light"
     },
     "output_type": "display_data"
    },
    {
     "name": "stdout",
     "output_type": "stream",
     "text": [
      "Prediksi: tensor([0, 0, 0, 1, 0, 1, 0, 0, 1, 0, 0, 0, 0, 1, 1, 1, 0, 0, 1, 0, 0, 0, 0, 0,\n",
      "        1, 0, 0, 1, 0, 0, 0, 0, 0, 1, 0, 0, 0, 0, 1, 0, 0, 0, 0, 1, 0, 0, 0, 1,\n",
      "        1, 1, 1, 1, 0, 0, 0, 0, 0, 0, 0, 1, 1, 0, 1, 1, 0, 1, 0, 0, 0, 0, 1, 0,\n",
      "        0, 1, 0, 0, 1, 0, 0, 0, 0, 0, 0, 0, 0, 0, 0, 0, 1, 1, 0, 0, 0, 1, 0, 0,\n",
      "        1, 0, 0, 0])\n",
      "Label: tensor([2, 0, 2, 1, 0, 1, 2, 2, 1, 2, 0, 0, 2, 1, 1, 1, 0, 0, 1, 2, 2, 0, 0, 2,\n",
      "        2, 2, 2, 1, 2, 0, 0, 2, 2, 1, 0, 2, 2, 0, 1, 0, 0, 2, 0, 1, 2, 0, 0, 1,\n",
      "        2, 1, 1, 1, 2, 0, 0, 0, 0, 0, 2, 1, 1, 0, 1, 1, 0, 2, 0, 0, 0, 0, 1, 2,\n",
      "        0, 1, 0, 0, 1, 2, 2, 2, 0, 0, 0, 0, 2, 0, 2, 2, 1, 1, 2, 0, 2, 1, 2, 2,\n",
      "        1, 1, 0, 2])\n",
      "akurasi: 0.6399999856948853\n"
     ]
    }
   ],
   "source": [
    "import matplotlib.pyplot as plt\n",
    "prob = NNet(X)\n",
    "optimizer = optim.SGD(NNet.parameters(), lr=0.1, weight_decay=0)\n",
    "Loss = []\n",
    "for i in range(100):\n",
    "    optimizer.zero_grad()   # zero the gradient buffers\n",
    "    prob = NNet(X)       # feedforward\n",
    "    loss = criterion(prob, y)\n",
    "    loss.backward()     #backprop\n",
    "    optimizer.step()    #update\n",
    "    print(loss)\n",
    "    Loss.append(float(loss.detach().numpy()))\n",
    "    \n",
    "plt.plot(Loss)\n",
    "plt.ylabel('loss')\n",
    "plt.xlabel('iteration')\n",
    "plt.show()\n",
    "plt.close()\n",
    "\n",
    "prob = NNet(X)\n",
    "y_pred = prob.argmax(1)\n",
    "print(f\"Prediksi: {y_pred}\")\n",
    "print(f\"Label: {y}\")\n",
    "print(f\"akurasi: {torch.sum(y_pred == y)/len(y_pred)}\")"
   ]
  },
  {
   "cell_type": "markdown",
   "metadata": {},
   "source": [
    "Lakukan hal yang sama untuk Neural Network dengan regularisasi dropout dan L2"
   ]
  },
  {
   "cell_type": "code",
   "execution_count": 32,
   "metadata": {},
   "outputs": [
    {
     "name": "stdout",
     "output_type": "stream",
     "text": [
      "tensor(0.8515, grad_fn=<NllLossBackward0>)\n",
      "tensor(0.9123, grad_fn=<NllLossBackward0>)\n",
      "tensor(0.8547, grad_fn=<NllLossBackward0>)\n",
      "tensor(0.7890, grad_fn=<NllLossBackward0>)\n",
      "tensor(0.8176, grad_fn=<NllLossBackward0>)\n",
      "tensor(0.7802, grad_fn=<NllLossBackward0>)\n",
      "tensor(0.8424, grad_fn=<NllLossBackward0>)\n",
      "tensor(0.8774, grad_fn=<NllLossBackward0>)\n",
      "tensor(0.8404, grad_fn=<NllLossBackward0>)\n",
      "tensor(0.8215, grad_fn=<NllLossBackward0>)\n",
      "tensor(0.8006, grad_fn=<NllLossBackward0>)\n",
      "tensor(0.8073, grad_fn=<NllLossBackward0>)\n",
      "tensor(0.8268, grad_fn=<NllLossBackward0>)\n",
      "tensor(0.8463, grad_fn=<NllLossBackward0>)\n",
      "tensor(0.8459, grad_fn=<NllLossBackward0>)\n",
      "tensor(0.8452, grad_fn=<NllLossBackward0>)\n",
      "tensor(0.8191, grad_fn=<NllLossBackward0>)\n",
      "tensor(0.7937, grad_fn=<NllLossBackward0>)\n",
      "tensor(0.7796, grad_fn=<NllLossBackward0>)\n",
      "tensor(0.7459, grad_fn=<NllLossBackward0>)\n",
      "tensor(0.7487, grad_fn=<NllLossBackward0>)\n",
      "tensor(0.7896, grad_fn=<NllLossBackward0>)\n",
      "tensor(0.8145, grad_fn=<NllLossBackward0>)\n",
      "tensor(0.7962, grad_fn=<NllLossBackward0>)\n",
      "tensor(0.7898, grad_fn=<NllLossBackward0>)\n",
      "tensor(0.7711, grad_fn=<NllLossBackward0>)\n",
      "tensor(0.7988, grad_fn=<NllLossBackward0>)\n",
      "tensor(0.7833, grad_fn=<NllLossBackward0>)\n",
      "tensor(0.7538, grad_fn=<NllLossBackward0>)\n",
      "tensor(0.7873, grad_fn=<NllLossBackward0>)\n",
      "tensor(0.7691, grad_fn=<NllLossBackward0>)\n",
      "tensor(0.7937, grad_fn=<NllLossBackward0>)\n",
      "tensor(0.7975, grad_fn=<NllLossBackward0>)\n",
      "tensor(0.7747, grad_fn=<NllLossBackward0>)\n",
      "tensor(0.7495, grad_fn=<NllLossBackward0>)\n",
      "tensor(0.7483, grad_fn=<NllLossBackward0>)\n",
      "tensor(0.7737, grad_fn=<NllLossBackward0>)\n",
      "tensor(0.7565, grad_fn=<NllLossBackward0>)\n",
      "tensor(0.7631, grad_fn=<NllLossBackward0>)\n",
      "tensor(0.7428, grad_fn=<NllLossBackward0>)\n",
      "tensor(0.7437, grad_fn=<NllLossBackward0>)\n",
      "tensor(0.7619, grad_fn=<NllLossBackward0>)\n",
      "tensor(0.7270, grad_fn=<NllLossBackward0>)\n",
      "tensor(0.7285, grad_fn=<NllLossBackward0>)\n",
      "tensor(0.7350, grad_fn=<NllLossBackward0>)\n",
      "tensor(0.7138, grad_fn=<NllLossBackward0>)\n",
      "tensor(0.7309, grad_fn=<NllLossBackward0>)\n",
      "tensor(0.7120, grad_fn=<NllLossBackward0>)\n",
      "tensor(0.7307, grad_fn=<NllLossBackward0>)\n",
      "tensor(0.6772, grad_fn=<NllLossBackward0>)\n",
      "tensor(0.7020, grad_fn=<NllLossBackward0>)\n",
      "tensor(0.6621, grad_fn=<NllLossBackward0>)\n",
      "tensor(0.6713, grad_fn=<NllLossBackward0>)\n",
      "tensor(0.6671, grad_fn=<NllLossBackward0>)\n",
      "tensor(0.6675, grad_fn=<NllLossBackward0>)\n",
      "tensor(0.6838, grad_fn=<NllLossBackward0>)\n",
      "tensor(0.6889, grad_fn=<NllLossBackward0>)\n",
      "tensor(0.6715, grad_fn=<NllLossBackward0>)\n",
      "tensor(0.6783, grad_fn=<NllLossBackward0>)\n",
      "tensor(0.6825, grad_fn=<NllLossBackward0>)\n",
      "tensor(0.6984, grad_fn=<NllLossBackward0>)\n",
      "tensor(0.6791, grad_fn=<NllLossBackward0>)\n",
      "tensor(0.6889, grad_fn=<NllLossBackward0>)\n",
      "tensor(0.6910, grad_fn=<NllLossBackward0>)\n",
      "tensor(0.6580, grad_fn=<NllLossBackward0>)\n",
      "tensor(0.6562, grad_fn=<NllLossBackward0>)\n",
      "tensor(0.6424, grad_fn=<NllLossBackward0>)\n",
      "tensor(0.6386, grad_fn=<NllLossBackward0>)\n",
      "tensor(0.6446, grad_fn=<NllLossBackward0>)\n",
      "tensor(0.6445, grad_fn=<NllLossBackward0>)\n",
      "tensor(0.6432, grad_fn=<NllLossBackward0>)\n",
      "tensor(0.6583, grad_fn=<NllLossBackward0>)\n",
      "tensor(0.6482, grad_fn=<NllLossBackward0>)\n",
      "tensor(0.6429, grad_fn=<NllLossBackward0>)\n",
      "tensor(0.6382, grad_fn=<NllLossBackward0>)\n",
      "tensor(0.6379, grad_fn=<NllLossBackward0>)\n",
      "tensor(0.6582, grad_fn=<NllLossBackward0>)\n",
      "tensor(0.6317, grad_fn=<NllLossBackward0>)\n",
      "tensor(0.6319, grad_fn=<NllLossBackward0>)\n",
      "tensor(0.6337, grad_fn=<NllLossBackward0>)\n",
      "tensor(0.6376, grad_fn=<NllLossBackward0>)\n",
      "tensor(0.6390, grad_fn=<NllLossBackward0>)\n",
      "tensor(0.6138, grad_fn=<NllLossBackward0>)\n",
      "tensor(0.6386, grad_fn=<NllLossBackward0>)\n",
      "tensor(0.6195, grad_fn=<NllLossBackward0>)\n",
      "tensor(0.6193, grad_fn=<NllLossBackward0>)\n",
      "tensor(0.6407, grad_fn=<NllLossBackward0>)\n",
      "tensor(0.6249, grad_fn=<NllLossBackward0>)\n",
      "tensor(0.6228, grad_fn=<NllLossBackward0>)\n",
      "tensor(0.6355, grad_fn=<NllLossBackward0>)\n",
      "tensor(0.6411, grad_fn=<NllLossBackward0>)\n",
      "tensor(0.6169, grad_fn=<NllLossBackward0>)\n",
      "tensor(0.6220, grad_fn=<NllLossBackward0>)\n",
      "tensor(0.6237, grad_fn=<NllLossBackward0>)\n",
      "tensor(0.6295, grad_fn=<NllLossBackward0>)\n",
      "tensor(0.6078, grad_fn=<NllLossBackward0>)\n",
      "tensor(0.6133, grad_fn=<NllLossBackward0>)\n",
      "tensor(0.5940, grad_fn=<NllLossBackward0>)\n",
      "tensor(0.6203, grad_fn=<NllLossBackward0>)\n",
      "tensor(0.6219, grad_fn=<NllLossBackward0>)\n"
     ]
    },
    {
     "data": {
      "image/png": "[encoded data removed]",
      "text/plain": [
       "<Figure size 432x288 with 1 Axes>"
      ]
     },
     "metadata": {
      "needs_background": "light"
     },
     "output_type": "display_data"
    },
    {
     "name": "stdout",
     "output_type": "stream",
     "text": [
      "Prediksi: tensor([2, 0, 2, 1, 0, 1, 2, 2, 1, 2, 0, 0, 2, 1, 1, 1, 0, 0, 1, 2, 2, 0, 0, 2,\n",
      "        2, 2, 2, 1, 0, 0, 0, 2, 2, 1, 0, 2, 2, 0, 1, 0, 0, 2, 0, 1, 2, 0, 0, 1,\n",
      "        2, 1, 1, 1, 2, 0, 0, 0, 0, 0, 2, 1, 1, 0, 1, 1, 0, 2, 0, 0, 0, 0, 1, 2,\n",
      "        0, 1, 0, 0, 1, 2, 2, 2, 0, 0, 0, 0, 2, 0, 2, 2, 1, 1, 2, 0, 2, 1, 2, 2,\n",
      "        1, 1, 0, 1])\n",
      "Label: tensor([2, 0, 2, 1, 0, 1, 2, 2, 1, 2, 0, 0, 2, 1, 1, 1, 0, 0, 1, 2, 2, 0, 0, 2,\n",
      "        2, 2, 2, 1, 2, 0, 0, 2, 2, 1, 0, 2, 2, 0, 1, 0, 0, 2, 0, 1, 2, 0, 0, 1,\n",
      "        2, 1, 1, 1, 2, 0, 0, 0, 0, 0, 2, 1, 1, 0, 1, 1, 0, 2, 0, 0, 0, 0, 1, 2,\n",
      "        0, 1, 0, 0, 1, 2, 2, 2, 0, 0, 0, 0, 2, 0, 2, 2, 1, 1, 2, 0, 2, 1, 2, 2,\n",
      "        1, 1, 0, 2])\n",
      "akurasi: 0.9800000190734863\n"
     ]
    }
   ],
   "source": [
    "l2_lambda=0.01\n",
    "prob = NNetReg(X)\n",
    "optimizer = optim.SGD(NNetReg.parameters(), lr=0.1, weight_decay=l2_lambda)\n",
    "Loss = []\n",
    "for i in range(100):\n",
    "    optimizer.zero_grad()   # zero the gradient buffers\n",
    "    prob = NNetReg(X)       # feedforward\n",
    "    loss = criterion(prob, y)\n",
    "    loss.backward()     #backprop\n",
    "    optimizer.step()    #update\n",
    "    print(loss)\n",
    "    Loss.append(float(loss.detach().numpy()))\n",
    "    \n",
    "plt.plot(Loss)\n",
    "plt.ylabel('loss')\n",
    "plt.xlabel('iteration')\n",
    "plt.show()\n",
    "plt.close()\n",
    "\n",
    "prob = NNetReg(X)\n",
    "y_pred = prob.argmax(1)\n",
    "print(f\"Prediksi: {y_pred}\")\n",
    "print(f\"Label: {y}\")\n",
    "print(f\"akurasi: {torch.sum(y_pred == y)/len(y_pred)}\")"
   ]
  },
  {
   "cell_type": "code",
   "execution_count": null,
   "metadata": {},
   "outputs": [],
   "source": []
  }
 ],
 "metadata": {
  "kernelspec": {
   "display_name": "Python 3 (ipykernel)",
   "language": "python",
   "name": "python3"
  },
  "language_info": {
   "codemirror_mode": {
    "name": "ipython",
    "version": 3
   },
   "file_extension": ".py",
   "mimetype": "text/x-python",
   "name": "python",
   "nbconvert_exporter": "python",
   "pygments_lexer": "ipython3",
   "version": "3.9.7"
  }
 },
 "nbformat": 4,
 "nbformat_minor": 1
}
