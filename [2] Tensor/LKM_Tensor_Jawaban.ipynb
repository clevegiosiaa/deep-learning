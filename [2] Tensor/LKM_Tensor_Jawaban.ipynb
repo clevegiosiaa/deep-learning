{
 "cells": [
  {
   "cell_type": "markdown",
   "metadata": {},
   "source": [
    "\n",
    "Tensor\n",
    "==========================\n",
    "\n",
    "Di Pytorch, tensor digunakan untuk input, output, dan parameter dari sebuah model\n",
    "Tensor memiliki kelebihan dibanding `NumPy <https://numpy.org/>` dalam 2 hal:\n",
    "1. Operasi Tensor dapat dihitung melalui GPU\n",
    "2. Tensor dapat melakukan diferensiasi otomatis (dibahas di pertemuan berikutnya)\n"
   ]
  },
  {
   "cell_type": "code",
   "execution_count": 1,
   "metadata": {},
   "outputs": [],
   "source": [
    "import torch\n",
    "import math\n",
    "import numpy as np"
   ]
  },
  {
   "cell_type": "markdown",
   "metadata": {},
   "source": [
    "**Inisiasi sebuah Tensor**\n",
    "\n",
    "Tensor dapat diinisiasi melalui beragam cara\n",
    "\n",
    "**Langsung dari data**\n",
    "\n",
    "Tensor dapat diciptakan langsung dari data\n"
   ]
  },
  {
   "cell_type": "code",
   "execution_count": 3,
   "metadata": {},
   "outputs": [
    {
     "data": {
      "text/plain": [
       "tensor([[1, 2],\n",
       "        [3, 4]])"
      ]
     },
     "execution_count": 3,
     "metadata": {},
     "output_type": "execute_result"
    }
   ],
   "source": [
    "data = [[1, 2],[3, 4]]\n",
    "x_data = torch.tensor(data)\n",
    "x_data"
   ]
  },
  {
   "cell_type": "markdown",
   "metadata": {},
   "source": [
    "**Dari sebuah NumPy array**\n",
    "\n",
    "Tensor dapat diciptakan langsung dari Numpy arrays (dan sebaliknya)\n",
    "\n"
   ]
  },
  {
   "cell_type": "code",
   "execution_count": 4,
   "metadata": {},
   "outputs": [
    {
     "name": "stdout",
     "output_type": "stream",
     "text": [
      "[[1 2]\n",
      " [3 4]]\n",
      "tensor([[1, 2],\n",
      "        [3, 4]])\n"
     ]
    }
   ],
   "source": [
    "np_array = np.array(data)\n",
    "print(np_array)\n",
    "x_np = torch.from_numpy(np_array)\n",
    "print(x_np)"
   ]
  },
  {
   "cell_type": "markdown",
   "metadata": {},
   "source": [
    "**Dari Tensor yang lain:**\n",
    "\n",
    "Tensor yang baru akan memiliki sifat (shape, datatype) dari tensor sebelumnya, kecuali secara explicit diganti.\n",
    "\n"
   ]
  },
  {
   "cell_type": "code",
   "execution_count": 5,
   "metadata": {},
   "outputs": [
    {
     "name": "stdout",
     "output_type": "stream",
     "text": [
      "Ones Tensor: \n",
      " tensor([[1, 1],\n",
      "        [1, 1]]) \n",
      "\n",
      "Random Tensor: \n",
      " tensor([[0.6909, 0.6557],\n",
      "        [0.5830, 0.7659]]) \n",
      "\n"
     ]
    }
   ],
   "source": [
    "x_ones = torch.ones_like(x_data) # mempertahankan sifat x_data\n",
    "print(f\"Ones Tensor: \\n {x_ones} \\n\")\n",
    "\n",
    "x_rand = torch.rand_like(x_data, dtype=torch.float) # mengganti dtype x_data\n",
    "print(f\"Random Tensor: \\n {x_rand} \\n\")"
   ]
  },
  {
   "cell_type": "markdown",
   "metadata": {},
   "source": [
    "**Dari sebuah angka random atau konstanta:**\n",
    "\n",
    "``shape`` adalah sebuah tuple dari dimensi tensor. Itu akan menentukan dimensi dari tensor output pada fungsi di bawah ini.\n",
    "\n"
   ]
  },
  {
   "cell_type": "code",
   "execution_count": 6,
   "metadata": {},
   "outputs": [
    {
     "name": "stdout",
     "output_type": "stream",
     "text": [
      "Random Tensor: \n",
      " tensor([[0.3454, 0.0758, 0.8690],\n",
      "        [0.1708, 0.6566, 0.6732]]) \n",
      "\n",
      "Ones Tensor: \n",
      " tensor([[1., 1., 1.],\n",
      "        [1., 1., 1.]]) \n",
      "\n",
      "Zeros Tensor: \n",
      " tensor([[0., 0., 0.],\n",
      "        [0., 0., 0.]])\n"
     ]
    }
   ],
   "source": [
    "shape = (2,3,)\n",
    "rand_tensor = torch.rand(shape)\n",
    "ones_tensor = torch.ones(shape)\n",
    "zeros_tensor = torch.zeros(shape)\n",
    "\n",
    "print(f\"Random Tensor: \\n {rand_tensor} \\n\")\n",
    "print(f\"Ones Tensor: \\n {ones_tensor} \\n\")\n",
    "print(f\"Zeros Tensor: \\n {zeros_tensor}\")"
   ]
  },
  {
   "cell_type": "markdown",
   "metadata": {},
   "source": [
    "--------------\n",
    "\n",
    "\n"
   ]
  },
  {
   "cell_type": "markdown",
   "metadata": {},
   "source": [
    "**Attributes of a Tensor**\n",
    "\n",
    "Atribut Tensor akan menjelaskan bentuk, tipe data, dan perangkat penyimpanan tensor\n",
    "\n"
   ]
  },
  {
   "cell_type": "code",
   "execution_count": 7,
   "metadata": {},
   "outputs": [
    {
     "name": "stdout",
     "output_type": "stream",
     "text": [
      "Shape of tensor: torch.Size([3, 4])\n",
      "Datatype of tensor: torch.float32\n",
      "Device tensor is stored on: cpu\n"
     ]
    }
   ],
   "source": [
    "tensor = torch.rand(3,4)\n",
    "\n",
    "print(f\"Shape of tensor: {tensor.shape}\")\n",
    "print(f\"Datatype of tensor: {tensor.dtype}\")\n",
    "print(f\"Device tensor is stored on: {tensor.device}\")"
   ]
  },
  {
   "cell_type": "markdown",
   "metadata": {},
   "source": [
    "--------------\n",
    "\n",
    "\n"
   ]
  },
  {
   "cell_type": "markdown",
   "metadata": {},
   "source": [
    "**Operasi pada Tensor**\n",
    "\n",
    "Terdapat lebih dari 100 operasi tensor (termasuk aritmatika, aljabar linear, manipulasi matriks, dan lainnya), dijelaskan secara lebih komprehensif `disini <https://pytorch.org/docs/stable/torch.html>`\n",
    "\n",
    "Setiap operasi ini dapat dioperasikan di GPU. Jika menggunakan Colab, alokasikan sebuah GPU melalui Runtime > Change runtime type > GPU\n",
    "\n",
    "Secara bawaan, tensor diciptakan pada CPU. Kita harus memindahkan tensor ke GPU menggunakan metode ``.to`` (setelah memeriksa ketersediaan GPU). Memindahkan tensor besar antar perangkat, dapat memakan waktu dan memori yang banyak (jadi rencanakanlah secara hati-hati !!!)\n"
   ]
  },
  {
   "cell_type": "code",
   "execution_count": 8,
   "metadata": {},
   "outputs": [
    {
     "name": "stdout",
     "output_type": "stream",
     "text": [
      "Hanya bisa CPU\n"
     ]
    }
   ],
   "source": [
    "# We move our tensor to the GPU if available\n",
    "if torch.cuda.is_available():\n",
    "    print('Bisa GPU')\n",
    "    tensor = tensor.to('cuda')\n",
    "else:\n",
    "    print('Hanya bisa CPU')"
   ]
  },
  {
   "cell_type": "markdown",
   "metadata": {},
   "source": [
    "Coba beberapa operasi dari daftar.\n",
    "\n"
   ]
  },
  {
   "cell_type": "markdown",
   "metadata": {},
   "source": [
    "**Operasi standard yang mirip numpy untuk indexing dan slicing:**\n",
    "\n"
   ]
  },
  {
   "cell_type": "code",
   "execution_count": 9,
   "metadata": {},
   "outputs": [
    {
     "name": "stdout",
     "output_type": "stream",
     "text": [
      "Baris pertama:  tensor([1., 1., 1., 1.])\n",
      "Kolom pertama:  tensor([1., 1., 1., 1.])\n",
      "Kolom terakhir: tensor([1., 1., 1., 1.])\n",
      "tensor([[1., 0., 1., 1.],\n",
      "        [1., 0., 1., 1.],\n",
      "        [1., 0., 1., 1.],\n",
      "        [1., 0., 1., 1.]])\n"
     ]
    }
   ],
   "source": [
    "tensor = torch.ones(4, 4)\n",
    "print('Baris pertama: ', tensor[0])\n",
    "print('Kolom pertama: ', tensor[:, 0])\n",
    "print('Kolom terakhir:', tensor[..., -1])\n",
    "tensor[:,1] = 0\n",
    "print(tensor)"
   ]
  },
  {
   "cell_type": "markdown",
   "metadata": {},
   "source": [
    "**Menyatukan beberapa tensor** \n",
    "\n",
    "Gunakan ``torch.cat`` untuk concatenate beberapa tensor secara pilihan dimensi.\n",
    "Alternatif lain, `torch.stack <https://pytorch.org/docs/stable/generated/torch.stack.html>`__,\n",
    "\n"
   ]
  },
  {
   "cell_type": "code",
   "execution_count": 11,
   "metadata": {},
   "outputs": [
    {
     "name": "stdout",
     "output_type": "stream",
     "text": [
      "tensor([[1., 0., 1., 1., 1., 0., 1., 1., 1., 0., 1., 1.],\n",
      "        [1., 0., 1., 1., 1., 0., 1., 1., 1., 0., 1., 1.],\n",
      "        [1., 0., 1., 1., 1., 0., 1., 1., 1., 0., 1., 1.],\n",
      "        [1., 0., 1., 1., 1., 0., 1., 1., 1., 0., 1., 1.]])\n",
      "tensor([[1., 0., 1., 1.],\n",
      "        [1., 0., 1., 1.],\n",
      "        [1., 0., 1., 1.],\n",
      "        [1., 0., 1., 1.],\n",
      "        [1., 0., 1., 1.],\n",
      "        [1., 0., 1., 1.],\n",
      "        [1., 0., 1., 1.],\n",
      "        [1., 0., 1., 1.],\n",
      "        [1., 0., 1., 1.],\n",
      "        [1., 0., 1., 1.],\n",
      "        [1., 0., 1., 1.],\n",
      "        [1., 0., 1., 1.]])\n"
     ]
    }
   ],
   "source": [
    "t1 = torch.cat([tensor, tensor, tensor], dim=1)\n",
    "print(t1)\n",
    "\n",
    "t1 = torch.cat([tensor, tensor, tensor], dim=0)\n",
    "print(t1)"
   ]
  },
  {
   "cell_type": "markdown",
   "metadata": {},
   "source": [
    "**Operasi Aritmatika**\n",
    "\n"
   ]
  },
  {
   "cell_type": "code",
   "execution_count": 14,
   "metadata": {},
   "outputs": [
    {
     "name": "stdout",
     "output_type": "stream",
     "text": [
      "tensor([[3., 3., 3., 3.],\n",
      "        [3., 3., 3., 3.],\n",
      "        [3., 3., 3., 3.],\n",
      "        [3., 3., 3., 3.]])\n",
      "tensor([[1., 0., 1., 1.],\n",
      "        [1., 0., 1., 1.],\n",
      "        [1., 0., 1., 1.],\n",
      "        [1., 0., 1., 1.]])\n"
     ]
    }
   ],
   "source": [
    "# Menghitung perkalian matriks antara 2 tensors. y1, y2, y3 akan memiliki nilai yang sama\n",
    "y1 = tensor @ tensor.T\n",
    "y2 = tensor.matmul(tensor.T)\n",
    "\n",
    "y3 = torch.rand_like(tensor)\n",
    "print(torch.matmul(tensor, tensor.T, out=y3))\n",
    "\n",
    "# Menghitung perkalian elemen. z1, z2, z3 akan memiliki nilai yang sama\n",
    "z1 = tensor * tensor\n",
    "z2 = tensor.mul(tensor)\n",
    "\n",
    "z3 = torch.rand_like(tensor)\n",
    "print(torch.mul(tensor, tensor, out=z3))"
   ]
  },
  {
   "cell_type": "markdown",
   "metadata": {},
   "source": [
    "**tensor 1-elemen** Jika memiliki sebuah tensor 1-elemen (contoh: agregat semua nilai dari sebuah tensor menjadi 1 angka), itu dapat diubah menjadi python numerik menggunakan ``item()``:\n",
    "\n"
   ]
  },
  {
   "cell_type": "code",
   "execution_count": 15,
   "metadata": {},
   "outputs": [
    {
     "name": "stdout",
     "output_type": "stream",
     "text": [
      "tensor(12.) 12.0 <class 'float'>\n"
     ]
    }
   ],
   "source": [
    "agg = tensor.sum()\n",
    "agg_item = agg.item()\n",
    "print(agg, agg_item, type(agg_item))"
   ]
  },
  {
   "cell_type": "markdown",
   "metadata": {},
   "source": [
    "**Operasi In-Place**\n",
    "\n",
    "Operasi yang menyimpan hasil kedalam variabel itu sendiri disebut in-place. Mereka menggunakan imbuhan ``_``\n",
    "\n",
    "contoh: ``x.copy_(y)``, ``x.t_()``, akan merubah ``x``.\n",
    "\n"
   ]
  },
  {
   "cell_type": "code",
   "execution_count": 16,
   "metadata": {},
   "outputs": [
    {
     "name": "stdout",
     "output_type": "stream",
     "text": [
      "tensor([[1., 0., 1., 1.],\n",
      "        [1., 0., 1., 1.],\n",
      "        [1., 0., 1., 1.],\n",
      "        [1., 0., 1., 1.]]) \n",
      "\n",
      "tensor([[6., 5., 6., 6.],\n",
      "        [6., 5., 6., 6.],\n",
      "        [6., 5., 6., 6.],\n",
      "        [6., 5., 6., 6.]])\n"
     ]
    }
   ],
   "source": [
    "print(tensor, \"\\n\")\n",
    "tensor.add_(5)\n",
    "print(tensor)"
   ]
  },
  {
   "cell_type": "markdown",
   "metadata": {},
   "source": [
    "<div class=\"alert alert-info\"><h4>Catatan</h4><p>Operasi In-place dapat menimbulkan masalah ketika menghitung turunan karena kehilangan sejarah operasi. Jadi penggunaan seperti ini kurang dianjurkan.</p></div>\n",
    "\n"
   ]
  },
  {
   "cell_type": "markdown",
   "metadata": {},
   "source": [
    "--------------\n",
    "\n",
    "\n"
   ]
  },
  {
   "cell_type": "markdown",
   "metadata": {},
   "source": [
    "**Jembatan dengan Numpy**\n",
    "\n",
    "Tensor pada CPU dan Numpy array dapat menggunakan lokasi memori yang sama,\n",
    "merubah yang satu akan merubah yang lain\n",
    "\n",
    "\n"
   ]
  },
  {
   "cell_type": "markdown",
   "metadata": {},
   "source": [
    "Tensor menjadi NumPy array\n",
    "\n"
   ]
  },
  {
   "cell_type": "code",
   "execution_count": 17,
   "metadata": {},
   "outputs": [
    {
     "name": "stdout",
     "output_type": "stream",
     "text": [
      "t: tensor([1., 1., 1., 1., 1.])\n",
      "n: [1. 1. 1. 1. 1.]\n"
     ]
    }
   ],
   "source": [
    "t = torch.ones(5)\n",
    "print(f\"t: {t}\")\n",
    "n = t.numpy()\n",
    "print(f\"n: {n}\")"
   ]
  },
  {
   "cell_type": "markdown",
   "metadata": {},
   "source": [
    "Perubahan pada tensor terjadi pada Numpy array.\n",
    "\n"
   ]
  },
  {
   "cell_type": "code",
   "execution_count": 18,
   "metadata": {},
   "outputs": [
    {
     "name": "stdout",
     "output_type": "stream",
     "text": [
      "t: tensor([2., 2., 2., 2., 2.])\n",
      "n: [2. 2. 2. 2. 2.]\n"
     ]
    }
   ],
   "source": [
    "t.add_(1)\n",
    "print(f\"t: {t}\")\n",
    "print(f\"n: {n}\")"
   ]
  },
  {
   "cell_type": "markdown",
   "metadata": {},
   "source": [
    "NumPy array menjadi Tensor\n",
    "\n"
   ]
  },
  {
   "cell_type": "code",
   "execution_count": 21,
   "metadata": {},
   "outputs": [
    {
     "name": "stdout",
     "output_type": "stream",
     "text": [
      "n: [1. 1. 1. 1. 1.]\n",
      "t: tensor([1., 1., 1., 1., 1.], dtype=torch.float64)\n"
     ]
    }
   ],
   "source": [
    "n = np.ones(5)\n",
    "print(f\"n: {n}\")\n",
    "t = torch.from_numpy(n)\n",
    "print(f\"t: {t}\")\n"
   ]
  },
  {
   "cell_type": "markdown",
   "metadata": {},
   "source": [
    "Perubahan pada Numpy array terjadi pada Tensor.\n",
    "\n"
   ]
  },
  {
   "cell_type": "code",
   "execution_count": 22,
   "metadata": {},
   "outputs": [
    {
     "name": "stdout",
     "output_type": "stream",
     "text": [
      "t: tensor([2., 2., 2., 2., 2.], dtype=torch.float64)\n",
      "n: [2. 2. 2. 2. 2.]\n"
     ]
    }
   ],
   "source": [
    "np.add(n, 1, out=n)\n",
    "print(f\"t: {t}\")\n",
    "print(f\"n: {n}\")"
   ]
  },
  {
   "cell_type": "markdown",
   "metadata": {},
   "source": [
    "**Matematika dan Logika dengan Tensor**"
   ]
  },
  {
   "cell_type": "code",
   "execution_count": 23,
   "metadata": {},
   "outputs": [
    {
     "name": "stdout",
     "output_type": "stream",
     "text": [
      "tensor([[1., 1.],\n",
      "        [1., 1.]])\n",
      "tensor([[2., 2.],\n",
      "        [2., 2.]])\n",
      "tensor([[3., 3.],\n",
      "        [3., 3.]])\n",
      "tensor([[4., 4.],\n",
      "        [4., 4.]])\n",
      "tensor([[1.4142, 1.4142],\n",
      "        [1.4142, 1.4142]])\n"
     ]
    }
   ],
   "source": [
    "ones = torch.zeros(2, 2) + 1\n",
    "twos = torch.ones(2, 2) * 2\n",
    "threes = (torch.ones(2, 2) * 7 - 1) / 2\n",
    "fours = twos ** 2\n",
    "sqrt2s = twos ** 0.5\n",
    "\n",
    "print(ones)\n",
    "print(twos)\n",
    "print(threes)\n",
    "print(fours)\n",
    "print(sqrt2s)"
   ]
  },
  {
   "cell_type": "code",
   "execution_count": 24,
   "metadata": {},
   "outputs": [
    {
     "name": "stdout",
     "output_type": "stream",
     "text": [
      "tensor([[ 2.,  4.],\n",
      "        [ 8., 16.]])\n",
      "tensor([[5., 5.],\n",
      "        [5., 5.]])\n",
      "tensor([[12., 12.],\n",
      "        [12., 12.]])\n"
     ]
    }
   ],
   "source": [
    "powers2 = twos ** torch.tensor([[1, 2], [3, 4]])\n",
    "print(powers2)\n",
    "\n",
    "fives = ones + fours\n",
    "print(fives)\n",
    "\n",
    "dozens = threes * fours\n",
    "print(dozens)"
   ]
  },
  {
   "cell_type": "markdown",
   "metadata": {},
   "source": [
    "**Tensor Broadcasting**\n",
    "\n",
    "Aturan Broadcasting:\n",
    "- Masing-masing tensor paling sedikit harus memiliki 1 dimensi\n",
    "- Membandingkan dimensi dari 2 tensors, dari yang akhir ke yang pertama:\n",
    "    - Masing-masing dimensi harus sama, atau\n",
    "    - Salah satu dimensi harus ukuran 1, atau\n",
    "    - Dimensi tidak eksis di salah satu tensor\n"
   ]
  },
  {
   "cell_type": "code",
   "execution_count": 27,
   "metadata": {},
   "outputs": [
    {
     "name": "stdout",
     "output_type": "stream",
     "text": [
      "torch.Size([2, 4])\n",
      "torch.Size([1, 4])\n",
      "tensor([[0.8980, 0.7317, 0.0827, 0.7186],\n",
      "        [0.8118, 0.7975, 0.5899, 0.4489]])\n",
      "tensor([[1.7961, 1.4634, 0.1655, 1.4373],\n",
      "        [1.6235, 1.5950, 1.1799, 0.8979]])\n"
     ]
    }
   ],
   "source": [
    "rand = torch.rand(2, 4)\n",
    "doubled = rand * (torch.ones(1, 4) * 2)\n",
    "print(rand.shape)\n",
    "print(torch.ones(1, 4).shape)\n",
    "print(rand)\n",
    "print(doubled)"
   ]
  },
  {
   "cell_type": "code",
   "execution_count": 29,
   "metadata": {},
   "outputs": [
    {
     "name": "stdout",
     "output_type": "stream",
     "text": [
      "tensor([[[1., 1.],\n",
      "         [1., 1.],\n",
      "         [1., 1.]],\n",
      "\n",
      "        [[1., 1.],\n",
      "         [1., 1.],\n",
      "         [1., 1.]],\n",
      "\n",
      "        [[1., 1.],\n",
      "         [1., 1.],\n",
      "         [1., 1.]],\n",
      "\n",
      "        [[1., 1.],\n",
      "         [1., 1.],\n",
      "         [1., 1.]]])\n",
      "tensor([[[0.1982, 0.4389],\n",
      "         [0.6325, 0.6314],\n",
      "         [0.0051, 0.1614]],\n",
      "\n",
      "        [[0.1982, 0.4389],\n",
      "         [0.6325, 0.6314],\n",
      "         [0.0051, 0.1614]],\n",
      "\n",
      "        [[0.1982, 0.4389],\n",
      "         [0.6325, 0.6314],\n",
      "         [0.0051, 0.1614]],\n",
      "\n",
      "        [[0.1982, 0.4389],\n",
      "         [0.6325, 0.6314],\n",
      "         [0.0051, 0.1614]]])\n",
      "tensor([[[0.6412, 0.6412],\n",
      "         [0.9038, 0.9038],\n",
      "         [0.9810, 0.9810]],\n",
      "\n",
      "        [[0.6412, 0.6412],\n",
      "         [0.9038, 0.9038],\n",
      "         [0.9810, 0.9810]],\n",
      "\n",
      "        [[0.6412, 0.6412],\n",
      "         [0.9038, 0.9038],\n",
      "         [0.9810, 0.9810]],\n",
      "\n",
      "        [[0.6412, 0.6412],\n",
      "         [0.9038, 0.9038],\n",
      "         [0.9810, 0.9810]]])\n",
      "tensor([[[0.9685, 0.9766],\n",
      "         [0.9685, 0.9766],\n",
      "         [0.9685, 0.9766]],\n",
      "\n",
      "        [[0.9685, 0.9766],\n",
      "         [0.9685, 0.9766],\n",
      "         [0.9685, 0.9766]],\n",
      "\n",
      "        [[0.9685, 0.9766],\n",
      "         [0.9685, 0.9766],\n",
      "         [0.9685, 0.9766]],\n",
      "\n",
      "        [[0.9685, 0.9766],\n",
      "         [0.9685, 0.9766],\n",
      "         [0.9685, 0.9766]]])\n"
     ]
    }
   ],
   "source": [
    "a =     torch.ones(4, 3, 2)\n",
    "print(a)\n",
    "\n",
    "b = a * torch.rand(   3, 2) # dimensi ke 3 dan 2 identik dengan a, # dimensi ke 1 absen\n",
    "print(b)\n",
    "\n",
    "c = a * torch.rand(   3, 1) # dimensi ke 3 = 1, # dimensi ke 2 identik dengan a\n",
    "print(c)\n",
    "\n",
    "d = a * torch.rand(   1, 2) # dimensi ke 3 identik dengan a, # dimensi ke 2 = 1\n",
    "print(d)"
   ]
  },
  {
   "cell_type": "markdown",
   "metadata": {},
   "source": [
    "**Matematika Tensor Lanjutan**"
   ]
  },
  {
   "cell_type": "code",
   "execution_count": 30,
   "metadata": {},
   "outputs": [
    {
     "name": "stdout",
     "output_type": "stream",
     "text": [
      "Common functions:\n",
      "tensor([[0.0886, 0.8073, 0.6018, 0.8838],\n",
      "        [0.5868, 0.4310, 0.8890, 0.5328]])\n",
      "tensor([[-0., -0., -0., 1.],\n",
      "        [1., 1., 1., 1.]])\n",
      "tensor([[-1., -1., -1.,  0.],\n",
      "        [ 0.,  0.,  0.,  0.]])\n",
      "tensor([[-0.0886, -0.5000, -0.5000,  0.5000],\n",
      "        [ 0.5000,  0.4310,  0.5000,  0.5000]])\n",
      "\n",
      "Sin and arcsin:\n",
      "tensor([0.0000, 0.7854, 1.5708, 2.3562])\n",
      "tensor([0.0000, 0.7071, 1.0000, 0.7071])\n",
      "tensor([0.0000, 0.7854, 1.5708, 0.7854])\n",
      "\n",
      "Bitwise XOR:\n",
      "tensor([3, 2, 1])\n",
      "\n",
      "Broadcasted, element-wise equality comparison:\n",
      "tensor([[ True, False],\n",
      "        [False, False]])\n",
      "\n",
      "Aggregate ops:\n",
      "tensor(4.)\n",
      "4.0\n",
      "tensor(2.5000)\n",
      "tensor(1.2910)\n",
      "tensor(24.)\n",
      "tensor([1, 2])\n",
      "\n",
      "Vektor & Matriks:\n",
      "tensor([ 0.,  0., -1.])\n",
      "tensor([[0.4261, 0.9758],\n",
      "        [0.4005, 0.7561]])\n",
      "tensor([[1.2783, 2.9274],\n",
      "        [1.2015, 2.2684]])\n",
      "torch.return_types.svd(\n",
      "U=tensor([[-0.7797, -0.6262],\n",
      "        [-0.6262,  0.7797]]),\n",
      "S=tensor([4.0951, 0.1508]),\n",
      "V=tensor([[-0.4271,  0.9042],\n",
      "        [-0.9042, -0.4271]]))\n"
     ]
    }
   ],
   "source": [
    "# fungsi umum\n",
    "a = torch.rand(2, 4) * 2 - 1\n",
    "print('Common functions:')\n",
    "print(torch.abs(a))\n",
    "print(torch.ceil(a))\n",
    "print(torch.floor(a))\n",
    "print(torch.clamp(a, -0.5, 0.5))\n",
    "\n",
    "# fungsi trigonometri dan inversnya\n",
    "angles = torch.tensor([0, math.pi / 4, math.pi / 2, 3 * math.pi / 4])\n",
    "sines = torch.sin(angles)\n",
    "inverses = torch.asin(sines)\n",
    "print('\\nSin and arcsin:')\n",
    "print(angles)\n",
    "print(sines)\n",
    "print(inverses)\n",
    "\n",
    "# operasi bitwise\n",
    "print('\\nBitwise XOR:')\n",
    "b = torch.tensor([1, 5, 11])\n",
    "c = torch.tensor([2, 7, 10])\n",
    "print(torch.bitwise_xor(b, c))\n",
    "\n",
    "# perbandingan:\n",
    "print('\\nBroadcasted, element-wise equality comparison:')\n",
    "d = torch.tensor([[1., 2.], [3., 4.]])\n",
    "e = torch.ones(1, 2)  # pembanding\n",
    "print(torch.eq(d, e)) # returns sebuah tensor tipe bool\n",
    "\n",
    "# aggregasi:\n",
    "print('\\nAggregate ops:')\n",
    "print(torch.max(d))        # returns sebuah 1-elemen tensor\n",
    "print(torch.max(d).item()) # mengeluarkan nilai dari tensor\n",
    "print(torch.mean(d))       # rata-rata\n",
    "print(torch.std(d))        # standard deviasi\n",
    "print(torch.prod(d))       # perkalian semua angka\n",
    "print(torch.unique(torch.tensor([1, 2, 1, 2, 1, 2]))) # filter elemen unik\n",
    "\n",
    "# vektor dan aljabar linear\n",
    "v1 = torch.tensor([1., 0., 0.])         # unit vektor x\n",
    "v2 = torch.tensor([0., 1., 0.])         # unit vektor y\n",
    "m1 = torch.rand(2, 2)                   # random matrix\n",
    "m2 = torch.tensor([[3., 0.], [0., 3.]]) # 3x I\n",
    "\n",
    "print('\\nVektor & Matriks:')\n",
    "print(torch.cross(v2, v1)) # -ve dari unit vektor z (v1 x v2 == -v2 x v1)\n",
    "print(m1)\n",
    "m3 = torch.matmul(m1, m2)\n",
    "print(m3)                  # 3x m1\n",
    "print(torch.svd(m3))       # singular value decomposition"
   ]
  },
  {
   "cell_type": "markdown",
   "metadata": {},
   "source": [
    "**Salin Tensor**"
   ]
  },
  {
   "cell_type": "code",
   "execution_count": 31,
   "metadata": {},
   "outputs": [
    {
     "name": "stdout",
     "output_type": "stream",
     "text": [
      "tensor([[  1., 561.],\n",
      "        [  1.,   1.]])\n"
     ]
    }
   ],
   "source": [
    "a = torch.ones(2, 2)\n",
    "b = a\n",
    "\n",
    "a[0][1] = 561  # ubah a...\n",
    "print(b)       # ...dan b otomatis berubah"
   ]
  },
  {
   "cell_type": "code",
   "execution_count": 32,
   "metadata": {},
   "outputs": [
    {
     "name": "stdout",
     "output_type": "stream",
     "text": [
      "tensor([[True, True],\n",
      "        [True, True]])\n",
      "tensor([[1., 1.],\n",
      "        [1., 1.]])\n"
     ]
    }
   ],
   "source": [
    "a = torch.ones(2, 2)\n",
    "b = a.clone()\n",
    "\n",
    "assert b is not a      # objek yang berbeda di memori...\n",
    "print(torch.eq(a, b))  # ...tapi kontennya masih sama\n",
    "\n",
    "a[0][1] = 561          # a berubah...\n",
    "print(b)               # ...tapi b masih sama"
   ]
  },
  {
   "cell_type": "code",
   "execution_count": 33,
   "metadata": {},
   "outputs": [
    {
     "name": "stdout",
     "output_type": "stream",
     "text": [
      "tensor([[0.1049, 0.8868],\n",
      "        [0.5399, 0.5126]], requires_grad=True)\n",
      "tensor([[0.1049, 0.8868],\n",
      "        [0.5399, 0.5126]], grad_fn=<CloneBackward0>)\n",
      "tensor([[0.1049, 0.8868],\n",
      "        [0.5399, 0.5126]])\n",
      "tensor([[0.1049, 0.8868],\n",
      "        [0.5399, 0.5126]], requires_grad=True)\n"
     ]
    }
   ],
   "source": [
    "a = torch.rand(2, 2, requires_grad=True) # turn on autograd\n",
    "print(a)\n",
    "\n",
    "b = a.clone()\n",
    "print(b)\n",
    "\n",
    "c = a.detach().clone()\n",
    "print(c)\n",
    "\n",
    "print(a)"
   ]
  },
  {
   "cell_type": "markdown",
   "metadata": {},
   "source": [
    "**Merubah Dimensi Tensor**"
   ]
  },
  {
   "cell_type": "code",
   "execution_count": 34,
   "metadata": {},
   "outputs": [
    {
     "name": "stdout",
     "output_type": "stream",
     "text": [
      "torch.Size([3, 226, 226])\n",
      "torch.Size([1, 3, 226, 226])\n"
     ]
    }
   ],
   "source": [
    "a = torch.rand(3, 226, 226)\n",
    "b = a.unsqueeze(0)\n",
    "\n",
    "print(a.shape)\n",
    "print(b.shape)"
   ]
  },
  {
   "cell_type": "code",
   "execution_count": 36,
   "metadata": {},
   "outputs": [
    {
     "name": "stdout",
     "output_type": "stream",
     "text": [
      "torch.Size([20])\n",
      "tensor([0.5428, 0.5758, 0.6952, 0.9356, 0.5503, 0.7245, 0.9691, 0.4227, 0.5589,\n",
      "        0.1048, 0.4725, 0.5733, 0.7904, 0.0744, 0.2618, 0.4335, 0.1243, 0.8726,\n",
      "        0.2969, 0.6146])\n",
      "torch.Size([1, 20])\n",
      "tensor([[0.8086, 0.1415, 0.7564, 0.4976, 0.1316, 0.1620, 0.8207, 0.8013, 0.3747,\n",
      "         0.9467, 0.9074, 0.9032, 0.6714, 0.4825, 0.0988, 0.3984, 0.3111, 0.2896,\n",
      "         0.1643, 0.0897]])\n",
      "torch.Size([20])\n",
      "tensor([0.8086, 0.1415, 0.7564, 0.4976, 0.1316, 0.1620, 0.8207, 0.8013, 0.3747,\n",
      "        0.9467, 0.9074, 0.9032, 0.6714, 0.4825, 0.0988, 0.3984, 0.3111, 0.2896,\n",
      "        0.1643, 0.0897])\n",
      "torch.Size([2, 2])\n",
      "torch.Size([2, 2])\n"
     ]
    }
   ],
   "source": [
    "a = torch.rand(20)\n",
    "print(a.shape)\n",
    "print(a)\n",
    "\n",
    "a = torch.rand(1, 20)\n",
    "print(a.shape)\n",
    "print(a)\n",
    "\n",
    "b = a.squeeze(0)\n",
    "print(b.shape)\n",
    "print(b)\n",
    "\n",
    "c = torch.rand(2, 2)\n",
    "print(c.shape)\n",
    "\n",
    "d = c.squeeze(0)\n",
    "print(d.shape)"
   ]
  },
  {
   "cell_type": "code",
   "execution_count": 38,
   "metadata": {},
   "outputs": [
    {
     "name": "stdout",
     "output_type": "stream",
     "text": [
      "torch.Size([4, 3, 2])\n",
      "torch.Size([3])\n",
      "torch.Size([3, 1])\n",
      "tensor([[[0.9041, 0.9041],\n",
      "         [0.8075, 0.8075],\n",
      "         [0.3982, 0.3982]],\n",
      "\n",
      "        [[0.9041, 0.9041],\n",
      "         [0.8075, 0.8075],\n",
      "         [0.3982, 0.3982]],\n",
      "\n",
      "        [[0.9041, 0.9041],\n",
      "         [0.8075, 0.8075],\n",
      "         [0.3982, 0.3982]],\n",
      "\n",
      "        [[0.9041, 0.9041],\n",
      "         [0.8075, 0.8075],\n",
      "         [0.3982, 0.3982]]])\n"
     ]
    }
   ],
   "source": [
    "a = torch.ones(4, 3, 2)\n",
    "print(a.shape)\n",
    "b = torch.rand(   3)     # perkalian a * b akan menghasilkan runtime error\n",
    "print(b.shape)\n",
    "c = b.unsqueeze(1)       # ubah menjadi 2-dimensional tensor, tambahkan dimensi baru\n",
    "print(c.shape)\n",
    "print(a * c)             "
   ]
  },
  {
   "cell_type": "code",
   "execution_count": 39,
   "metadata": {},
   "outputs": [
    {
     "name": "stdout",
     "output_type": "stream",
     "text": [
      "torch.Size([3, 226, 226])\n",
      "torch.Size([1, 3, 226, 226])\n"
     ]
    }
   ],
   "source": [
    "batch_me = torch.rand(3, 226, 226)\n",
    "print(batch_me.shape)\n",
    "batch_me.unsqueeze_(0)\n",
    "print(batch_me.shape)"
   ]
  },
  {
   "cell_type": "code",
   "execution_count": 40,
   "metadata": {},
   "outputs": [
    {
     "name": "stdout",
     "output_type": "stream",
     "text": [
      "torch.Size([6, 20, 20])\n",
      "torch.Size([2400])\n",
      "torch.Size([2400])\n"
     ]
    }
   ],
   "source": [
    "output3d = torch.rand(6, 20, 20)\n",
    "print(output3d.shape)\n",
    "\n",
    "input1d = output3d.reshape(6 * 20 * 20)\n",
    "print(input1d.shape)\n",
    "\n",
    "print(torch.reshape(output3d, (6 * 20 * 20,)).shape)"
   ]
  },
  {
   "cell_type": "markdown",
   "metadata": {},
   "source": [
    "**Notasi Einstein**"
   ]
  },
  {
   "cell_type": "code",
   "execution_count": 43,
   "metadata": {},
   "outputs": [
    {
     "name": "stdout",
     "output_type": "stream",
     "text": [
      "tensor(2.7848)\n",
      "tensor([-0.4093,  0.7656,  1.1183,  0.0379])\n",
      "torch.Size([5])\n",
      "torch.Size([4])\n",
      "tensor([[ 2.0492,  3.0784, -3.1240, -2.1338],\n",
      "        [-0.9036, -1.3575,  1.3776,  0.9410],\n",
      "        [-0.5572, -0.8371,  0.8495,  0.5802],\n",
      "        [ 0.6429,  0.9658, -0.9801, -0.6694],\n",
      "        [-1.1769, -1.7679,  1.7941,  1.2255]])\n"
     ]
    },
    {
     "data": {
      "text/plain": [
       "tensor([[ 7.6319, -3.8703,  6.1122],\n",
       "        [ 5.3610, -0.9661,  3.2594]])"
      ]
     },
     "execution_count": 43,
     "metadata": {},
     "output_type": "execute_result"
    }
   ],
   "source": [
    "print(torch.einsum('ii', torch.randn(4, 4)))\n",
    "\n",
    "print(torch.einsum('ii->i', torch.randn(4, 4)))\n",
    "\n",
    "x = torch.randn(5)\n",
    "y = torch.randn(4)\n",
    "print(x.shape)\n",
    "print(y.shape)\n",
    "print(torch.einsum('i,j->ij', x, y))\n",
    "\n",
    "As = torch.randn(3,2,5)\n",
    "Bs = torch.randn(3,5,4)\n",
    "torch.einsum('bij,bjk->bik', As, Bs)\n",
    "\n",
    "\n",
    "\n",
    "torch.einsum(As, [..., 0, 1], Bs, [..., 1, 2], [..., 0, 2])\n",
    "\n",
    "\n",
    "\n",
    "A = torch.randn(2, 3, 4, 5)\n",
    "torch.einsum('...ij->...ji', A).shape\n",
    "\n",
    "A = torch.randn(3,5,4)\n",
    "l = torch.randn(2,5)\n",
    "r = torch.randn(2,4)\n",
    "torch.einsum('bn,anm,bm->ba', l, A, r)"
   ]
  },
  {
   "cell_type": "markdown",
   "metadata": {},
   "source": [
    "**Soal**\n",
    "\n",
    "Hitunglah Perkalian Matriks dengan Menggunakan Notasi Einstein\n",
    "\n",
    "Bandingkan dengan perkalian matriks biasa"
   ]
  },
  {
   "cell_type": "code",
   "execution_count": 44,
   "metadata": {},
   "outputs": [],
   "source": [
    "A = torch.randn(7,8)\n",
    "B = torch.randn(8,9)\n",
    "C = torch.randn(9,7)\n",
    "#M = ABC\n"
   ]
  },
  {
   "cell_type": "markdown",
   "metadata": {},
   "source": [
    "**Jawaban**"
   ]
  },
  {
   "cell_type": "markdown",
   "metadata": {},
   "source": [
    "Perkalian matriks"
   ]
  },
  {
   "cell_type": "code",
   "execution_count": 57,
   "metadata": {},
   "outputs": [
    {
     "data": {
      "text/plain": [
       "tensor([[ -4.8907,  19.0467,  -8.4887, -18.6290,   3.3187,   5.7778,  -0.7700],\n",
       "        [ -5.1316,  20.0362, -16.3557,  -4.5188,  -2.7962,   9.5098,   5.3980],\n",
       "        [  8.5892, -10.7318,  13.5154,  -2.9142,   4.1777,  -7.9839,  -6.2101],\n",
       "        [ -0.6998,   2.7078,  -0.5010,  -2.1736,  -0.9383,   3.6079,  -1.3929],\n",
       "        [-11.1672,   7.4879, -11.9979,   6.1631,  -9.4323,  -2.2503,   3.6017],\n",
       "        [ -3.1706,  -7.7511,   9.5430,  -9.4735,   4.1844, -13.3774,  -7.5693],\n",
       "        [ -0.6503,   6.5861,  -2.9917,  -1.6711,  -4.5227,  -1.6396,  -0.8229]])"
      ]
     },
     "execution_count": 57,
     "metadata": {},
     "output_type": "execute_result"
    }
   ],
   "source": [
    "A@B@C"
   ]
  },
  {
   "cell_type": "code",
   "execution_count": 58,
   "metadata": {},
   "outputs": [
    {
     "data": {
      "text/plain": [
       "tensor([[ -4.8907,  19.0467,  -8.4887, -18.6290,   3.3187,   5.7778,  -0.7700],\n",
       "        [ -5.1316,  20.0362, -16.3557,  -4.5188,  -2.7962,   9.5098,   5.3980],\n",
       "        [  8.5892, -10.7318,  13.5154,  -2.9142,   4.1777,  -7.9839,  -6.2101],\n",
       "        [ -0.6998,   2.7078,  -0.5010,  -2.1736,  -0.9383,   3.6079,  -1.3929],\n",
       "        [-11.1672,   7.4879, -11.9979,   6.1631,  -9.4323,  -2.2503,   3.6017],\n",
       "        [ -3.1706,  -7.7511,   9.5430,  -9.4735,   4.1844, -13.3774,  -7.5693],\n",
       "        [ -0.6503,   6.5862,  -2.9917,  -1.6711,  -4.5227,  -1.6396,  -0.8229]])"
      ]
     },
     "execution_count": 58,
     "metadata": {},
     "output_type": "execute_result"
    }
   ],
   "source": [
    "A.matmul(B.matmul(C))"
   ]
  },
  {
   "cell_type": "markdown",
   "metadata": {},
   "source": [
    "Notasi Einstein"
   ]
  },
  {
   "cell_type": "code",
   "execution_count": 59,
   "metadata": {},
   "outputs": [
    {
     "data": {
      "text/plain": [
       "tensor([[ -4.8907,  19.0467,  -8.4887, -18.6290,   3.3187,   5.7778,  -0.7700],\n",
       "        [ -5.1316,  20.0362, -16.3557,  -4.5188,  -2.7962,   9.5098,   5.3980],\n",
       "        [  8.5892, -10.7318,  13.5154,  -2.9142,   4.1777,  -7.9839,  -6.2101],\n",
       "        [ -0.6998,   2.7078,  -0.5010,  -2.1736,  -0.9383,   3.6079,  -1.3929],\n",
       "        [-11.1672,   7.4879, -11.9979,   6.1631,  -9.4323,  -2.2503,   3.6017],\n",
       "        [ -3.1706,  -7.7511,   9.5430,  -9.4735,   4.1844, -13.3774,  -7.5693],\n",
       "        [ -0.6503,   6.5861,  -2.9917,  -1.6711,  -4.5227,  -1.6396,  -0.8229]])"
      ]
     },
     "execution_count": 59,
     "metadata": {},
     "output_type": "execute_result"
    }
   ],
   "source": [
    "torch.einsum('ab,bc,cd->ad', A, B, C)"
   ]
  },
  {
   "cell_type": "markdown",
   "metadata": {},
   "source": [
    "Perkalian elemen"
   ]
  },
  {
   "cell_type": "code",
   "execution_count": 60,
   "metadata": {},
   "outputs": [
    {
     "data": {
      "text/plain": [
       "tensor([[3.3245e+00, 2.9495e+00, 7.2840e-04, 9.6540e-01, 4.4290e-01, 1.3487e+00,\n",
       "         9.9086e-01, 7.9435e-02],\n",
       "        [1.7586e-01, 2.3237e-01, 2.7851e-01, 4.4492e-01, 8.7332e-01, 4.6912e-01,\n",
       "         1.5291e+00, 6.5817e-01],\n",
       "        [2.1471e-01, 5.7510e-01, 9.0035e-01, 1.1497e-01, 1.5771e-02, 2.3843e-01,\n",
       "         8.1236e-01, 2.5526e-01],\n",
       "        [2.8154e-02, 1.1258e-02, 4.9704e-01, 1.9787e+00, 2.7034e-01, 1.4352e+00,\n",
       "         7.6338e-01, 8.8419e-01],\n",
       "        [1.3784e-01, 1.3857e-01, 2.1353e-01, 8.9445e-01, 3.2477e+00, 1.0775e+00,\n",
       "         2.3351e-01, 1.6128e-01],\n",
       "        [1.7577e+00, 9.0954e-03, 1.1220e+00, 1.7703e+00, 8.6338e-01, 7.2983e-01,\n",
       "         9.5527e-01, 1.6101e-01],\n",
       "        [1.5263e-02, 1.8128e-01, 3.1681e-01, 3.5090e+00, 1.3644e+00, 7.8231e-02,\n",
       "         6.3967e-01, 3.4126e+00]])"
      ]
     },
     "execution_count": 60,
     "metadata": {},
     "output_type": "execute_result"
    }
   ],
   "source": [
    "A*A"
   ]
  },
  {
   "cell_type": "code",
   "execution_count": 61,
   "metadata": {},
   "outputs": [
    {
     "data": {
      "text/plain": [
       "tensor([[3.3245e+00, 2.9495e+00, 7.2840e-04, 9.6540e-01, 4.4290e-01, 1.3487e+00,\n",
       "         9.9086e-01, 7.9435e-02],\n",
       "        [1.7586e-01, 2.3237e-01, 2.7851e-01, 4.4492e-01, 8.7332e-01, 4.6912e-01,\n",
       "         1.5291e+00, 6.5817e-01],\n",
       "        [2.1471e-01, 5.7510e-01, 9.0035e-01, 1.1497e-01, 1.5771e-02, 2.3843e-01,\n",
       "         8.1236e-01, 2.5526e-01],\n",
       "        [2.8154e-02, 1.1258e-02, 4.9704e-01, 1.9787e+00, 2.7034e-01, 1.4352e+00,\n",
       "         7.6338e-01, 8.8419e-01],\n",
       "        [1.3784e-01, 1.3857e-01, 2.1353e-01, 8.9445e-01, 3.2477e+00, 1.0775e+00,\n",
       "         2.3351e-01, 1.6128e-01],\n",
       "        [1.7577e+00, 9.0954e-03, 1.1220e+00, 1.7703e+00, 8.6338e-01, 7.2983e-01,\n",
       "         9.5527e-01, 1.6101e-01],\n",
       "        [1.5263e-02, 1.8128e-01, 3.1681e-01, 3.5090e+00, 1.3644e+00, 7.8231e-02,\n",
       "         6.3967e-01, 3.4126e+00]])"
      ]
     },
     "execution_count": 61,
     "metadata": {},
     "output_type": "execute_result"
    }
   ],
   "source": [
    "A.mul(A)"
   ]
  },
  {
   "cell_type": "markdown",
   "metadata": {},
   "source": [
    "Notasi Einstein"
   ]
  },
  {
   "cell_type": "code",
   "execution_count": 62,
   "metadata": {},
   "outputs": [
    {
     "data": {
      "text/plain": [
       "tensor([[3.3245e+00, 2.9495e+00, 7.2840e-04, 9.6540e-01, 4.4290e-01, 1.3487e+00,\n",
       "         9.9086e-01, 7.9435e-02],\n",
       "        [1.7586e-01, 2.3237e-01, 2.7851e-01, 4.4492e-01, 8.7332e-01, 4.6912e-01,\n",
       "         1.5291e+00, 6.5817e-01],\n",
       "        [2.1471e-01, 5.7510e-01, 9.0035e-01, 1.1497e-01, 1.5771e-02, 2.3843e-01,\n",
       "         8.1236e-01, 2.5526e-01],\n",
       "        [2.8154e-02, 1.1258e-02, 4.9704e-01, 1.9787e+00, 2.7034e-01, 1.4352e+00,\n",
       "         7.6338e-01, 8.8419e-01],\n",
       "        [1.3784e-01, 1.3857e-01, 2.1353e-01, 8.9445e-01, 3.2477e+00, 1.0775e+00,\n",
       "         2.3351e-01, 1.6128e-01],\n",
       "        [1.7577e+00, 9.0954e-03, 1.1220e+00, 1.7703e+00, 8.6338e-01, 7.2983e-01,\n",
       "         9.5527e-01, 1.6101e-01],\n",
       "        [1.5263e-02, 1.8128e-01, 3.1681e-01, 3.5090e+00, 1.3644e+00, 7.8231e-02,\n",
       "         6.3967e-01, 3.4126e+00]])"
      ]
     },
     "execution_count": 62,
     "metadata": {},
     "output_type": "execute_result"
    }
   ],
   "source": [
    "torch.einsum('ij,ij->ij', A, A)"
   ]
  },
  {
   "cell_type": "code",
   "execution_count": null,
   "metadata": {},
   "outputs": [],
   "source": []
  }
 ],
 "metadata": {
  "kernelspec": {
   "display_name": "Python 3 (ipykernel)",
   "language": "python",
   "name": "python3"
  },
  "language_info": {
   "codemirror_mode": {
    "name": "ipython",
    "version": 3
   },
   "file_extension": ".py",
   "mimetype": "text/x-python",
   "name": "python",
   "nbconvert_exporter": "python",
   "pygments_lexer": "ipython3",
   "version": "3.9.7"
  }
 },
 "nbformat": 4,
 "nbformat_minor": 1
}
