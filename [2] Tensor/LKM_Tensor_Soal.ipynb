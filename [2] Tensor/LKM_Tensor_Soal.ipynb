{
 "cells": [
  {
   "cell_type": "markdown",
   "metadata": {
    "id": "CQ3N4FGtEP9k"
   },
   "source": [
    "\n",
    "Tensor\n",
    "==========================\n",
    "\n",
    "Di Pytorch, tensor digunakan untuk input, output, dan parameter dari sebuah model\n",
    "Tensor memiliki kelebihan dibanding `NumPy <https://numpy.org/>` dalam 2 hal:\n",
    "1. Operasi Tensor dapat dihitung melalui GPU\n",
    "2. Tensor dapat melakukan diferensiasi otomatis (dibahas di pertemuan berikutnya)\n"
   ]
  },
  {
   "cell_type": "code",
   "execution_count": 1,
   "metadata": {
    "executionInfo": {
     "elapsed": 2838,
     "status": "ok",
     "timestamp": 1655800979909,
     "user": {
      "displayName": "Hendrik Sugiarto",
      "userId": "04571208421820397785"
     },
     "user_tz": -420
    },
    "id": "rRtlZRquEP9m"
   },
   "outputs": [],
   "source": [
    "import torch\n",
    "import math\n",
    "import numpy as np"
   ]
  },
  {
   "cell_type": "markdown",
   "metadata": {
    "id": "7wN1K41fEP9n"
   },
   "source": [
    "**Inisiasi sebuah Tensor**\n",
    "\n",
    "Tensor dapat diinisiasi melalui beragam cara\n",
    "\n",
    "**Langsung dari data**\n",
    "\n",
    "Tensor dapat diciptakan langsung dari data\n"
   ]
  },
  {
   "cell_type": "code",
   "execution_count": 2,
   "metadata": {
    "colab": {
     "base_uri": "https://localhost:8080/"
    },
    "executionInfo": {
     "elapsed": 4,
     "status": "ok",
     "timestamp": 1655800471769,
     "user": {
      "displayName": "Hendrik Sugiarto",
      "userId": "04571208421820397785"
     },
     "user_tz": -420
    },
    "id": "M3GISB0UEP9n",
    "outputId": "c6b70d7b-b151-44b9-a90e-21f54cfea485"
   },
   "outputs": [
    {
     "data": {
      "text/plain": [
       "tensor([[1, 2],\n",
       "        [3, 4]])"
      ]
     },
     "execution_count": 2,
     "metadata": {},
     "output_type": "execute_result"
    }
   ],
   "source": [
    "data = [[1, 2],[3, 4]]\n",
    "x_data = torch.tensor(data)\n",
    "x_data"
   ]
  },
  {
   "cell_type": "markdown",
   "metadata": {
    "id": "lygTPk1iEP9n"
   },
   "source": [
    "**Dari sebuah NumPy array**\n",
    "\n",
    "Tensor dapat diciptakan langsung dari Numpy arrays (dan sebaliknya)\n",
    "\n"
   ]
  },
  {
   "cell_type": "code",
   "execution_count": 3,
   "metadata": {
    "colab": {
     "base_uri": "https://localhost:8080/"
    },
    "executionInfo": {
     "elapsed": 4,
     "status": "ok",
     "timestamp": 1655800490283,
     "user": {
      "displayName": "Hendrik Sugiarto",
      "userId": "04571208421820397785"
     },
     "user_tz": -420
    },
    "id": "arn0RZ27EP9n",
    "outputId": "ecc8cfab-b67e-435d-bc51-50a6ceeee895"
   },
   "outputs": [
    {
     "data": {
      "text/plain": [
       "tensor([[1, 2],\n",
       "        [3, 4]], dtype=torch.int32)"
      ]
     },
     "execution_count": 3,
     "metadata": {},
     "output_type": "execute_result"
    }
   ],
   "source": [
    "np_array = np.array(data)\n",
    "x_np = torch.from_numpy(np_array)\n",
    "x_np"
   ]
  },
  {
   "cell_type": "markdown",
   "metadata": {
    "id": "NJRlmMNhEP9o"
   },
   "source": [
    "**Dari Tensor yang lain:**\n",
    "\n",
    "Tensor yang baru akan memiliki sifat (shape, datatype) dari tensor sebelumnya, kecuali secara explicit diganti.\n",
    "\n"
   ]
  },
  {
   "cell_type": "code",
   "execution_count": 4,
   "metadata": {
    "colab": {
     "base_uri": "https://localhost:8080/"
    },
    "executionInfo": {
     "elapsed": 318,
     "status": "ok",
     "timestamp": 1655800633482,
     "user": {
      "displayName": "Hendrik Sugiarto",
      "userId": "04571208421820397785"
     },
     "user_tz": -420
    },
    "id": "bYHFon8kEP9o",
    "outputId": "8cc86721-fdfa-4451-fc7f-19e46b2cca86"
   },
   "outputs": [
    {
     "name": "stdout",
     "output_type": "stream",
     "text": [
      "Ones Tensor: \n",
      " tensor([[1, 1],\n",
      "        [1, 1]]) \n",
      "\n",
      "Random Tensor: \n",
      " tensor([[0.8801, 0.4443],\n",
      "        [0.1016, 0.5518]]) \n",
      "\n"
     ]
    }
   ],
   "source": [
    "x_ones = torch.ones_like(x_data) # mempertahankan sifat x_data\n",
    "print(f\"Ones Tensor: \\n {x_ones} \\n\")\n",
    "\n",
    "#x_rand = torch.rand_like(x_data)\n",
    "x_rand = torch.rand_like(x_data, dtype=torch.float) # mengganti dtype x_data\n",
    "print(f\"Random Tensor: \\n {x_rand} \\n\")"
   ]
  },
  {
   "cell_type": "markdown",
   "metadata": {
    "id": "WjMZ58THEP9o"
   },
   "source": [
    "**Dari sebuah angka random atau konstanta:**\n",
    "\n",
    "``shape`` adalah sebuah tuple dari dimensi tensor. Itu akan menentukan dimensi dari tensor output pada fungsi di bawah ini.\n",
    "\n"
   ]
  },
  {
   "cell_type": "code",
   "execution_count": 5,
   "metadata": {
    "colab": {
     "base_uri": "https://localhost:8080/"
    },
    "executionInfo": {
     "elapsed": 3,
     "status": "ok",
     "timestamp": 1655800882787,
     "user": {
      "displayName": "Hendrik Sugiarto",
      "userId": "04571208421820397785"
     },
     "user_tz": -420
    },
    "id": "zEy_ABLqEP9p",
    "outputId": "f358644c-79b6-463b-9850-d7d62bb3a22c"
   },
   "outputs": [
    {
     "name": "stdout",
     "output_type": "stream",
     "text": [
      "Random Tensor: \n",
      " tensor([[0.5959, 0.1223, 0.4728],\n",
      "        [0.6117, 0.9135, 0.5143]]) \n",
      "\n",
      "Ones Tensor: \n",
      " tensor([[1., 1., 1.],\n",
      "        [1., 1., 1.]]) \n",
      "\n",
      "Zeros Tensor: \n",
      " tensor([[0., 0., 0.],\n",
      "        [0., 0., 0.]])\n"
     ]
    }
   ],
   "source": [
    "shape = (2,3)\n",
    "rand_tensor = torch.rand(shape)\n",
    "ones_tensor = torch.ones(shape)\n",
    "zeros_tensor = torch.zeros(shape)\n",
    "\n",
    "print(f\"Random Tensor: \\n {rand_tensor} \\n\")\n",
    "print(f\"Ones Tensor: \\n {ones_tensor} \\n\")\n",
    "print(f\"Zeros Tensor: \\n {zeros_tensor}\")"
   ]
  },
  {
   "cell_type": "markdown",
   "metadata": {
    "id": "RuIO7Ka9EP9p"
   },
   "source": [
    "--------------\n",
    "\n",
    "\n"
   ]
  },
  {
   "cell_type": "markdown",
   "metadata": {
    "id": "9DbJ6jKtEP9p"
   },
   "source": [
    "**Attributes of a Tensor**\n",
    "\n",
    "Atribut Tensor akan menjelaskan bentuk, tipe data, dan perangkat penyimpanan tensor\n",
    "\n"
   ]
  },
  {
   "cell_type": "code",
   "execution_count": 6,
   "metadata": {
    "colab": {
     "base_uri": "https://localhost:8080/"
    },
    "executionInfo": {
     "elapsed": 2,
     "status": "ok",
     "timestamp": 1655801184466,
     "user": {
      "displayName": "Hendrik Sugiarto",
      "userId": "04571208421820397785"
     },
     "user_tz": -420
    },
    "id": "hr_C1YKbEP9p",
    "outputId": "b885ec84-146a-4e59-80ec-31ea8c72f03d"
   },
   "outputs": [
    {
     "name": "stdout",
     "output_type": "stream",
     "text": [
      "tensor([[0.9026, 0.5402, 0.2460, 0.6025],\n",
      "        [0.9929, 0.4689, 0.3872, 0.4815],\n",
      "        [0.3308, 0.5997, 0.1813, 0.7099]])\n",
      "Shape of tensor: torch.Size([3, 4])\n",
      "Datatype of tensor: torch.float32\n",
      "Device tensor is stored on: cpu\n"
     ]
    }
   ],
   "source": [
    "tensor = torch.rand(3,4)\n",
    "print(tensor)\n",
    "print(f\"Shape of tensor: {tensor.shape}\")\n",
    "print(f\"Datatype of tensor: {tensor.dtype}\")\n",
    "print(f\"Device tensor is stored on: {tensor.device}\")"
   ]
  },
  {
   "cell_type": "markdown",
   "metadata": {
    "id": "2PCbUAlCEP9q"
   },
   "source": [
    "--------------\n",
    "\n",
    "\n"
   ]
  },
  {
   "cell_type": "markdown",
   "metadata": {
    "id": "GzYZHZXkEP9q"
   },
   "source": [
    "**Operasi pada Tensor**\n",
    "\n",
    "Terdapat lebih dari 100 operasi tensor (termasuk aritmatika, aljabar linear, manipulasi matriks, dan lainnya), dijelaskan secara lebih komprehensif `disini <https://pytorch.org/docs/stable/torch.html>`\n",
    "\n",
    "Setiap operasi ini dapat dioperasikan di GPU. Jika menggunakan Colab, alokasikan sebuah GPU melalui Runtime > Change runtime type > GPU\n",
    "\n",
    "Secara bawaan, tensor diciptakan pada CPU. Kita harus memindahkan tensor ke GPU menggunakan metode ``.to`` (setelah memeriksa ketersediaan GPU). Memindahkan tensor besar antar perangkat, dapat memakan waktu dan memori yang banyak (jadi rencanakanlah secara hati-hati !!!)\n"
   ]
  },
  {
   "cell_type": "code",
   "execution_count": 7,
   "metadata": {
    "colab": {
     "base_uri": "https://localhost:8080/"
    },
    "executionInfo": {
     "elapsed": 11191,
     "status": "ok",
     "timestamp": 1655801013717,
     "user": {
      "displayName": "Hendrik Sugiarto",
      "userId": "04571208421820397785"
     },
     "user_tz": -420
    },
    "id": "XYP2ZXcwEP9q",
    "outputId": "19236a33-1998-4929-b250-e2ed07bfcba7"
   },
   "outputs": [
    {
     "name": "stdout",
     "output_type": "stream",
     "text": [
      "Hanya bisa CPU\n"
     ]
    }
   ],
   "source": [
    "# We move our tensor to the GPU if available\n",
    "if torch.cuda.is_available():\n",
    "    print('Bisa GPU')\n",
    "    tensor = tensor.to('cuda')\n",
    "else:\n",
    "    print('Hanya bisa CPU')"
   ]
  },
  {
   "cell_type": "markdown",
   "metadata": {
    "id": "LEOfJUIyEP9q"
   },
   "source": [
    "Coba beberapa operasi dari daftar.\n",
    "\n"
   ]
  },
  {
   "cell_type": "markdown",
   "metadata": {
    "id": "kF86psY_EP9q"
   },
   "source": [
    "**Operasi standard yang mirip numpy untuk indexing dan slicing:**\n",
    "\n"
   ]
  },
  {
   "cell_type": "code",
   "execution_count": 8,
   "metadata": {
    "colab": {
     "base_uri": "https://localhost:8080/"
    },
    "executionInfo": {
     "elapsed": 465,
     "status": "ok",
     "timestamp": 1655801196263,
     "user": {
      "displayName": "Hendrik Sugiarto",
      "userId": "04571208421820397785"
     },
     "user_tz": -420
    },
    "id": "zW2IJcQwEP9q",
    "outputId": "56fda7de-1c7a-49d2-e151-cfba9f4b20b3"
   },
   "outputs": [
    {
     "name": "stdout",
     "output_type": "stream",
     "text": [
      "Baris pertama:  tensor([1., 1., 1., 1.])\n",
      "Kolom pertama:  tensor([1., 1., 1., 1.])\n",
      "Kolom terakhir: tensor([1., 1., 1., 1.])\n",
      "tensor([[1., 0., 1., 1.],\n",
      "        [1., 0., 1., 1.],\n",
      "        [1., 0., 1., 1.],\n",
      "        [1., 0., 1., 1.]])\n"
     ]
    }
   ],
   "source": [
    "tensor = torch.ones(4, 4)\n",
    "print('Baris pertama: ', tensor[0])\n",
    "print('Kolom pertama: ', tensor[:, 0])\n",
    "print('Kolom terakhir:', tensor[..., -1])\n",
    "tensor[:,1] = 0\n",
    "print(tensor)"
   ]
  },
  {
   "cell_type": "markdown",
   "metadata": {
    "id": "TG-MBmAmEP9q"
   },
   "source": [
    "**Menyatukan beberapa tensor** \n",
    "\n",
    "Gunakan ``torch.cat`` untuk concatenate beberapa tensor secara pilihan dimensi.\n",
    "Alternatif lain, `torch.stack <https://pytorch.org/docs/stable/generated/torch.stack.html>`__,\n",
    "\n"
   ]
  },
  {
   "cell_type": "code",
   "execution_count": 9,
   "metadata": {
    "colab": {
     "base_uri": "https://localhost:8080/"
    },
    "executionInfo": {
     "elapsed": 964,
     "status": "ok",
     "timestamp": 1655801064690,
     "user": {
      "displayName": "Hendrik Sugiarto",
      "userId": "04571208421820397785"
     },
     "user_tz": -420
    },
    "id": "uSMdw83DEP9r",
    "outputId": "2d2ed1a6-d99a-471e-bef1-789b831ae96e"
   },
   "outputs": [
    {
     "name": "stdout",
     "output_type": "stream",
     "text": [
      "tensor([[1., 0., 1., 1., 1., 0., 1., 1., 1., 0., 1., 1.],\n",
      "        [1., 0., 1., 1., 1., 0., 1., 1., 1., 0., 1., 1.],\n",
      "        [1., 0., 1., 1., 1., 0., 1., 1., 1., 0., 1., 1.],\n",
      "        [1., 0., 1., 1., 1., 0., 1., 1., 1., 0., 1., 1.]])\n"
     ]
    }
   ],
   "source": [
    "t1 = torch.cat([tensor, tensor, tensor], dim=1)\n",
    "print(t1)"
   ]
  },
  {
   "cell_type": "markdown",
   "metadata": {
    "id": "8vGyV19-EP9r"
   },
   "source": [
    "**Operasi Aritmatika**\n",
    "\n"
   ]
  },
  {
   "cell_type": "code",
   "execution_count": 10,
   "metadata": {
    "colab": {
     "base_uri": "https://localhost:8080/"
    },
    "executionInfo": {
     "elapsed": 5,
     "status": "ok",
     "timestamp": 1655801268790,
     "user": {
      "displayName": "Hendrik Sugiarto",
      "userId": "04571208421820397785"
     },
     "user_tz": -420
    },
    "id": "HZCWm8fLEP9r",
    "outputId": "f37f3adc-f334-4095-8f91-f0a5eeb17f76"
   },
   "outputs": [
    {
     "name": "stdout",
     "output_type": "stream",
     "text": [
      "tensor([[1., 0., 1., 1.],\n",
      "        [1., 0., 1., 1.],\n",
      "        [1., 0., 1., 1.],\n",
      "        [1., 0., 1., 1.]])\n",
      "tensor([[3., 3., 3., 3.],\n",
      "        [3., 3., 3., 3.],\n",
      "        [3., 3., 3., 3.],\n",
      "        [3., 3., 3., 3.]])\n",
      "tensor([[3., 3., 3., 3.],\n",
      "        [3., 3., 3., 3.],\n",
      "        [3., 3., 3., 3.],\n",
      "        [3., 3., 3., 3.]])\n",
      "tensor([[1., 0., 1., 1.],\n",
      "        [1., 0., 1., 1.],\n",
      "        [1., 0., 1., 1.],\n",
      "        [1., 0., 1., 1.]])\n",
      "tensor([[1., 0., 1., 1.],\n",
      "        [1., 0., 1., 1.],\n",
      "        [1., 0., 1., 1.],\n",
      "        [1., 0., 1., 1.]])\n"
     ]
    }
   ],
   "source": [
    "print(tensor)\n",
    "# Menghitung perkalian matriks antara 2 tensors. y1, y2, y3 akan memiliki nilai yang sama\n",
    "y1 = tensor @ tensor.T\n",
    "y2 = tensor.matmul(tensor.T)\n",
    "print(y2)\n",
    "\n",
    "y3 = torch.rand_like(tensor)\n",
    "print(torch.matmul(tensor, tensor.T, out=y3))\n",
    "\n",
    "# Menghitung perkalian elemen. z1, z2, z3 akan memiliki nilai yang sama\n",
    "z1 = tensor * tensor\n",
    "print(z1)\n",
    "z2 = tensor.mul(tensor)\n",
    "\n",
    "z3 = torch.rand_like(tensor)\n",
    "print(torch.mul(tensor, tensor, out=z3))"
   ]
  },
  {
   "cell_type": "markdown",
   "metadata": {
    "id": "gg43rvGPEP9r"
   },
   "source": [
    "**tensor 1-elemen** Jika memiliki sebuah tensor 1-elemen (contoh: agregat semua nilai dari sebuah tensor menjadi 1 angka), itu dapat diubah menjadi python numerik menggunakan ``item()``:\n",
    "\n"
   ]
  },
  {
   "cell_type": "code",
   "execution_count": 11,
   "metadata": {
    "colab": {
     "base_uri": "https://localhost:8080/"
    },
    "executionInfo": {
     "elapsed": 964,
     "status": "ok",
     "timestamp": 1655801316574,
     "user": {
      "displayName": "Hendrik Sugiarto",
      "userId": "04571208421820397785"
     },
     "user_tz": -420
    },
    "id": "FL7FFQ9GEP9r",
    "outputId": "fff13ec6-cec8-4627-defb-12cfb16e85b6"
   },
   "outputs": [
    {
     "name": "stdout",
     "output_type": "stream",
     "text": [
      "12.0 <class 'float'>\n"
     ]
    }
   ],
   "source": [
    "agg = tensor.sum()\n",
    "agg_item = agg.item()\n",
    "print(agg_item, type(agg_item))"
   ]
  },
  {
   "cell_type": "markdown",
   "metadata": {
    "id": "qdIe680oEP9r"
   },
   "source": [
    "**Operasi In-Place**\n",
    "\n",
    "Operasi yang menyimpan hasil kedalam variabel itu sendiri disebut in-place. Mereka menggunakan imbuhan ``_``\n",
    "\n",
    "contoh: ``x.copy_(y)``, ``x.t_()``, akan merubah ``x``.\n",
    "\n"
   ]
  },
  {
   "cell_type": "code",
   "execution_count": 12,
   "metadata": {
    "colab": {
     "base_uri": "https://localhost:8080/"
    },
    "executionInfo": {
     "elapsed": 473,
     "status": "ok",
     "timestamp": 1655801336175,
     "user": {
      "displayName": "Hendrik Sugiarto",
      "userId": "04571208421820397785"
     },
     "user_tz": -420
    },
    "id": "J5JR2m9TEP9r",
    "outputId": "f438bdc7-4c66-4374-edc4-992c4f190b0a"
   },
   "outputs": [
    {
     "name": "stdout",
     "output_type": "stream",
     "text": [
      "tensor([[1., 0., 1., 1.],\n",
      "        [1., 0., 1., 1.],\n",
      "        [1., 0., 1., 1.],\n",
      "        [1., 0., 1., 1.]]) \n",
      "\n",
      "tensor([[6., 5., 6., 6.],\n",
      "        [6., 5., 6., 6.],\n",
      "        [6., 5., 6., 6.],\n",
      "        [6., 5., 6., 6.]])\n"
     ]
    }
   ],
   "source": [
    "print(tensor, \"\\n\")\n",
    "tensor.add_(5)\n",
    "print(tensor)"
   ]
  },
  {
   "cell_type": "markdown",
   "metadata": {
    "id": "cV9mRDQkEP9r"
   },
   "source": [
    "<div class=\"alert alert-info\"><h4>Catatan</h4><p>Operasi In-place dapat menimbulkan masalah ketika menghitung turunan karena kehilangan sejarah operasi. Jadi penggunaan seperti ini kurang dianjurkan.</p></div>\n",
    "\n"
   ]
  },
  {
   "cell_type": "markdown",
   "metadata": {
    "id": "8jhCRc4nEP9r"
   },
   "source": [
    "--------------\n",
    "\n",
    "\n"
   ]
  },
  {
   "cell_type": "markdown",
   "metadata": {
    "id": "3qNJ-NBtEP9r"
   },
   "source": [
    "**Jembatan dengan Numpy**\n",
    "\n",
    "Tensor pada CPU dan Numpy array dapat menggunakan lokasi memori yang sama,\n",
    "merubah yang satu akan merubah yang lain\n",
    "\n",
    "\n"
   ]
  },
  {
   "cell_type": "markdown",
   "metadata": {
    "id": "GiJsoyQsEP9r"
   },
   "source": [
    "Tensor menjadi NumPy array\n",
    "\n"
   ]
  },
  {
   "cell_type": "code",
   "execution_count": 13,
   "metadata": {
    "colab": {
     "base_uri": "https://localhost:8080/"
    },
    "executionInfo": {
     "elapsed": 963,
     "status": "ok",
     "timestamp": 1655801372486,
     "user": {
      "displayName": "Hendrik Sugiarto",
      "userId": "04571208421820397785"
     },
     "user_tz": -420
    },
    "id": "v1v1nJz7EP9r",
    "outputId": "c6ec579b-b2c5-4319-bb22-02c7baf07998"
   },
   "outputs": [
    {
     "name": "stdout",
     "output_type": "stream",
     "text": [
      "t: tensor([1., 1., 1., 1., 1.])\n",
      "n: [1. 1. 1. 1. 1.]\n"
     ]
    }
   ],
   "source": [
    "t = torch.ones(5)\n",
    "print(f\"t: {t}\")\n",
    "n = t.numpy()\n",
    "print(f\"n: {n}\")"
   ]
  },
  {
   "cell_type": "markdown",
   "metadata": {
    "id": "CherAl3lEP9s"
   },
   "source": [
    "Perubahan pada tensor terjadi pada Numpy array.\n",
    "\n"
   ]
  },
  {
   "cell_type": "code",
   "execution_count": 14,
   "metadata": {
    "colab": {
     "base_uri": "https://localhost:8080/"
    },
    "executionInfo": {
     "elapsed": 494,
     "status": "ok",
     "timestamp": 1655801379546,
     "user": {
      "displayName": "Hendrik Sugiarto",
      "userId": "04571208421820397785"
     },
     "user_tz": -420
    },
    "id": "3_L34NedEP9s",
    "outputId": "733ee3ca-297b-4ba3-94f4-55b89dbe4ba9"
   },
   "outputs": [
    {
     "name": "stdout",
     "output_type": "stream",
     "text": [
      "t: tensor([2., 2., 2., 2., 2.])\n",
      "n: [2. 2. 2. 2. 2.]\n"
     ]
    }
   ],
   "source": [
    "t.add_(1)\n",
    "print(f\"t: {t}\")\n",
    "print(f\"n: {n}\")"
   ]
  },
  {
   "cell_type": "markdown",
   "metadata": {
    "id": "HssWPHaEEP9s"
   },
   "source": [
    "NumPy array menjadi Tensor\n",
    "\n"
   ]
  },
  {
   "cell_type": "code",
   "execution_count": 15,
   "metadata": {
    "colab": {
     "base_uri": "https://localhost:8080/"
    },
    "executionInfo": {
     "elapsed": 486,
     "status": "ok",
     "timestamp": 1655801399558,
     "user": {
      "displayName": "Hendrik Sugiarto",
      "userId": "04571208421820397785"
     },
     "user_tz": -420
    },
    "id": "HyMerlf7EP9s",
    "outputId": "8d515d7f-1b52-4915-a2ae-96c7a59fbbda"
   },
   "outputs": [
    {
     "name": "stdout",
     "output_type": "stream",
     "text": [
      "[1. 1. 1. 1. 1.]\n",
      "tensor([1., 1., 1., 1., 1.], dtype=torch.float64)\n"
     ]
    }
   ],
   "source": [
    "n = np.ones(5)\n",
    "t = torch.from_numpy(n)\n",
    "print(n)\n",
    "print(t)"
   ]
  },
  {
   "cell_type": "markdown",
   "metadata": {
    "id": "AartzoFBEP9s"
   },
   "source": [
    "Perubahan pada Numpy array terjadi pada Tensor.\n",
    "\n"
   ]
  },
  {
   "cell_type": "code",
   "execution_count": 16,
   "metadata": {
    "colab": {
     "base_uri": "https://localhost:8080/"
    },
    "executionInfo": {
     "elapsed": 515,
     "status": "ok",
     "timestamp": 1655801416621,
     "user": {
      "displayName": "Hendrik Sugiarto",
      "userId": "04571208421820397785"
     },
     "user_tz": -420
    },
    "id": "cc2jQJ9eEP9s",
    "outputId": "01ce8db2-77f7-407f-901f-8fb76c786532"
   },
   "outputs": [
    {
     "name": "stdout",
     "output_type": "stream",
     "text": [
      "t: tensor([2., 2., 2., 2., 2.], dtype=torch.float64)\n",
      "n: [2. 2. 2. 2. 2.]\n"
     ]
    }
   ],
   "source": [
    "np.add(n, 1, out=n)\n",
    "print(f\"t: {t}\")\n",
    "print(f\"n: {n}\")"
   ]
  },
  {
   "cell_type": "markdown",
   "metadata": {
    "id": "y2aOIwUsEP9s"
   },
   "source": [
    "**Matematika dan Logika dengan Tensor**"
   ]
  },
  {
   "cell_type": "code",
   "execution_count": 17,
   "metadata": {
    "colab": {
     "base_uri": "https://localhost:8080/"
    },
    "executionInfo": {
     "elapsed": 988,
     "status": "ok",
     "timestamp": 1655801438126,
     "user": {
      "displayName": "Hendrik Sugiarto",
      "userId": "04571208421820397785"
     },
     "user_tz": -420
    },
    "id": "knFFlMB-EP9s",
    "outputId": "f90f1e79-152a-47d3-d4fb-0ddc049aa090"
   },
   "outputs": [
    {
     "name": "stdout",
     "output_type": "stream",
     "text": [
      "tensor([[1., 1.],\n",
      "        [1., 1.]])\n",
      "tensor([[2., 2.],\n",
      "        [2., 2.]])\n",
      "tensor([[3., 3.],\n",
      "        [3., 3.]])\n",
      "tensor([[4., 4.],\n",
      "        [4., 4.]])\n",
      "tensor([[1.4142, 1.4142],\n",
      "        [1.4142, 1.4142]])\n"
     ]
    }
   ],
   "source": [
    "ones = torch.zeros(2, 2) + 1\n",
    "twos = torch.ones(2, 2) * 2\n",
    "threes = (torch.ones(2, 2) * 7 - 1) / 2\n",
    "fours = twos ** 2\n",
    "sqrt2s = twos ** 0.5\n",
    "\n",
    "print(ones)\n",
    "print(twos)\n",
    "print(threes)\n",
    "print(fours)\n",
    "print(sqrt2s)"
   ]
  },
  {
   "cell_type": "code",
   "execution_count": 18,
   "metadata": {
    "colab": {
     "base_uri": "https://localhost:8080/"
    },
    "executionInfo": {
     "elapsed": 965,
     "status": "ok",
     "timestamp": 1655801462866,
     "user": {
      "displayName": "Hendrik Sugiarto",
      "userId": "04571208421820397785"
     },
     "user_tz": -420
    },
    "id": "hxs06SJvEP9s",
    "outputId": "dc2eca89-b6b4-4962-800f-6b087875d6f6"
   },
   "outputs": [
    {
     "name": "stdout",
     "output_type": "stream",
     "text": [
      "tensor([[ 2.,  4.],\n",
      "        [ 8., 16.]])\n",
      "tensor([[5., 5.],\n",
      "        [5., 5.]])\n",
      "tensor([[12., 12.],\n",
      "        [12., 12.]])\n"
     ]
    }
   ],
   "source": [
    "powers2 = twos ** torch.tensor([[1, 2], [3, 4]])\n",
    "print(powers2)\n",
    "\n",
    "fives = ones + fours\n",
    "print(fives)\n",
    "\n",
    "dozens = threes * fours\n",
    "print(dozens)"
   ]
  },
  {
   "cell_type": "markdown",
   "metadata": {
    "id": "2Y8mk1rCEP9s"
   },
   "source": [
    "**Tensor Broadcasting**\n",
    "\n",
    "Aturan Broadcasting:\n",
    "- Masing-masing tensor paling sedikit harus memiliki 1 dimensi\n",
    "- Membandingkan dimensi dari 2 tensors, dari yang akhir ke yang pertama:\n",
    "    - Masing-masing dimensi harus sama, atau\n",
    "    - Salah satu dimensi harus ukuran 1, atau\n",
    "    - Dimensi tidak eksis di salah satu tensor\n"
   ]
  },
  {
   "cell_type": "code",
   "execution_count": 19,
   "metadata": {
    "colab": {
     "base_uri": "https://localhost:8080/"
    },
    "executionInfo": {
     "elapsed": 1291,
     "status": "ok",
     "timestamp": 1655801472835,
     "user": {
      "displayName": "Hendrik Sugiarto",
      "userId": "04571208421820397785"
     },
     "user_tz": -420
    },
    "id": "AyMX0JB6EP9s",
    "outputId": "3021d074-b3a5-4257-cc3b-d51929d7faa5"
   },
   "outputs": [
    {
     "name": "stdout",
     "output_type": "stream",
     "text": [
      "tensor([[0.8368, 0.2670, 0.8889, 0.3817],\n",
      "        [0.5358, 0.7921, 0.3178, 0.1628]])\n",
      "tensor([[1.6735, 0.5340, 1.7779, 0.7635],\n",
      "        [1.0717, 1.5842, 0.6356, 0.3256]])\n"
     ]
    }
   ],
   "source": [
    "rand = torch.rand(2, 4)\n",
    "doubled = rand * (torch.ones(1, 4) * 2)\n",
    "\n",
    "print(rand)\n",
    "print(doubled)"
   ]
  },
  {
   "cell_type": "code",
   "execution_count": 20,
   "metadata": {
    "colab": {
     "base_uri": "https://localhost:8080/"
    },
    "executionInfo": {
     "elapsed": 998,
     "status": "ok",
     "timestamp": 1655801494604,
     "user": {
      "displayName": "Hendrik Sugiarto",
      "userId": "04571208421820397785"
     },
     "user_tz": -420
    },
    "id": "d4ZIAGt6EP9s",
    "outputId": "94891a54-7f0f-4a8c-d419-d4fd9331eb50"
   },
   "outputs": [
    {
     "name": "stdout",
     "output_type": "stream",
     "text": [
      "tensor([[[1., 1.],\n",
      "         [1., 1.],\n",
      "         [1., 1.]],\n",
      "\n",
      "        [[1., 1.],\n",
      "         [1., 1.],\n",
      "         [1., 1.]],\n",
      "\n",
      "        [[1., 1.],\n",
      "         [1., 1.],\n",
      "         [1., 1.]],\n",
      "\n",
      "        [[1., 1.],\n",
      "         [1., 1.],\n",
      "         [1., 1.]]])\n",
      "tensor([[[0.2289, 0.6012],\n",
      "         [0.7730, 0.5474],\n",
      "         [0.5457, 0.7708]],\n",
      "\n",
      "        [[0.2289, 0.6012],\n",
      "         [0.7730, 0.5474],\n",
      "         [0.5457, 0.7708]],\n",
      "\n",
      "        [[0.2289, 0.6012],\n",
      "         [0.7730, 0.5474],\n",
      "         [0.5457, 0.7708]],\n",
      "\n",
      "        [[0.2289, 0.6012],\n",
      "         [0.7730, 0.5474],\n",
      "         [0.5457, 0.7708]]])\n",
      "tensor([[[0.6323, 0.6323],\n",
      "         [0.3425, 0.3425],\n",
      "         [0.7504, 0.7504]],\n",
      "\n",
      "        [[0.6323, 0.6323],\n",
      "         [0.3425, 0.3425],\n",
      "         [0.7504, 0.7504]],\n",
      "\n",
      "        [[0.6323, 0.6323],\n",
      "         [0.3425, 0.3425],\n",
      "         [0.7504, 0.7504]],\n",
      "\n",
      "        [[0.6323, 0.6323],\n",
      "         [0.3425, 0.3425],\n",
      "         [0.7504, 0.7504]]])\n",
      "tensor([[[0.3445, 0.0517],\n",
      "         [0.3445, 0.0517],\n",
      "         [0.3445, 0.0517]],\n",
      "\n",
      "        [[0.3445, 0.0517],\n",
      "         [0.3445, 0.0517],\n",
      "         [0.3445, 0.0517]],\n",
      "\n",
      "        [[0.3445, 0.0517],\n",
      "         [0.3445, 0.0517],\n",
      "         [0.3445, 0.0517]],\n",
      "\n",
      "        [[0.3445, 0.0517],\n",
      "         [0.3445, 0.0517],\n",
      "         [0.3445, 0.0517]]])\n"
     ]
    }
   ],
   "source": [
    "a =     torch.ones(4, 3, 2)\n",
    "print(a)\n",
    "\n",
    "b = a * torch.rand(   3, 2) # dimensi ke 3 dan 2 identik dengan a, # dimensi ke 1 absen\n",
    "print(b)\n",
    "\n",
    "c = a * torch.rand(   3, 1) # dimensi ke 3 = 1, # dimensi ke 2 identik dengan a\n",
    "print(c)\n",
    "\n",
    "d = a * torch.rand(   1, 2) # dimensi ke 3 identik dengan a, # dimensi ke 2 = 1\n",
    "print(d)"
   ]
  },
  {
   "cell_type": "markdown",
   "metadata": {
    "id": "Lsn421jHEP9s"
   },
   "source": [
    "**Matematika Tensor Lanjutan**"
   ]
  },
  {
   "cell_type": "code",
   "execution_count": 21,
   "metadata": {
    "colab": {
     "base_uri": "https://localhost:8080/"
    },
    "executionInfo": {
     "elapsed": 968,
     "status": "ok",
     "timestamp": 1655801651924,
     "user": {
      "displayName": "Hendrik Sugiarto",
      "userId": "04571208421820397785"
     },
     "user_tz": -420
    },
    "id": "oS2PNL2zEP9s",
    "outputId": "d35b683b-f41b-48dd-bb83-b8120a37d187"
   },
   "outputs": [
    {
     "name": "stdout",
     "output_type": "stream",
     "text": [
      "Common functions:\n",
      "tensor([[0.2815, 0.6217, 0.5558, 0.8532],\n",
      "        [0.4609, 0.0221, 0.9688, 0.2004]])\n",
      "tensor([[-0., 1., 1., -0.],\n",
      "        [1., 1., 1., -0.]])\n",
      "tensor([[-1.,  0.,  0., -1.],\n",
      "        [ 0.,  0.,  0., -1.]])\n",
      "tensor([[-0.2815,  0.5000,  0.5000, -0.5000],\n",
      "        [ 0.4609,  0.0221,  0.5000, -0.2004]])\n",
      "\n",
      "Sin and arcsin:\n",
      "tensor([0.0000, 0.7854, 1.5708, 2.3562])\n",
      "tensor([0.0000, 0.7071, 1.0000, 0.7071])\n",
      "tensor([0.0000, 0.7854, 1.5708, 0.7854])\n",
      "\n",
      "Bitwise XOR:\n",
      "tensor([3, 2, 1])\n",
      "\n",
      "Broadcasted, element-wise equality comparison:\n",
      "tensor([[ True, False],\n",
      "        [False, False]])\n",
      "\n",
      "Aggregate ops:\n",
      "tensor(4.)\n",
      "4.0\n",
      "tensor(2.5000)\n",
      "tensor(1.2910)\n",
      "tensor(24.)\n",
      "tensor([1, 2])\n",
      "\n",
      "Vektor & Matriks:\n",
      "tensor([ 0.,  0., -1.])\n",
      "tensor([[0.1296, 0.9481],\n",
      "        [0.5737, 0.8284]])\n",
      "tensor([[0.3888, 2.8442],\n",
      "        [1.7211, 2.4852]])\n",
      "torch.return_types.svd(\n",
      "U=tensor([[-0.6863, -0.7273],\n",
      "        [-0.7273,  0.6863]]),\n",
      "S=tensor([4.0547, 0.9690]),\n",
      "V=tensor([[-0.3745,  0.9272],\n",
      "        [-0.9272, -0.3745]]))\n"
     ]
    }
   ],
   "source": [
    "# fungsi umum\n",
    "a = torch.rand(2, 4) * 2 - 1\n",
    "print('Common functions:')\n",
    "print(torch.abs(a))\n",
    "print(torch.ceil(a))\n",
    "print(torch.floor(a))\n",
    "print(torch.clamp(a, -0.5, 0.5))\n",
    "\n",
    "# fungsi trigonometri dan inversnya\n",
    "angles = torch.tensor([0, math.pi / 4, math.pi / 2, 3 * math.pi / 4])\n",
    "sines = torch.sin(angles)\n",
    "inverses = torch.asin(sines)\n",
    "print('\\nSin and arcsin:')\n",
    "print(angles)\n",
    "print(sines)\n",
    "print(inverses)\n",
    "\n",
    "# operasi bitwise\n",
    "print('\\nBitwise XOR:')\n",
    "b = torch.tensor([1, 5, 11])\n",
    "c = torch.tensor([2, 7, 10])\n",
    "print(torch.bitwise_xor(b, c))\n",
    "\n",
    "# perbandingan:\n",
    "print('\\nBroadcasted, element-wise equality comparison:')\n",
    "d = torch.tensor([[1., 2.], [3., 4.]])\n",
    "e = torch.ones(1, 2)  # pembanding\n",
    "print(torch.eq(d, e)) # returns sebuah tensor tipe bool\n",
    "\n",
    "# aggregasi:\n",
    "print('\\nAggregate ops:')\n",
    "print(torch.max(d))        # returns sebuah 1-elemen tensor\n",
    "print(torch.max(d).item()) # mengeluarkan nilai dari tensor\n",
    "print(torch.mean(d))       # rata-rata\n",
    "print(torch.std(d))        # standard deviasi\n",
    "print(torch.prod(d))       # perkalian semua angka\n",
    "print(torch.unique(torch.tensor([1, 2, 1, 2, 1, 2]))) # filter elemen unik\n",
    "\n",
    "# vektor dan aljabar linear\n",
    "v1 = torch.tensor([1., 0., 0.])         # unit vektor x\n",
    "v2 = torch.tensor([0., 1., 0.])         # unit vektor y\n",
    "m1 = torch.rand(2, 2)                   # random matrix\n",
    "m2 = torch.tensor([[3., 0.], [0., 3.]]) # 3x I\n",
    "\n",
    "print('\\nVektor & Matriks:')\n",
    "print(torch.cross(v2, v1)) # -ve dari unit vektor z (v1 x v2 == -v2 x v1)\n",
    "print(m1)\n",
    "m3 = torch.matmul(m1, m2)\n",
    "print(m3)                  # 3x m1\n",
    "print(torch.svd(m3))       # singular value decomposition"
   ]
  },
  {
   "cell_type": "markdown",
   "metadata": {
    "id": "xu9pwaJ1EP9t"
   },
   "source": [
    "**Salin Tensor**"
   ]
  },
  {
   "cell_type": "code",
   "execution_count": 22,
   "metadata": {
    "colab": {
     "base_uri": "https://localhost:8080/"
    },
    "executionInfo": {
     "elapsed": 982,
     "status": "ok",
     "timestamp": 1655801668216,
     "user": {
      "displayName": "Hendrik Sugiarto",
      "userId": "04571208421820397785"
     },
     "user_tz": -420
    },
    "id": "bOItv7QHEP9t",
    "outputId": "0c264811-79c7-48ec-d8f4-5384597e9a41"
   },
   "outputs": [
    {
     "name": "stdout",
     "output_type": "stream",
     "text": [
      "tensor([[  1., 561.],\n",
      "        [  1.,   1.]])\n"
     ]
    }
   ],
   "source": [
    "a = torch.ones(2, 2)\n",
    "b = a\n",
    "\n",
    "a[0][1] = 561  # ubah a...\n",
    "print(b)       # ...dan b otomatis berubah"
   ]
  },
  {
   "cell_type": "code",
   "execution_count": 23,
   "metadata": {
    "colab": {
     "base_uri": "https://localhost:8080/"
    },
    "executionInfo": {
     "elapsed": 976,
     "status": "ok",
     "timestamp": 1655801700678,
     "user": {
      "displayName": "Hendrik Sugiarto",
      "userId": "04571208421820397785"
     },
     "user_tz": -420
    },
    "id": "WHhgme2eEP9t",
    "outputId": "d521bd7a-60e6-4966-b07e-b3fb4d428f8b"
   },
   "outputs": [
    {
     "name": "stdout",
     "output_type": "stream",
     "text": [
      "tensor([[True, True],\n",
      "        [True, True]])\n",
      "tensor([[1., 1.],\n",
      "        [1., 1.]])\n"
     ]
    }
   ],
   "source": [
    "a = torch.ones(2, 2)\n",
    "b = a.clone()\n",
    "\n",
    "assert b is not a      # objek yang berbeda di memori...\n",
    "print(torch.eq(a, b))  # ...tapi kontennya masih sama\n",
    "\n",
    "a[0][1] = 561          # a berubah...\n",
    "print(b)               # ...tapi b masih sama"
   ]
  },
  {
   "cell_type": "code",
   "execution_count": 24,
   "metadata": {
    "colab": {
     "base_uri": "https://localhost:8080/"
    },
    "executionInfo": {
     "elapsed": 504,
     "status": "ok",
     "timestamp": 1655801733722,
     "user": {
      "displayName": "Hendrik Sugiarto",
      "userId": "04571208421820397785"
     },
     "user_tz": -420
    },
    "id": "5hbIiMnUEP9t",
    "outputId": "6b7fa7cb-3da8-4dcd-ea45-7719e51de2c2"
   },
   "outputs": [
    {
     "name": "stdout",
     "output_type": "stream",
     "text": [
      "tensor([[0.8820, 0.7883],\n",
      "        [0.2963, 0.2949]], requires_grad=True)\n",
      "tensor([[0.8820, 0.7883],\n",
      "        [0.2963, 0.2949]], grad_fn=<CloneBackward0>)\n",
      "tensor([[0.8820, 0.7883],\n",
      "        [0.2963, 0.2949]])\n",
      "tensor([[0.8820, 0.7883],\n",
      "        [0.2963, 0.2949]], requires_grad=True)\n"
     ]
    }
   ],
   "source": [
    "a = torch.rand(2, 2, requires_grad=True) # turn on autograd\n",
    "print(a)\n",
    "\n",
    "b = a.clone()\n",
    "print(b)\n",
    "\n",
    "c = a.detach().clone()\n",
    "print(c)\n",
    "\n",
    "print(a)"
   ]
  },
  {
   "cell_type": "markdown",
   "metadata": {
    "id": "rIeUoONyEP9t"
   },
   "source": [
    "**Merubah Dimensi Tensor**"
   ]
  },
  {
   "cell_type": "code",
   "execution_count": 25,
   "metadata": {
    "colab": {
     "base_uri": "https://localhost:8080/"
    },
    "executionInfo": {
     "elapsed": 486,
     "status": "ok",
     "timestamp": 1655801764377,
     "user": {
      "displayName": "Hendrik Sugiarto",
      "userId": "04571208421820397785"
     },
     "user_tz": -420
    },
    "id": "SfjKGHqGEP9t",
    "outputId": "8d92ca05-aa09-4719-e826-5ddabd46ada1"
   },
   "outputs": [
    {
     "name": "stdout",
     "output_type": "stream",
     "text": [
      "torch.Size([3, 226, 226])\n",
      "torch.Size([1, 3, 226, 226])\n"
     ]
    }
   ],
   "source": [
    "a = torch.rand(3, 226, 226)\n",
    "b = a.unsqueeze(0)\n",
    "\n",
    "print(a.shape)\n",
    "print(b.shape)"
   ]
  },
  {
   "cell_type": "code",
   "execution_count": 26,
   "metadata": {
    "colab": {
     "base_uri": "https://localhost:8080/"
    },
    "executionInfo": {
     "elapsed": 951,
     "status": "ok",
     "timestamp": 1655801787614,
     "user": {
      "displayName": "Hendrik Sugiarto",
      "userId": "04571208421820397785"
     },
     "user_tz": -420
    },
    "id": "RYm8izA8EP9t",
    "outputId": "96e03e69-3e30-4886-b12c-1e9e6205784f"
   },
   "outputs": [
    {
     "name": "stdout",
     "output_type": "stream",
     "text": [
      "torch.Size([1, 20])\n",
      "tensor([[0.3853, 0.1668, 0.3821, 0.2608, 0.1302, 0.2329, 0.0026, 0.9248, 0.0931,\n",
      "         0.2650, 0.4897, 0.4584, 0.1247, 0.3229, 0.9680, 0.5080, 0.8286, 0.8318,\n",
      "         0.5977, 0.1586]])\n",
      "torch.Size([20])\n",
      "tensor([0.3853, 0.1668, 0.3821, 0.2608, 0.1302, 0.2329, 0.0026, 0.9248, 0.0931,\n",
      "        0.2650, 0.4897, 0.4584, 0.1247, 0.3229, 0.9680, 0.5080, 0.8286, 0.8318,\n",
      "        0.5977, 0.1586])\n",
      "torch.Size([2, 2])\n",
      "torch.Size([2, 2])\n"
     ]
    }
   ],
   "source": [
    "a = torch.rand(1, 20)\n",
    "print(a.shape)\n",
    "print(a)\n",
    "\n",
    "b = a.squeeze(0)\n",
    "print(b.shape)\n",
    "print(b)\n",
    "\n",
    "c = torch.rand(2, 2)\n",
    "print(c.shape)\n",
    "\n",
    "d = c.squeeze(0)\n",
    "print(d.shape)"
   ]
  },
  {
   "cell_type": "code",
   "execution_count": 27,
   "metadata": {
    "colab": {
     "base_uri": "https://localhost:8080/"
    },
    "executionInfo": {
     "elapsed": 956,
     "status": "ok",
     "timestamp": 1655801854574,
     "user": {
      "displayName": "Hendrik Sugiarto",
      "userId": "04571208421820397785"
     },
     "user_tz": -420
    },
    "id": "izLVsiStEP9t",
    "outputId": "4b4019d1-ba18-46ce-c480-ec6ceead4862"
   },
   "outputs": [
    {
     "name": "stdout",
     "output_type": "stream",
     "text": [
      "torch.Size([3, 1])\n",
      "tensor([[[0.8999, 0.8999],\n",
      "         [0.6499, 0.6499],\n",
      "         [0.1299, 0.1299]],\n",
      "\n",
      "        [[0.8999, 0.8999],\n",
      "         [0.6499, 0.6499],\n",
      "         [0.1299, 0.1299]],\n",
      "\n",
      "        [[0.8999, 0.8999],\n",
      "         [0.6499, 0.6499],\n",
      "         [0.1299, 0.1299]],\n",
      "\n",
      "        [[0.8999, 0.8999],\n",
      "         [0.6499, 0.6499],\n",
      "         [0.1299, 0.1299]]])\n"
     ]
    }
   ],
   "source": [
    "a = torch.ones(4, 3, 2)\n",
    "b = torch.rand(   3)     # perkalian a * b akan menghasilkan runtime error\n",
    "c = b.unsqueeze(1)       # ubah menjadi 2-dimensional tensor, tambahkan dimensi baru\n",
    "print(c.shape)\n",
    "print(a * c)             "
   ]
  },
  {
   "cell_type": "code",
   "execution_count": 28,
   "metadata": {
    "colab": {
     "base_uri": "https://localhost:8080/"
    },
    "executionInfo": {
     "elapsed": 963,
     "status": "ok",
     "timestamp": 1655801879993,
     "user": {
      "displayName": "Hendrik Sugiarto",
      "userId": "04571208421820397785"
     },
     "user_tz": -420
    },
    "id": "WWUoK77KEP9t",
    "outputId": "ee4a6879-3d4d-4f5e-d89c-73139cedad43"
   },
   "outputs": [
    {
     "name": "stdout",
     "output_type": "stream",
     "text": [
      "torch.Size([3, 226, 226])\n",
      "torch.Size([1, 3, 226, 226])\n"
     ]
    }
   ],
   "source": [
    "batch_me = torch.rand(3, 226, 226)\n",
    "print(batch_me.shape)\n",
    "batch_me.unsqueeze_(0)\n",
    "print(batch_me.shape)"
   ]
  },
  {
   "cell_type": "code",
   "execution_count": 29,
   "metadata": {
    "colab": {
     "base_uri": "https://localhost:8080/"
    },
    "executionInfo": {
     "elapsed": 985,
     "status": "ok",
     "timestamp": 1655801921372,
     "user": {
      "displayName": "Hendrik Sugiarto",
      "userId": "04571208421820397785"
     },
     "user_tz": -420
    },
    "id": "8NCyjVmeEP9t",
    "outputId": "4a8d3717-5137-4533-9e8d-a03a8441f54c"
   },
   "outputs": [
    {
     "name": "stdout",
     "output_type": "stream",
     "text": [
      "torch.Size([6, 20, 20])\n",
      "torch.Size([2400])\n",
      "torch.Size([2400])\n"
     ]
    }
   ],
   "source": [
    "output3d = torch.rand(6, 20, 20)\n",
    "print(output3d.shape)\n",
    "\n",
    "input1d = output3d.reshape(6 * 20 * 20)\n",
    "print(input1d.shape)\n",
    "\n",
    "print(torch.reshape(output3d, (6 * 20 * 20,)).shape)"
   ]
  },
  {
   "cell_type": "markdown",
   "metadata": {
    "id": "u92AERJBEP9t"
   },
   "source": [
    "**Notasi Einstein**"
   ]
  },
  {
   "cell_type": "code",
   "execution_count": 30,
   "metadata": {
    "colab": {
     "base_uri": "https://localhost:8080/"
    },
    "executionInfo": {
     "elapsed": 4,
     "status": "ok",
     "timestamp": 1655803564817,
     "user": {
      "displayName": "Hendrik Sugiarto",
      "userId": "04571208421820397785"
     },
     "user_tz": -420
    },
    "id": "6Jzcdmk1EP9t",
    "outputId": "86e13f52-61dc-4b99-fbee-e7b385952912"
   },
   "outputs": [
    {
     "name": "stdout",
     "output_type": "stream",
     "text": [
      "tensor(-2.6875)\n",
      "tensor([-0.7363,  0.1423,  0.0993, -1.7870])\n",
      "tensor([[ 7.3245e-01,  2.8586e-02,  5.9338e-01,  1.2484e+00],\n",
      "        [ 8.9689e-01,  3.5004e-02,  7.2659e-01,  1.5287e+00],\n",
      "        [-2.7772e-01, -1.0839e-02, -2.2499e-01, -4.7337e-01],\n",
      "        [-2.7699e-03, -1.0811e-04, -2.2440e-03, -4.7212e-03],\n",
      "        [ 6.0250e-01,  2.3514e-02,  4.8809e-01,  1.0269e+00]])\n",
      "tensor([[[-4.6102, -3.6538, -3.0413, -2.2825],\n",
      "         [ 1.7455, -0.1091,  3.2850,  1.5766]],\n",
      "\n",
      "        [[-0.2434,  1.1855,  3.2531, -1.8979],\n",
      "         [ 2.6340, -3.1533,  3.0218,  1.3617]],\n",
      "\n",
      "        [[-1.1219,  1.7622, -2.5509, -0.7482],\n",
      "         [ 0.9646,  2.6877,  2.0141,  3.0457]]])\n",
      "tensor([[[-4.6102, -3.6538, -3.0413, -2.2825],\n",
      "         [ 1.7455, -0.1091,  3.2850,  1.5766]],\n",
      "\n",
      "        [[-0.2434,  1.1855,  3.2531, -1.8979],\n",
      "         [ 2.6340, -3.1533,  3.0218,  1.3617]],\n",
      "\n",
      "        [[-1.1219,  1.7622, -2.5509, -0.7482],\n",
      "         [ 0.9646,  2.6877,  2.0141,  3.0457]]])\n",
      "torch.Size([2, 3, 5, 4])\n",
      "tensor([[-3.5017,  0.3813,  2.3797],\n",
      "        [ 1.6315,  1.2738,  4.5908]])\n"
     ]
    }
   ],
   "source": [
    "print(torch.einsum('ii', torch.randn(4, 4)))\n",
    "\n",
    "print(torch.einsum('ii->i', torch.randn(4, 4)))\n",
    "\n",
    "x = torch.randn(5)\n",
    "y = torch.randn(4)\n",
    "print(torch.einsum('i,j->ij', x, y))\n",
    "\n",
    "As = torch.randn(3,2,5)\n",
    "Bs = torch.randn(3,5,4)\n",
    "print(torch.einsum('bij,bjk->bik', As, Bs))\n",
    "\n",
    "\n",
    "\n",
    "print(torch.einsum(As, [..., 0, 1], Bs, [..., 1, 2], [..., 0, 2]))\n",
    "\n",
    "\n",
    "\n",
    "A = torch.randn(2, 3, 4, 5)\n",
    "print(torch.einsum('...ij->...ji', A).shape)\n",
    "\n",
    "A = torch.randn(3,5,4)\n",
    "l = torch.randn(2,5)\n",
    "r = torch.randn(2,4)\n",
    "print(torch.einsum('bn,anm,bm->ba', l, A, r))"
   ]
  },
  {
   "cell_type": "markdown",
   "metadata": {
    "id": "1fTbo2etEP9t"
   },
   "source": [
    "**Soal**\n",
    "\n",
    "Hitunglah Perkalian Matriks dengan Menggunakan Notasi Einstein\n",
    "\n",
    "Bandingkan dengan perkalian matriks biasa"
   ]
  },
  {
   "cell_type": "code",
   "execution_count": 31,
   "metadata": {
    "executionInfo": {
     "elapsed": 956,
     "status": "ok",
     "timestamp": 1655803849053,
     "user": {
      "displayName": "Hendrik Sugiarto",
      "userId": "04571208421820397785"
     },
     "user_tz": -420
    },
    "id": "lMfqOyO7EP9t"
   },
   "outputs": [],
   "source": [
    "A = torch.randn(7,8)\n",
    "B = torch.randn(8,9)\n",
    "C = torch.randn(9,7)\n",
    "#M = AB\n"
   ]
  },
  {
   "cell_type": "code",
   "execution_count": null,
   "metadata": {
    "id": "jbwLLiv_me-Y"
   },
   "outputs": [],
   "source": []
  }
 ],
 "metadata": {
  "accelerator": "GPU",
  "colab": {
   "name": "LKM_IBDA3311_Tensor_Soal.ipynb",
   "provenance": []
  },
  "gpuClass": "standard",
  "kernelspec": {
   "display_name": "Python 3 (ipykernel)",
   "language": "python",
   "name": "python3"
  },
  "language_info": {
   "codemirror_mode": {
    "name": "ipython",
    "version": 3
   },
   "file_extension": ".py",
   "mimetype": "text/x-python",
   "name": "python",
   "nbconvert_exporter": "python",
   "pygments_lexer": "ipython3",
   "version": "3.11.4"
  }
 },
 "nbformat": 4,
 "nbformat_minor": 1
}
