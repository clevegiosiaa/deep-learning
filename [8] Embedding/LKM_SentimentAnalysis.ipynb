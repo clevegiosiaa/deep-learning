{
 "cells": [
  {
   "cell_type": "markdown",
   "metadata": {
    "id": "CAdKbtTsDXG5"
   },
   "source": [
    "# GloVe vectors for sentiment analysis\n",
    "\n",
    "Last time, we discuss how GloVe vectors are trained for sentiment analysis.\n",
    "\n",
    "We will use a package called `torchtext`, which works with torch, to explore\n",
    "and use GloVe vectors"
   ]
  },
  {
   "cell_type": "code",
   "execution_count": null,
   "metadata": {
    "colab": {
     "base_uri": "https://localhost:8080/"
    },
    "executionInfo": {
     "elapsed": 21213,
     "status": "ok",
     "timestamp": 1658827276771,
     "user": {
      "displayName": "Hendrik Sugiarto",
      "userId": "04571208421820397785"
     },
     "user_tz": -420
    },
    "id": "48NY9dl0H-oU",
    "outputId": "5c1f4d72-7f51-437e-b9bb-62a98576fa62"
   },
   "outputs": [],
   "source": [
    "from google.colab import drive\n",
    "drive.mount('/content/drive')"
   ]
  },
  {
   "cell_type": "code",
   "execution_count": null,
   "metadata": {
    "colab": {
     "base_uri": "https://localhost:8080/"
    },
    "executionInfo": {
     "elapsed": 5,
     "status": "ok",
     "timestamp": 1658827277921,
     "user": {
      "displayName": "Hendrik Sugiarto",
      "userId": "04571208421820397785"
     },
     "user_tz": -420
    },
    "id": "O73QhLTsICuc",
    "outputId": "55d856fe-7d9c-499f-d7fb-326bdaa7de8b"
   },
   "outputs": [],
   "source": [
    "cd 'drive/My Drive/Deep Learning (2023)/P10 - Embedding'"
   ]
  },
  {
   "cell_type": "code",
   "execution_count": 3,
   "metadata": {},
   "outputs": [
    {
     "name": "stdout",
     "output_type": "stream",
     "text": [
      "Collecting torchtext\n",
      "  Downloading torchtext-0.16.0-cp39-cp39-macosx_10_13_x86_64.whl (2.3 MB)\n",
      "\u001b[K     |████████████████████████████████| 2.3 MB 8.5 kB/s eta 0:00:01\n",
      "\u001b[?25hRequirement already satisfied: numpy in /Users/hendriksugiarto/opt/anaconda3/envs/deeplearning/lib/python3.9/site-packages (from torchtext) (1.22.4)\n",
      "Collecting torchdata==0.7.0\n",
      "  Downloading torchdata-0.7.0-cp39-cp39-macosx_10_13_x86_64.whl (1.8 MB)\n",
      "\u001b[K     |████████████████████████████████| 1.8 MB 2.4 MB/s eta 0:00:01\n",
      "\u001b[?25hCollecting torch==2.1.0\n",
      "  Downloading torch-2.1.0-cp39-none-macosx_10_9_x86_64.whl (147.0 MB)\n",
      "\u001b[K     |████████████████████████████████| 147.0 MB 2.9 MB/s eta 0:00:01�████████████████████▌      | 117.3 MB 2.4 MB/s eta 0:00:13\n",
      "\u001b[?25hRequirement already satisfied: tqdm in /Users/hendriksugiarto/opt/anaconda3/envs/deeplearning/lib/python3.9/site-packages (from torchtext) (4.61.0)\n",
      "Requirement already satisfied: requests in /Users/hendriksugiarto/opt/anaconda3/envs/deeplearning/lib/python3.9/site-packages (from torchtext) (2.27.1)\n",
      "Requirement already satisfied: networkx in /Users/hendriksugiarto/opt/anaconda3/envs/deeplearning/lib/python3.9/site-packages (from torch==2.1.0->torchtext) (2.8.8)\n",
      "Requirement already satisfied: filelock in /Users/hendriksugiarto/opt/anaconda3/envs/deeplearning/lib/python3.9/site-packages (from torch==2.1.0->torchtext) (3.8.0)\n",
      "Collecting sympy\n",
      "  Downloading sympy-1.12-py3-none-any.whl (5.7 MB)\n",
      "\u001b[K     |████████████████████████████████| 5.7 MB 3.9 MB/s eta 0:00:01\n",
      "\u001b[?25hRequirement already satisfied: typing-extensions in /Users/hendriksugiarto/opt/anaconda3/envs/deeplearning/lib/python3.9/site-packages (from torch==2.1.0->torchtext) (3.10.0.2)\n",
      "Collecting fsspec\n",
      "  Downloading fsspec-2023.10.0-py3-none-any.whl (166 kB)\n",
      "\u001b[K     |████████████████████████████████| 166 kB 2.8 MB/s eta 0:00:01\n",
      "\u001b[?25hRequirement already satisfied: jinja2 in /Users/hendriksugiarto/opt/anaconda3/envs/deeplearning/lib/python3.9/site-packages (from torch==2.1.0->torchtext) (3.0.3)\n",
      "Requirement already satisfied: urllib3>=1.25 in /Users/hendriksugiarto/opt/anaconda3/envs/deeplearning/lib/python3.9/site-packages (from torchdata==0.7.0->torchtext) (1.26.8)\n",
      "Requirement already satisfied: MarkupSafe>=2.0 in /Users/hendriksugiarto/opt/anaconda3/envs/deeplearning/lib/python3.9/site-packages (from jinja2->torch==2.1.0->torchtext) (2.0.1)\n",
      "Requirement already satisfied: idna<4,>=2.5 in /Users/hendriksugiarto/opt/anaconda3/envs/deeplearning/lib/python3.9/site-packages (from requests->torchtext) (3.1)\n",
      "Requirement already satisfied: charset-normalizer~=2.0.0 in /Users/hendriksugiarto/opt/anaconda3/envs/deeplearning/lib/python3.9/site-packages (from requests->torchtext) (2.0.10)\n",
      "Requirement already satisfied: certifi>=2017.4.17 in /Users/hendriksugiarto/opt/anaconda3/envs/deeplearning/lib/python3.9/site-packages (from requests->torchtext) (2023.7.22)\n",
      "Collecting mpmath>=0.19\n",
      "  Using cached mpmath-1.3.0-py3-none-any.whl (536 kB)\n",
      "Installing collected packages: mpmath, sympy, fsspec, torch, torchdata, torchtext\n",
      "  Attempting uninstall: torch\n",
      "    Found existing installation: torch 1.13.1\n",
      "    Uninstalling torch-1.13.1:\n",
      "      Successfully uninstalled torch-1.13.1\n",
      "\u001b[31mERROR: pip's dependency resolver does not currently take into account all the packages that are installed. This behaviour is the source of the following dependency conflicts.\n",
      "torchvision 0.14.1 requires torch==1.13.1, but you have torch 2.1.0 which is incompatible.\u001b[0m\n",
      "Successfully installed fsspec-2023.10.0 mpmath-1.3.0 sympy-1.12 torch-2.1.0 torchdata-0.7.0 torchtext-0.16.0\n"
     ]
    }
   ],
   "source": [
    "!pip install torchtext"
   ]
  },
  {
   "cell_type": "code",
   "execution_count": null,
   "metadata": {
    "executionInfo": {
     "elapsed": 3370,
     "status": "ok",
     "timestamp": 1658827281288,
     "user": {
      "displayName": "Hendrik Sugiarto",
      "userId": "04571208421820397785"
     },
     "user_tz": -420
    },
    "id": "csGMScJ3DXG7"
   },
   "outputs": [],
   "source": [
    "import csv\n",
    "import torch\n",
    "import torch.nn as nn\n",
    "import torch.nn.functional as F\n",
    "import torch.optim as optim\n",
    "import torchtext\n",
    "import numpy as np\n",
    "import matplotlib.pyplot as plt"
   ]
  },
  {
   "cell_type": "markdown",
   "metadata": {
    "id": "H3D8tfSuDXG7"
   },
   "source": [
    "## GloVe vectors\n",
    "\n",
    "We will use the `6B` version of the GloVe vector. There are several versions of\n",
    "the embedding that is available. We will start with the smallest one, which is\n",
    "the 50 dimensional vector. Later on, we will use the 100 dimensional word vectors."
   ]
  },
  {
   "cell_type": "code",
   "execution_count": 4,
   "metadata": {
    "executionInfo": {
     "elapsed": 582,
     "status": "ok",
     "timestamp": 1658827281868,
     "user": {
      "displayName": "Hendrik Sugiarto",
      "userId": "04571208421820397785"
     },
     "user_tz": -420
    },
    "id": "l2jHaMDKDXG8"
   },
   "outputs": [],
   "source": [
    "# The first time you run this will download a ~823MB file\n",
    "glove = torchtext.vocab.GloVe(name=\"6B\", dim=50, max_vectors=20000)"
   ]
  },
  {
   "cell_type": "markdown",
   "metadata": {
    "id": "ZwBJHt8wDXG8"
   },
   "source": [
    "Let's look at what the embedding of the word \"car\" looks like:"
   ]
  },
  {
   "cell_type": "code",
   "execution_count": 5,
   "metadata": {
    "colab": {
     "base_uri": "https://localhost:8080/"
    },
    "executionInfo": {
     "elapsed": 354,
     "status": "ok",
     "timestamp": 1658827288602,
     "user": {
      "displayName": "Hendrik Sugiarto",
      "userId": "04571208421820397785"
     },
     "user_tz": -420
    },
    "id": "zZpI4en5DXG8",
    "outputId": "b3cc6b06-12bb-48ba-d319-cc093a5302e3"
   },
   "outputs": [
    {
     "data": {
      "text/plain": [
       "tensor([ 0.4769, -0.0846,  1.4641,  0.0470,  0.1469,  0.5082, -1.2228, -0.2261,\n",
       "         0.1931, -0.2976,  0.2060, -0.7128, -1.6288,  0.1710,  0.7480, -0.0619,\n",
       "        -0.6577,  1.3786, -0.6804, -1.7551,  0.5832,  0.2516, -1.2114,  0.8134,\n",
       "         0.0948, -1.6819, -0.6450,  0.6322,  1.1211,  0.1611,  2.5379,  0.2485,\n",
       "        -0.2682,  0.3282,  1.2916,  0.2355,  0.6147, -0.1344, -0.1324,  0.2740,\n",
       "        -0.1182,  0.1354,  0.0743, -0.6195,  0.4547, -0.3032, -0.2188, -0.5605,\n",
       "         1.1177, -0.3659])"
      ]
     },
     "execution_count": 5,
     "metadata": {},
     "output_type": "execute_result"
    }
   ],
   "source": [
    "glove['car']"
   ]
  },
  {
   "cell_type": "markdown",
   "metadata": {
    "id": "k-Jh3zPXDXG8"
   },
   "source": [
    "It is troch tensor with dimension `(50,)`. It is difficult to determine what each\n",
    "number in this embedding means, if anything. However, we know that there is structure\n",
    "in this embedding space. That is, distances in this embedding space is meaningful.\n",
    "\n",
    "So, let's compute the Euclidean distance between (the embedding of) the word \"car\"\n",
    "and several other words. The Euclidean distance (or the $L_2$ norm of the distance vector) \n",
    "is computed as $\\sqrt{\\sum_i (x_i - y_i)^2}$ for word vectors $x$ and $y$."
   ]
  },
  {
   "cell_type": "code",
   "execution_count": 6,
   "metadata": {
    "colab": {
     "base_uri": "https://localhost:8080/"
    },
    "executionInfo": {
     "elapsed": 373,
     "status": "ok",
     "timestamp": 1658827332470,
     "user": {
      "displayName": "Hendrik Sugiarto",
      "userId": "04571208421820397785"
     },
     "user_tz": -420
    },
    "id": "VAgb-M-1DXG9",
    "outputId": "a4a63635-e429-4b70-b89f-fec7b8164d8c"
   },
   "outputs": [
    {
     "name": "stdout",
     "output_type": "stream",
     "text": [
      "bike 4.049488544464111\n",
      "girl 5.822113513946533\n",
      "computer 5.773685455322266\n",
      "space 5.680059432983398\n",
      "was 4.97991418838501\n",
      "kite 6.30803108215332\n"
     ]
    }
   ],
   "source": [
    "word = 'car'\n",
    "other = ['bike', 'girl', 'computer', 'space', 'was', 'kite']\n",
    "for w in other:\n",
    "    dist = torch.norm(glove[word] - glove[w]) # euclidean distnace\n",
    "    print(w, float(dist))"
   ]
  },
  {
   "cell_type": "markdown",
   "metadata": {
    "id": "wfVDnCpwDXG9"
   },
   "source": [
    "The Euclidean distance is a *distance* measure, and the smaller the distance, the\n",
    "closer the embeddings are to each other.\n",
    "The word \"bike\" is closest to the word \"car\" out of all the words in that list.\n",
    "\n",
    "\n",
    "Instead of using the Euclidean distance, we can use a different distance measure.\n",
    "For example, we can compute the cosine similarity, a measure of the angle between the\n",
    "two vectors:"
   ]
  },
  {
   "cell_type": "code",
   "execution_count": 7,
   "metadata": {
    "colab": {
     "base_uri": "https://localhost:8080/"
    },
    "executionInfo": {
     "elapsed": 349,
     "status": "ok",
     "timestamp": 1658827368793,
     "user": {
      "displayName": "Hendrik Sugiarto",
      "userId": "04571208421820397785"
     },
     "user_tz": -420
    },
    "id": "0sOwidFTDXG9",
    "outputId": "9c720501-d91c-4b71-9c16-05d16bf7f02d"
   },
   "outputs": [
    {
     "name": "stdout",
     "output_type": "stream",
     "text": [
      "bike 0.725685179233551\n",
      "girl 0.4777982234954834\n",
      "computer 0.5121089220046997\n",
      "space 0.47960785031318665\n",
      "was 0.5771499276161194\n",
      "kite 0.18111218512058258\n"
     ]
    }
   ],
   "source": [
    "for w in other:\n",
    "    dist = torch.nn.functional.cosine_similarity(glove['car'].unsqueeze(0), glove[w].unsqueeze(0))\n",
    "    print(w, float(dist))"
   ]
  },
  {
   "cell_type": "markdown",
   "metadata": {
    "id": "okcqG48WDXG-"
   },
   "source": [
    "The cosine similiarity is a *similarity* measure, and the larger the similarity,\n",
    "the \"closer\" the word embeddings are to each other.\n",
    "The word \"bike\" is still closest to the word \"car\" out of all the words in that list\n",
    "using this measure.\n",
    "\n",
    "We can compare other pairs of words in the same way:"
   ]
  },
  {
   "cell_type": "code",
   "execution_count": 8,
   "metadata": {
    "colab": {
     "base_uri": "https://localhost:8080/"
    },
    "executionInfo": {
     "elapsed": 347,
     "status": "ok",
     "timestamp": 1658827393058,
     "user": {
      "displayName": "Hendrik Sugiarto",
      "userId": "04571208421820397785"
     },
     "user_tz": -420
    },
    "id": "xnAkmxHEDXG-",
    "outputId": "0d837d10-a167-4bf0-85b7-c179fe49d535"
   },
   "outputs": [
    {
     "name": "stdout",
     "output_type": "stream",
     "text": [
      "chocolate\t3.198564291000366\t0.8237079381942749\n",
      "sugar\t4.297327041625977\t0.6400755047798157\n",
      "cartoon\t5.009539604187012\t0.46070605516433716\n",
      "computer\t6.351091384887695\t0.2876129448413849\n",
      "bike\t5.718624114990234\t0.2939280569553375\n",
      "girl\t5.41274881362915\t0.4525235891342163\n",
      "was\t5.975125789642334\t0.21566355228424072\n",
      "car\t5.906295299530029\t0.35387226939201355\n"
     ]
    }
   ],
   "source": [
    "word = 'candy'\n",
    "other = ['chocolate', 'sugar', 'cartoon', 'computer', 'bike', 'girl', 'was', 'car']\n",
    "for w in other:\n",
    "    dist = torch.norm(glove[word] - glove[w])\n",
    "    cosdist = torch.nn.functional.cosine_similarity(glove[word].unsqueeze(0), glove[w].unsqueeze(0))\n",
    "    print(w, float(dist), float(cosdist), sep=\"\\t\")"
   ]
  },
  {
   "cell_type": "code",
   "execution_count": 9,
   "metadata": {
    "colab": {
     "base_uri": "https://localhost:8080/"
    },
    "executionInfo": {
     "elapsed": 353,
     "status": "ok",
     "timestamp": 1658827424919,
     "user": {
      "displayName": "Hendrik Sugiarto",
      "userId": "04571208421820397785"
     },
     "user_tz": -420
    },
    "id": "hBb3x-ESDXG-",
    "outputId": "3e0c9f4d-031b-49cd-e4c2-da7f30e9109a"
   },
   "outputs": [
    {
     "name": "stdout",
     "output_type": "stream",
     "text": [
      "good\t2.7146358489990234\t0.8574144244194031\n",
      "sad\t3.8399498462677\t0.689063310623169\n",
      "tired\t3.1427841186523438\t0.7785124182701111\n",
      "bad\t3.7550671100616455\t0.7083954811096191\n",
      "unhappy\t3.2546584606170654\t0.716782808303833\n",
      "cry\t3.326601266860962\t0.7269507646560669\n"
     ]
    }
   ],
   "source": [
    "word = 'happy'\n",
    "other = ['good', 'sad', 'tired', 'bad', 'unhappy', 'cry']\n",
    "for w in other:\n",
    "    dist = torch.norm(glove[word] - glove[w])\n",
    "    cosdist = torch.nn.functional.cosine_similarity(glove[word].unsqueeze(0), glove[w].unsqueeze(0))\n",
    "    print(w, float(dist), float(cosdist), sep=\"\\t\")"
   ]
  },
  {
   "cell_type": "markdown",
   "metadata": {
    "id": "ocAVEzhpDXG-"
   },
   "source": [
    "The second example is interesting, because \"happy\" and \"sad\" represent human\n",
    "sentiments that are the opposite ends of the sentiment spectrum.\n",
    "For more examples, see https://lamyiowce.github.io/word2viz/\n",
    "\n",
    "## Sentiment Analysis\n",
    "\n",
    "**Sentiment Analysis** is the problem of identifying the writer's sentiment given a piece of text.\n",
    "It can be applied to movie reviews, feedback of other forms, emails, tweets, and\n",
    "even course evaluations.\n",
    "\n",
    "Rudimentary forms of **sentiment analysis** might involve scoring each\n",
    "word on a scale from \"sad\" to \"happy\", then averaging the \"happiness score\" of each\n",
    "word in a piece of text. This technique has obvious drawbacks: it won't be able to handle\n",
    "negation, sarcasm, or any complex syntactical form. We can do better.\n",
    "In fact, we will use the sentiment analysis task as an example in the next few\n",
    "lectures.\n",
    "\n",
    "Specifically, we will use the Sentiment140 data set. This dataset contains tweets containing\n",
    "either a positive or negative emoticon. Our goal is to determine whether which type of\n",
    "emoticon the tweet (with the emoticon removed) contained. THe dataset was actually collected by\n",
    "a group of students, just like you, who are doing their first machine learning project.\n",
    "\n",
    "You can download the data here: http://help.sentiment140.com/for-students\n",
    "\n",
    "Let's look at the data:"
   ]
  },
  {
   "cell_type": "code",
   "execution_count": 10,
   "metadata": {
    "colab": {
     "base_uri": "https://localhost:8080/"
    },
    "executionInfo": {
     "elapsed": 880,
     "status": "ok",
     "timestamp": 1658827469744,
     "user": {
      "displayName": "Hendrik Sugiarto",
      "userId": "04571208421820397785"
     },
     "user_tz": -420
    },
    "id": "xmhNST8cDXG_",
    "outputId": "d89e5bfc-b954-48cc-a770-497ee61a2e19"
   },
   "outputs": [
    {
     "name": "stdout",
     "output_type": "stream",
     "text": [
      "['0', '1467810369', 'Mon Apr 06 22:19:45 PDT 2009', 'NO_QUERY', '_TheSpecialOne_', \"@switchfoot http://twitpic.com/2y1zl - Awww, that's a bummer.  You shoulda got David Carr of Third Day to do it. ;D\"]\n",
      "['0', '1467810672', 'Mon Apr 06 22:19:49 PDT 2009', 'NO_QUERY', 'scotthamilton', \"is upset that he can't update his Facebook by texting it... and might cry as a result  School today also. Blah!\"]\n",
      "['0', '1467810917', 'Mon Apr 06 22:19:53 PDT 2009', 'NO_QUERY', 'mattycus', '@Kenichan I dived many times for the ball. Managed to save 50%  The rest go out of bounds']\n",
      "['0', '1467811184', 'Mon Apr 06 22:19:57 PDT 2009', 'NO_QUERY', 'ElleCTF', 'my whole body feels itchy and like its on fire ']\n",
      "['0', '1467811193', 'Mon Apr 06 22:19:57 PDT 2009', 'NO_QUERY', 'Karoli', \"@nationwideclass no, it's not behaving at all. i'm mad. why am i here? because I can't see you all over there. \"]\n",
      "['0', '1467811372', 'Mon Apr 06 22:20:00 PDT 2009', 'NO_QUERY', 'joy_wolf', '@Kwesidei not the whole crew ']\n",
      "['0', '1467811592', 'Mon Apr 06 22:20:03 PDT 2009', 'NO_QUERY', 'mybirch', 'Need a hug ']\n",
      "['0', '1467811594', 'Mon Apr 06 22:20:03 PDT 2009', 'NO_QUERY', 'coZZ', \"@LOLTrish hey  long time no see! Yes.. Rains a bit ,only a bit  LOL , I'm fine thanks , how's you ?\"]\n",
      "['0', '1467811795', 'Mon Apr 06 22:20:05 PDT 2009', 'NO_QUERY', '2Hood4Hollywood', \"@Tatiana_K nope they didn't have it \"]\n",
      "['0', '1467812025', 'Mon Apr 06 22:20:09 PDT 2009', 'NO_QUERY', 'mimismo', '@twittera que me muera ? ']\n",
      "['0', '1467812416', 'Mon Apr 06 22:20:16 PDT 2009', 'NO_QUERY', 'erinx3leannexo', \"spring break in plain city... it's snowing \"]\n"
     ]
    }
   ],
   "source": [
    "import csv\n",
    "\n",
    "def get_data():\n",
    "    return csv.reader(open(\"training.1600000.processed.noemoticon.csv\", \"rt\", encoding=\"latin-1\"))\n",
    "\n",
    "for i, line in enumerate(get_data()):\n",
    "    if i > 10:\n",
    "        break\n",
    "    print(line)"
   ]
  },
  {
   "cell_type": "markdown",
   "metadata": {
    "id": "Zf9V5jHpDXG_"
   },
   "source": [
    "The the columns we care about is the first one and the last one. The first column is the\n",
    "label (the label `0` means \"sad\" tweet, `4` means \"happy\" tweet), and the last column\n",
    "contains the tweet. Our task is to predict the sentiment of the tweet given the text.\n",
    "\n",
    "The appropach today is as follows, for each tweet:\n",
    "\n",
    "1. We will split the text into words. We will do so by splitting at all whitespace\n",
    "   characters. There are better ways to perform the split, but I don't want to\n",
    "   introduce too many new packages today.\n",
    "2. We will look up the embedding of each word. Words that do not have a GloVe vector\n",
    "   will have the embedding 0.\n",
    "3. We will sum up all the embeddings, to get an embedding for an entire tweet.\n",
    "4. Finally, we will use a fully-connected neural network (a **multi-layer peceptron** or MLP)\n",
    "   to predict whether the tweet has positive or negative sentiment.\n",
    "\n",
    "First, let's sanity check that there are enough words for us to work with."
   ]
  },
  {
   "cell_type": "code",
   "execution_count": 11,
   "metadata": {
    "colab": {
     "base_uri": "https://localhost:8080/"
    },
    "executionInfo": {
     "elapsed": 348,
     "status": "ok",
     "timestamp": 1658827481297,
     "user": {
      "displayName": "Hendrik Sugiarto",
      "userId": "04571208421820397785"
     },
     "user_tz": -420
    },
    "id": "077vH42oDXG_",
    "outputId": "097cc194-204a-4297-c251-3b878b1026e0"
   },
   "outputs": [
    {
     "name": "stdout",
     "output_type": "stream",
     "text": [
      "12\n",
      "20\n",
      "14\n",
      "9\n",
      "20\n",
      "4\n",
      "2\n",
      "18\n",
      "3\n",
      "3\n",
      "8\n",
      "3\n",
      "15\n",
      "13\n",
      "18\n",
      "15\n",
      "17\n",
      "4\n",
      "7\n",
      "11\n",
      "11\n",
      "21\n",
      "6\n",
      "9\n",
      "4\n",
      "9\n",
      "10\n",
      "4\n",
      "20\n",
      "17\n",
      "12\n"
     ]
    }
   ],
   "source": [
    "def split_tweet(tweet):\n",
    "    # separate punctuations\n",
    "    tweet = tweet.replace(\".\", \" . \") \\\n",
    "                 .replace(\",\", \" , \") \\\n",
    "                 .replace(\";\", \" ; \") \\\n",
    "                 .replace(\"?\", \" ? \")\n",
    "    return tweet.split()\n",
    "\n",
    "for i, line in enumerate(get_data()):\n",
    "    if i > 30:\n",
    "        break\n",
    "    print(sum(int(w in glove.stoi) for w in split_tweet(line[-1])))"
   ]
  },
  {
   "cell_type": "markdown",
   "metadata": {
    "id": "pviLRUKwDXG_"
   },
   "source": [
    "Looks like each tweet has at least one word that has an embedding.\n",
    "\n",
    "Now, steps 1-3 from above can be done ahead of time, just like in our transfer\n",
    "learning assinment. So, we will write a function that will take the tweets data\n",
    "file, computes the tweet embeddings, and splits the data into train/validation/test.\n",
    "\n",
    "We will only use $\\frac{1}{59}$ of the data in the file, so that this demo runs\n",
    "relatively quickly."
   ]
  },
  {
   "cell_type": "code",
   "execution_count": 12,
   "metadata": {
    "executionInfo": {
     "elapsed": 343,
     "status": "ok",
     "timestamp": 1658827487495,
     "user": {
      "displayName": "Hendrik Sugiarto",
      "userId": "04571208421820397785"
     },
     "user_tz": -420
    },
    "id": "B3U_gs4qDXG_"
   },
   "outputs": [],
   "source": [
    "def get_tweet_vectors(glove_vector):\n",
    "    train, valid, test = [], [], []\n",
    "    for i, line in enumerate(get_data()):\n",
    "        tweet = line[-1]\n",
    "        if i % 59 == 0:\n",
    "            vector_sum = sum(glove_vector[w] for w in split_tweet(tweet))\n",
    "            label = torch.tensor(int(line[0] == \"4\")).long()\n",
    "            if i % 5 < 3:\n",
    "                train.append((vector_sum, label))\n",
    "            elif i % 5 == 4:\n",
    "                valid.append((vector_sum, label))\n",
    "            else:\n",
    "                test.append((vector_sum, label))\n",
    "    return train, valid, test"
   ]
  },
  {
   "cell_type": "markdown",
   "metadata": {
    "id": "ZrGmvjbWDXG_"
   },
   "source": [
    "I'm making the `glove_vector` a parameter so that we can use a larger dimensional\n",
    "embedding later. Now, let's get our training, validation, and test set.\n",
    "The format is what `torch.utils.data.DataLoader` expects."
   ]
  },
  {
   "cell_type": "code",
   "execution_count": 13,
   "metadata": {
    "executionInfo": {
     "elapsed": 10208,
     "status": "ok",
     "timestamp": 1658827502349,
     "user": {
      "displayName": "Hendrik Sugiarto",
      "userId": "04571208421820397785"
     },
     "user_tz": -420
    },
    "id": "qY_V_H_VDXG_"
   },
   "outputs": [],
   "source": [
    "train, valid, test = get_tweet_vectors(glove)\n",
    "\n",
    "train_loader = torch.utils.data.DataLoader(train, batch_size=128, shuffle=True)\n",
    "valid_loader = torch.utils.data.DataLoader(valid, batch_size=128, shuffle=True)\n",
    "test_loader = torch.utils.data.DataLoader(test, batch_size=128, shuffle=True)"
   ]
  },
  {
   "cell_type": "markdown",
   "metadata": {
    "id": "P8DeftB_DXG_"
   },
   "source": [
    "Now, our actual training script! Note that will we use `CrossEntropyLoss`,\n",
    "have two neurons in the final layer of our output layer, and use softmax instead of\n",
    "a sigmoid activation. This is different from our choice in the earlier weeks! Typically,\n",
    "having two neurons instead of one and using softmax performs better than having only\n",
    "a single neuron."
   ]
  },
  {
   "cell_type": "code",
   "execution_count": 14,
   "metadata": {
    "executionInfo": {
     "elapsed": 5,
     "status": "ok",
     "timestamp": 1658827502349,
     "user": {
      "displayName": "Hendrik Sugiarto",
      "userId": "04571208421820397785"
     },
     "user_tz": -420
    },
    "id": "x3sUkugvDXHA"
   },
   "outputs": [],
   "source": [
    "def train_network(model, train_loader, valid_loader, num_epochs=5, learning_rate=1e-5):\n",
    "    criterion = nn.CrossEntropyLoss()\n",
    "    optimizer = torch.optim.Adam(model.parameters(), lr=learning_rate)\n",
    "    losses, train_acc, valid_acc = [], [], []\n",
    "    epochs = []\n",
    "    for epoch in range(num_epochs):\n",
    "        for tweets, labels in train_loader:\n",
    "            optimizer.zero_grad()\n",
    "            pred = model(tweets)\n",
    "            loss = criterion(pred, labels)\n",
    "            loss.backward()\n",
    "            optimizer.step()\n",
    "        losses.append(float(loss))     \n",
    "        if epoch % 5 == 4:\n",
    "            epochs.append(epoch)\n",
    "            train_acc.append(get_accuracy(model, train_loader))\n",
    "            valid_acc.append(get_accuracy(model, valid_loader))\n",
    "            print(\"Epoch %d; Loss %f; Train Acc %f; Val Acc %f\" % (\n",
    "                epoch+1, loss, train_acc[-1], valid_acc[-1]))\n",
    "\n",
    "    # plotting\n",
    "    plt.title(\"Training Curve\")\n",
    "    plt.plot(losses, label=\"Train\")\n",
    "    plt.xlabel(\"Epoch\")\n",
    "    plt.ylabel(\"Loss\")\n",
    "    plt.show()\n",
    "\n",
    "    plt.title(\"Training Curve\")\n",
    "    plt.plot(epochs, train_acc, label=\"Train\")\n",
    "    plt.plot(epochs, valid_acc, label=\"Validation\")\n",
    "    plt.xlabel(\"Epoch\")\n",
    "    plt.ylabel(\"Accuracy\")\n",
    "    plt.legend(loc='best')\n",
    "    plt.show()\n",
    "\n",
    "def get_accuracy(model, data_loader):\n",
    "    correct, total = 0, 0\n",
    "    for tweets, labels in data_loader:\n",
    "        output = model(tweets)\n",
    "        pred = output.max(1, keepdim=True)[1]\n",
    "        correct += pred.eq(labels.view_as(pred)).sum().item()\n",
    "        total += labels.shape[0]\n",
    "    return correct / total"
   ]
  },
  {
   "cell_type": "markdown",
   "metadata": {
    "id": "UMN_njgnDXHA"
   },
   "source": [
    "As for the actual mode, we will start with a 3-layer neural network.\n",
    "We won't create our own class since this is a fairly straightforward neural\n",
    "network, so an `nn.Sequential` object will do. Let's build and train our network."
   ]
  },
  {
   "cell_type": "code",
   "execution_count": 15,
   "metadata": {
    "colab": {
     "base_uri": "https://localhost:8080/",
     "height": 769
    },
    "executionInfo": {
     "elapsed": 14730,
     "status": "ok",
     "timestamp": 1658827552154,
     "user": {
      "displayName": "Hendrik Sugiarto",
      "userId": "04571208421820397785"
     },
     "user_tz": -420
    },
    "id": "df8xXW2-DXHA",
    "outputId": "ace1ed2b-95a4-488a-b1d6-6d9931a99c03"
   },
   "outputs": [
    {
     "name": "stdout",
     "output_type": "stream",
     "text": [
      "Epoch 5; Loss 0.603663; Train Acc 0.648086; Val Acc 0.639749\n",
      "Epoch 10; Loss 0.610238; Train Acc 0.652511; Val Acc 0.657633\n",
      "Epoch 15; Loss 0.542912; Train Acc 0.660132; Val Acc 0.659292\n",
      "Epoch 20; Loss 0.672362; Train Acc 0.663819; Val Acc 0.664823\n",
      "Epoch 25; Loss 0.682342; Train Acc 0.666585; Val Acc 0.665007\n",
      "Epoch 30; Loss 0.688303; Train Acc 0.669043; Val Acc 0.667588\n",
      "Epoch 35; Loss 0.559828; Train Acc 0.671563; Val Acc 0.668879\n",
      "Epoch 40; Loss 0.428740; Train Acc 0.674144; Val Acc 0.670170\n",
      "Epoch 45; Loss 0.652430; Train Acc 0.676787; Val Acc 0.668326\n",
      "Epoch 50; Loss 0.699820; Train Acc 0.678815; Val Acc 0.672935\n"
     ]
    },
    {
     "data": {
      "image/png": "[encoded data removed]",
      "text/plain": [
       "<Figure size 432x288 with 1 Axes>"
      ]
     },
     "metadata": {
      "needs_background": "light"
     },
     "output_type": "display_data"
    },
    {
     "data": {
      "image/png": "[encoded data removed]",
      "text/plain": [
       "<Figure size 432x288 with 1 Axes>"
      ]
     },
     "metadata": {
      "needs_background": "light"
     },
     "output_type": "display_data"
    },
    {
     "data": {
      "text/plain": [
       "0.6698008849557522"
      ]
     },
     "execution_count": 15,
     "metadata": {},
     "output_type": "execute_result"
    }
   ],
   "source": [
    "mymodel = nn.Sequential(nn.Linear(50, 40),\n",
    "                        nn.ReLU(),\n",
    "                        nn.Linear(40, 20),\n",
    "                        nn.ReLU(),\n",
    "                        nn.Linear(20, 2))\n",
    "train_network(mymodel, train_loader, valid_loader, num_epochs=50, learning_rate=1e-4)\n",
    "get_accuracy(mymodel, test_loader)"
   ]
  },
  {
   "cell_type": "markdown",
   "metadata": {
    "id": "F01GxYGTDXHA"
   },
   "source": [
    "We can try a smaller network:"
   ]
  },
  {
   "cell_type": "code",
   "execution_count": 16,
   "metadata": {
    "colab": {
     "base_uri": "https://localhost:8080/",
     "height": 769
    },
    "executionInfo": {
     "elapsed": 6108,
     "status": "ok",
     "timestamp": 1658827558258,
     "user": {
      "displayName": "Hendrik Sugiarto",
      "userId": "04571208421820397785"
     },
     "user_tz": -420
    },
    "id": "DEeJk0qODXHA",
    "outputId": "ed01b337-e105-44f2-acf2-294142368952"
   },
   "outputs": [
    {
     "name": "stdout",
     "output_type": "stream",
     "text": [
      "Epoch 5; Loss 0.859128; Train Acc 0.562596; Val Acc 0.577802\n",
      "Epoch 10; Loss 0.593138; Train Acc 0.588163; Val Acc 0.606563\n",
      "Epoch 15; Loss 0.688064; Train Acc 0.615820; Val Acc 0.628872\n",
      "Epoch 20; Loss 0.703857; Train Acc 0.630017; Val Acc 0.638459\n",
      "Epoch 25; Loss 0.617042; Train Acc 0.640833; Val Acc 0.647124\n",
      "Epoch 30; Loss 0.676192; Train Acc 0.648393; Val Acc 0.652655\n",
      "Epoch 35; Loss 0.494183; Train Acc 0.652265; Val Acc 0.653577\n",
      "Epoch 40; Loss 0.795177; Train Acc 0.655338; Val Acc 0.652655\n",
      "Epoch 45; Loss 0.581228; Train Acc 0.657612; Val Acc 0.663532\n",
      "Epoch 50; Loss 0.710749; Train Acc 0.658472; Val Acc 0.662795\n"
     ]
    },
    {
     "data": {
      "image/png": "[encoded data removed]",
      "text/plain": [
       "<Figure size 432x288 with 1 Axes>"
      ]
     },
     "metadata": {
      "needs_background": "light"
     },
     "output_type": "display_data"
    },
    {
     "data": {
      "image/png": "[encoded data removed]",
      "text/plain": [
       "<Figure size 432x288 with 1 Axes>"
      ]
     },
     "metadata": {
      "needs_background": "light"
     },
     "output_type": "display_data"
    },
    {
     "data": {
      "text/plain": [
       "0.6591076696165191"
      ]
     },
     "execution_count": 16,
     "metadata": {},
     "output_type": "execute_result"
    }
   ],
   "source": [
    "mymodel = nn.Linear(50, 2)\n",
    "train_network(mymodel, train_loader, valid_loader, num_epochs=50, learning_rate=1e-4)\n",
    "get_accuracy(mymodel, test_loader)"
   ]
  },
  {
   "cell_type": "markdown",
   "metadata": {
    "id": "UvBQClYyDXHA"
   },
   "source": [
    "We can also try using a larger dimensional embedding:"
   ]
  },
  {
   "cell_type": "code",
   "execution_count": 17,
   "metadata": {
    "colab": {
     "base_uri": "https://localhost:8080/",
     "height": 948
    },
    "executionInfo": {
     "elapsed": 26251,
     "status": "ok",
     "timestamp": 1658827584500,
     "user": {
      "displayName": "Hendrik Sugiarto",
      "userId": "04571208421820397785"
     },
     "user_tz": -420
    },
    "id": "QuKwJKlNDXHA",
    "outputId": "1666184f-fb03-4063-f91b-4a439e21cab0"
   },
   "outputs": [
    {
     "name": "stdout",
     "output_type": "stream",
     "text": [
      "Epoch 5; Loss 0.700183; Train Acc 0.645996; Val Acc 0.643621\n",
      "Epoch 10; Loss 0.518306; Train Acc 0.672362; Val Acc 0.661504\n",
      "Epoch 15; Loss 0.771895; Train Acc 0.680720; Val Acc 0.670354\n",
      "Epoch 20; Loss 0.485921; Train Acc 0.687850; Val Acc 0.674779\n",
      "Epoch 25; Loss 0.578465; Train Acc 0.696638; Val Acc 0.681232\n",
      "Epoch 30; Loss 0.721259; Train Acc 0.699035; Val Acc 0.684735\n",
      "Epoch 35; Loss 0.587121; Train Acc 0.701002; Val Acc 0.682891\n",
      "Epoch 40; Loss 0.594768; Train Acc 0.707394; Val Acc 0.686763\n",
      "Epoch 45; Loss 0.524380; Train Acc 0.707455; Val Acc 0.682153\n",
      "Epoch 50; Loss 0.504623; Train Acc 0.709545; Val Acc 0.678097\n",
      "Epoch 55; Loss 0.413364; Train Acc 0.711265; Val Acc 0.684550\n",
      "Epoch 60; Loss 0.561295; Train Acc 0.714093; Val Acc 0.680678\n",
      "Epoch 65; Loss 0.465494; Train Acc 0.718149; Val Acc 0.681047\n",
      "Epoch 70; Loss 0.538139; Train Acc 0.719808; Val Acc 0.682153\n",
      "Epoch 75; Loss 0.336039; Train Acc 0.721529; Val Acc 0.684919\n",
      "Epoch 80; Loss 0.558057; Train Acc 0.723803; Val Acc 0.683628\n",
      "Epoch 85; Loss 0.471173; Train Acc 0.722328; Val Acc 0.675701\n",
      "Epoch 90; Loss 0.492464; Train Acc 0.724602; Val Acc 0.682706\n",
      "Epoch 95; Loss 0.301103; Train Acc 0.727491; Val Acc 0.681785\n",
      "Epoch 100; Loss 0.582324; Train Acc 0.725893; Val Acc 0.678835\n"
     ]
    },
    {
     "data": {
      "image/png": "[encoded data removed]",
      "text/plain": [
       "<Figure size 432x288 with 1 Axes>"
      ]
     },
     "metadata": {
      "needs_background": "light"
     },
     "output_type": "display_data"
    },
    {
     "data": {
      "image/png": "[encoded data removed]",
      "text/plain": [
       "<Figure size 432x288 with 1 Axes>"
      ]
     },
     "metadata": {
      "needs_background": "light"
     },
     "output_type": "display_data"
    },
    {
     "data": {
      "text/plain": [
       "0.6889749262536873"
      ]
     },
     "execution_count": 17,
     "metadata": {},
     "output_type": "execute_result"
    }
   ],
   "source": [
    "glove = torchtext.vocab.GloVe(name=\"6B\", dim=100, max_vectors=20000)\n",
    "train, valid, test = get_tweet_vectors(glove)\n",
    "train_loader = torch.utils.data.DataLoader(train, batch_size=128, shuffle=True)\n",
    "valid_loader = torch.utils.data.DataLoader(valid, batch_size=128, shuffle=True)\n",
    "test_loader = torch.utils.data.DataLoader(test, batch_size=128, shuffle=True)\n",
    "\n",
    "mymodel = nn.Sequential(nn.Linear(100, 45), nn.ReLU(), nn.Linear(45, 2))\n",
    "train_network(mymodel, train_loader, valid_loader, num_epochs=100, learning_rate=1e-4)\n",
    "get_accuracy(mymodel, test_loader)"
   ]
  },
  {
   "cell_type": "code",
   "execution_count": null,
   "metadata": {
    "id": "OGJR2A0pDg6g"
   },
   "outputs": [],
   "source": []
  }
 ],
 "metadata": {
  "colab": {
   "name": "LKM_IBDA3311_SentimentAnalysis.ipynb",
   "provenance": []
  },
  "kernelspec": {
   "display_name": "Python 3 (ipykernel)",
   "language": "python",
   "name": "python3"
  },
  "language_info": {
   "codemirror_mode": {
    "name": "ipython",
    "version": 3
   },
   "file_extension": ".py",
   "mimetype": "text/x-python",
   "name": "python",
   "nbconvert_exporter": "python",
   "pygments_lexer": "ipython3",
   "version": "3.11.4"
  },
  "nbTranslate": {
   "displayLangs": [
    "*"
   ],
   "hotkey": "alt-t",
   "langInMainMenu": true,
   "sourceLang": "en",
   "targetLang": "fr",
   "useGoogleTranslate": true
  }
 },
 "nbformat": 4,
 "nbformat_minor": 1
}
