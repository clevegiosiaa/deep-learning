{
  "cells": [
    {
      "cell_type": "code",
      "execution_count": 1,
      "metadata": {
        "colab": {
          "base_uri": "https://localhost:8080/"
        },
        "id": "Fn3PqhJvA1px",
        "outputId": "edf3d7df-9608-4d75-e828-4d005294396e"
      },
      "outputs": [
        {
          "name": "stdout",
          "output_type": "stream",
          "text": [
            "Requirement already satisfied: medmnist in c:\\users\\cleve\\.conda\\envs\\deeplearning\\lib\\site-packages (2.2.3)\n",
            "Requirement already satisfied: numpy in c:\\users\\cleve\\.conda\\envs\\deeplearning\\lib\\site-packages (from medmnist) (1.26.2)\n",
            "Requirement already satisfied: pandas in c:\\users\\cleve\\.conda\\envs\\deeplearning\\lib\\site-packages (from medmnist) (2.1.4)\n",
            "Requirement already satisfied: scikit-learn in c:\\users\\cleve\\.conda\\envs\\deeplearning\\lib\\site-packages (from medmnist) (1.2.2)\n",
            "Requirement already satisfied: scikit-image in c:\\users\\cleve\\.conda\\envs\\deeplearning\\lib\\site-packages (from medmnist) (0.22.0)\n",
            "Requirement already satisfied: tqdm in c:\\users\\cleve\\.conda\\envs\\deeplearning\\lib\\site-packages (from medmnist) (4.66.1)\n",
            "Requirement already satisfied: Pillow in c:\\users\\cleve\\.conda\\envs\\deeplearning\\lib\\site-packages (from medmnist) (10.0.1)\n",
            "Requirement already satisfied: fire in c:\\users\\cleve\\.conda\\envs\\deeplearning\\lib\\site-packages (from medmnist) (0.5.0)\n",
            "Requirement already satisfied: torch in c:\\users\\cleve\\.conda\\envs\\deeplearning\\lib\\site-packages (from medmnist) (2.1.2)\n",
            "Requirement already satisfied: torchvision in c:\\users\\cleve\\.conda\\envs\\deeplearning\\lib\\site-packages (from medmnist) (0.16.2)\n",
            "Requirement already satisfied: six in c:\\users\\cleve\\appdata\\roaming\\python\\python311\\site-packages (from fire->medmnist) (1.16.0)\n",
            "Requirement already satisfied: termcolor in c:\\users\\cleve\\.conda\\envs\\deeplearning\\lib\\site-packages (from fire->medmnist) (2.4.0)\n",
            "Requirement already satisfied: python-dateutil>=2.8.2 in c:\\users\\cleve\\appdata\\roaming\\python\\python311\\site-packages (from pandas->medmnist) (2.8.2)\n",
            "Requirement already satisfied: pytz>=2020.1 in c:\\users\\cleve\\.conda\\envs\\deeplearning\\lib\\site-packages (from pandas->medmnist) (2023.3.post1)\n",
            "Requirement already satisfied: tzdata>=2022.1 in c:\\users\\cleve\\.conda\\envs\\deeplearning\\lib\\site-packages (from pandas->medmnist) (2023.3)\n",
            "Requirement already satisfied: scipy>=1.8 in c:\\users\\cleve\\.conda\\envs\\deeplearning\\lib\\site-packages (from scikit-image->medmnist) (1.11.4)\n",
            "Requirement already satisfied: networkx>=2.8 in c:\\users\\cleve\\.conda\\envs\\deeplearning\\lib\\site-packages (from scikit-image->medmnist) (3.1)\n",
            "Requirement already satisfied: imageio>=2.27 in c:\\users\\cleve\\.conda\\envs\\deeplearning\\lib\\site-packages (from scikit-image->medmnist) (2.33.1)\n",
            "Requirement already satisfied: tifffile>=2022.8.12 in c:\\users\\cleve\\.conda\\envs\\deeplearning\\lib\\site-packages (from scikit-image->medmnist) (2023.12.9)\n",
            "Requirement already satisfied: packaging>=21 in c:\\users\\cleve\\.conda\\envs\\deeplearning\\lib\\site-packages (from scikit-image->medmnist) (23.1)\n",
            "Requirement already satisfied: lazy_loader>=0.3 in c:\\users\\cleve\\.conda\\envs\\deeplearning\\lib\\site-packages (from scikit-image->medmnist) (0.3)\n",
            "Requirement already satisfied: joblib>=1.1.1 in c:\\users\\cleve\\.conda\\envs\\deeplearning\\lib\\site-packages (from scikit-learn->medmnist) (1.2.0)\n",
            "Requirement already satisfied: threadpoolctl>=2.0.0 in c:\\users\\cleve\\.conda\\envs\\deeplearning\\lib\\site-packages (from scikit-learn->medmnist) (2.2.0)\n",
            "Requirement already satisfied: filelock in c:\\users\\cleve\\.conda\\envs\\deeplearning\\lib\\site-packages (from torch->medmnist) (3.13.1)\n",
            "Requirement already satisfied: typing-extensions in c:\\users\\cleve\\.conda\\envs\\deeplearning\\lib\\site-packages (from torch->medmnist) (4.7.1)\n",
            "Requirement already satisfied: sympy in c:\\users\\cleve\\.conda\\envs\\deeplearning\\lib\\site-packages (from torch->medmnist) (1.12)\n",
            "Requirement already satisfied: jinja2 in c:\\users\\cleve\\.conda\\envs\\deeplearning\\lib\\site-packages (from torch->medmnist) (3.1.2)\n",
            "Requirement already satisfied: fsspec in c:\\users\\cleve\\.conda\\envs\\deeplearning\\lib\\site-packages (from torch->medmnist) (2023.12.2)\n",
            "Requirement already satisfied: requests in c:\\users\\cleve\\.conda\\envs\\deeplearning\\lib\\site-packages (from torchvision->medmnist) (2.31.0)\n",
            "Requirement already satisfied: colorama in c:\\users\\cleve\\appdata\\roaming\\python\\python311\\site-packages (from tqdm->medmnist) (0.4.6)\n",
            "Requirement already satisfied: MarkupSafe>=2.0 in c:\\users\\cleve\\.conda\\envs\\deeplearning\\lib\\site-packages (from jinja2->torch->medmnist) (2.1.1)\n",
            "Requirement already satisfied: charset-normalizer<4,>=2 in c:\\users\\cleve\\.conda\\envs\\deeplearning\\lib\\site-packages (from requests->torchvision->medmnist) (2.0.4)\n",
            "Requirement already satisfied: idna<4,>=2.5 in c:\\users\\cleve\\.conda\\envs\\deeplearning\\lib\\site-packages (from requests->torchvision->medmnist) (3.4)\n",
            "Requirement already satisfied: urllib3<3,>=1.21.1 in c:\\users\\cleve\\.conda\\envs\\deeplearning\\lib\\site-packages (from requests->torchvision->medmnist) (1.26.18)\n",
            "Requirement already satisfied: certifi>=2017.4.17 in c:\\users\\cleve\\.conda\\envs\\deeplearning\\lib\\site-packages (from requests->torchvision->medmnist) (2023.11.17)\n",
            "Requirement already satisfied: mpmath>=0.19 in c:\\users\\cleve\\.conda\\envs\\deeplearning\\lib\\site-packages (from sympy->torch->medmnist) (1.3.0)\n"
          ]
        }
      ],
      "source": [
        "!pip install medmnist"
      ]
    },
    {
      "cell_type": "code",
      "execution_count": 2,
      "metadata": {
        "id": "Mn1L6Bz4A1p0"
      },
      "outputs": [],
      "source": [
        "from tqdm import tqdm\n",
        "import numpy as np\n",
        "import matplotlib.pyplot as plt\n",
        "import torch\n",
        "import torch.nn as nn\n",
        "import torch.optim as optim\n",
        "import torch.utils.data as data\n",
        "import torchvision.transforms as transforms\n",
        "\n",
        "import medmnist\n",
        "from medmnist import INFO, Evaluator"
      ]
    },
    {
      "cell_type": "code",
      "execution_count": 3,
      "metadata": {
        "colab": {
          "base_uri": "https://localhost:8080/"
        },
        "id": "LdLu88WoA1p1",
        "outputId": "ac6f0438-ac6b-4af9-d491-98e6cd34ea43"
      },
      "outputs": [
        {
          "name": "stdout",
          "output_type": "stream",
          "text": [
            "MedMNIST v2.2.3 @ https://github.com/MedMNIST/MedMNIST/\n"
          ]
        }
      ],
      "source": [
        "print(f\"MedMNIST v{medmnist.__version__} @ {medmnist.HOMEPAGE}\")"
      ]
    },
    {
      "cell_type": "markdown",
      "metadata": {
        "id": "7IH1GQHmA1p8"
      },
      "source": [
        "# 3D dataset"
      ]
    },
    {
      "cell_type": "code",
      "execution_count": 4,
      "metadata": {
        "colab": {
          "base_uri": "https://localhost:8080/"
        },
        "id": "A9kcmw7VA1p8",
        "outputId": "1cd8659e-d772-4c5d-914c-0670ebf80a66"
      },
      "outputs": [
        {
          "name": "stdout",
          "output_type": "stream",
          "text": [
            "Using downloaded and verified file: C:\\Users\\cleve\\.medmnist\\organmnist3d.npz\n",
            "Using downloaded and verified file: C:\\Users\\cleve\\.medmnist\\organmnist3d.npz\n"
          ]
        }
      ],
      "source": [
        "BATCH_SIZE = 64\n",
        "data_flag = 'organmnist3d'\n",
        "download = True\n",
        "\n",
        "info = INFO[data_flag]\n",
        "DataClass = getattr(medmnist, info['python_class'])\n",
        "\n",
        "# load the data\n",
        "train_dataset = DataClass(split='train',  download=download)\n",
        "test_dataset = DataClass(split='test',  download=download)\n",
        "\n",
        "# encapsulate data into dataloader form\n",
        "train_loader = data.DataLoader(dataset=train_dataset, batch_size=BATCH_SIZE, shuffle=True)\n",
        "test_loader = data.DataLoader(dataset=test_dataset, batch_size=BATCH_SIZE, shuffle=True)"
      ]
    },
    {
      "cell_type": "code",
      "execution_count": 5,
      "metadata": {
        "colab": {
          "base_uri": "https://localhost:8080/"
        },
        "id": "tyhzek0tA1p8",
        "outputId": "73f77002-53ab-448e-efe9-4a165edcd3fa"
      },
      "outputs": [
        {
          "name": "stdout",
          "output_type": "stream",
          "text": [
            "(1, 28, 28, 28) (1,)\n"
          ]
        }
      ],
      "source": [
        "x, y = train_dataset[0]\n",
        "\n",
        "print(x.shape, y.shape)"
      ]
    },
    {
      "cell_type": "code",
      "execution_count": 6,
      "metadata": {
        "colab": {
          "base_uri": "https://localhost:8080/"
        },
        "id": "d19zm3roA1p8",
        "outputId": "3bfdaf8f-0235-45be-cc83-fe7b6c3fdd3f"
      },
      "outputs": [
        {
          "name": "stdout",
          "output_type": "stream",
          "text": [
            "torch.Size([64, 1, 28, 28, 28]) torch.Size([64, 1])\n"
          ]
        }
      ],
      "source": [
        "for x, y in train_loader:\n",
        "    print(x.shape, y.shape)\n",
        "    break"
      ]
    },
    {
      "cell_type": "code",
      "execution_count": 7,
      "metadata": {
        "colab": {
          "base_uri": "https://localhost:8080/",
          "height": 296
        },
        "id": "tEXvkO2XA1p9",
        "outputId": "99b028a7-f410-4171-e686-484cd4bfdcda"
      },
      "outputs": [
        {
          "data": {
            "image/jpeg": "[encoded data removed]",
            "image/png": "[encoded data removed]",
            "text/plain": [
              "<PIL.Image.Image image mode=L size=224x224>"
            ]
          },
          "execution_count": 7,
          "metadata": {},
          "output_type": "execute_result"
        }
      ],
      "source": [
        "frames = train_dataset.montage(length=8, replace=True, save_folder=\"tmp/\")\n",
        "frames[10]"
      ]
    },
    {
      "cell_type": "markdown",
      "metadata": {
        "id": "pil4AsMVA1p9"
      },
      "source": [
        "## Go and check the generated [gif](tmp/organmnist3d_train_montage.gif)"
      ]
    },
    {
      "cell_type": "markdown",
      "metadata": {
        "id": "Q9vHPJHyXO6w"
      },
      "source": [
        "# Models"
      ]
    },
    {
      "cell_type": "code",
      "execution_count": 8,
      "metadata": {
        "id": "EtM6qGJRXO6w"
      },
      "outputs": [],
      "source": [
        "import torch.nn as nn\n",
        "import torch.nn.functional as F\n",
        "\n",
        "\n",
        "class BasicBlock(nn.Module):\n",
        "    expansion = 1\n",
        "\n",
        "    def __init__(self, in_planes, planes, stride=1):\n",
        "        super(BasicBlock, self).__init__()\n",
        "        self.conv1 = nn.Conv2d(\n",
        "            in_planes, planes, kernel_size=3, stride=stride, padding=1, bias=False)\n",
        "        self.bn1 = nn.BatchNorm2d(planes)\n",
        "        # self.bn1 = nn.GroupNorm(num_groups=2, num_channels=planes)\n",
        "\n",
        "        self.conv2 = nn.Conv2d(planes, planes, kernel_size=3,\n",
        "                               stride=1, padding=1, bias=False)\n",
        "        self.bn2 = nn.BatchNorm2d(planes)\n",
        "        # self.bn2 = nn.GroupNorm(num_groups=2, num_channels=planes)\n",
        "\n",
        "        self.shortcut = nn.Sequential()\n",
        "        if stride != 1 or in_planes != self.expansion*planes:\n",
        "            self.shortcut = nn.Sequential(\n",
        "                nn.Conv2d(in_planes, self.expansion*planes,\n",
        "                          kernel_size=1, stride=stride, bias=False),\n",
        "                nn.BatchNorm2d(self.expansion*planes)\n",
        "                # nn.GroupNorm(num_groups=2, num_channels=self.expansion*planes)\n",
        "            )\n",
        "\n",
        "    def forward(self, x):\n",
        "        out = F.relu(self.bn1(self.conv1(x)))\n",
        "        out = self.bn2(self.conv2(out))\n",
        "        out += self.shortcut(x)\n",
        "        out = F.relu(out)\n",
        "        return out\n",
        "\n",
        "\n",
        "class Bottleneck(nn.Module):\n",
        "    expansion = 4\n",
        "\n",
        "    def __init__(self, in_planes, planes, stride=1):\n",
        "        super(Bottleneck, self).__init__()\n",
        "        self.conv1 = nn.Conv2d(in_planes, planes, kernel_size=1, bias=False)\n",
        "        self.bn1 = nn.BatchNorm2d(planes)\n",
        "        # self.bn1 = nn.GroupNorm(num_groups=2, num_channels=planes)\n",
        "        self.conv2 = nn.Conv2d(planes, planes, kernel_size=3,\n",
        "                               stride=stride, padding=1, bias=False)\n",
        "        self.bn2 = nn.BatchNorm2d(planes)\n",
        "        # self.bn2 = nn.GroupNorm(num_groups=2, num_channels=planes)\n",
        "        self.conv3 = nn.Conv2d(planes, self.expansion *\n",
        "                               planes, kernel_size=1, bias=False)\n",
        "        self.bn3 = nn.BatchNorm2d(self.expansion*planes)\n",
        "        # self.bn3 = nn.GroupNorm(num_groups=2, num_channels=self.expansion*planes)\n",
        "\n",
        "        self.shortcut = nn.Sequential()\n",
        "        if stride != 1 or in_planes != self.expansion*planes:\n",
        "            self.shortcut = nn.Sequential(\n",
        "                nn.Conv2d(in_planes, self.expansion*planes,\n",
        "                          kernel_size=1, stride=stride, bias=False),\n",
        "                nn.BatchNorm2d(self.expansion*planes)\n",
        "                # nn.GroupNorm(num_groups=2, num_channels=self.expansion*planes)\n",
        "            )\n",
        "\n",
        "    def forward(self, x):\n",
        "        out = F.relu(self.bn1(self.conv1(x)))\n",
        "        out = F.relu(self.bn2(self.conv2(out)))\n",
        "        out = self.bn3(self.conv3(out))\n",
        "        out += self.shortcut(x)\n",
        "        out = F.relu(out)\n",
        "        return out\n",
        "\n",
        "\n",
        "class ResNet(nn.Module):\n",
        "    def __init__(self, block, num_blocks, in_channels=1, num_classes=2):\n",
        "        super(ResNet, self).__init__()\n",
        "        self.in_planes = 64\n",
        "\n",
        "        self.conv1 = nn.Conv2d(in_channels, 64, kernel_size=3,\n",
        "                               stride=1, padding=1, bias=False)\n",
        "        self.bn1 = nn.BatchNorm2d(64)\n",
        "        # self.bn1 = nn.GroupNorm(num_groups=2, num_channels=64)\n",
        "        self.layer1 = self._make_layer(block, 64, num_blocks[0], stride=1)\n",
        "        self.layer2 = self._make_layer(block, 128, num_blocks[1], stride=2)\n",
        "        self.layer3 = self._make_layer(block, 256, num_blocks[2], stride=2)\n",
        "        self.layer4 = self._make_layer(block, 512, num_blocks[3], stride=2)\n",
        "        self.avgpool = nn.AdaptiveAvgPool2d((1, 1))\n",
        "        self.linear = nn.Linear(512 * block.expansion, num_classes)\n",
        "\n",
        "    def _make_layer(self, block, planes, num_blocks, stride):\n",
        "        strides = [stride] + [1]*(num_blocks-1)\n",
        "        layers = []\n",
        "        for stride in strides:\n",
        "            layers.append(block(self.in_planes, planes, stride))\n",
        "            self.in_planes = planes * block.expansion\n",
        "        return nn.Sequential(*layers)\n",
        "\n",
        "    def forward(self, x):\n",
        "        out = F.relu(self.bn1(self.conv1(x)))\n",
        "        out = self.layer1(out)\n",
        "        out = self.layer2(out)\n",
        "        out = self.layer3(out)\n",
        "        out = self.layer4(out)\n",
        "        # out = F.avg_pool2d(out, 4)\n",
        "        # out = F.adaptive_avg_pool3d(out, output_size=4)\n",
        "        out = self.avgpool(out)\n",
        "        out = out.view(out.size(0), -1)\n",
        "        out = self.linear(out)\n",
        "        return out\n",
        "\n",
        "\n",
        "def ResNet18(in_channels, num_classes):\n",
        "    return ResNet(BasicBlock, [2, 2, 2, 2], in_channels=in_channels, num_classes=num_classes)\n",
        "\n",
        "\n",
        "def ResNet50(in_channels, num_classes):\n",
        "    return ResNet(Bottleneck, [3, 4, 6, 3], in_channels=in_channels, num_classes=num_classes)"
      ]
    },
    {
      "cell_type": "code",
      "execution_count": 9,
      "metadata": {
        "colab": {
          "base_uri": "https://localhost:8080/"
        },
        "id": "EyvtO9bZXO6x",
        "outputId": "6398ce3e-a7e7-4588-d990-664dd53ff0a6"
      },
      "outputs": [
        {
          "name": "stdout",
          "output_type": "stream",
          "text": [
            "Requirement already satisfied: ACSConv in c:\\users\\cleve\\.conda\\envs\\deeplearning\\lib\\site-packages (0.1.1)\n",
            "Requirement already satisfied: fire in c:\\users\\cleve\\.conda\\envs\\deeplearning\\lib\\site-packages (from ACSConv) (0.5.0)\n",
            "Requirement already satisfied: numpy in c:\\users\\cleve\\.conda\\envs\\deeplearning\\lib\\site-packages (from ACSConv) (1.26.2)\n",
            "Requirement already satisfied: matplotlib in c:\\users\\cleve\\.conda\\envs\\deeplearning\\lib\\site-packages (from ACSConv) (3.8.0)\n",
            "Requirement already satisfied: pandas in c:\\users\\cleve\\.conda\\envs\\deeplearning\\lib\\site-packages (from ACSConv) (2.1.4)\n",
            "Requirement already satisfied: tqdm in c:\\users\\cleve\\.conda\\envs\\deeplearning\\lib\\site-packages (from ACSConv) (4.66.1)\n",
            "Requirement already satisfied: scikit-image in c:\\users\\cleve\\.conda\\envs\\deeplearning\\lib\\site-packages (from ACSConv) (0.22.0)\n",
            "Requirement already satisfied: scikit-learn in c:\\users\\cleve\\.conda\\envs\\deeplearning\\lib\\site-packages (from ACSConv) (1.2.2)\n",
            "Requirement already satisfied: scipy in c:\\users\\cleve\\.conda\\envs\\deeplearning\\lib\\site-packages (from ACSConv) (1.11.4)\n",
            "Requirement already satisfied: tensorboardx in c:\\users\\cleve\\.conda\\envs\\deeplearning\\lib\\site-packages (from ACSConv) (2.6.2.2)\n",
            "Requirement already satisfied: torch in c:\\users\\cleve\\.conda\\envs\\deeplearning\\lib\\site-packages (from ACSConv) (2.1.2)\n",
            "Requirement already satisfied: torchvision in c:\\users\\cleve\\.conda\\envs\\deeplearning\\lib\\site-packages (from ACSConv) (0.16.2)\n",
            "Requirement already satisfied: six in c:\\users\\cleve\\appdata\\roaming\\python\\python311\\site-packages (from fire->ACSConv) (1.16.0)\n",
            "Requirement already satisfied: termcolor in c:\\users\\cleve\\.conda\\envs\\deeplearning\\lib\\site-packages (from fire->ACSConv) (2.4.0)\n",
            "Requirement already satisfied: contourpy>=1.0.1 in c:\\users\\cleve\\.conda\\envs\\deeplearning\\lib\\site-packages (from matplotlib->ACSConv) (1.2.0)\n",
            "Requirement already satisfied: cycler>=0.10 in c:\\users\\cleve\\.conda\\envs\\deeplearning\\lib\\site-packages (from matplotlib->ACSConv) (0.11.0)\n",
            "Requirement already satisfied: fonttools>=4.22.0 in c:\\users\\cleve\\.conda\\envs\\deeplearning\\lib\\site-packages (from matplotlib->ACSConv) (4.25.0)\n",
            "Requirement already satisfied: kiwisolver>=1.0.1 in c:\\users\\cleve\\.conda\\envs\\deeplearning\\lib\\site-packages (from matplotlib->ACSConv) (1.4.4)\n",
            "Requirement already satisfied: packaging>=20.0 in c:\\users\\cleve\\.conda\\envs\\deeplearning\\lib\\site-packages (from matplotlib->ACSConv) (23.1)\n",
            "Requirement already satisfied: pillow>=6.2.0 in c:\\users\\cleve\\.conda\\envs\\deeplearning\\lib\\site-packages (from matplotlib->ACSConv) (10.0.1)\n",
            "Requirement already satisfied: pyparsing>=2.3.1 in c:\\users\\cleve\\.conda\\envs\\deeplearning\\lib\\site-packages (from matplotlib->ACSConv) (3.0.9)\n",
            "Requirement already satisfied: python-dateutil>=2.7 in c:\\users\\cleve\\appdata\\roaming\\python\\python311\\site-packages (from matplotlib->ACSConv) (2.8.2)\n",
            "Requirement already satisfied: pytz>=2020.1 in c:\\users\\cleve\\.conda\\envs\\deeplearning\\lib\\site-packages (from pandas->ACSConv) (2023.3.post1)\n",
            "Requirement already satisfied: tzdata>=2022.1 in c:\\users\\cleve\\.conda\\envs\\deeplearning\\lib\\site-packages (from pandas->ACSConv) (2023.3)\n",
            "Requirement already satisfied: networkx>=2.8 in c:\\users\\cleve\\.conda\\envs\\deeplearning\\lib\\site-packages (from scikit-image->ACSConv) (3.1)\n",
            "Requirement already satisfied: imageio>=2.27 in c:\\users\\cleve\\.conda\\envs\\deeplearning\\lib\\site-packages (from scikit-image->ACSConv) (2.33.1)\n",
            "Requirement already satisfied: tifffile>=2022.8.12 in c:\\users\\cleve\\.conda\\envs\\deeplearning\\lib\\site-packages (from scikit-image->ACSConv) (2023.12.9)\n",
            "Requirement already satisfied: lazy_loader>=0.3 in c:\\users\\cleve\\.conda\\envs\\deeplearning\\lib\\site-packages (from scikit-image->ACSConv) (0.3)\n",
            "Requirement already satisfied: joblib>=1.1.1 in c:\\users\\cleve\\.conda\\envs\\deeplearning\\lib\\site-packages (from scikit-learn->ACSConv) (1.2.0)\n",
            "Requirement already satisfied: threadpoolctl>=2.0.0 in c:\\users\\cleve\\.conda\\envs\\deeplearning\\lib\\site-packages (from scikit-learn->ACSConv) (2.2.0)\n",
            "Requirement already satisfied: protobuf>=3.20 in c:\\users\\cleve\\.conda\\envs\\deeplearning\\lib\\site-packages (from tensorboardx->ACSConv) (3.20.3)\n",
            "Requirement already satisfied: filelock in c:\\users\\cleve\\.conda\\envs\\deeplearning\\lib\\site-packages (from torch->ACSConv) (3.13.1)\n",
            "Requirement already satisfied: typing-extensions in c:\\users\\cleve\\.conda\\envs\\deeplearning\\lib\\site-packages (from torch->ACSConv) (4.7.1)\n",
            "Requirement already satisfied: sympy in c:\\users\\cleve\\.conda\\envs\\deeplearning\\lib\\site-packages (from torch->ACSConv) (1.12)\n",
            "Requirement already satisfied: jinja2 in c:\\users\\cleve\\.conda\\envs\\deeplearning\\lib\\site-packages (from torch->ACSConv) (3.1.2)\n",
            "Requirement already satisfied: fsspec in c:\\users\\cleve\\.conda\\envs\\deeplearning\\lib\\site-packages (from torch->ACSConv) (2023.12.2)\n",
            "Requirement already satisfied: requests in c:\\users\\cleve\\.conda\\envs\\deeplearning\\lib\\site-packages (from torchvision->ACSConv) (2.31.0)\n",
            "Requirement already satisfied: colorama in c:\\users\\cleve\\appdata\\roaming\\python\\python311\\site-packages (from tqdm->ACSConv) (0.4.6)\n",
            "Requirement already satisfied: MarkupSafe>=2.0 in c:\\users\\cleve\\.conda\\envs\\deeplearning\\lib\\site-packages (from jinja2->torch->ACSConv) (2.1.1)\n",
            "Requirement already satisfied: charset-normalizer<4,>=2 in c:\\users\\cleve\\.conda\\envs\\deeplearning\\lib\\site-packages (from requests->torchvision->ACSConv) (2.0.4)\n",
            "Requirement already satisfied: idna<4,>=2.5 in c:\\users\\cleve\\.conda\\envs\\deeplearning\\lib\\site-packages (from requests->torchvision->ACSConv) (3.4)\n",
            "Requirement already satisfied: urllib3<3,>=1.21.1 in c:\\users\\cleve\\.conda\\envs\\deeplearning\\lib\\site-packages (from requests->torchvision->ACSConv) (1.26.18)\n",
            "Requirement already satisfied: certifi>=2017.4.17 in c:\\users\\cleve\\.conda\\envs\\deeplearning\\lib\\site-packages (from requests->torchvision->ACSConv) (2023.11.17)\n",
            "Requirement already satisfied: mpmath>=0.19 in c:\\users\\cleve\\.conda\\envs\\deeplearning\\lib\\site-packages (from sympy->torch->ACSConv) (1.3.0)\n"
          ]
        }
      ],
      "source": [
        "!pip install ACSConv"
      ]
    },
    {
      "cell_type": "code",
      "execution_count": 10,
      "metadata": {
        "colab": {
          "base_uri": "https://localhost:8080/",
          "height": 129
        },
        "id": "1fvd9t6aA1p9",
        "outputId": "479de22b-723b-4af5-c352-602a272283ea"
      },
      "outputs": [
        {
          "name": "stdout",
          "output_type": "stream",
          "text": [
            "The ``converters`` are currently experimental. It may not support operations including (but not limited to) Functions in ``torch.nn.functional`` that involved data dimension\n"
          ]
        },
        {
          "data": {
            "text/html": [
              "<style>#sk-container-id-1 {color: black;background-color: white;}#sk-container-id-1 pre{padding: 0;}#sk-container-id-1 div.sk-toggleable {background-color: white;}#sk-container-id-1 label.sk-toggleable__label {cursor: pointer;display: block;width: 100%;margin-bottom: 0;padding: 0.3em;box-sizing: border-box;text-align: center;}#sk-container-id-1 label.sk-toggleable__label-arrow:before {content: \"▸\";float: left;margin-right: 0.25em;color: #696969;}#sk-container-id-1 label.sk-toggleable__label-arrow:hover:before {color: black;}#sk-container-id-1 div.sk-estimator:hover label.sk-toggleable__label-arrow:before {color: black;}#sk-container-id-1 div.sk-toggleable__content {max-height: 0;max-width: 0;overflow: hidden;text-align: left;background-color: #f0f8ff;}#sk-container-id-1 div.sk-toggleable__content pre {margin: 0.2em;color: black;border-radius: 0.25em;background-color: #f0f8ff;}#sk-container-id-1 input.sk-toggleable__control:checked~div.sk-toggleable__content {max-height: 200px;max-width: 100%;overflow: auto;}#sk-container-id-1 input.sk-toggleable__control:checked~label.sk-toggleable__label-arrow:before {content: \"▾\";}#sk-container-id-1 div.sk-estimator input.sk-toggleable__control:checked~label.sk-toggleable__label {background-color: #d4ebff;}#sk-container-id-1 div.sk-label input.sk-toggleable__control:checked~label.sk-toggleable__label {background-color: #d4ebff;}#sk-container-id-1 input.sk-hidden--visually {border: 0;clip: rect(1px 1px 1px 1px);clip: rect(1px, 1px, 1px, 1px);height: 1px;margin: -1px;overflow: hidden;padding: 0;position: absolute;width: 1px;}#sk-container-id-1 div.sk-estimator {font-family: monospace;background-color: #f0f8ff;border: 1px dotted black;border-radius: 0.25em;box-sizing: border-box;margin-bottom: 0.5em;}#sk-container-id-1 div.sk-estimator:hover {background-color: #d4ebff;}#sk-container-id-1 div.sk-parallel-item::after {content: \"\";width: 100%;border-bottom: 1px solid gray;flex-grow: 1;}#sk-container-id-1 div.sk-label:hover label.sk-toggleable__label {background-color: #d4ebff;}#sk-container-id-1 div.sk-serial::before {content: \"\";position: absolute;border-left: 1px solid gray;box-sizing: border-box;top: 0;bottom: 0;left: 50%;z-index: 0;}#sk-container-id-1 div.sk-serial {display: flex;flex-direction: column;align-items: center;background-color: white;padding-right: 0.2em;padding-left: 0.2em;position: relative;}#sk-container-id-1 div.sk-item {position: relative;z-index: 1;}#sk-container-id-1 div.sk-parallel {display: flex;align-items: stretch;justify-content: center;background-color: white;position: relative;}#sk-container-id-1 div.sk-item::before, #sk-container-id-1 div.sk-parallel-item::before {content: \"\";position: absolute;border-left: 1px solid gray;box-sizing: border-box;top: 0;bottom: 0;left: 50%;z-index: -1;}#sk-container-id-1 div.sk-parallel-item {display: flex;flex-direction: column;z-index: 1;position: relative;background-color: white;}#sk-container-id-1 div.sk-parallel-item:first-child::after {align-self: flex-end;width: 50%;}#sk-container-id-1 div.sk-parallel-item:last-child::after {align-self: flex-start;width: 50%;}#sk-container-id-1 div.sk-parallel-item:only-child::after {width: 0;}#sk-container-id-1 div.sk-dashed-wrapped {border: 1px dashed gray;margin: 0 0.4em 0.5em 0.4em;box-sizing: border-box;padding-bottom: 0.4em;background-color: white;}#sk-container-id-1 div.sk-label label {font-family: monospace;font-weight: bold;display: inline-block;line-height: 1.2em;}#sk-container-id-1 div.sk-label-container {text-align: center;}#sk-container-id-1 div.sk-container {/* jupyter's `normalize.less` sets `[hidden] { display: none; }` but bootstrap.min.css set `[hidden] { display: none !important; }` so we also need the `!important` here to be able to override the default hidden behavior on the sphinx rendered scikit-learn.org. See: https://github.com/scikit-learn/scikit-learn/issues/21755 */display: inline-block !important;position: relative;}#sk-container-id-1 div.sk-text-repr-fallback {display: none;}</style><div id=\"sk-container-id-1\" class=\"sk-top-container\"><div class=\"sk-text-repr-fallback\"><pre>OneHotEncoder()</pre><b>In a Jupyter environment, please rerun this cell to show the HTML representation or trust the notebook. <br />On GitHub, the HTML representation is unable to render, please try loading this page with nbviewer.org.</b></div><div class=\"sk-container\" hidden><div class=\"sk-item\"><div class=\"sk-estimator sk-toggleable\"><input class=\"sk-toggleable__control sk-hidden--visually\" id=\"sk-estimator-id-1\" type=\"checkbox\" checked><label for=\"sk-estimator-id-1\" class=\"sk-toggleable__label sk-toggleable__label-arrow\">OneHotEncoder</label><div class=\"sk-toggleable__content\"><pre>OneHotEncoder()</pre></div></div></div></div></div>"
            ],
            "text/plain": [
              "OneHotEncoder()"
            ]
          },
          "execution_count": 10,
          "metadata": {},
          "output_type": "execute_result"
        }
      ],
      "source": [
        "# from torchvision.models import resnet18\n",
        "from acsconv.converters import ACSConverter\n",
        "# model_2d is a standard pytorch 2D model\n",
        "n_channels = 1\n",
        "n_classes = 11\n",
        "device = torch.device('cuda' if torch.cuda.is_available() else 'cpu')\n",
        "\n",
        "from sklearn.preprocessing import OneHotEncoder\n",
        "enc = OneHotEncoder()\n",
        "labels = [[0],[1],[2],[3],[4],[5],[6],[7],[8],[9],[10]]\n",
        "enc.fit(labels)"
      ]
    },
    {
      "cell_type": "code",
      "execution_count": 11,
      "metadata": {
        "id": "jisxiUEwMyoT"
      },
      "outputs": [],
      "source": [
        "torch.cuda.empty_cache()"
      ]
    },
    {
      "cell_type": "code",
      "execution_count": 12,
      "metadata": {
        "colab": {
          "base_uri": "https://localhost:8080/"
        },
        "id": "pjqZH4tSeyVg",
        "outputId": "6da3ac98-b44c-47b0-d21a-7017a6c68f5a"
      },
      "outputs": [
        {
          "name": "stdout",
          "output_type": "stream",
          "text": [
            "Mon Apr  8 21:09:54 2024       \n",
            "+---------------------------------------------------------------------------------------+\n",
            "| NVIDIA-SMI 546.17                 Driver Version: 546.17       CUDA Version: 12.3     |\n",
            "|-----------------------------------------+----------------------+----------------------+\n",
            "| GPU  Name                     TCC/WDDM  | Bus-Id        Disp.A | Volatile Uncorr. ECC |\n",
            "| Fan  Temp   Perf          Pwr:Usage/Cap |         Memory-Usage | GPU-Util  Compute M. |\n",
            "|                                         |                      |               MIG M. |\n",
            "|=========================================+======================+======================|\n",
            "|   0  NVIDIA GeForce MX230         WDDM  | 00000000:02:00.0 Off |                  N/A |\n",
            "| N/A   59C    P3              N/A / ERR! |      0MiB /  2048MiB |      1%      Default |\n",
            "|                                         |                      |                  N/A |\n",
            "+-----------------------------------------+----------------------+----------------------+\n",
            "                                                                                         \n",
            "+---------------------------------------------------------------------------------------+\n",
            "| Processes:                                                                            |\n",
            "|  GPU   GI   CI        PID   Type   Process name                            GPU Memory |\n",
            "|        ID   ID                                                             Usage      |\n",
            "|=======================================================================================|\n",
            "|  No running processes found                                                           |\n",
            "+---------------------------------------------------------------------------------------+\n"
          ]
        }
      ],
      "source": [
        "!nvidia-smi"
      ]
    },
    {
      "cell_type": "markdown",
      "metadata": {
        "id": "LXPJ0Y5eXO6x"
      },
      "source": [
        "### ResNet18"
      ]
    },
    {
      "cell_type": "code",
      "execution_count": 13,
      "metadata": {
        "colab": {
          "base_uri": "https://localhost:8080/"
        },
        "id": "ch7tmGXYXO6y",
        "outputId": "15400b6f-26bc-4dce-ce9f-a1768ec26a32"
      },
      "outputs": [
        {
          "name": "stdout",
          "output_type": "stream",
          "text": [
            "Running Epoch: 0... \n"
          ]
        }
      ],
      "source": [
        "model_2d = ResNet18(in_channels=n_channels, num_classes=n_classes)\n",
        "model_3d = ACSConverter(model_2d).to(device)\n",
        "criterion = nn.CrossEntropyLoss()\n",
        "optimizer = torch.optim.Adam(model_3d.parameters(), lr=0.001)\n",
        "epoch_loss = []\n",
        "accuracy = []\n",
        "match = []\n",
        "datasize = []\n",
        "\n",
        "for epoch in range(25):\n",
        "    print(f'Running Epoch: {epoch}... ')\n",
        "    total_loss = []\n",
        "\n",
        "    # Initialize variables for accuracy, match, and datasize\n",
        "    correct_predictions = 0\n",
        "    total_samples = 0\n",
        "\n",
        "    for input_3d, label in train_loader:\n",
        "        input_3d = input_3d.to(device).to(torch.float32)\n",
        "        label_tensor = torch.squeeze(label, 1).long().to(device)\n",
        "        output_3d = model_3d(input_3d)\n",
        "\n",
        "        optimizer.zero_grad()\n",
        "        loss = criterion(output_3d, label_tensor)\n",
        "        total_loss.append(loss.item())\n",
        "        loss.backward()\n",
        "        optimizer.step()\n",
        "\n",
        "        # Calculate accuracy, match, and datasize for the current batch\n",
        "        _, predicted = torch.max(output_3d, 1)\n",
        "        correct_predictions += (predicted == label_tensor).sum().item()\n",
        "        total_samples += label_tensor.size(0)\n",
        "\n",
        "    # Append accuracy, match, and datasize for the current epoch\n",
        "    accuracy.append(correct_predictions / total_samples)\n",
        "    match.append(correct_predictions)\n",
        "    datasize.append(total_samples)\n",
        "\n",
        "    # Calculate and append average loss for the current epoch\n",
        "    epoch_loss.append(sum(total_loss) / len(total_loss))\n",
        "\n",
        "# Print or use accuracy, match, datasize, and epoch_loss as needed\n",
        "print(\"\\nAccuracy:\", accuracy)\n",
        "print(\"Match:\", match)\n",
        "print(\"Datasize:\", datasize)\n",
        "print(\"Epoch Loss:\", epoch_loss)\n"
      ]
    },
    {
      "cell_type": "markdown",
      "metadata": {
        "id": "8_HbbkMNXO6y"
      },
      "source": [
        "### Accuracy"
      ]
    },
    {
      "cell_type": "code",
      "execution_count": null,
      "metadata": {
        "colab": {
          "base_uri": "https://localhost:8080/"
        },
        "id": "CitgQViVXO6y",
        "outputId": "c5b544c1-809e-449b-cc5d-d4c3ae59d080"
      },
      "outputs": [
        {
          "name": "stdout",
          "output_type": "stream",
          "text": [
            "Overall Accuracy: 92.63%\n"
          ]
        }
      ],
      "source": [
        "total_correct = sum(match)\n",
        "total_datasize = sum(datasize)\n",
        "overall_accuracy = (total_correct / total_datasize) * 100\n",
        "\n",
        "print(\"Overall Accuracy: {:.2f}%\".format(overall_accuracy))"
      ]
    },
    {
      "cell_type": "markdown",
      "metadata": {
        "id": "WeiJXx1nXO6y"
      },
      "source": [
        "### ResNet50"
      ]
    },
    {
      "cell_type": "code",
      "execution_count": null,
      "metadata": {
        "colab": {
          "base_uri": "https://localhost:8080/"
        },
        "id": "sToOyfTdXO6y",
        "outputId": "0f8894db-b94e-4232-a517-c6980d3b4841"
      },
      "outputs": [
        {
          "name": "stdout",
          "output_type": "stream",
          "text": [
            "Running Epoch: 0... \n",
            "Running Epoch: 1... \n",
            "Running Epoch: 2... \n",
            "Running Epoch: 3... \n",
            "Running Epoch: 4... \n",
            "Running Epoch: 5... \n",
            "Running Epoch: 6... \n",
            "Running Epoch: 7... \n",
            "Running Epoch: 8... \n",
            "Running Epoch: 9... \n",
            "Running Epoch: 10... \n",
            "Running Epoch: 11... \n",
            "Running Epoch: 12... \n",
            "Running Epoch: 13... \n",
            "Running Epoch: 14... \n",
            "Running Epoch: 15... \n",
            "Running Epoch: 16... \n",
            "Running Epoch: 17... \n",
            "Running Epoch: 18... \n",
            "Running Epoch: 19... \n",
            "Running Epoch: 20... \n",
            "Running Epoch: 21... \n",
            "Running Epoch: 22... \n",
            "Running Epoch: 23... \n",
            "Running Epoch: 24... \n",
            "\n",
            "Accuracy: [0.36728395061728397, 0.6697530864197531, 0.7829218106995884, 0.8446502057613169, 0.845679012345679, 0.8641975308641975, 0.9084362139917695, 0.9197530864197531, 0.9382716049382716, 0.9331275720164609, 0.9372427983539094, 0.9403292181069959, 0.9444444444444444, 0.9331275720164609, 0.9475308641975309, 0.9722222222222222, 0.9783950617283951, 0.9783950617283951, 0.9866255144032922, 0.9691358024691358, 0.9259259259259259, 0.9557613168724279, 0.9475308641975309, 0.948559670781893, 0.9547325102880658]\n",
            "Match: [357, 651, 761, 821, 822, 840, 883, 894, 912, 907, 911, 914, 918, 907, 921, 945, 951, 951, 959, 942, 900, 929, 921, 922, 928]\n",
            "Datasize: [972, 972, 972, 972, 972, 972, 972, 972, 972, 972, 972, 972, 972, 972, 972, 972, 972, 972, 972, 972, 972, 972, 972, 972, 972]\n",
            "Epoch Loss: [1.8817777595212382, 0.9154074807320872, 0.5827809379946801, 0.43221577857771226, 0.4869661242250473, 0.39329446587831746, 0.2754039389471854, 0.26055028794273255, 0.1765873608209433, 0.18713947625890856, 0.1720066630551892, 0.18656923021039656, 0.17515121784902388, 0.17595630601769494, 0.15793036459194076, 0.09547241494780587, 0.07430297175362226, 0.0696793802142624, 0.04099504490413012, 0.1472326496413218, 0.21901334711020032, 0.14455636230207258, 0.15017063609294354, 0.17574957409693348, 0.13191705777670346]\n"
          ]
        }
      ],
      "source": [
        "model_2d = ResNet50(in_channels=n_channels, num_classes=n_classes)\n",
        "model_3d = ACSConverter(model_2d).to(device)\n",
        "criterion = nn.CrossEntropyLoss()\n",
        "optimizer = torch.optim.Adam(model_3d.parameters(), lr=0.001)\n",
        "epoch_loss = []\n",
        "accuracy = []\n",
        "match = []\n",
        "datasize = []\n",
        "\n",
        "for epoch in range(25):\n",
        "    print(f'Running Epoch: {epoch}... ')\n",
        "    total_loss = []\n",
        "\n",
        "    # Initialize variables for accuracy, match, and datasize\n",
        "    correct_predictions = 0\n",
        "    total_samples = 0\n",
        "\n",
        "    for input_3d, label in train_loader:\n",
        "        input_3d = input_3d.to(device).to(torch.float32)\n",
        "        label_tensor = torch.squeeze(label, 1).long().to(device)\n",
        "        output_3d = model_3d(input_3d)\n",
        "\n",
        "        optimizer.zero_grad()\n",
        "        loss = criterion(output_3d, label_tensor)\n",
        "        total_loss.append(loss.item())\n",
        "        loss.backward()\n",
        "        optimizer.step()\n",
        "\n",
        "        # Calculate accuracy, match, and datasize for the current batch\n",
        "        _, predicted = torch.max(output_3d, 1)\n",
        "        correct_predictions += (predicted == label_tensor).sum().item()\n",
        "        total_samples += label_tensor.size(0)\n",
        "\n",
        "    # Append accuracy, match, and datasize for the current epoch\n",
        "    accuracy.append(correct_predictions / total_samples)\n",
        "    match.append(correct_predictions)\n",
        "    datasize.append(total_samples)\n",
        "\n",
        "    # Calculate and append average loss for the current epoch\n",
        "    epoch_loss.append(sum(total_loss) / len(total_loss))\n",
        "\n",
        "# Print or use accuracy, match, datasize, and epoch_loss as needed\n",
        "print(\"\\nAccuracy:\", accuracy)\n",
        "print(\"Match:\", match)\n",
        "print(\"Datasize:\", datasize)\n",
        "print(\"Epoch Loss:\", epoch_loss)\n"
      ]
    },
    {
      "cell_type": "markdown",
      "metadata": {
        "id": "VwWkPm9QXO6y"
      },
      "source": [
        "### Accuracy"
      ]
    },
    {
      "cell_type": "code",
      "execution_count": null,
      "metadata": {
        "colab": {
          "base_uri": "https://localhost:8080/"
        },
        "id": "wrrwR7U1XO6y",
        "outputId": "498b33ac-25ca-4104-c4f9-ad4bdc0d3178"
      },
      "outputs": [
        {
          "name": "stdout",
          "output_type": "stream",
          "text": [
            "Overall Accuracy: 89.58%\n"
          ]
        }
      ],
      "source": [
        "total_correct = sum(match)\n",
        "total_datasize = sum(datasize)\n",
        "overall_accuracy = (total_correct / total_datasize) * 100\n",
        "\n",
        "print(\"Overall Accuracy: {:.2f}%\".format(overall_accuracy))"
      ]
    },
    {
      "cell_type": "code",
      "execution_count": null,
      "metadata": {
        "id": "pwtIgGhBXO6z"
      },
      "outputs": [],
      "source": []
    }
  ],
  "metadata": {
    "accelerator": "GPU",
    "colab": {
      "gpuType": "T4",
      "provenance": []
    },
    "kernelspec": {
      "display_name": "Python 3",
      "name": "python3"
    },
    "language_info": {
      "codemirror_mode": {
        "name": "ipython",
        "version": 3
      },
      "file_extension": ".py",
      "mimetype": "text/x-python",
      "name": "python",
      "nbconvert_exporter": "python",
      "pygments_lexer": "ipython3",
      "version": "3.11.5"
    },
    "nbTranslate": {
      "displayLangs": [
        "*"
      ],
      "hotkey": "alt-t",
      "langInMainMenu": true,
      "sourceLang": "en",
      "targetLang": "fr",
      "useGoogleTranslate": true
    }
  },
  "nbformat": 4,
  "nbformat_minor": 0
}
