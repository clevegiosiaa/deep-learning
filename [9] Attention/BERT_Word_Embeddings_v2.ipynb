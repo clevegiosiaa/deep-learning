{
 "cells": [
  {
   "cell_type": "markdown",
   "metadata": {
    "id": "78HE8FLsKN9Q"
   },
   "source": [
    "In this post, I take an in-depth look at word embeddings produced by Google's BERT and show you how to get started with BERT by producing your own word embeddings.\n",
    "\n",
    "This post is presented in two forms--as a blog post [here](http://mccormickml.com/2019/05/14/BERT-word-embeddings-tutorial/) and as a Colab notebook [here](https://colab.research.google.com/drive/1yFphU6PW9Uo6lmDly_ud9a6c4RCYlwdX).\n",
    "The content is identical in both, but:\n",
    "\n",
    "* The blog post format may be easier to read, and includes a comments section for discussion.\n",
    "* The Colab Notebook will allow you to run the code and inspect it as you read through.\n",
    "\n",
    "*UPDATE: May 27, 2020 - I've updated this post to use the new `transformers` library  from huggingface in place of the old `pytorch-pretrained-bert` library. You can still find the old post / Notebook [here](https://colab.research.google.com/drive/1ZQvuAVwA3IjybezQOXnrXMGAnMyZRuPU) if you need it.*\n"
   ]
  },
  {
   "cell_type": "markdown",
   "metadata": {
    "id": "dYapTjoYa0kO"
   },
   "source": [
    "# Introduction\n",
    "\n"
   ]
  },
  {
   "cell_type": "markdown",
   "metadata": {
    "id": "c8HDKzBai5dL"
   },
   "source": [
    "### History\n",
    "\n",
    "2018 was a breakthrough year in NLP. Transfer learning, particularly models like Allen AI's ELMO, OpenAI's Open-GPT, and Google's BERT allowed researchers to smash multiple benchmarks with minimal task-specific fine-tuning and provided the rest of the NLP community with pretrained models that could easily (with less data and less compute time) be fine-tuned and implemented to produce state of the art results. Unfortunately, for many starting out in NLP and even for some experienced practicioners, the theory and practical application of these powerful models is still not well understood.\n"
   ]
  },
  {
   "cell_type": "markdown",
   "metadata": {
    "id": "WoitNQMWA1bt"
   },
   "source": [
    "\n",
    "### What is BERT?\n",
    "\n",
    "BERT (Bidirectional Encoder Representations from Transformers), released in late 2018, is the model we will use in this tutorial to provide readers with a better understanding of and practical guidance for using transfer learning models in NLP. BERT is a method of pretraining language representations that was used to create models that NLP practicioners can then download and use for free. You can either use these models to extract high quality language features from your text data, or you can fine-tune these models on a specific task (classification, entity recognition, question answering, etc.) with your own data to produce state of the art predictions.\n"
   ]
  },
  {
   "cell_type": "markdown",
   "metadata": {
    "id": "q-dDVmXAA3At"
   },
   "source": [
    "\n",
    "### Why BERT embeddings?\n",
    "\n",
    "In this tutorial, we will use BERT to extract features, namely word and sentence embedding vectors, from text data. What can we do with these word and sentence embedding vectors? First, these embeddings are useful for keyword/search expansion, semantic search and information retrieval. For example, if you want to match customer questions or searches against already answered questions or well documented searches, these representations will help you accuratley retrieve results matching the customer's intent and contextual meaning, even if there's no keyword  or phrase overlap.\n",
    "\n",
    "Second, and perhaps more importantly, these vectors are used as high-quality feature inputs to downstream models. NLP models such as LSTMs or CNNs require inputs in the form of numerical vectors, and this typically means translating features like the vocabulary and parts of speech into numerical representations. In the past, words have been represented either as uniquely indexed values (one-hot encoding), or more helpfully as neural word embeddings where vocabulary words are matched against the fixed-length feature embeddings that result from models like Word2Vec or Fasttext. BERT offers an advantage over models like Word2Vec, because while each word has a fixed representation under Word2Vec regardless of the context within which the word appears, BERT produces word representations that are dynamically informed by the words around them. For example, given two sentences:\n",
    "\n",
    "\"The man was accused of robbing a bank.\"\n",
    "\"The man went fishing by the bank of the river.\"\n",
    "\n",
    "Word2Vec would produce the same word embedding for the word \"bank\" in both sentences, while under BERT the word embedding for \"bank\" would be different for each sentence. Aside from capturing obvious differences like polysemy, the context-informed word embeddings capture other forms of information that result in more accurate feature representations, which in turn results in better model performance.\n",
    "\n",
    "From an educational standpoint, a close examination of BERT word embeddings is a good way to get  your feet wet with BERT and its family of transfer learning models, and sets us up with some practical knowledge and context to better understand the inner details of the model in later tutorials.\n",
    "\n",
    "Onward!"
   ]
  },
  {
   "cell_type": "markdown",
   "metadata": {
    "id": "lkfoKeUSsgEH"
   },
   "source": [
    "[![BERT eBook Display Ad](https://drive.google.com/uc?export=view&id=1d6L584QYqpREpRIwAZ55Wsq8AUs5qSk1)](https://www.chrismccormick.ai/bert-ebook?utm_source=colab&utm_medium=banner&utm_campaign=bert_ebook&utm_content=colab2)"
   ]
  },
  {
   "cell_type": "markdown",
   "metadata": {
    "id": "Pqa-7WXBAw8q"
   },
   "source": [
    "# 1. Loading Pre-Trained BERT"
   ]
  },
  {
   "cell_type": "markdown",
   "metadata": {
    "id": "eCdqJCtQN52l"
   },
   "source": [
    "Install the pytorch interface for BERT by Hugging Face. (This library contains interfaces for other pretrained language models like OpenAI's GPT and GPT-2.)\n",
    "\n",
    "We've selected the pytorch interface because it strikes a nice balance between the high-level APIs (which are easy to use but don't provide insight into how things work) and tensorflow code (which contains lots of details but often sidetracks us into lessons about tensorflow, when the purpose here is BERT!).\n",
    "\n",
    "If you're running this code on Google Colab, you will have to install this library each time you reconnect; the following cell will take care of that for you."
   ]
  },
  {
   "cell_type": "code",
   "execution_count": 1,
   "metadata": {
    "colab": {
     "base_uri": "https://localhost:8080/",
     "height": 326
    },
    "id": "1RfUN_KolV-f",
    "outputId": "10e932f4-a95e-494f-8d3e-69a1e1be935c"
   },
   "outputs": [
    {
     "name": "stdout",
     "output_type": "stream",
     "text": [
      "Requirement already satisfied: transformers in /Users/hendriksugiarto/opt/anaconda3/envs/deeplearning/lib/python3.9/site-packages (4.35.0)\n",
      "Requirement already satisfied: filelock in /Users/hendriksugiarto/opt/anaconda3/envs/deeplearning/lib/python3.9/site-packages (from transformers) (3.9.0)\n",
      "Requirement already satisfied: huggingface-hub<1.0,>=0.16.4 in /Users/hendriksugiarto/opt/anaconda3/envs/deeplearning/lib/python3.9/site-packages (from transformers) (0.17.3)\n",
      "Requirement already satisfied: requests in /Users/hendriksugiarto/opt/anaconda3/envs/deeplearning/lib/python3.9/site-packages (from transformers) (2.27.1)\n",
      "Requirement already satisfied: packaging>=20.0 in /Users/hendriksugiarto/opt/anaconda3/envs/deeplearning/lib/python3.9/site-packages (from transformers) (21.3)\n",
      "Requirement already satisfied: safetensors>=0.3.1 in /Users/hendriksugiarto/opt/anaconda3/envs/deeplearning/lib/python3.9/site-packages (from transformers) (0.4.0)\n",
      "Requirement already satisfied: tokenizers<0.15,>=0.14 in /Users/hendriksugiarto/opt/anaconda3/envs/deeplearning/lib/python3.9/site-packages (from transformers) (0.14.1)\n",
      "Requirement already satisfied: tqdm>=4.27 in /Users/hendriksugiarto/opt/anaconda3/envs/deeplearning/lib/python3.9/site-packages (from transformers) (4.61.0)\n",
      "Requirement already satisfied: pyyaml>=5.1 in /Users/hendriksugiarto/opt/anaconda3/envs/deeplearning/lib/python3.9/site-packages (from transformers) (6.0.1)\n",
      "Requirement already satisfied: regex!=2019.12.17 in /Users/hendriksugiarto/opt/anaconda3/envs/deeplearning/lib/python3.9/site-packages (from transformers) (2021.11.10)\n",
      "Requirement already satisfied: numpy>=1.17 in /Users/hendriksugiarto/opt/anaconda3/envs/deeplearning/lib/python3.9/site-packages (from transformers) (1.22.4)\n",
      "Requirement already satisfied: typing-extensions>=3.7.4.3 in /Users/hendriksugiarto/opt/anaconda3/envs/deeplearning/lib/python3.9/site-packages (from huggingface-hub<1.0,>=0.16.4->transformers) (3.10.0.2)\n",
      "Requirement already satisfied: fsspec in /Users/hendriksugiarto/opt/anaconda3/envs/deeplearning/lib/python3.9/site-packages (from huggingface-hub<1.0,>=0.16.4->transformers) (2023.10.0)\n",
      "Requirement already satisfied: pyparsing!=3.0.5,>=2.0.2 in /Users/hendriksugiarto/opt/anaconda3/envs/deeplearning/lib/python3.9/site-packages (from packaging>=20.0->transformers) (3.0.4)\n",
      "Requirement already satisfied: idna<4,>=2.5 in /Users/hendriksugiarto/opt/anaconda3/envs/deeplearning/lib/python3.9/site-packages (from requests->transformers) (3.1)\n",
      "Requirement already satisfied: urllib3<1.27,>=1.21.1 in /Users/hendriksugiarto/opt/anaconda3/envs/deeplearning/lib/python3.9/site-packages (from requests->transformers) (1.26.8)\n",
      "Requirement already satisfied: certifi>=2017.4.17 in /Users/hendriksugiarto/opt/anaconda3/envs/deeplearning/lib/python3.9/site-packages (from requests->transformers) (2023.7.22)\n",
      "Requirement already satisfied: charset-normalizer~=2.0.0 in /Users/hendriksugiarto/opt/anaconda3/envs/deeplearning/lib/python3.9/site-packages (from requests->transformers) (2.0.10)\n"
     ]
    }
   ],
   "source": [
    "!pip install transformers"
   ]
  },
  {
   "cell_type": "markdown",
   "metadata": {
    "id": "JSXImOxMPdNg"
   },
   "source": [
    "Now let's import pytorch, the pretrained BERT model, and a BERT tokenizer.\n",
    "\n",
    "We'll explain the BERT model in detail in a later tutorial, but this is the pre-trained model released by Google that ran for many, many hours on Wikipedia and [Book Corpus](https://arxiv.org/pdf/1506.06724.pdf), a dataset containing +10,000 books of different genres. This model is responsible (with a little modification) for beating NLP benchmarks across a range of tasks. Google released a few variations of BERT models, but the one we'll use here is the smaller of the two available sizes (\"base\" and \"large\") and ignores casing, hence \"uncased.\"\"\n",
    "\n",
    "`transformers` provides a number of classes for applying BERT to different tasks (token classification, text classification, ...). Here, we're using the basic `BertModel` which has no specific output task--it's a good choice for using BERT just to extract embeddings."
   ]
  },
  {
   "cell_type": "code",
   "execution_count": 2,
   "metadata": {
    "id": "lJEnBJ3gHTsQ"
   },
   "outputs": [],
   "source": [
    "import torch\n",
    "from transformers import BertTokenizer, BertModel\n",
    "\n",
    "# OPTIONAL: if you want to have more information on what's happening, activate the logger as follows\n",
    "import logging\n",
    "#logging.basicConfig(level=logging.INFO)\n",
    "\n",
    "import matplotlib.pyplot as plt\n",
    "#% matplotlib inline\n",
    "\n",
    "# Load pre-trained model tokenizer (vocabulary)\n",
    "tokenizer = BertTokenizer.from_pretrained('bert-base-uncased')\n"
   ]
  },
  {
   "cell_type": "markdown",
   "metadata": {
    "id": "Tlv3VlPnKKHN"
   },
   "source": [
    "# 2. Input Formatting\n",
    "Because BERT is a pretrained model that expects input data in a specific format, we will need:\n",
    "\n",
    "1. A **special token, `[SEP]`,** to mark the end of a sentence, or the separation between two sentences\n",
    "2. A **special token, `[CLS]`,** at the beginning of our text. This token is used for classification tasks, but BERT expects it no matter what your application is.\n",
    "3. Tokens that conform with the fixed vocabulary used in BERT\n",
    "4. The **Token IDs** for the tokens, from BERT's tokenizer\n",
    "5. **Mask IDs** to indicate which elements in the sequence are tokens and which are padding elements\n",
    "6. **Segment IDs** used to distinguish different sentences\n",
    "7. **Positional Embeddings** used to show token position within the sequence\n",
    "\n",
    "Luckily, the `transformers` interface takes care of all of the above requirements (using the `tokenizer.encode_plus` function).\n",
    "\n",
    "Since this is intended as an introduction to working with BERT, though, we're going to perform these steps in a (mostly) manual way.\n",
    "\n",
    "> *For an example of using `tokenizer.encode_plus`, see the next post on Sentence Classification [here](http://mccormickml.com/2019/07/22/BERT-fine-tuning/).*"
   ]
  },
  {
   "cell_type": "markdown",
   "metadata": {
    "id": "diVtyCJCurxJ"
   },
   "source": [
    "## 2.1. Special Tokens\n",
    "BERT can take as input either one or two sentences, and uses the special token `[SEP]` to differentiate them. The `[CLS]` token always appears at the start of the text, and is specific to classification tasks.\n",
    "\n",
    "Both tokens are *always required*, however, even if we only have one sentence, and even if we are not using BERT for classification. That's how BERT was pre-trained, and so that's what BERT expects to see.\n",
    "\n",
    "**2 Sentence Input**:\n",
    "\n",
    "`[CLS] The man went to the store. [SEP] He bought a gallon of milk.`\n",
    "\n",
    "**1 Sentence Input**:\n",
    "\n",
    "`[CLS] The man went to the store. [SEP]`\n",
    "\n"
   ]
  },
  {
   "cell_type": "markdown",
   "metadata": {
    "id": "3gsyrAwYvBfC"
   },
   "source": [
    "## 2.2. Tokenization"
   ]
  },
  {
   "cell_type": "markdown",
   "metadata": {
    "id": "2WafgQPLAWmo"
   },
   "source": [
    "BERT provides its own tokenizer, which we imported above. Let's see how it handles the below sentence."
   ]
  },
  {
   "cell_type": "code",
   "execution_count": 3,
   "metadata": {
    "colab": {
     "base_uri": "https://localhost:8080/",
     "height": 35
    },
    "id": "Pg0P9rFxJwwp",
    "outputId": "a8314f8a-e95a-43e1-db4c-395f0334b942"
   },
   "outputs": [
    {
     "name": "stdout",
     "output_type": "stream",
     "text": [
      "['[CLS]', 'here', 'is', 'the', 'sentence', 'i', 'want', 'em', '##bed', '##ding', '##s', 'for', '.', '[SEP]']\n"
     ]
    }
   ],
   "source": [
    "text = \"Here is the sentence I want embeddings for.\"\n",
    "marked_text = \"[CLS] \" + text + \" [SEP]\"\n",
    "\n",
    "# Tokenize our sentence with the BERT tokenizer.\n",
    "tokenized_text = tokenizer.tokenize(marked_text)\n",
    "\n",
    "# Print out the tokens.\n",
    "print (tokenized_text)"
   ]
  },
  {
   "cell_type": "markdown",
   "metadata": {
    "id": "Q51eN4KAkbIJ"
   },
   "source": [
    "Notice how the word \"embeddings\" is represented:\n",
    "\n",
    "`['em', '##bed', '##ding', '##s']`\n",
    "\n",
    "The original word has been split into smaller subwords and characters. The two hash signs preceding some of these subwords are just our tokenizer's way to denote that this subword or character is part of a larger word and preceded by another subword. So, for example, the '##bed' token is separate from the 'bed' token; the first is used whenever the subword 'bed' occurs within a larger word and the second is used explicitly for when the standalone token 'thing you sleep on' occurs.\n",
    "\n",
    "Why does it look this way? This is because the BERT tokenizer was created with a WordPiece model. This model greedily creates a fixed-size vocabulary of individual characters, subwords, and words that best fits our language data. Since the vocabulary limit size of our BERT tokenizer model is 30,000, the WordPiece model generated a vocabulary that contains all English characters plus the ~30,000 most common words and subwords found in the English language corpus the model is trained on. This vocabulary contains four things:\n",
    "\n",
    "1. Whole words\n",
    "2. Subwords occuring at the front of a word or in isolation (\"em\" as in \"embeddings\" is assigned the same vector as the standalone sequence of characters \"em\" as in \"go get em\" )\n",
    "3. Subwords not at the front of a word, which are preceded by '##' to denote this case\n",
    "4. Individual characters\n",
    "\n",
    "To tokenize a word under this model, the tokenizer first checks if the whole word is in the vocabulary. If not, it tries to break the word into the largest possible subwords contained in the vocabulary, and as a last resort will decompose the word into individual characters. Note that because of this, we can always represent a word as, at the very least, the collection of its individual characters.\n",
    "\n",
    "As a result, rather than assigning out of vocabulary words to a catch-all token like 'OOV' or 'UNK,' words that are not in the vocabulary are decomposed into subword and character tokens that we can then generate embeddings for.\n",
    "\n",
    "So, rather than assigning \"embeddings\" and every other out of vocabulary word to an overloaded unknown vocabulary token, we split it into subword tokens ['em', '##bed', '##ding', '##s'] that will retain some of the contextual meaning of the original word.  We can even average these subword embedding vectors to generate an approximate vector for the original word.\n",
    "\n",
    "\n",
    "(For more information about WordPiece, see the [original paper](https://static.googleusercontent.com/media/research.google.com/en//pubs/archive/37842.pdf) and further disucssion in Google's [Neural Machine Translation System](https://arxiv.org/pdf/1609.08144.pdf).)\n",
    "\n"
   ]
  },
  {
   "cell_type": "markdown",
   "metadata": {
    "id": "jp5zXAPBVp82"
   },
   "source": [
    "Here are some examples of the tokens contained in our vocabulary. Tokens beginning with two hashes are subwords or individual characters.\n",
    "\n",
    "*For an exploration of the contents of BERT's vocabulary, see [this notebook](https://colab.research.google.com/drive/1fCKIBJ6fgWQ-f6UKs7wDTpNTL9N-Cq9X) I created and the accompanying YouTube video [here](https://youtu.be/zJW57aCBCTk).*"
   ]
  },
  {
   "cell_type": "code",
   "execution_count": 4,
   "metadata": {
    "colab": {
     "base_uri": "https://localhost:8080/",
     "height": 381
    },
    "id": "1z1SzuTrqx-7",
    "outputId": "15c4ef58-a385-4650-bacb-83f0e4fd9eb4"
   },
   "outputs": [
    {
     "data": {
      "text/plain": [
       "['knight',\n",
       " 'lap',\n",
       " 'survey',\n",
       " 'ma',\n",
       " '##ow',\n",
       " 'noise',\n",
       " 'billy',\n",
       " '##ium',\n",
       " 'shooting',\n",
       " 'guide',\n",
       " 'bedroom',\n",
       " 'priest',\n",
       " 'resistance',\n",
       " 'motor',\n",
       " 'homes',\n",
       " 'sounded',\n",
       " 'giant',\n",
       " '##mer',\n",
       " '150',\n",
       " 'scenes']"
      ]
     },
     "execution_count": 4,
     "metadata": {},
     "output_type": "execute_result"
    }
   ],
   "source": [
    "list(tokenizer.vocab.keys())[5000:5020]"
   ]
  },
  {
   "cell_type": "markdown",
   "metadata": {
    "id": "HoF3LC47VgBb"
   },
   "source": [
    "After breaking the text into tokens, we then have to convert the sentence from a list of strings to a list of vocabulary indeces.\n",
    "\n",
    "From here on, we'll use the below example sentence, which contains two instances of the word \"bank\" with different meanings."
   ]
  },
  {
   "cell_type": "code",
   "execution_count": 5,
   "metadata": {
    "colab": {
     "base_uri": "https://localhost:8080/",
     "height": 417
    },
    "id": "XYjcYJuXoAQx",
    "outputId": "206d9627-954b-4e2b-8d31-cb31c49d267a"
   },
   "outputs": [
    {
     "name": "stdout",
     "output_type": "stream",
     "text": [
      "[CLS]           101\n",
      "after         2,044\n",
      "stealing     11,065\n",
      "money         2,769\n",
      "from          2,013\n",
      "the           1,996\n",
      "bank          2,924\n",
      "vault        11,632\n",
      ",             1,010\n",
      "the           1,996\n",
      "bank          2,924\n",
      "robber       27,307\n",
      "was           2,001\n",
      "seen          2,464\n",
      "fishing       5,645\n",
      "on            2,006\n",
      "the           1,996\n",
      "mississippi   5,900\n",
      "river         2,314\n",
      "bank          2,924\n",
      ".             1,012\n",
      "[SEP]           102\n"
     ]
    }
   ],
   "source": [
    "# Define a new example sentence with multiple meanings of the word \"bank\"\n",
    "text = \"After stealing money from the bank vault, the bank robber was seen \" \\\n",
    "       \"fishing on the Mississippi river bank.\"\n",
    "\n",
    "# Add the special tokens.\n",
    "marked_text = \"[CLS] \" + text + \" [SEP]\"\n",
    "\n",
    "# Split the sentence into tokens.\n",
    "tokenized_text = tokenizer.tokenize(marked_text)\n",
    "\n",
    "# Map the token strings to their vocabulary indeces.\n",
    "indexed_tokens = tokenizer.convert_tokens_to_ids(tokenized_text)\n",
    "\n",
    "# Display the words with their indeces.\n",
    "for tup in zip(tokenized_text, indexed_tokens):\n",
    "    print('{:<12} {:>6,}'.format(tup[0], tup[1]))"
   ]
  },
  {
   "cell_type": "markdown",
   "metadata": {
    "id": "if6C_iCULU60"
   },
   "source": [
    "## 2.3. Segment ID\n",
    "BERT is trained on and expects sentence pairs, using 1s and 0s to distinguish between the two sentences. That is, for each token in \"tokenized_text,\" we must specify which sentence it belongs to: sentence 0 (a series of 0s) or sentence 1 (a series of 1s). For our purposes, single-sentence inputs only require a series of 1s, so we will create a vector of 1s for each token in our input sentence.\n",
    "\n",
    "If you want to process two sentences, assign each word in the first sentence plus the '[SEP]' token a 0, and all tokens of the second sentence a 1."
   ]
  },
  {
   "cell_type": "code",
   "execution_count": 6,
   "metadata": {
    "colab": {
     "base_uri": "https://localhost:8080/",
     "height": 35
    },
    "id": "u_jEkVKxJMc0",
    "outputId": "48869b82-0953-4557-c36c-6066582196bf"
   },
   "outputs": [
    {
     "name": "stdout",
     "output_type": "stream",
     "text": [
      "[1, 1, 1, 1, 1, 1, 1, 1, 1, 1, 1, 1, 1, 1, 1, 1, 1, 1, 1, 1, 1, 1]\n"
     ]
    }
   ],
   "source": [
    "# Mark each of the 22 tokens as belonging to sentence \"1\".\n",
    "segments_ids = [1] * len(tokenized_text)\n",
    "\n",
    "print (segments_ids)"
   ]
  },
  {
   "cell_type": "markdown",
   "metadata": {
    "id": "c-nY9LASLr2L"
   },
   "source": [
    "# 3. Extracting Embeddings\n",
    "\n"
   ]
  },
  {
   "cell_type": "markdown",
   "metadata": {
    "id": "sl-iCj8wMEd5"
   },
   "source": [
    "## 3.1. Running BERT on our text\n"
   ]
  },
  {
   "cell_type": "markdown",
   "metadata": {
    "id": "_Nvaw46mfc8M"
   },
   "source": [
    "\n",
    "Next we need to convert our data to torch tensors and call the BERT model. The BERT PyTorch interface requires that the data be in torch tensors rather than Python lists, so we convert the lists here - this does not change the shape or the data.\n"
   ]
  },
  {
   "cell_type": "code",
   "execution_count": 7,
   "metadata": {
    "id": "E_t4cM6KLc98"
   },
   "outputs": [],
   "source": [
    "# Convert inputs to PyTorch tensors\n",
    "tokens_tensor = torch.tensor([indexed_tokens])\n",
    "segments_tensors = torch.tensor([segments_ids])"
   ]
  },
  {
   "cell_type": "markdown",
   "metadata": {
    "id": "UCIGe0AXfg4Z"
   },
   "source": [
    "Calling `from_pretrained` will fetch the model from the internet. When we load the `bert-base-uncased`, we see the definition of the model printed in the logging. The model is a deep neural network with 12 layers! Explaining the layers and their functions is outside the scope of this post, and you can skip over this output for now.\n",
    "\n",
    "model.eval() puts our model in evaluation mode as opposed to training mode. In this case, evaluation mode turns off dropout regularization which is used in training."
   ]
  },
  {
   "cell_type": "code",
   "execution_count": 8,
   "metadata": {
    "colab": {
     "base_uri": "https://localhost:8080/",
     "height": 1000
    },
    "id": "Mq2PKplWfbFv",
    "outputId": "883fc897-22df-446b-f14c-d60f8a734f41"
   },
   "outputs": [
    {
     "data": {
      "text/plain": [
       "BertModel(\n",
       "  (embeddings): BertEmbeddings(\n",
       "    (word_embeddings): Embedding(30522, 768, padding_idx=0)\n",
       "    (position_embeddings): Embedding(512, 768)\n",
       "    (token_type_embeddings): Embedding(2, 768)\n",
       "    (LayerNorm): LayerNorm((768,), eps=1e-12, elementwise_affine=True)\n",
       "    (dropout): Dropout(p=0.1, inplace=False)\n",
       "  )\n",
       "  (encoder): BertEncoder(\n",
       "    (layer): ModuleList(\n",
       "      (0): BertLayer(\n",
       "        (attention): BertAttention(\n",
       "          (self): BertSelfAttention(\n",
       "            (query): Linear(in_features=768, out_features=768, bias=True)\n",
       "            (key): Linear(in_features=768, out_features=768, bias=True)\n",
       "            (value): Linear(in_features=768, out_features=768, bias=True)\n",
       "            (dropout): Dropout(p=0.1, inplace=False)\n",
       "          )\n",
       "          (output): BertSelfOutput(\n",
       "            (dense): Linear(in_features=768, out_features=768, bias=True)\n",
       "            (LayerNorm): LayerNorm((768,), eps=1e-12, elementwise_affine=True)\n",
       "            (dropout): Dropout(p=0.1, inplace=False)\n",
       "          )\n",
       "        )\n",
       "        (intermediate): BertIntermediate(\n",
       "          (dense): Linear(in_features=768, out_features=3072, bias=True)\n",
       "          (intermediate_act_fn): GELUActivation()\n",
       "        )\n",
       "        (output): BertOutput(\n",
       "          (dense): Linear(in_features=3072, out_features=768, bias=True)\n",
       "          (LayerNorm): LayerNorm((768,), eps=1e-12, elementwise_affine=True)\n",
       "          (dropout): Dropout(p=0.1, inplace=False)\n",
       "        )\n",
       "      )\n",
       "      (1): BertLayer(\n",
       "        (attention): BertAttention(\n",
       "          (self): BertSelfAttention(\n",
       "            (query): Linear(in_features=768, out_features=768, bias=True)\n",
       "            (key): Linear(in_features=768, out_features=768, bias=True)\n",
       "            (value): Linear(in_features=768, out_features=768, bias=True)\n",
       "            (dropout): Dropout(p=0.1, inplace=False)\n",
       "          )\n",
       "          (output): BertSelfOutput(\n",
       "            (dense): Linear(in_features=768, out_features=768, bias=True)\n",
       "            (LayerNorm): LayerNorm((768,), eps=1e-12, elementwise_affine=True)\n",
       "            (dropout): Dropout(p=0.1, inplace=False)\n",
       "          )\n",
       "        )\n",
       "        (intermediate): BertIntermediate(\n",
       "          (dense): Linear(in_features=768, out_features=3072, bias=True)\n",
       "          (intermediate_act_fn): GELUActivation()\n",
       "        )\n",
       "        (output): BertOutput(\n",
       "          (dense): Linear(in_features=3072, out_features=768, bias=True)\n",
       "          (LayerNorm): LayerNorm((768,), eps=1e-12, elementwise_affine=True)\n",
       "          (dropout): Dropout(p=0.1, inplace=False)\n",
       "        )\n",
       "      )\n",
       "      (2): BertLayer(\n",
       "        (attention): BertAttention(\n",
       "          (self): BertSelfAttention(\n",
       "            (query): Linear(in_features=768, out_features=768, bias=True)\n",
       "            (key): Linear(in_features=768, out_features=768, bias=True)\n",
       "            (value): Linear(in_features=768, out_features=768, bias=True)\n",
       "            (dropout): Dropout(p=0.1, inplace=False)\n",
       "          )\n",
       "          (output): BertSelfOutput(\n",
       "            (dense): Linear(in_features=768, out_features=768, bias=True)\n",
       "            (LayerNorm): LayerNorm((768,), eps=1e-12, elementwise_affine=True)\n",
       "            (dropout): Dropout(p=0.1, inplace=False)\n",
       "          )\n",
       "        )\n",
       "        (intermediate): BertIntermediate(\n",
       "          (dense): Linear(in_features=768, out_features=3072, bias=True)\n",
       "          (intermediate_act_fn): GELUActivation()\n",
       "        )\n",
       "        (output): BertOutput(\n",
       "          (dense): Linear(in_features=3072, out_features=768, bias=True)\n",
       "          (LayerNorm): LayerNorm((768,), eps=1e-12, elementwise_affine=True)\n",
       "          (dropout): Dropout(p=0.1, inplace=False)\n",
       "        )\n",
       "      )\n",
       "      (3): BertLayer(\n",
       "        (attention): BertAttention(\n",
       "          (self): BertSelfAttention(\n",
       "            (query): Linear(in_features=768, out_features=768, bias=True)\n",
       "            (key): Linear(in_features=768, out_features=768, bias=True)\n",
       "            (value): Linear(in_features=768, out_features=768, bias=True)\n",
       "            (dropout): Dropout(p=0.1, inplace=False)\n",
       "          )\n",
       "          (output): BertSelfOutput(\n",
       "            (dense): Linear(in_features=768, out_features=768, bias=True)\n",
       "            (LayerNorm): LayerNorm((768,), eps=1e-12, elementwise_affine=True)\n",
       "            (dropout): Dropout(p=0.1, inplace=False)\n",
       "          )\n",
       "        )\n",
       "        (intermediate): BertIntermediate(\n",
       "          (dense): Linear(in_features=768, out_features=3072, bias=True)\n",
       "          (intermediate_act_fn): GELUActivation()\n",
       "        )\n",
       "        (output): BertOutput(\n",
       "          (dense): Linear(in_features=3072, out_features=768, bias=True)\n",
       "          (LayerNorm): LayerNorm((768,), eps=1e-12, elementwise_affine=True)\n",
       "          (dropout): Dropout(p=0.1, inplace=False)\n",
       "        )\n",
       "      )\n",
       "      (4): BertLayer(\n",
       "        (attention): BertAttention(\n",
       "          (self): BertSelfAttention(\n",
       "            (query): Linear(in_features=768, out_features=768, bias=True)\n",
       "            (key): Linear(in_features=768, out_features=768, bias=True)\n",
       "            (value): Linear(in_features=768, out_features=768, bias=True)\n",
       "            (dropout): Dropout(p=0.1, inplace=False)\n",
       "          )\n",
       "          (output): BertSelfOutput(\n",
       "            (dense): Linear(in_features=768, out_features=768, bias=True)\n",
       "            (LayerNorm): LayerNorm((768,), eps=1e-12, elementwise_affine=True)\n",
       "            (dropout): Dropout(p=0.1, inplace=False)\n",
       "          )\n",
       "        )\n",
       "        (intermediate): BertIntermediate(\n",
       "          (dense): Linear(in_features=768, out_features=3072, bias=True)\n",
       "          (intermediate_act_fn): GELUActivation()\n",
       "        )\n",
       "        (output): BertOutput(\n",
       "          (dense): Linear(in_features=3072, out_features=768, bias=True)\n",
       "          (LayerNorm): LayerNorm((768,), eps=1e-12, elementwise_affine=True)\n",
       "          (dropout): Dropout(p=0.1, inplace=False)\n",
       "        )\n",
       "      )\n",
       "      (5): BertLayer(\n",
       "        (attention): BertAttention(\n",
       "          (self): BertSelfAttention(\n",
       "            (query): Linear(in_features=768, out_features=768, bias=True)\n",
       "            (key): Linear(in_features=768, out_features=768, bias=True)\n",
       "            (value): Linear(in_features=768, out_features=768, bias=True)\n",
       "            (dropout): Dropout(p=0.1, inplace=False)\n",
       "          )\n",
       "          (output): BertSelfOutput(\n",
       "            (dense): Linear(in_features=768, out_features=768, bias=True)\n",
       "            (LayerNorm): LayerNorm((768,), eps=1e-12, elementwise_affine=True)\n",
       "            (dropout): Dropout(p=0.1, inplace=False)\n",
       "          )\n",
       "        )\n",
       "        (intermediate): BertIntermediate(\n",
       "          (dense): Linear(in_features=768, out_features=3072, bias=True)\n",
       "          (intermediate_act_fn): GELUActivation()\n",
       "        )\n",
       "        (output): BertOutput(\n",
       "          (dense): Linear(in_features=3072, out_features=768, bias=True)\n",
       "          (LayerNorm): LayerNorm((768,), eps=1e-12, elementwise_affine=True)\n",
       "          (dropout): Dropout(p=0.1, inplace=False)\n",
       "        )\n",
       "      )\n",
       "      (6): BertLayer(\n",
       "        (attention): BertAttention(\n",
       "          (self): BertSelfAttention(\n",
       "            (query): Linear(in_features=768, out_features=768, bias=True)\n",
       "            (key): Linear(in_features=768, out_features=768, bias=True)\n",
       "            (value): Linear(in_features=768, out_features=768, bias=True)\n",
       "            (dropout): Dropout(p=0.1, inplace=False)\n",
       "          )\n",
       "          (output): BertSelfOutput(\n",
       "            (dense): Linear(in_features=768, out_features=768, bias=True)\n",
       "            (LayerNorm): LayerNorm((768,), eps=1e-12, elementwise_affine=True)\n",
       "            (dropout): Dropout(p=0.1, inplace=False)\n",
       "          )\n",
       "        )\n",
       "        (intermediate): BertIntermediate(\n",
       "          (dense): Linear(in_features=768, out_features=3072, bias=True)\n",
       "          (intermediate_act_fn): GELUActivation()\n",
       "        )\n",
       "        (output): BertOutput(\n",
       "          (dense): Linear(in_features=3072, out_features=768, bias=True)\n",
       "          (LayerNorm): LayerNorm((768,), eps=1e-12, elementwise_affine=True)\n",
       "          (dropout): Dropout(p=0.1, inplace=False)\n",
       "        )\n",
       "      )\n",
       "      (7): BertLayer(\n",
       "        (attention): BertAttention(\n",
       "          (self): BertSelfAttention(\n",
       "            (query): Linear(in_features=768, out_features=768, bias=True)\n",
       "            (key): Linear(in_features=768, out_features=768, bias=True)\n",
       "            (value): Linear(in_features=768, out_features=768, bias=True)\n",
       "            (dropout): Dropout(p=0.1, inplace=False)\n",
       "          )\n",
       "          (output): BertSelfOutput(\n",
       "            (dense): Linear(in_features=768, out_features=768, bias=True)\n",
       "            (LayerNorm): LayerNorm((768,), eps=1e-12, elementwise_affine=True)\n",
       "            (dropout): Dropout(p=0.1, inplace=False)\n",
       "          )\n",
       "        )\n",
       "        (intermediate): BertIntermediate(\n",
       "          (dense): Linear(in_features=768, out_features=3072, bias=True)\n",
       "          (intermediate_act_fn): GELUActivation()\n",
       "        )\n",
       "        (output): BertOutput(\n",
       "          (dense): Linear(in_features=3072, out_features=768, bias=True)\n",
       "          (LayerNorm): LayerNorm((768,), eps=1e-12, elementwise_affine=True)\n",
       "          (dropout): Dropout(p=0.1, inplace=False)\n",
       "        )\n",
       "      )\n",
       "      (8): BertLayer(\n",
       "        (attention): BertAttention(\n",
       "          (self): BertSelfAttention(\n",
       "            (query): Linear(in_features=768, out_features=768, bias=True)\n",
       "            (key): Linear(in_features=768, out_features=768, bias=True)\n",
       "            (value): Linear(in_features=768, out_features=768, bias=True)\n",
       "            (dropout): Dropout(p=0.1, inplace=False)\n",
       "          )\n",
       "          (output): BertSelfOutput(\n",
       "            (dense): Linear(in_features=768, out_features=768, bias=True)\n",
       "            (LayerNorm): LayerNorm((768,), eps=1e-12, elementwise_affine=True)\n",
       "            (dropout): Dropout(p=0.1, inplace=False)\n",
       "          )\n",
       "        )\n",
       "        (intermediate): BertIntermediate(\n",
       "          (dense): Linear(in_features=768, out_features=3072, bias=True)\n",
       "          (intermediate_act_fn): GELUActivation()\n",
       "        )\n",
       "        (output): BertOutput(\n",
       "          (dense): Linear(in_features=3072, out_features=768, bias=True)\n",
       "          (LayerNorm): LayerNorm((768,), eps=1e-12, elementwise_affine=True)\n",
       "          (dropout): Dropout(p=0.1, inplace=False)\n",
       "        )\n",
       "      )\n",
       "      (9): BertLayer(\n",
       "        (attention): BertAttention(\n",
       "          (self): BertSelfAttention(\n",
       "            (query): Linear(in_features=768, out_features=768, bias=True)\n",
       "            (key): Linear(in_features=768, out_features=768, bias=True)\n",
       "            (value): Linear(in_features=768, out_features=768, bias=True)\n",
       "            (dropout): Dropout(p=0.1, inplace=False)\n",
       "          )\n",
       "          (output): BertSelfOutput(\n",
       "            (dense): Linear(in_features=768, out_features=768, bias=True)\n",
       "            (LayerNorm): LayerNorm((768,), eps=1e-12, elementwise_affine=True)\n",
       "            (dropout): Dropout(p=0.1, inplace=False)\n",
       "          )\n",
       "        )\n",
       "        (intermediate): BertIntermediate(\n",
       "          (dense): Linear(in_features=768, out_features=3072, bias=True)\n",
       "          (intermediate_act_fn): GELUActivation()\n",
       "        )\n",
       "        (output): BertOutput(\n",
       "          (dense): Linear(in_features=3072, out_features=768, bias=True)\n",
       "          (LayerNorm): LayerNorm((768,), eps=1e-12, elementwise_affine=True)\n",
       "          (dropout): Dropout(p=0.1, inplace=False)\n",
       "        )\n",
       "      )\n",
       "      (10): BertLayer(\n",
       "        (attention): BertAttention(\n",
       "          (self): BertSelfAttention(\n",
       "            (query): Linear(in_features=768, out_features=768, bias=True)\n",
       "            (key): Linear(in_features=768, out_features=768, bias=True)\n",
       "            (value): Linear(in_features=768, out_features=768, bias=True)\n",
       "            (dropout): Dropout(p=0.1, inplace=False)\n",
       "          )\n",
       "          (output): BertSelfOutput(\n",
       "            (dense): Linear(in_features=768, out_features=768, bias=True)\n",
       "            (LayerNorm): LayerNorm((768,), eps=1e-12, elementwise_affine=True)\n",
       "            (dropout): Dropout(p=0.1, inplace=False)\n",
       "          )\n",
       "        )\n",
       "        (intermediate): BertIntermediate(\n",
       "          (dense): Linear(in_features=768, out_features=3072, bias=True)\n",
       "          (intermediate_act_fn): GELUActivation()\n",
       "        )\n",
       "        (output): BertOutput(\n",
       "          (dense): Linear(in_features=3072, out_features=768, bias=True)\n",
       "          (LayerNorm): LayerNorm((768,), eps=1e-12, elementwise_affine=True)\n",
       "          (dropout): Dropout(p=0.1, inplace=False)\n",
       "        )\n",
       "      )\n",
       "      (11): BertLayer(\n",
       "        (attention): BertAttention(\n",
       "          (self): BertSelfAttention(\n",
       "            (query): Linear(in_features=768, out_features=768, bias=True)\n",
       "            (key): Linear(in_features=768, out_features=768, bias=True)\n",
       "            (value): Linear(in_features=768, out_features=768, bias=True)\n",
       "            (dropout): Dropout(p=0.1, inplace=False)\n",
       "          )\n",
       "          (output): BertSelfOutput(\n",
       "            (dense): Linear(in_features=768, out_features=768, bias=True)\n",
       "            (LayerNorm): LayerNorm((768,), eps=1e-12, elementwise_affine=True)\n",
       "            (dropout): Dropout(p=0.1, inplace=False)\n",
       "          )\n",
       "        )\n",
       "        (intermediate): BertIntermediate(\n",
       "          (dense): Linear(in_features=768, out_features=3072, bias=True)\n",
       "          (intermediate_act_fn): GELUActivation()\n",
       "        )\n",
       "        (output): BertOutput(\n",
       "          (dense): Linear(in_features=3072, out_features=768, bias=True)\n",
       "          (LayerNorm): LayerNorm((768,), eps=1e-12, elementwise_affine=True)\n",
       "          (dropout): Dropout(p=0.1, inplace=False)\n",
       "        )\n",
       "      )\n",
       "    )\n",
       "  )\n",
       "  (pooler): BertPooler(\n",
       "    (dense): Linear(in_features=768, out_features=768, bias=True)\n",
       "    (activation): Tanh()\n",
       "  )\n",
       ")"
      ]
     },
     "execution_count": 8,
     "metadata": {},
     "output_type": "execute_result"
    }
   ],
   "source": [
    "# Load pre-trained model (weights)\n",
    "model = BertModel.from_pretrained('bert-base-uncased',\n",
    "                                  output_hidden_states = True, # Whether the model returns all hidden-states.\n",
    "                                  )\n",
    "\n",
    "# Put the model in \"evaluation\" mode, meaning feed-forward operation.\n",
    "model.eval()\n"
   ]
  },
  {
   "cell_type": "markdown",
   "metadata": {
    "id": "G4Qa5KkkM2Aq"
   },
   "source": [
    "Next, let's evaluate BERT on our example text, and fetch the hidden states of the network!\n",
    "\n",
    "*Side note: `torch.no_grad` tells PyTorch not to construct the compute graph during this forward pass (since we won't be running backprop here)--this just reduces memory consumption and speeds things up a little.*\n"
   ]
  },
  {
   "cell_type": "code",
   "execution_count": 9,
   "metadata": {
    "id": "nN0QTZwiMzeq"
   },
   "outputs": [],
   "source": [
    "# Run the text through BERT, and collect all of the hidden states produced\n",
    "# from all 12 layers.\n",
    "with torch.no_grad():\n",
    "\n",
    "    outputs = model(tokens_tensor, segments_tensors)\n",
    "\n",
    "    # Evaluating the model will return a different number of objects based on\n",
    "    # how it's  configured in the `from_pretrained` call earlier. In this case,\n",
    "    # becase we set `output_hidden_states = True`, the third item will be the\n",
    "    # hidden states from all layers. See the documentation for more details:\n",
    "    # https://huggingface.co/transformers/model_doc/bert.html#bertmodel\n",
    "    hidden_states = outputs[2]"
   ]
  },
  {
   "cell_type": "markdown",
   "metadata": {
    "id": "UeQNEFbUgMSf"
   },
   "source": [
    "## 3.2. Understanding the Output\n"
   ]
  },
  {
   "cell_type": "markdown",
   "metadata": {
    "id": "HKTlTS_sfuAe"
   },
   "source": [
    "\n",
    "The full set of hidden states for this model, stored in the object `hidden_states`, is a little dizzying. This object has four dimensions, in the following order:\n",
    "\n",
    "1. The layer number (13 layers)\n",
    "2. The batch number (1 sentence)\n",
    "3. The word / token number (22 tokens in our sentence)\n",
    "4. The hidden unit / feature number (768 features)\n",
    "\n",
    "Wait, 13 layers? Doesn't BERT only have 12? It's 13 because the first element is the input embeddings, the rest is the outputs of each of BERT's 12 layers.\n",
    "\n",
    "That’s 219,648 unique values just to represent our one sentence!\n",
    "\n",
    "The second dimension, the batch size, is used when submitting multiple sentences to the model at once; here, though, we just have one example sentence."
   ]
  },
  {
   "cell_type": "code",
   "execution_count": 10,
   "metadata": {
    "colab": {
     "base_uri": "https://localhost:8080/",
     "height": 90
    },
    "id": "eI_uxiW7eRWA",
    "outputId": "9a3e9695-7880-4396-8765-c5abce3510b8"
   },
   "outputs": [
    {
     "name": "stdout",
     "output_type": "stream",
     "text": [
      "Number of layers: 13   (initial embeddings + 12 BERT layers)\n",
      "Number of batches: 1\n",
      "Number of tokens: 22\n",
      "Number of hidden units: 768\n"
     ]
    }
   ],
   "source": [
    "print (\"Number of layers:\", len(hidden_states), \"  (initial embeddings + 12 BERT layers)\")\n",
    "layer_i = 0\n",
    "\n",
    "print (\"Number of batches:\", len(hidden_states[layer_i]))\n",
    "batch_i = 0\n",
    "\n",
    "print (\"Number of tokens:\", len(hidden_states[layer_i][batch_i]))\n",
    "token_i = 0\n",
    "\n",
    "print (\"Number of hidden units:\", len(hidden_states[layer_i][batch_i][token_i]))"
   ]
  },
  {
   "cell_type": "markdown",
   "metadata": {
    "id": "6Uc_S_hmOWe7"
   },
   "source": [
    "Let's take a quick look at the range of values for a given layer and token.\n",
    "\n",
    "You'll find that the range is fairly similar for all layers and tokens, with the majority of values falling between \\[-2, 2\\], and a small smattering of values around -10."
   ]
  },
  {
   "cell_type": "code",
   "execution_count": 11,
   "metadata": {
    "colab": {
     "base_uri": "https://localhost:8080/",
     "height": 592
    },
    "id": "-UF_OAO-S1sP",
    "outputId": "f16f8728-860c-4d9f-af67-95126e900b51"
   },
   "outputs": [
    {
     "name": "stdout",
     "output_type": "stream",
     "text": [
      "torch.Size([768]) tensor(-13.1565) tensor(1.5685) tensor([-3.8238e-02, -4.3142e-01, -9.4003e-01, -3.7796e-01,  4.6533e-01,\n",
      "        -2.1359e-02,  4.2451e-01,  2.9385e-01, -6.6050e-02,  1.3739e-01,\n",
      "         1.0077e-01,  1.9676e-02,  2.8689e-01, -4.1810e-01, -5.8627e-01,\n",
      "         9.7334e-01,  2.9450e-01, -1.0523e-01,  3.8430e-01,  9.1205e-01,\n",
      "         1.4007e-01, -5.8490e-02, -4.0010e-01, -4.4090e-01, -1.3953e-01,\n",
      "         3.4891e-01, -9.9432e-01,  3.1800e-01, -2.1938e-01, -3.9903e-01,\n",
      "        -4.3759e-02,  3.4424e-01,  1.6558e-01, -8.3546e-01, -1.0872e-02,\n",
      "         1.1923e-01, -1.1081e+00,  1.5194e-01,  8.7601e-02,  1.8001e-01,\n",
      "        -4.3023e-02,  1.4976e-01,  4.3004e-01, -7.4824e-01,  7.1204e-01,\n",
      "         3.0397e-01,  3.7053e-02,  1.5315e-01,  5.2379e-02, -5.6534e-01,\n",
      "         3.7624e-01,  5.2176e-01, -5.5514e-01, -9.0717e-01, -3.6776e-01,\n",
      "         6.7039e-01,  1.0088e+00, -7.3990e-01, -9.0580e-02, -2.3043e-01,\n",
      "        -1.8558e-01,  3.3589e-01,  6.3556e-01, -7.8175e-01,  1.3978e-02,\n",
      "        -8.9313e-01, -2.3682e-01,  9.6711e-01,  3.2477e-01,  1.2124e+00,\n",
      "        -1.2825e-01, -6.3668e-01,  1.8126e-01,  3.2664e-01, -1.8473e-01,\n",
      "         2.4246e-02, -1.6170e-01, -4.7327e-01, -1.3616e-01, -5.4680e-01,\n",
      "        -3.6334e-01, -2.0874e-01, -7.4851e-01, -1.8299e-02, -1.7985e-01,\n",
      "        -4.4101e-01, -8.5101e-01, -1.8385e-01,  1.5119e-01,  7.9760e-01,\n",
      "         2.6165e-01,  8.6878e-01,  3.9052e-01,  1.7681e-01, -6.7733e-02,\n",
      "         2.1373e-01, -1.8254e-01,  3.5505e-01,  2.4419e-01,  4.9481e-01,\n",
      "         2.5111e-01, -6.3148e-01,  2.7522e-01,  3.6149e-01,  4.8347e-01,\n",
      "        -4.3104e-01, -1.4258e-02,  6.8857e-03, -9.0178e-01,  5.8548e-01,\n",
      "         8.2344e-01,  2.4801e-01, -6.1716e-01, -4.1046e-01,  2.4120e-01,\n",
      "         1.0287e-01,  2.2667e-01,  5.6583e-01,  3.0379e-01,  1.1766e-01,\n",
      "         1.4264e-01, -2.0077e-01, -2.2100e-01,  2.9475e-01,  2.7755e-01,\n",
      "         1.2656e-01, -9.5923e-01,  3.9112e-01,  5.3569e-02, -6.9544e-01,\n",
      "         1.4745e+00, -1.0732e-01,  8.4514e-01, -5.0976e-01,  1.0134e+00,\n",
      "         8.4454e-01, -5.8425e-01,  3.0911e-01, -2.3063e-01, -8.3880e-01,\n",
      "        -5.0447e-01, -4.1095e-01, -3.1136e-01, -6.3379e-01, -6.8485e-03,\n",
      "        -3.9494e-01,  6.7986e-01, -5.8158e-01,  9.2415e-01,  8.3146e-01,\n",
      "        -9.6185e-01, -1.6496e-01,  1.9656e-01, -1.5944e-02, -5.6808e-01,\n",
      "         2.5876e-01, -3.9617e-01,  4.5409e-01, -5.0562e-01, -3.4808e-02,\n",
      "         1.9019e-01,  1.3713e-01, -5.2337e-02,  5.4941e-01, -9.6983e-01,\n",
      "        -4.8141e-01, -1.3187e+00, -9.5605e-01, -1.3874e-01,  7.6739e-02,\n",
      "         4.2091e-01,  9.9053e-01,  2.9880e-01, -5.7712e-02, -8.9507e-01,\n",
      "        -5.6630e-01,  4.3731e-02, -1.2376e-01, -4.3409e-01,  1.9977e-01,\n",
      "         7.9842e-01, -4.9890e-02,  8.9248e-02,  2.7364e-01, -3.4764e-01,\n",
      "         1.8479e-01,  7.8347e-01, -6.1317e-02,  5.2797e-01, -4.1172e-01,\n",
      "        -7.4138e-01,  1.1341e-01,  1.4276e-01, -4.8087e-01, -2.1933e-01,\n",
      "         1.3571e-01, -7.9548e-01, -4.4734e-01, -3.4744e-01,  8.3524e-02,\n",
      "        -3.3270e-01, -6.2929e-01,  3.7138e-01, -5.3044e-01,  2.4895e-01,\n",
      "        -9.3669e-02,  6.8622e-02,  5.5585e-01, -4.2797e-01, -1.1017e-01,\n",
      "        -6.6554e-02,  1.4720e-01, -4.5672e-02, -9.9032e-01,  5.2359e-01,\n",
      "        -3.3102e-01, -7.1223e-01, -8.8708e-01,  1.5625e-01, -1.0961e-01,\n",
      "         5.8850e-02,  7.6948e-01, -1.7573e-01, -4.9267e-01, -4.1790e-01,\n",
      "         3.9435e-01,  2.1880e-01, -4.6117e-01,  5.4304e-02,  1.2180e+00,\n",
      "        -8.2900e-01,  1.3065e-01, -2.7867e-01, -1.5820e-01, -3.7706e-01,\n",
      "        -2.7691e-01, -5.4481e-01,  9.3999e-01,  3.0394e-01, -4.9059e-01,\n",
      "        -2.8242e-01,  3.1300e-01,  1.6120e-01,  5.0665e-02, -2.9748e-01,\n",
      "         5.5277e-01, -1.2906e+00,  3.4101e-01,  2.2029e-01, -3.8393e-02,\n",
      "        -2.1775e-01, -1.6784e-01, -4.0319e-01, -6.6155e-01, -3.2131e-01,\n",
      "        -7.1576e-01, -1.2281e+00, -2.8635e-01, -2.8864e-01, -1.1623e-01,\n",
      "        -2.5586e-01,  2.5088e-01, -4.3580e-01,  6.2475e-01, -1.3732e-01,\n",
      "        -3.2017e-01, -2.0562e-01,  5.6015e-01, -9.3857e-02, -9.8885e-02,\n",
      "        -5.3099e-01, -1.9155e-01,  4.2959e-01,  7.6320e-01, -2.4930e-01,\n",
      "        -3.5629e-01, -6.4481e-01, -6.2743e-01,  7.1216e-01, -6.0828e-01,\n",
      "         3.6184e-01,  1.1618e-01, -2.9685e-01, -2.2707e-01, -1.4931e-01,\n",
      "        -6.3054e-01,  4.6590e-01, -8.4993e-03,  1.1505e+00,  4.7699e-01,\n",
      "         4.1923e-01, -1.2149e-01, -5.4660e-02, -3.7562e-01, -2.9893e-01,\n",
      "        -6.5204e-01,  1.9757e-01,  6.3673e-01,  1.4891e-01, -8.5854e-01,\n",
      "         8.1388e-01, -4.2203e-01, -4.7327e-01, -9.3926e-02,  9.8239e-01,\n",
      "         3.7286e-01, -2.8201e-01, -1.5222e-01, -1.3157e+01, -4.9865e-01,\n",
      "        -5.6100e-02,  3.2905e-01, -6.1918e-01, -2.2571e-01, -9.2954e-01,\n",
      "         3.4557e-01, -6.5452e-01, -7.0101e-01, -4.1460e-01,  2.2932e-01,\n",
      "        -4.3854e-01, -1.4582e-01,  2.7278e-01, -1.0964e+00,  3.7087e-01,\n",
      "        -1.0662e-01, -1.6254e-01,  3.1213e-01, -1.0593e-01, -1.4434e-01,\n",
      "         4.8114e-03, -2.6708e-01, -6.5594e-01, -2.0798e-01,  2.8319e-01,\n",
      "         9.2088e-02, -2.2843e-02,  7.3873e-02, -1.8081e-01, -8.4260e-01,\n",
      "         2.6681e-02,  1.4072e+00,  3.8378e-01,  2.3973e-01, -1.5412e-01,\n",
      "         1.7471e-01, -3.5382e-01,  9.1082e-02,  4.1522e-01,  6.7033e-01,\n",
      "         4.4762e-01,  1.8854e-01,  1.1319e+00, -9.8119e-02,  3.5371e-01,\n",
      "        -9.8102e-02, -2.7439e-01, -2.3351e-01, -1.3783e-01, -9.7147e-01,\n",
      "         2.7183e-01,  1.5808e-02,  5.7221e-01,  1.2440e+00,  2.6043e-01,\n",
      "         2.8021e-01, -3.3178e-01, -4.9460e-01,  4.4986e-01, -1.6694e-01,\n",
      "        -7.4323e-01,  3.2785e-01,  1.1435e-01, -5.4727e-01, -6.4874e-01,\n",
      "        -2.9986e-01, -9.2547e-02,  1.8382e-01, -5.5619e-01,  1.8435e-01,\n",
      "        -7.4678e-01, -1.1567e+00, -5.0862e-01, -6.0880e-02,  2.2047e-01,\n",
      "         2.4534e-03, -2.3094e-01, -5.3783e-01, -9.2947e-02,  1.1375e+00,\n",
      "         1.4820e-01, -2.1822e-01,  5.6569e-02,  8.2730e-02,  2.8440e-01,\n",
      "         6.3145e-01, -1.1088e+00, -3.2315e-01, -2.2167e-01,  1.1161e-01,\n",
      "        -3.4137e-01, -1.1079e-01,  4.5029e-02,  1.0830e+00,  3.7463e-01,\n",
      "         1.9309e-01,  6.5475e-02,  1.1798e-01, -1.1836e-01,  8.7409e-01,\n",
      "         2.3001e-01,  1.7501e-01, -4.5033e-01,  1.4149e-01, -3.7044e-01,\n",
      "        -1.3824e-01, -4.1113e-01,  3.4225e-01,  8.5992e-01,  4.0882e-01,\n",
      "        -5.3592e-02, -3.1710e-01, -3.9190e-01,  3.2064e-02,  2.7553e-01,\n",
      "        -3.0169e-01, -4.3831e-02,  3.6638e-01,  4.5671e-02,  6.8901e-03,\n",
      "         4.2355e-01,  1.2245e-01, -3.8462e-01,  3.5964e-02,  1.1544e-01,\n",
      "         4.5285e-02, -8.0319e-01,  6.6970e-01, -4.5136e-01,  5.1757e-01,\n",
      "        -5.7581e-01,  8.9081e-01, -8.9373e-01, -3.6577e-01,  1.7497e-01,\n",
      "        -3.0418e-01,  1.1864e-01, -6.9429e-03, -7.8119e-01, -5.3994e-01,\n",
      "         1.1409e+00,  4.7786e-01,  2.5977e-01, -7.8748e-01,  6.3859e-01,\n",
      "        -1.0625e+00,  9.6242e-01, -5.1646e-01, -1.9021e-01, -4.0600e-01,\n",
      "         2.9474e-01, -5.2938e-02, -5.5433e-01,  4.6770e-01,  2.9095e-02,\n",
      "         8.9290e-01, -2.7125e-01,  5.9887e-01, -1.0865e-01, -1.5634e-01,\n",
      "         8.2184e-01, -1.4280e-01, -1.1739e+00, -3.2534e-01,  5.0705e-01,\n",
      "        -7.4356e-02,  2.8341e-01,  3.9306e-01,  3.0545e-01,  2.1279e-01,\n",
      "        -2.3961e-01,  1.9544e-01, -6.1385e-02,  6.9461e-01,  9.4140e-01,\n",
      "        -3.4895e-01,  3.6857e-01, -3.2823e-01, -1.1820e+00,  8.8842e-01,\n",
      "        -3.5464e-01, -9.0214e-01,  4.9549e-01,  4.4692e-01,  4.3216e-01,\n",
      "         8.3013e-01, -4.5609e-01,  3.0619e-01, -1.6635e-01,  3.4794e-01,\n",
      "        -1.8135e-01, -1.4376e-01, -6.6494e-02, -1.0496e-01, -8.0519e-01,\n",
      "        -2.5105e-01,  1.4457e-01,  8.3261e-01,  2.1890e-01, -2.6606e-01,\n",
      "         3.6839e-01, -4.3194e-01,  7.1923e-01, -1.3447e-01, -3.6586e-01,\n",
      "        -4.7222e-02,  4.8316e-01,  4.9533e-01,  1.9221e-01, -8.1255e-02,\n",
      "         8.7892e-02,  4.1865e-01, -5.5653e-01, -1.2177e+00,  7.7597e-02,\n",
      "         2.5511e-02,  2.3910e-02,  3.7529e-01,  4.4869e-02, -7.2446e-02,\n",
      "        -5.6619e-01, -2.0632e-01, -1.9731e-01,  7.4323e-01,  3.6110e-03,\n",
      "        -5.9946e-01,  4.5255e-01, -2.8300e-01,  2.7372e-01, -1.3886e+00,\n",
      "         1.4244e-02,  2.2032e-01, -3.3068e-02,  5.8901e-01,  3.1740e-01,\n",
      "        -5.9043e-01, -6.2178e-01,  8.9363e-01, -6.9050e-02, -1.1200e+00,\n",
      "        -8.1404e-01,  1.7851e-01, -2.0950e-01,  5.7178e-01,  7.1165e-01,\n",
      "         8.0690e-02, -6.4852e-02, -4.7248e-02,  1.4432e+00,  5.3707e-01,\n",
      "         7.7917e-01, -5.3783e-01,  1.7606e-02,  2.5972e-01,  2.4149e-01,\n",
      "         6.0705e-01,  1.5962e-01, -9.9506e-02, -2.1940e-01, -5.7009e-01,\n",
      "         9.4472e-02,  1.4428e+00, -1.9034e-01, -2.9194e-01, -4.9765e-02,\n",
      "         2.3416e-02, -1.4544e-01, -1.4588e-01,  2.4639e-01,  1.1964e-01,\n",
      "         2.0884e-02,  2.7430e-02,  5.4152e-02,  2.0667e-01,  1.7009e-01,\n",
      "        -8.7947e-01,  1.0005e+00,  6.8842e-01, -6.3358e-01,  7.1289e-01,\n",
      "         1.2386e+00, -7.4821e-01, -1.1750e+00, -1.1078e-01,  4.5827e-01,\n",
      "        -1.3121e-01, -8.2329e-02, -1.8794e-01,  3.9855e-02,  3.2221e-01,\n",
      "         8.8034e-01, -1.6306e-01,  7.2940e-02, -3.3620e-02,  4.7747e-01,\n",
      "        -7.5448e-02, -2.3014e-01,  1.0735e+00,  1.6667e-01, -2.1273e-01,\n",
      "         9.4951e-01, -3.8170e-01,  6.1830e-01, -2.0815e-01, -4.9928e-01,\n",
      "        -2.3425e-01,  2.7467e-01, -3.1412e-01, -6.3413e-01, -2.8709e-01,\n",
      "        -3.1815e-02, -1.8475e-01,  8.3059e-01,  7.2999e-01, -3.3618e-01,\n",
      "         3.5417e-01, -3.1268e-01,  9.2085e-02,  5.7313e-01,  3.7031e-01,\n",
      "         9.4361e-03, -3.1325e-01, -5.2140e-02,  1.5481e-01, -1.4142e-01,\n",
      "         4.5211e-01, -1.1966e+00, -1.9553e-01, -4.3450e-01,  1.8457e-01,\n",
      "         3.4478e-01, -6.7489e-01,  1.9338e-01,  1.6934e-01, -8.3096e-01,\n",
      "        -2.7109e-02,  1.0680e+00,  7.3516e-02, -5.6304e-02, -2.5846e-01,\n",
      "        -9.1342e-01,  1.3394e-01, -7.5054e-02,  6.3437e-03, -1.4271e-01,\n",
      "        -1.8337e-01, -2.9552e-01, -1.3120e-01, -3.9592e-01, -8.0171e-01,\n",
      "         6.2426e-01,  5.6671e-01,  4.1281e-01,  9.9599e-01, -2.6398e-01,\n",
      "         4.3312e-01,  1.0376e-01,  7.0498e-01,  5.2641e-01,  2.4822e-03,\n",
      "         8.3274e-02, -1.7479e-01,  8.3968e-01,  3.0620e-01, -8.7772e-01,\n",
      "        -7.7742e-01,  1.5685e+00,  1.8066e-01, -2.7082e-03, -6.9499e-01,\n",
      "         1.0185e-01, -5.7728e-01,  1.1241e-01, -3.4314e-01, -1.2802e-01,\n",
      "         1.6560e-02,  1.1450e+00,  4.2549e-01,  3.3946e-01, -2.4775e-01,\n",
      "        -3.3419e-01, -1.3902e-01,  3.6468e-01,  1.8637e-03, -3.0318e-01,\n",
      "         2.8114e-01,  4.6680e-01,  6.4294e-01,  6.5662e-01, -2.1753e-01,\n",
      "         6.5536e-01,  4.1506e-01,  6.1016e-01,  3.7752e-01, -2.8313e-01,\n",
      "         1.5912e-01,  2.1889e-01, -1.0335e+00, -2.2056e-01,  7.2764e-01,\n",
      "        -1.4282e-01, -2.2652e-01, -5.5179e-01, -3.0080e-01, -3.7009e-01,\n",
      "        -4.1351e-01, -6.6326e-01, -3.2894e-01,  1.3036e-01, -4.5449e-01,\n",
      "        -3.2621e-02, -8.7407e-01, -1.2178e-02, -1.7898e-01,  5.9424e-01,\n",
      "         1.3561e+00, -4.7945e-01, -1.6719e-01, -1.7797e-01,  5.6492e-01,\n",
      "        -2.9063e-01, -9.5582e-01, -5.8203e-01, -1.5222e-01,  4.5316e-01,\n",
      "        -1.8837e-01, -3.8061e-01, -3.6851e-01,  4.3719e-01, -2.8313e-01,\n",
      "         3.1730e-01,  5.4325e-01, -2.6838e-01, -6.4682e-01, -1.2335e-01,\n",
      "         6.3366e-01,  2.5736e-01,  6.1700e-01,  4.1820e-01,  2.5788e-01,\n",
      "         4.1100e-01,  7.1538e-01,  3.3211e-01,  5.9160e-02,  6.4286e-01,\n",
      "        -9.3397e-02, -8.6432e-02, -6.7378e-02, -1.8025e-01, -1.2284e-01,\n",
      "         4.9563e-01, -5.3836e-01,  5.5428e-01,  7.3886e-01, -1.8727e-01,\n",
      "         6.7737e-01,  3.9980e-01, -1.3045e+00])\n"
     ]
    }
   ],
   "source": [
    "# For the 5th token in our sentence, select its feature values from layer 5.\n",
    "token_i = 5\n",
    "layer_i = 5\n",
    "vec = hidden_states[layer_i][batch_i][token_i]\n",
    "print(vec.shape, vec.min(), vec.max(), vec)\n",
    "\n",
    "# Plot the values as a histogram to show their distribution.\n",
    "#plt.figure(figsize=(10,10))\n",
    "#plt.hist(vec)\n",
    "#plt.show()\n",
    "#plt.close()"
   ]
  },
  {
   "cell_type": "markdown",
   "metadata": {
    "id": "n194RcReDYfw"
   },
   "source": [
    "Grouping the values by layer makes sense for the model, but for our purposes we want it grouped by token.\n",
    "\n",
    "Current dimensions:\n",
    "\n",
    "`[# layers, # batches, # tokens, # features]`\n",
    "\n",
    "Desired dimensions:\n",
    "\n",
    "`[# tokens, # layers, # features]`\n",
    "\n",
    "Luckily, PyTorch includes the `permute` function for easily rearranging the dimensions of a tensor.\n",
    "\n",
    "However, the first dimension is currently a Python list!"
   ]
  },
  {
   "cell_type": "code",
   "execution_count": 12,
   "metadata": {
    "colab": {
     "base_uri": "https://localhost:8080/",
     "height": 54
    },
    "id": "0CcY_oRwcHlS",
    "outputId": "3be557cf-e149-426e-caa9-766c31149403"
   },
   "outputs": [
    {
     "name": "stdout",
     "output_type": "stream",
     "text": [
      "      Type of hidden_states:  <class 'tuple'>\n",
      "Tensor shape for each layer:  torch.Size([1, 22, 768])\n"
     ]
    }
   ],
   "source": [
    "# `hidden_states` is a Python list.\n",
    "print('      Type of hidden_states: ', type(hidden_states))\n",
    "\n",
    "# Each layer in the list is a torch tensor.\n",
    "print('Tensor shape for each layer: ', hidden_states[0].size())"
   ]
  },
  {
   "cell_type": "markdown",
   "metadata": {
    "id": "1yXZjLSke3F0"
   },
   "source": [
    "Let's combine the layers to make this one whole big tensor."
   ]
  },
  {
   "cell_type": "code",
   "execution_count": 13,
   "metadata": {
    "colab": {
     "base_uri": "https://localhost:8080/",
     "height": 35
    },
    "id": "pTJV8AFFcLbL",
    "outputId": "05334078-7859-4fa5-e09d-2ee191d89566"
   },
   "outputs": [
    {
     "data": {
      "text/plain": [
       "torch.Size([13, 1, 22, 768])"
      ]
     },
     "execution_count": 13,
     "metadata": {},
     "output_type": "execute_result"
    }
   ],
   "source": [
    "# Concatenate the tensors for all layers. We use `stack` here to\n",
    "# create a new dimension in the tensor.\n",
    "token_embeddings = torch.stack(hidden_states, dim=0)\n",
    "\n",
    "token_embeddings.size()"
   ]
  },
  {
   "cell_type": "markdown",
   "metadata": {
    "id": "rnBv2TUNhzf4"
   },
   "source": [
    "Let's get rid of the \"batches\" dimension since we don't need it."
   ]
  },
  {
   "cell_type": "code",
   "execution_count": 14,
   "metadata": {
    "colab": {
     "base_uri": "https://localhost:8080/",
     "height": 35
    },
    "id": "En4JZ41fh6CI",
    "outputId": "172213e4-222d-4bb2-c3d0-cd1fb6509943"
   },
   "outputs": [
    {
     "data": {
      "text/plain": [
       "torch.Size([13, 22, 768])"
      ]
     },
     "execution_count": 14,
     "metadata": {},
     "output_type": "execute_result"
    }
   ],
   "source": [
    "# Remove dimension 1, the \"batches\".\n",
    "token_embeddings = torch.squeeze(token_embeddings, dim=1)\n",
    "\n",
    "token_embeddings.size()"
   ]
  },
  {
   "cell_type": "markdown",
   "metadata": {
    "id": "YVzRfvkbe-Yp"
   },
   "source": [
    "Finally, we can switch around the \"layers\" and \"tokens\" dimensions with `permute`."
   ]
  },
  {
   "cell_type": "code",
   "execution_count": 15,
   "metadata": {
    "colab": {
     "base_uri": "https://localhost:8080/",
     "height": 35
    },
    "id": "AtDVE58cdeYp",
    "outputId": "2bd2b3e9-341b-46bd-d3c1-c54b2cab8230"
   },
   "outputs": [
    {
     "data": {
      "text/plain": [
       "torch.Size([22, 13, 768])"
      ]
     },
     "execution_count": 15,
     "metadata": {},
     "output_type": "execute_result"
    }
   ],
   "source": [
    "# Swap dimensions 0 and 1.\n",
    "token_embeddings = token_embeddings.permute(1,0,2)\n",
    "\n",
    "token_embeddings.size()"
   ]
  },
  {
   "cell_type": "markdown",
   "metadata": {
    "id": "Ey5RhOQ7NGtz"
   },
   "source": [
    "## 3.3. Creating word and sentence vectors from hidden states\n",
    "\n",
    "Now, what do we do with these hidden states? We would like to get individual vectors for each of our tokens, or perhaps a single vector representation of the whole sentence, but for each token of our input we have 13 separate vectors each of length 768.\n",
    "\n",
    "In order to get the individual vectors we will need to combine some of the layer vectors...but which layer or combination of layers provides the best representation?\n",
    "\n",
    "Unfortunately, there's no single easy answer... Let's try a couple reasonable approaches, though. Afterwards, I'll point you to some helpful resources which look into this question further.\n",
    "\n"
   ]
  },
  {
   "cell_type": "markdown",
   "metadata": {
    "id": "76TdtFH8NM9q"
   },
   "source": [
    "### Word Vectors\n",
    "\n",
    "To give you some examples, let's create word vectors two ways.\n",
    "\n",
    "First, let's **concatenate** the last four layers, giving us a single word vector per token. Each vector will have length `4 x 768 = 3,072`."
   ]
  },
  {
   "cell_type": "code",
   "execution_count": 16,
   "metadata": {
    "colab": {
     "base_uri": "https://localhost:8080/",
     "height": 35
    },
    "id": "pv42h9jANMRf",
    "outputId": "095760f6-a5b7-48ed-d687-506871e1f3e3"
   },
   "outputs": [
    {
     "name": "stdout",
     "output_type": "stream",
     "text": [
      "Shape is: 22 x 3072\n"
     ]
    }
   ],
   "source": [
    "# Stores the token vectors, with shape [22 x 3,072]\n",
    "token_vecs_cat = []\n",
    "\n",
    "# `token_embeddings` is a [22 x 12 x 768] tensor.\n",
    "\n",
    "# For each token in the sentence...\n",
    "for token in token_embeddings:\n",
    "\n",
    "    # `token` is a [12 x 768] tensor\n",
    "\n",
    "    # Concatenate the vectors (that is, append them together) from the last\n",
    "    # four layers.\n",
    "    # Each layer vector is 768 values, so `cat_vec` is length 3,072.\n",
    "    cat_vec = torch.cat((token[-1], token[-2], token[-3], token[-4]), dim=0)\n",
    "\n",
    "    # Use `cat_vec` to represent `token`.\n",
    "    token_vecs_cat.append(cat_vec)\n",
    "\n",
    "print ('Shape is: %d x %d' % (len(token_vecs_cat), len(token_vecs_cat[0])))"
   ]
  },
  {
   "cell_type": "markdown",
   "metadata": {
    "id": "VnWaByfelM-e"
   },
   "source": [
    "As an alternative method, let's try creating the word vectors by **summing** together the last four layers."
   ]
  },
  {
   "cell_type": "code",
   "execution_count": 17,
   "metadata": {
    "colab": {
     "base_uri": "https://localhost:8080/",
     "height": 35
    },
    "id": "j4DKDtFwiF0S",
    "outputId": "e29f8073-61c0-451d-bdd2-398d99ddfc4d"
   },
   "outputs": [
    {
     "name": "stdout",
     "output_type": "stream",
     "text": [
      "Shape is: 22 x 768\n"
     ]
    }
   ],
   "source": [
    "# Stores the token vectors, with shape [22 x 768]\n",
    "token_vecs_sum = []\n",
    "\n",
    "# `token_embeddings` is a [22 x 12 x 768] tensor.\n",
    "\n",
    "# For each token in the sentence...\n",
    "for token in token_embeddings:\n",
    "\n",
    "    # `token` is a [12 x 768] tensor\n",
    "\n",
    "    # Sum the vectors from the last four layers.\n",
    "    sum_vec = torch.sum(token[-4:], dim=0)\n",
    "\n",
    "    # Use `sum_vec` to represent `token`.\n",
    "    token_vecs_sum.append(sum_vec)\n",
    "\n",
    "print ('Shape is: %d x %d' % (len(token_vecs_sum), len(token_vecs_sum[0])))"
   ]
  },
  {
   "cell_type": "markdown",
   "metadata": {
    "id": "mQaco6jRLkXn"
   },
   "source": [
    "### Sentence Vectors\n"
   ]
  },
  {
   "cell_type": "markdown",
   "metadata": {
    "id": "uuul6iQqnXT2"
   },
   "source": [
    "\n",
    "To get a single vector for our entire sentence we have multiple application-dependent strategies, but a simple approach is to average the second to last hiden layer of each token producing a single 768 length vector."
   ]
  },
  {
   "cell_type": "code",
   "execution_count": 18,
   "metadata": {
    "id": "Zn0n2S-FWZih"
   },
   "outputs": [],
   "source": [
    "# `hidden_states` has shape [13 x 1 x 22 x 768]\n",
    "\n",
    "# `token_vecs` is a tensor with shape [22 x 768]\n",
    "token_vecs = hidden_states[-2][0]\n",
    "\n",
    "# Calculate the average of all 22 token vectors.\n",
    "sentence_embedding = torch.mean(token_vecs, dim=0)"
   ]
  },
  {
   "cell_type": "code",
   "execution_count": 19,
   "metadata": {
    "colab": {
     "base_uri": "https://localhost:8080/",
     "height": 35
    },
    "id": "MQv0FL8VWadn",
    "outputId": "9fce910b-f15c-4545-fc0e-8d75e656f237"
   },
   "outputs": [
    {
     "name": "stdout",
     "output_type": "stream",
     "text": [
      "Our final sentence embedding vector of shape: torch.Size([768])\n"
     ]
    }
   ],
   "source": [
    "print (\"Our final sentence embedding vector of shape:\", sentence_embedding.size())"
   ]
  },
  {
   "cell_type": "markdown",
   "metadata": {
    "id": "TqYcrAipfE3E"
   },
   "source": [
    "## 3.4. Confirming contextually dependent vectors\n",
    "\n",
    "To confirm that the value of these vectors are in fact contextually dependent, let's look at the different instances of the word \"bank\" in our example sentence:\n",
    "\n",
    "\"After stealing money from the **bank vault**, the **bank robber** was seen fishing on the Mississippi **river bank**.\"\n",
    "\n",
    "Let's find the index of those three instances of the word \"bank\" in the example sentence."
   ]
  },
  {
   "cell_type": "code",
   "execution_count": 20,
   "metadata": {
    "colab": {
     "base_uri": "https://localhost:8080/",
     "height": 417
    },
    "id": "DNiRsEh9cmWz",
    "outputId": "7dfa1ea6-cd85-4094-a701-de0a21914298"
   },
   "outputs": [
    {
     "name": "stdout",
     "output_type": "stream",
     "text": [
      "0 [CLS]\n",
      "1 after\n",
      "2 stealing\n",
      "3 money\n",
      "4 from\n",
      "5 the\n",
      "6 bank\n",
      "7 vault\n",
      "8 ,\n",
      "9 the\n",
      "10 bank\n",
      "11 robber\n",
      "12 was\n",
      "13 seen\n",
      "14 fishing\n",
      "15 on\n",
      "16 the\n",
      "17 mississippi\n",
      "18 river\n",
      "19 bank\n",
      "20 .\n",
      "21 [SEP]\n"
     ]
    }
   ],
   "source": [
    "for i, token_str in enumerate(tokenized_text):\n",
    "  print (i, token_str)"
   ]
  },
  {
   "cell_type": "markdown",
   "metadata": {
    "id": "AEhBIA5RlS8-"
   },
   "source": [
    "They are at 6, 10, and 19.\n",
    "\n",
    "For this analysis, we'll use the word vectors that we created by summing the last four layers.\n",
    "\n",
    "We can try printing out their vectors to compare them."
   ]
  },
  {
   "cell_type": "code",
   "execution_count": 21,
   "metadata": {
    "colab": {
     "base_uri": "https://localhost:8080/",
     "height": 108
    },
    "id": "tBa6vRHknSkv",
    "outputId": "8d5a547a-d9dc-4f1d-fcea-ecdd84f73f9d"
   },
   "outputs": [
    {
     "name": "stdout",
     "output_type": "stream",
     "text": [
      "First 5 vector values for each instance of \"bank\".\n",
      "\n",
      "bank vault    tensor([ 3.3596, -2.9805, -1.5421,  0.7065,  2.0031])\n",
      "bank robber   tensor([ 2.7359, -2.5577, -1.3094,  0.6797,  1.6633])\n",
      "river bank    tensor([ 1.5266, -0.8895, -0.5152, -0.9298,  2.8334])\n"
     ]
    }
   ],
   "source": [
    "print('First 5 vector values for each instance of \"bank\".')\n",
    "print('')\n",
    "print(\"bank vault   \", str(token_vecs_sum[6][:5]))\n",
    "print(\"bank robber  \", str(token_vecs_sum[10][:5]))\n",
    "print(\"river bank   \", str(token_vecs_sum[19][:5]))"
   ]
  },
  {
   "cell_type": "markdown",
   "metadata": {
    "id": "Ca2TCQ_G7SM3"
   },
   "source": [
    "We can see that the values differ, but let's calculate the cosine similarity between the vectors to make a more precise comparison."
   ]
  },
  {
   "cell_type": "code",
   "execution_count": 22,
   "metadata": {
    "colab": {
     "base_uri": "https://localhost:8080/",
     "height": 54
    },
    "id": "eYXUwiG0yhBS",
    "outputId": "38d3962f-59af-4ece-d380-e140f524380d"
   },
   "outputs": [
    {
     "name": "stdout",
     "output_type": "stream",
     "text": [
      "Vector similarity for  *similar*  meanings:  0.94\n",
      "Vector similarity for *different* meanings:  0.69\n"
     ]
    }
   ],
   "source": [
    "from scipy.spatial.distance import cosine\n",
    "\n",
    "# Calculate the cosine similarity between the word bank\n",
    "# in \"bank robber\" vs \"river bank\" (different meanings).\n",
    "diff_bank = 1 - cosine(token_vecs_sum[10], token_vecs_sum[19])\n",
    "\n",
    "# Calculate the cosine similarity between the word bank\n",
    "# in \"bank robber\" vs \"bank vault\" (same meaning).\n",
    "same_bank = 1 - cosine(token_vecs_sum[10], token_vecs_sum[6])\n",
    "\n",
    "print('Vector similarity for  *similar*  meanings:  %.2f' % same_bank)\n",
    "print('Vector similarity for *different* meanings:  %.2f' % diff_bank)"
   ]
  },
  {
   "cell_type": "markdown",
   "metadata": {
    "id": "N7jroXfKspe_"
   },
   "source": [
    "This looks pretty good!"
   ]
  },
  {
   "cell_type": "markdown",
   "metadata": {
    "id": "orjhWUJgmxo5"
   },
   "source": [
    "## 3.5. Pooling Strategy & Layer Choice"
   ]
  },
  {
   "cell_type": "markdown",
   "metadata": {
    "id": "f1CI97kNn8dD"
   },
   "source": [
    "Below are a couple additional resources for exploring this topic."
   ]
  },
  {
   "cell_type": "markdown",
   "metadata": {
    "id": "P3D5qnRNmq5_"
   },
   "source": [
    "**BERT Authors**\n",
    "\n",
    "The BERT authors tested word-embedding strategies by feeding different vector combinations as input features to a BiLSTM used on a named entity recognition task and observing the resulting F1 scores.\n",
    "\n",
    "(Image from [Jay Allamar](http://jalammar.github.io/illustrated-bert/)'s blog)\n",
    "\n",
    "\n",
    "![alt text](http://jalammar.github.io/images/bert-feature-extraction-contextualized-embeddings.png)\n",
    "\n",
    "While concatenation of the last four layers produced the best results on this specific task, many of the other methods come in a close second and in general it is advisable to test different versions for your specific application: results may vary.\n",
    "\n",
    "This is partially demonstrated by noting that the different layers of BERT encode very different kinds of information, so the appropriate pooling strategy will change depending on the application because different layers encode different kinds of information.\n"
   ]
  },
  {
   "cell_type": "markdown",
   "metadata": {
    "id": "m7_CVgejm5pr"
   },
   "source": [
    "**Han Xiao's BERT-as-service**\n",
    "\n",
    "Han Xiao created an open-source project named [bert-as-service](https://github.com/hanxiao/bert-as-service) on GitHub which is intended to create word embeddings for your text using BERT. Han experimented with different approaches to combining these embeddings, and shared some conclusions and rationale on the [FAQ page](https://github.com/hanxiao/bert-as-service#speech_balloon-faq) of the project.\n",
    "\n",
    "`bert-as-service`, by default, uses the outputs from the **second-to-last layer** of the model.\n",
    "\n",
    "I would summarize Han's perspective by the following:\n",
    "\n",
    "1. The embeddings start out in the first layer as having no contextual information (i.e., the meaning of the initial 'bank' embedding isn't specific to river bank or financial bank).\n",
    "2. As the embeddings move deeper into the network, they pick up more and more contextual information with each layer.\n",
    "3. As you approach the final layer, however, you start picking up information that is specific to BERT's pre-training tasks (the \"Masked Language Model\" (MLM) and \"Next Sentence Prediction\" (NSP)).\n",
    "    * What we want is embeddings that encode the word meaning well...\n",
    "    * BERT is motivated to do this, but it is also motivated to encode anything else that would help it determine what a missing word is (MLM), or whether the second sentence came after the first (NSP).\n",
    "4. The second-to-last layer is what Han settled on as a reasonable sweet-spot.\n",
    "\n",
    "\n"
   ]
  },
  {
   "cell_type": "markdown",
   "metadata": {
    "id": "ONLJ36JfPuqf"
   },
   "source": [
    "# 4. Appendix\n"
   ]
  },
  {
   "cell_type": "markdown",
   "metadata": {
    "id": "jdw7cLJWMr_Y"
   },
   "source": [
    "## 4.1. Special tokens\n"
   ]
  },
  {
   "cell_type": "markdown",
   "metadata": {
    "id": "Jyx2kQxbnHbM"
   },
   "source": [
    "\n",
    "It should be noted that although the `[CLS]` acts as an \"aggregate representation\" for classification tasks, this is not the best choice for a high quality sentence embedding vector. [According to](https://github.com/google-research/bert/issues/164) BERT author Jacob Devlin: \"*I'm not sure what these vectors are, since BERT does not generate meaningful sentence vectors. It seems that this is is doing average pooling over the word tokens to get a sentence vector, but we never suggested that this will generate meaningful sentence representations*.\"\n",
    "\n",
    "(However, the [CLS] token does become meaningful if the model has been fine-tuned, where the last hidden layer of this token is used as the \"sentence vector\" for sequence classification.)\n"
   ]
  },
  {
   "cell_type": "markdown",
   "metadata": {
    "id": "EbS8_z6XMuTJ"
   },
   "source": [
    "\n",
    "## 4.2. Out of vocabulary words\n",
    "\n",
    "For **out of vocabulary words** that are composed of multiple sentence and character-level embeddings, there is a further issue of how best to recover this embedding. Averaging the embeddings is the most straightforward solution (one that is relied upon in similar embedding models with subword vocabularies like fasttext), but summation of subword embeddings and simply taking the last token embedding (remember that the vectors are context sensitive) are acceptable alternative strategies.\n"
   ]
  },
  {
   "cell_type": "markdown",
   "metadata": {
    "id": "BokW7CAgMxCB"
   },
   "source": [
    "\n",
    "## 4.3. Similarity metrics\n",
    "\n",
    "It is worth noting that word-level **similarity comparisons** are not appropriate with BERT embeddings because these embeddings are contextually dependent, meaning that the word vector changes depending on the sentence it appears in. This allows wonderful things like polysemy so that e.g. your representation encodes river \"bank\" and not a financial institution \"bank\",  but makes direct word-to-word similarity comparisons less valuable. However, for sentence embeddings similarity comparison is still valid such that one can query, for example, a single sentence against a dataset of other sentences in order to find the most similar. Depending on the similarity metric used, the resulting similarity values will be less informative than the relative ranking of similarity outputs since many similarity metrics make assumptions about the vector space (equally-weighted dimensions, for example) that do not hold for our 768-dimensional vector space.\n"
   ]
  },
  {
   "cell_type": "markdown",
   "metadata": {
    "id": "0unZ2xh4QDap"
   },
   "source": [
    "## 4.4. Implementations\n",
    "\n",
    "You can use the code in this notebook as the foundation of your own application to extract BERT features from text. However, official [tensorflow](https://github.com/google-research/bert/blob/master/extract_features.py) and well-regarded [pytorch](https://github.com/huggingface/pytorch-pretrained-BERT/blob/master/examples/extract_features.py) implementations already exist that do this for you.  Additionally, [bert-as-a-service](https://github.com/hanxiao/bert-as-service) is an excellent tool designed specifically for running this task with high performance, and is the one I would recommend for production applications. The author has taken great care in the tool's implementation and provides excellent documentation (some of which was used to help create this tutorial) to help users understand the more nuanced details the user faces, like resource management and pooling strategy."
   ]
  },
  {
   "cell_type": "markdown",
   "metadata": {
    "id": "OhbZxbKRxMvM"
   },
   "source": [
    "## Cite\n",
    "Chris McCormick and Nick Ryan. (2019, May 14). *BERT Word Embeddings Tutorial*. Retrieved from http://www.mccormickml.com\n"
   ]
  }
 ],
 "metadata": {
  "accelerator": "GPU",
  "colab": {
   "provenance": []
  },
  "kernelspec": {
   "display_name": "Python 3 (ipykernel)",
   "language": "python",
   "name": "python3"
  },
  "language_info": {
   "codemirror_mode": {
    "name": "ipython",
    "version": 3
   },
   "file_extension": ".py",
   "mimetype": "text/x-python",
   "name": "python",
   "nbconvert_exporter": "python",
   "pygments_lexer": "ipython3",
   "version": "3.9.7"
  },
  "nbTranslate": {
   "displayLangs": [
    "*"
   ],
   "hotkey": "alt-t",
   "langInMainMenu": true,
   "sourceLang": "en",
   "targetLang": "fr",
   "useGoogleTranslate": true
  }
 },
 "nbformat": 4,
 "nbformat_minor": 1
}
